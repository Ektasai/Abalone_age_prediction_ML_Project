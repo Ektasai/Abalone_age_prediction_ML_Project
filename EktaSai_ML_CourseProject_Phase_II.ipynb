{
  "nbformat": 4,
  "nbformat_minor": 0,
  "metadata": {
    "colab": {
      "provenance": []
    },
    "kernelspec": {
      "name": "python3",
      "display_name": "Python 3"
    },
    "language_info": {
      "name": "python"
    }
  },
  "cells": [
    {
      "cell_type": "markdown",
      "source": [
        "# Predicting the age of Abalone"
      ],
      "metadata": {
        "id": "iiixKwp7xQKD"
      }
    },
    {
      "cell_type": "markdown",
      "source": [
        "### Load essential scientific libraries"
      ],
      "metadata": {
        "id": "JOh1piUyw8ww"
      }
    },
    {
      "cell_type": "code",
      "execution_count": 1,
      "metadata": {
        "id": "7K-I_lHucU8w"
      },
      "outputs": [],
      "source": [
        "import zipfile\n",
        "import pandas as pd\n",
        "import numpy as np\n",
        "import seaborn as sns\n",
        "import matplotlib.pyplot as plt\n",
        "from sklearn.model_selection import train_test_split\n",
        "from sklearn.linear_model import LinearRegression\n",
        "from sklearn.metrics import mean_squared_error, r2_score\n",
        "from sklearn.svm import SVR\n",
        "from sklearn.metrics import mean_squared_error, mean_absolute_error, mean_absolute_percentage_error, r2_score\n",
        "from sklearn.tree import DecisionTreeRegressor\n",
        "from sklearn.ensemble import RandomForestRegressor\n",
        "from sklearn.ensemble import AdaBoostRegressor\n",
        "from sklearn.ensemble import GradientBoostingRegressor"
      ]
    },
    {
      "cell_type": "markdown",
      "source": [
        "### Import data"
      ],
      "metadata": {
        "id": "o0AHmG2byKU4"
      }
    },
    {
      "cell_type": "code",
      "source": [
        "DATAPATH ='/content/abalone (1).zip'\n",
        "\n",
        "# Open the zip file\n",
        "with zipfile.ZipFile(DATAPATH, 'r') as zip_ref:\n",
        "    # the CSV file is named 'abalone.data'\n",
        "    csv_file_path = 'abalone.data'\n",
        "    with zip_ref.open(csv_file_path) as f:\n",
        "        # Read the CSV file from within the zip\n",
        "        data = pd.read_csv(f, header=None, index_col=False)\n",
        "\n",
        "# Set column names\n",
        "data.columns = ['sex', 'length', 'diameter', 'height', 'whole_weight', 'shucked_weight', 'viscera_weight', 'shell_weight', 'rings']\n",
        "print(data.head())"
      ],
      "metadata": {
        "colab": {
          "base_uri": "https://localhost:8080/"
        },
        "id": "F9tdJl72co5s",
        "outputId": "e319ab54-987f-4e72-fc30-19dec979bc2b"
      },
      "execution_count": 2,
      "outputs": [
        {
          "output_type": "stream",
          "name": "stdout",
          "text": [
            "  sex  length  diameter  height  whole_weight  shucked_weight  viscera_weight  \\\n",
            "0   M   0.455     0.365   0.095        0.5140          0.2245          0.1010   \n",
            "1   M   0.350     0.265   0.090        0.2255          0.0995          0.0485   \n",
            "2   F   0.530     0.420   0.135        0.6770          0.2565          0.1415   \n",
            "3   M   0.440     0.365   0.125        0.5160          0.2155          0.1140   \n",
            "4   I   0.330     0.255   0.080        0.2050          0.0895          0.0395   \n",
            "\n",
            "   shell_weight  rings  \n",
            "0         0.150     15  \n",
            "1         0.070      7  \n",
            "2         0.210      9  \n",
            "3         0.155     10  \n",
            "4         0.055      7  \n"
          ]
        }
      ]
    },
    {
      "cell_type": "code",
      "source": [
        "data"
      ],
      "metadata": {
        "colab": {
          "base_uri": "https://localhost:8080/",
          "height": 423
        },
        "id": "gPpZGSL4c3uv",
        "outputId": "5ca47c4f-535b-41a6-f698-32064e605bc0"
      },
      "execution_count": 3,
      "outputs": [
        {
          "output_type": "execute_result",
          "data": {
            "text/plain": [
              "     sex  length  diameter  height  whole_weight  shucked_weight  \\\n",
              "0      M   0.455     0.365   0.095        0.5140          0.2245   \n",
              "1      M   0.350     0.265   0.090        0.2255          0.0995   \n",
              "2      F   0.530     0.420   0.135        0.6770          0.2565   \n",
              "3      M   0.440     0.365   0.125        0.5160          0.2155   \n",
              "4      I   0.330     0.255   0.080        0.2050          0.0895   \n",
              "...   ..     ...       ...     ...           ...             ...   \n",
              "4172   F   0.565     0.450   0.165        0.8870          0.3700   \n",
              "4173   M   0.590     0.440   0.135        0.9660          0.4390   \n",
              "4174   M   0.600     0.475   0.205        1.1760          0.5255   \n",
              "4175   F   0.625     0.485   0.150        1.0945          0.5310   \n",
              "4176   M   0.710     0.555   0.195        1.9485          0.9455   \n",
              "\n",
              "      viscera_weight  shell_weight  rings  \n",
              "0             0.1010        0.1500     15  \n",
              "1             0.0485        0.0700      7  \n",
              "2             0.1415        0.2100      9  \n",
              "3             0.1140        0.1550     10  \n",
              "4             0.0395        0.0550      7  \n",
              "...              ...           ...    ...  \n",
              "4172          0.2390        0.2490     11  \n",
              "4173          0.2145        0.2605     10  \n",
              "4174          0.2875        0.3080      9  \n",
              "4175          0.2610        0.2960     10  \n",
              "4176          0.3765        0.4950     12  \n",
              "\n",
              "[4177 rows x 9 columns]"
            ],
            "text/html": [
              "\n",
              "  <div id=\"df-6600c763-2b98-4a15-b488-f772c01c484e\" class=\"colab-df-container\">\n",
              "    <div>\n",
              "<style scoped>\n",
              "    .dataframe tbody tr th:only-of-type {\n",
              "        vertical-align: middle;\n",
              "    }\n",
              "\n",
              "    .dataframe tbody tr th {\n",
              "        vertical-align: top;\n",
              "    }\n",
              "\n",
              "    .dataframe thead th {\n",
              "        text-align: right;\n",
              "    }\n",
              "</style>\n",
              "<table border=\"1\" class=\"dataframe\">\n",
              "  <thead>\n",
              "    <tr style=\"text-align: right;\">\n",
              "      <th></th>\n",
              "      <th>sex</th>\n",
              "      <th>length</th>\n",
              "      <th>diameter</th>\n",
              "      <th>height</th>\n",
              "      <th>whole_weight</th>\n",
              "      <th>shucked_weight</th>\n",
              "      <th>viscera_weight</th>\n",
              "      <th>shell_weight</th>\n",
              "      <th>rings</th>\n",
              "    </tr>\n",
              "  </thead>\n",
              "  <tbody>\n",
              "    <tr>\n",
              "      <th>0</th>\n",
              "      <td>M</td>\n",
              "      <td>0.455</td>\n",
              "      <td>0.365</td>\n",
              "      <td>0.095</td>\n",
              "      <td>0.5140</td>\n",
              "      <td>0.2245</td>\n",
              "      <td>0.1010</td>\n",
              "      <td>0.1500</td>\n",
              "      <td>15</td>\n",
              "    </tr>\n",
              "    <tr>\n",
              "      <th>1</th>\n",
              "      <td>M</td>\n",
              "      <td>0.350</td>\n",
              "      <td>0.265</td>\n",
              "      <td>0.090</td>\n",
              "      <td>0.2255</td>\n",
              "      <td>0.0995</td>\n",
              "      <td>0.0485</td>\n",
              "      <td>0.0700</td>\n",
              "      <td>7</td>\n",
              "    </tr>\n",
              "    <tr>\n",
              "      <th>2</th>\n",
              "      <td>F</td>\n",
              "      <td>0.530</td>\n",
              "      <td>0.420</td>\n",
              "      <td>0.135</td>\n",
              "      <td>0.6770</td>\n",
              "      <td>0.2565</td>\n",
              "      <td>0.1415</td>\n",
              "      <td>0.2100</td>\n",
              "      <td>9</td>\n",
              "    </tr>\n",
              "    <tr>\n",
              "      <th>3</th>\n",
              "      <td>M</td>\n",
              "      <td>0.440</td>\n",
              "      <td>0.365</td>\n",
              "      <td>0.125</td>\n",
              "      <td>0.5160</td>\n",
              "      <td>0.2155</td>\n",
              "      <td>0.1140</td>\n",
              "      <td>0.1550</td>\n",
              "      <td>10</td>\n",
              "    </tr>\n",
              "    <tr>\n",
              "      <th>4</th>\n",
              "      <td>I</td>\n",
              "      <td>0.330</td>\n",
              "      <td>0.255</td>\n",
              "      <td>0.080</td>\n",
              "      <td>0.2050</td>\n",
              "      <td>0.0895</td>\n",
              "      <td>0.0395</td>\n",
              "      <td>0.0550</td>\n",
              "      <td>7</td>\n",
              "    </tr>\n",
              "    <tr>\n",
              "      <th>...</th>\n",
              "      <td>...</td>\n",
              "      <td>...</td>\n",
              "      <td>...</td>\n",
              "      <td>...</td>\n",
              "      <td>...</td>\n",
              "      <td>...</td>\n",
              "      <td>...</td>\n",
              "      <td>...</td>\n",
              "      <td>...</td>\n",
              "    </tr>\n",
              "    <tr>\n",
              "      <th>4172</th>\n",
              "      <td>F</td>\n",
              "      <td>0.565</td>\n",
              "      <td>0.450</td>\n",
              "      <td>0.165</td>\n",
              "      <td>0.8870</td>\n",
              "      <td>0.3700</td>\n",
              "      <td>0.2390</td>\n",
              "      <td>0.2490</td>\n",
              "      <td>11</td>\n",
              "    </tr>\n",
              "    <tr>\n",
              "      <th>4173</th>\n",
              "      <td>M</td>\n",
              "      <td>0.590</td>\n",
              "      <td>0.440</td>\n",
              "      <td>0.135</td>\n",
              "      <td>0.9660</td>\n",
              "      <td>0.4390</td>\n",
              "      <td>0.2145</td>\n",
              "      <td>0.2605</td>\n",
              "      <td>10</td>\n",
              "    </tr>\n",
              "    <tr>\n",
              "      <th>4174</th>\n",
              "      <td>M</td>\n",
              "      <td>0.600</td>\n",
              "      <td>0.475</td>\n",
              "      <td>0.205</td>\n",
              "      <td>1.1760</td>\n",
              "      <td>0.5255</td>\n",
              "      <td>0.2875</td>\n",
              "      <td>0.3080</td>\n",
              "      <td>9</td>\n",
              "    </tr>\n",
              "    <tr>\n",
              "      <th>4175</th>\n",
              "      <td>F</td>\n",
              "      <td>0.625</td>\n",
              "      <td>0.485</td>\n",
              "      <td>0.150</td>\n",
              "      <td>1.0945</td>\n",
              "      <td>0.5310</td>\n",
              "      <td>0.2610</td>\n",
              "      <td>0.2960</td>\n",
              "      <td>10</td>\n",
              "    </tr>\n",
              "    <tr>\n",
              "      <th>4176</th>\n",
              "      <td>M</td>\n",
              "      <td>0.710</td>\n",
              "      <td>0.555</td>\n",
              "      <td>0.195</td>\n",
              "      <td>1.9485</td>\n",
              "      <td>0.9455</td>\n",
              "      <td>0.3765</td>\n",
              "      <td>0.4950</td>\n",
              "      <td>12</td>\n",
              "    </tr>\n",
              "  </tbody>\n",
              "</table>\n",
              "<p>4177 rows × 9 columns</p>\n",
              "</div>\n",
              "    <div class=\"colab-df-buttons\">\n",
              "\n",
              "  <div class=\"colab-df-container\">\n",
              "    <button class=\"colab-df-convert\" onclick=\"convertToInteractive('df-6600c763-2b98-4a15-b488-f772c01c484e')\"\n",
              "            title=\"Convert this dataframe to an interactive table.\"\n",
              "            style=\"display:none;\">\n",
              "\n",
              "  <svg xmlns=\"http://www.w3.org/2000/svg\" height=\"24px\" viewBox=\"0 -960 960 960\">\n",
              "    <path d=\"M120-120v-720h720v720H120Zm60-500h600v-160H180v160Zm220 220h160v-160H400v160Zm0 220h160v-160H400v160ZM180-400h160v-160H180v160Zm440 0h160v-160H620v160ZM180-180h160v-160H180v160Zm440 0h160v-160H620v160Z\"/>\n",
              "  </svg>\n",
              "    </button>\n",
              "\n",
              "  <style>\n",
              "    .colab-df-container {\n",
              "      display:flex;\n",
              "      gap: 12px;\n",
              "    }\n",
              "\n",
              "    .colab-df-convert {\n",
              "      background-color: #E8F0FE;\n",
              "      border: none;\n",
              "      border-radius: 50%;\n",
              "      cursor: pointer;\n",
              "      display: none;\n",
              "      fill: #1967D2;\n",
              "      height: 32px;\n",
              "      padding: 0 0 0 0;\n",
              "      width: 32px;\n",
              "    }\n",
              "\n",
              "    .colab-df-convert:hover {\n",
              "      background-color: #E2EBFA;\n",
              "      box-shadow: 0px 1px 2px rgba(60, 64, 67, 0.3), 0px 1px 3px 1px rgba(60, 64, 67, 0.15);\n",
              "      fill: #174EA6;\n",
              "    }\n",
              "\n",
              "    .colab-df-buttons div {\n",
              "      margin-bottom: 4px;\n",
              "    }\n",
              "\n",
              "    [theme=dark] .colab-df-convert {\n",
              "      background-color: #3B4455;\n",
              "      fill: #D2E3FC;\n",
              "    }\n",
              "\n",
              "    [theme=dark] .colab-df-convert:hover {\n",
              "      background-color: #434B5C;\n",
              "      box-shadow: 0px 1px 3px 1px rgba(0, 0, 0, 0.15);\n",
              "      filter: drop-shadow(0px 1px 2px rgba(0, 0, 0, 0.3));\n",
              "      fill: #FFFFFF;\n",
              "    }\n",
              "  </style>\n",
              "\n",
              "    <script>\n",
              "      const buttonEl =\n",
              "        document.querySelector('#df-6600c763-2b98-4a15-b488-f772c01c484e button.colab-df-convert');\n",
              "      buttonEl.style.display =\n",
              "        google.colab.kernel.accessAllowed ? 'block' : 'none';\n",
              "\n",
              "      async function convertToInteractive(key) {\n",
              "        const element = document.querySelector('#df-6600c763-2b98-4a15-b488-f772c01c484e');\n",
              "        const dataTable =\n",
              "          await google.colab.kernel.invokeFunction('convertToInteractive',\n",
              "                                                    [key], {});\n",
              "        if (!dataTable) return;\n",
              "\n",
              "        const docLinkHtml = 'Like what you see? Visit the ' +\n",
              "          '<a target=\"_blank\" href=https://colab.research.google.com/notebooks/data_table.ipynb>data table notebook</a>'\n",
              "          + ' to learn more about interactive tables.';\n",
              "        element.innerHTML = '';\n",
              "        dataTable['output_type'] = 'display_data';\n",
              "        await google.colab.output.renderOutput(dataTable, element);\n",
              "        const docLink = document.createElement('div');\n",
              "        docLink.innerHTML = docLinkHtml;\n",
              "        element.appendChild(docLink);\n",
              "      }\n",
              "    </script>\n",
              "  </div>\n",
              "\n",
              "\n",
              "<div id=\"df-f1e77160-b259-4a64-a212-d0b65da70ee2\">\n",
              "  <button class=\"colab-df-quickchart\" onclick=\"quickchart('df-f1e77160-b259-4a64-a212-d0b65da70ee2')\"\n",
              "            title=\"Suggest charts\"\n",
              "            style=\"display:none;\">\n",
              "\n",
              "<svg xmlns=\"http://www.w3.org/2000/svg\" height=\"24px\"viewBox=\"0 0 24 24\"\n",
              "     width=\"24px\">\n",
              "    <g>\n",
              "        <path d=\"M19 3H5c-1.1 0-2 .9-2 2v14c0 1.1.9 2 2 2h14c1.1 0 2-.9 2-2V5c0-1.1-.9-2-2-2zM9 17H7v-7h2v7zm4 0h-2V7h2v10zm4 0h-2v-4h2v4z\"/>\n",
              "    </g>\n",
              "</svg>\n",
              "  </button>\n",
              "\n",
              "<style>\n",
              "  .colab-df-quickchart {\n",
              "      --bg-color: #E8F0FE;\n",
              "      --fill-color: #1967D2;\n",
              "      --hover-bg-color: #E2EBFA;\n",
              "      --hover-fill-color: #174EA6;\n",
              "      --disabled-fill-color: #AAA;\n",
              "      --disabled-bg-color: #DDD;\n",
              "  }\n",
              "\n",
              "  [theme=dark] .colab-df-quickchart {\n",
              "      --bg-color: #3B4455;\n",
              "      --fill-color: #D2E3FC;\n",
              "      --hover-bg-color: #434B5C;\n",
              "      --hover-fill-color: #FFFFFF;\n",
              "      --disabled-bg-color: #3B4455;\n",
              "      --disabled-fill-color: #666;\n",
              "  }\n",
              "\n",
              "  .colab-df-quickchart {\n",
              "    background-color: var(--bg-color);\n",
              "    border: none;\n",
              "    border-radius: 50%;\n",
              "    cursor: pointer;\n",
              "    display: none;\n",
              "    fill: var(--fill-color);\n",
              "    height: 32px;\n",
              "    padding: 0;\n",
              "    width: 32px;\n",
              "  }\n",
              "\n",
              "  .colab-df-quickchart:hover {\n",
              "    background-color: var(--hover-bg-color);\n",
              "    box-shadow: 0 1px 2px rgba(60, 64, 67, 0.3), 0 1px 3px 1px rgba(60, 64, 67, 0.15);\n",
              "    fill: var(--button-hover-fill-color);\n",
              "  }\n",
              "\n",
              "  .colab-df-quickchart-complete:disabled,\n",
              "  .colab-df-quickchart-complete:disabled:hover {\n",
              "    background-color: var(--disabled-bg-color);\n",
              "    fill: var(--disabled-fill-color);\n",
              "    box-shadow: none;\n",
              "  }\n",
              "\n",
              "  .colab-df-spinner {\n",
              "    border: 2px solid var(--fill-color);\n",
              "    border-color: transparent;\n",
              "    border-bottom-color: var(--fill-color);\n",
              "    animation:\n",
              "      spin 1s steps(1) infinite;\n",
              "  }\n",
              "\n",
              "  @keyframes spin {\n",
              "    0% {\n",
              "      border-color: transparent;\n",
              "      border-bottom-color: var(--fill-color);\n",
              "      border-left-color: var(--fill-color);\n",
              "    }\n",
              "    20% {\n",
              "      border-color: transparent;\n",
              "      border-left-color: var(--fill-color);\n",
              "      border-top-color: var(--fill-color);\n",
              "    }\n",
              "    30% {\n",
              "      border-color: transparent;\n",
              "      border-left-color: var(--fill-color);\n",
              "      border-top-color: var(--fill-color);\n",
              "      border-right-color: var(--fill-color);\n",
              "    }\n",
              "    40% {\n",
              "      border-color: transparent;\n",
              "      border-right-color: var(--fill-color);\n",
              "      border-top-color: var(--fill-color);\n",
              "    }\n",
              "    60% {\n",
              "      border-color: transparent;\n",
              "      border-right-color: var(--fill-color);\n",
              "    }\n",
              "    80% {\n",
              "      border-color: transparent;\n",
              "      border-right-color: var(--fill-color);\n",
              "      border-bottom-color: var(--fill-color);\n",
              "    }\n",
              "    90% {\n",
              "      border-color: transparent;\n",
              "      border-bottom-color: var(--fill-color);\n",
              "    }\n",
              "  }\n",
              "</style>\n",
              "\n",
              "  <script>\n",
              "    async function quickchart(key) {\n",
              "      const quickchartButtonEl =\n",
              "        document.querySelector('#' + key + ' button');\n",
              "      quickchartButtonEl.disabled = true;  // To prevent multiple clicks.\n",
              "      quickchartButtonEl.classList.add('colab-df-spinner');\n",
              "      try {\n",
              "        const charts = await google.colab.kernel.invokeFunction(\n",
              "            'suggestCharts', [key], {});\n",
              "      } catch (error) {\n",
              "        console.error('Error during call to suggestCharts:', error);\n",
              "      }\n",
              "      quickchartButtonEl.classList.remove('colab-df-spinner');\n",
              "      quickchartButtonEl.classList.add('colab-df-quickchart-complete');\n",
              "    }\n",
              "    (() => {\n",
              "      let quickchartButtonEl =\n",
              "        document.querySelector('#df-f1e77160-b259-4a64-a212-d0b65da70ee2 button');\n",
              "      quickchartButtonEl.style.display =\n",
              "        google.colab.kernel.accessAllowed ? 'block' : 'none';\n",
              "    })();\n",
              "  </script>\n",
              "</div>\n",
              "\n",
              "  <div id=\"id_791b7e15-c462-4b9a-b462-9bbd026da221\">\n",
              "    <style>\n",
              "      .colab-df-generate {\n",
              "        background-color: #E8F0FE;\n",
              "        border: none;\n",
              "        border-radius: 50%;\n",
              "        cursor: pointer;\n",
              "        display: none;\n",
              "        fill: #1967D2;\n",
              "        height: 32px;\n",
              "        padding: 0 0 0 0;\n",
              "        width: 32px;\n",
              "      }\n",
              "\n",
              "      .colab-df-generate:hover {\n",
              "        background-color: #E2EBFA;\n",
              "        box-shadow: 0px 1px 2px rgba(60, 64, 67, 0.3), 0px 1px 3px 1px rgba(60, 64, 67, 0.15);\n",
              "        fill: #174EA6;\n",
              "      }\n",
              "\n",
              "      [theme=dark] .colab-df-generate {\n",
              "        background-color: #3B4455;\n",
              "        fill: #D2E3FC;\n",
              "      }\n",
              "\n",
              "      [theme=dark] .colab-df-generate:hover {\n",
              "        background-color: #434B5C;\n",
              "        box-shadow: 0px 1px 3px 1px rgba(0, 0, 0, 0.15);\n",
              "        filter: drop-shadow(0px 1px 2px rgba(0, 0, 0, 0.3));\n",
              "        fill: #FFFFFF;\n",
              "      }\n",
              "    </style>\n",
              "    <button class=\"colab-df-generate\" onclick=\"generateWithVariable('data')\"\n",
              "            title=\"Generate code using this dataframe.\"\n",
              "            style=\"display:none;\">\n",
              "\n",
              "  <svg xmlns=\"http://www.w3.org/2000/svg\" height=\"24px\"viewBox=\"0 0 24 24\"\n",
              "       width=\"24px\">\n",
              "    <path d=\"M7,19H8.4L18.45,9,17,7.55,7,17.6ZM5,21V16.75L18.45,3.32a2,2,0,0,1,2.83,0l1.4,1.43a1.91,1.91,0,0,1,.58,1.4,1.91,1.91,0,0,1-.58,1.4L9.25,21ZM18.45,9,17,7.55Zm-12,3A5.31,5.31,0,0,0,4.9,8.1,5.31,5.31,0,0,0,1,6.5,5.31,5.31,0,0,0,4.9,4.9,5.31,5.31,0,0,0,6.5,1,5.31,5.31,0,0,0,8.1,4.9,5.31,5.31,0,0,0,12,6.5,5.46,5.46,0,0,0,6.5,12Z\"/>\n",
              "  </svg>\n",
              "    </button>\n",
              "    <script>\n",
              "      (() => {\n",
              "      const buttonEl =\n",
              "        document.querySelector('#id_791b7e15-c462-4b9a-b462-9bbd026da221 button.colab-df-generate');\n",
              "      buttonEl.style.display =\n",
              "        google.colab.kernel.accessAllowed ? 'block' : 'none';\n",
              "\n",
              "      buttonEl.onclick = () => {\n",
              "        google.colab.notebook.generateWithVariable('data');\n",
              "      }\n",
              "      })();\n",
              "    </script>\n",
              "  </div>\n",
              "\n",
              "    </div>\n",
              "  </div>\n"
            ],
            "application/vnd.google.colaboratory.intrinsic+json": {
              "type": "dataframe",
              "variable_name": "data",
              "summary": "{\n  \"name\": \"data\",\n  \"rows\": 4177,\n  \"fields\": [\n    {\n      \"column\": \"sex\",\n      \"properties\": {\n        \"dtype\": \"category\",\n        \"num_unique_values\": 3,\n        \"samples\": [\n          \"M\",\n          \"F\",\n          \"I\"\n        ],\n        \"semantic_type\": \"\",\n        \"description\": \"\"\n      }\n    },\n    {\n      \"column\": \"length\",\n      \"properties\": {\n        \"dtype\": \"number\",\n        \"std\": 0.12009291256479956,\n        \"min\": 0.075,\n        \"max\": 0.815,\n        \"num_unique_values\": 134,\n        \"samples\": [\n          0.815,\n          0.65,\n          0.29\n        ],\n        \"semantic_type\": \"\",\n        \"description\": \"\"\n      }\n    },\n    {\n      \"column\": \"diameter\",\n      \"properties\": {\n        \"dtype\": \"number\",\n        \"std\": 0.09923986613365945,\n        \"min\": 0.055,\n        \"max\": 0.65,\n        \"num_unique_values\": 111,\n        \"samples\": [\n          0.09,\n          0.35,\n          0.3\n        ],\n        \"semantic_type\": \"\",\n        \"description\": \"\"\n      }\n    },\n    {\n      \"column\": \"height\",\n      \"properties\": {\n        \"dtype\": \"number\",\n        \"std\": 0.041827056607257274,\n        \"min\": 0.0,\n        \"max\": 1.13,\n        \"num_unique_values\": 51,\n        \"samples\": [\n          0.235,\n          0.035,\n          0.015\n        ],\n        \"semantic_type\": \"\",\n        \"description\": \"\"\n      }\n    },\n    {\n      \"column\": \"whole_weight\",\n      \"properties\": {\n        \"dtype\": \"number\",\n        \"std\": 0.4903890182309977,\n        \"min\": 0.002,\n        \"max\": 2.8255,\n        \"num_unique_values\": 2429,\n        \"samples\": [\n          1.2825,\n          1.09,\n          0.131\n        ],\n        \"semantic_type\": \"\",\n        \"description\": \"\"\n      }\n    },\n    {\n      \"column\": \"shucked_weight\",\n      \"properties\": {\n        \"dtype\": \"number\",\n        \"std\": 0.22196294903322014,\n        \"min\": 0.001,\n        \"max\": 1.488,\n        \"num_unique_values\": 1515,\n        \"samples\": [\n          0.2105,\n          0.0645,\n          0.476\n        ],\n        \"semantic_type\": \"\",\n        \"description\": \"\"\n      }\n    },\n    {\n      \"column\": \"viscera_weight\",\n      \"properties\": {\n        \"dtype\": \"number\",\n        \"std\": 0.10961425025968446,\n        \"min\": 0.0005,\n        \"max\": 0.76,\n        \"num_unique_values\": 880,\n        \"samples\": [\n          0.0645,\n          0.0095,\n          0.1115\n        ],\n        \"semantic_type\": \"\",\n        \"description\": \"\"\n      }\n    },\n    {\n      \"column\": \"shell_weight\",\n      \"properties\": {\n        \"dtype\": \"number\",\n        \"std\": 0.1392026695223861,\n        \"min\": 0.0015,\n        \"max\": 1.005,\n        \"num_unique_values\": 926,\n        \"samples\": [\n          0.3745,\n          0.2825,\n          0.49\n        ],\n        \"semantic_type\": \"\",\n        \"description\": \"\"\n      }\n    },\n    {\n      \"column\": \"rings\",\n      \"properties\": {\n        \"dtype\": \"number\",\n        \"std\": 3,\n        \"min\": 1,\n        \"max\": 29,\n        \"num_unique_values\": 28,\n        \"samples\": [\n          11,\n          27,\n          14\n        ],\n        \"semantic_type\": \"\",\n        \"description\": \"\"\n      }\n    }\n  ]\n}"
            }
          },
          "metadata": {},
          "execution_count": 3
        }
      ]
    },
    {
      "cell_type": "code",
      "source": [
        "data.dropna(inplace=True) #droping rows with missing values"
      ],
      "metadata": {
        "id": "G_h4M0xSdAEt"
      },
      "execution_count": 4,
      "outputs": []
    },
    {
      "cell_type": "code",
      "source": [
        "# Set column names\n",
        "data.columns = ['sex', 'length', 'diameter', 'height', 'whole_weight', 'shucked_weight', 'viscera_weight', 'shell_weight', 'rings']\n",
        "print(data.head())\n",
        "\n",
        "#'sex' is a categorical feature\n",
        "data = pd.get_dummies(data, columns=['sex'], drop_first=True)"
      ],
      "metadata": {
        "colab": {
          "base_uri": "https://localhost:8080/"
        },
        "id": "1GqESHChdCxl",
        "outputId": "438bb5a5-9915-4c19-f033-986ea73124bf"
      },
      "execution_count": 5,
      "outputs": [
        {
          "output_type": "stream",
          "name": "stdout",
          "text": [
            "  sex  length  diameter  height  whole_weight  shucked_weight  viscera_weight  \\\n",
            "0   M   0.455     0.365   0.095        0.5140          0.2245          0.1010   \n",
            "1   M   0.350     0.265   0.090        0.2255          0.0995          0.0485   \n",
            "2   F   0.530     0.420   0.135        0.6770          0.2565          0.1415   \n",
            "3   M   0.440     0.365   0.125        0.5160          0.2155          0.1140   \n",
            "4   I   0.330     0.255   0.080        0.2050          0.0895          0.0395   \n",
            "\n",
            "   shell_weight  rings  \n",
            "0         0.150     15  \n",
            "1         0.070      7  \n",
            "2         0.210      9  \n",
            "3         0.155     10  \n",
            "4         0.055      7  \n"
          ]
        }
      ]
    },
    {
      "cell_type": "code",
      "source": [
        "x=data.drop('rings' , axis=1)\n",
        "y=data['rings']"
      ],
      "metadata": {
        "id": "rufSVM5Ldefh"
      },
      "execution_count": 6,
      "outputs": []
    },
    {
      "cell_type": "code",
      "source": [
        "x.shape,y.shape"
      ],
      "metadata": {
        "colab": {
          "base_uri": "https://localhost:8080/"
        },
        "id": "7yLm0iU6dhSp",
        "outputId": "50135833-b4df-4e0f-cedc-92f8b80ac0ad"
      },
      "execution_count": 7,
      "outputs": [
        {
          "output_type": "execute_result",
          "data": {
            "text/plain": [
              "((4177, 9), (4177,))"
            ]
          },
          "metadata": {},
          "execution_count": 7
        }
      ]
    },
    {
      "cell_type": "code",
      "source": [
        "print(x)"
      ],
      "metadata": {
        "colab": {
          "base_uri": "https://localhost:8080/"
        },
        "id": "bhadUnV8dh5L",
        "outputId": "a6b74103-c28b-468f-eed2-4189f8af1eae"
      },
      "execution_count": 8,
      "outputs": [
        {
          "output_type": "stream",
          "name": "stdout",
          "text": [
            "      length  diameter  height  whole_weight  shucked_weight  viscera_weight  \\\n",
            "0      0.455     0.365   0.095        0.5140          0.2245          0.1010   \n",
            "1      0.350     0.265   0.090        0.2255          0.0995          0.0485   \n",
            "2      0.530     0.420   0.135        0.6770          0.2565          0.1415   \n",
            "3      0.440     0.365   0.125        0.5160          0.2155          0.1140   \n",
            "4      0.330     0.255   0.080        0.2050          0.0895          0.0395   \n",
            "...      ...       ...     ...           ...             ...             ...   \n",
            "4172   0.565     0.450   0.165        0.8870          0.3700          0.2390   \n",
            "4173   0.590     0.440   0.135        0.9660          0.4390          0.2145   \n",
            "4174   0.600     0.475   0.205        1.1760          0.5255          0.2875   \n",
            "4175   0.625     0.485   0.150        1.0945          0.5310          0.2610   \n",
            "4176   0.710     0.555   0.195        1.9485          0.9455          0.3765   \n",
            "\n",
            "      shell_weight  sex_I  sex_M  \n",
            "0           0.1500  False   True  \n",
            "1           0.0700  False   True  \n",
            "2           0.2100  False  False  \n",
            "3           0.1550  False   True  \n",
            "4           0.0550   True  False  \n",
            "...            ...    ...    ...  \n",
            "4172        0.2490  False  False  \n",
            "4173        0.2605  False   True  \n",
            "4174        0.3080  False   True  \n",
            "4175        0.2960  False  False  \n",
            "4176        0.4950  False   True  \n",
            "\n",
            "[4177 rows x 9 columns]\n"
          ]
        }
      ]
    },
    {
      "cell_type": "code",
      "source": [
        "print(y)"
      ],
      "metadata": {
        "colab": {
          "base_uri": "https://localhost:8080/"
        },
        "id": "uMScBi_KdkRP",
        "outputId": "7bcfa33f-22d8-4317-af6e-545c34cc151d"
      },
      "execution_count": 9,
      "outputs": [
        {
          "output_type": "stream",
          "name": "stdout",
          "text": [
            "0       15\n",
            "1        7\n",
            "2        9\n",
            "3       10\n",
            "4        7\n",
            "        ..\n",
            "4172    11\n",
            "4173    10\n",
            "4174     9\n",
            "4175    10\n",
            "4176    12\n",
            "Name: rings, Length: 4177, dtype: int64\n"
          ]
        }
      ]
    },
    {
      "cell_type": "code",
      "source": [
        "from sklearn.preprocessing import StandardScaler\n",
        "sc = StandardScaler()\n",
        "X = sc.fit_transform(x)\n",
        "\n",
        "print(X)"
      ],
      "metadata": {
        "colab": {
          "base_uri": "https://localhost:8080/"
        },
        "id": "8xIAyMpQdnE6",
        "outputId": "e77eba6a-2d66-456c-c1fc-271a73acc643"
      },
      "execution_count": 10,
      "outputs": [
        {
          "output_type": "stream",
          "name": "stdout",
          "text": [
            "[[-0.57455813 -0.43214879 -1.06442415 ... -0.63821689 -0.68801788\n",
            "   1.31667716]\n",
            " [-1.44898585 -1.439929   -1.18397831 ... -1.21298732 -0.68801788\n",
            "   1.31667716]\n",
            " [ 0.05003309  0.12213032 -0.10799087 ... -0.20713907 -0.68801788\n",
            "  -0.75948762]\n",
            " ...\n",
            " [ 0.6329849   0.67640943  1.56576738 ...  0.49695471 -0.68801788\n",
            "   1.31667716]\n",
            " [ 0.84118198  0.77718745  0.25067161 ...  0.41073914 -0.68801788\n",
            "  -0.75948762]\n",
            " [ 1.54905203  1.48263359  1.32665906 ...  1.84048058 -0.68801788\n",
            "   1.31667716]]\n"
          ]
        }
      ]
    },
    {
      "cell_type": "code",
      "source": [
        "X_train, X_test, y_train, y_test = train_test_split(X, y, test_size=0.25, random_state=42)"
      ],
      "metadata": {
        "id": "HDrtjnIPejdg"
      },
      "execution_count": 11,
      "outputs": []
    },
    {
      "cell_type": "code",
      "source": [
        "X_train.shape,X_test.shape,y_train.shape,y_test.shape"
      ],
      "metadata": {
        "colab": {
          "base_uri": "https://localhost:8080/"
        },
        "id": "5DYqbneSeoms",
        "outputId": "25c4998b-d1dc-41da-960c-8c922fab4ff1"
      },
      "execution_count": 12,
      "outputs": [
        {
          "output_type": "execute_result",
          "data": {
            "text/plain": [
              "((3132, 9), (1045, 9), (3132,), (1045,))"
            ]
          },
          "metadata": {},
          "execution_count": 12
        }
      ]
    },
    {
      "cell_type": "markdown",
      "source": [
        "# Linear Regression"
      ],
      "metadata": {
        "id": "9mxWJDNGet6I"
      }
    },
    {
      "cell_type": "code",
      "source": [
        "model = LinearRegression()\n",
        "model.fit(X_train, y_train)\n",
        "y_pred = model.predict(X_test)"
      ],
      "metadata": {
        "id": "Fu70qcS_exPS"
      },
      "execution_count": 13,
      "outputs": []
    },
    {
      "cell_type": "code",
      "source": [
        "import pandas as pd\n",
        "from sklearn.metrics import mean_squared_error, r2_score, mean_absolute_error\n",
        "\n",
        "\n",
        "df = pd.DataFrame(data)\n",
        "\n",
        "# Calculate MSE ,R2 and MAPE\n",
        "mse = mean_squared_error(y_test, y_pred)\n",
        "r2 = r2_score(y_test, y_pred)\n",
        "MAPE=mean_absolute_percentage_error(y_test,y_pred)\n",
        "\n",
        "print(\"Linear Regression\")\n",
        "print(f'Mean Squared Error(MSE): {mse}')\n",
        "print(f'R^2 Score(R2): {r2}')\n",
        "print(f'Mean absolute error(MAE): {mean_absolute_error(y_test, y_pred)}')\n",
        "print(f'Mean absolute percentage error(MAPE): {MAPE}')"
      ],
      "metadata": {
        "colab": {
          "base_uri": "https://localhost:8080/"
        },
        "id": "vkW-prB0e1np",
        "outputId": "b9bb4fd1-d51c-4cc4-c30c-d5852f0742c0"
      },
      "execution_count": 14,
      "outputs": [
        {
          "output_type": "stream",
          "name": "stdout",
          "text": [
            "Linear Regression\n",
            "Mean Squared Error(MSE): 4.675903975878893\n",
            "R^2 Score(R2): 0.5454718270324015\n",
            "Mean absolute error(MAE): 1.5693587109234122\n",
            "Mean absolute percentage error(MAPE): 0.15965791631435214\n"
          ]
        }
      ]
    },
    {
      "cell_type": "code",
      "source": [
        "print('coefficients:', model.coef_)\n",
        "print('intercept:', model.intercept_)"
      ],
      "metadata": {
        "colab": {
          "base_uri": "https://localhost:8080/"
        },
        "id": "I25PzGNrf5wi",
        "outputId": "ff9e7ad6-7362-4967-f185-6a9a5113ed91"
      },
      "execution_count": 15,
      "outputs": [
        {
          "output_type": "stream",
          "name": "stdout",
          "text": [
            "coefficients: [-0.01181726  1.1109743   0.42523307  4.35585308 -4.56883544 -1.05634026\n",
            "  1.31920163 -0.34444598  0.04830621]\n",
            "intercept: 9.946689097390808\n"
          ]
        }
      ]
    },
    {
      "cell_type": "markdown",
      "source": [
        "# Support Vector Machine(SVM):"
      ],
      "metadata": {
        "id": "s_aCj4wRf9SY"
      }
    },
    {
      "cell_type": "code",
      "source": [
        "# List of kernels to evaluate\n",
        "kernels = ['linear', 'poly', 'rbf']"
      ],
      "metadata": {
        "id": "Rw2zjq7igQVe"
      },
      "execution_count": 16,
      "outputs": []
    },
    {
      "cell_type": "code",
      "source": [
        "result_dict = {}\n",
        "\n",
        "# Loop over each kernel\n",
        "for i, kernel in enumerate(kernels):\n",
        "    # Initialize and fit the model\n",
        "    model_svm = SVR(kernel=kernel)\n",
        "    model_svm.fit(X_train, y_train)\n",
        "\n",
        "    # Predict on the test set\n",
        "    pred_svm = model_svm.predict(X_test)\n",
        "\n",
        "    # Store evaluation metrics\n",
        "    result_dict[kernel] = [\n",
        "        mean_squared_error(y_test, pred_svm),\n",
        "        mean_absolute_error(y_test, pred_svm),\n",
        "        mean_absolute_percentage_error(y_test, pred_svm),\n",
        "        r2_score(y_test, pred_svm)\n",
        "    ]\n",
        "\n",
        "# Converting results to a DataFrame\n",
        "result = pd.DataFrame(result_dict, index=['MSE', 'MAE', 'MAPE', 'R2'])\n",
        "\n",
        "# Transpose the DataFrame for better readability\n",
        "result = result.T\n",
        "print(result)"
      ],
      "metadata": {
        "colab": {
          "base_uri": "https://localhost:8080/"
        },
        "id": "EN2OBqmhf7dd",
        "outputId": "af23662a-1b24-4a54-8dd1-1256dd33084a"
      },
      "execution_count": 17,
      "outputs": [
        {
          "output_type": "stream",
          "name": "stdout",
          "text": [
            "             MSE       MAE      MAPE        R2\n",
            "linear  4.787821  1.526835  0.147773  0.534593\n",
            "poly    5.417661  1.547262  0.147370  0.473368\n",
            "rbf     4.624634  1.480563  0.142486  0.550456\n"
          ]
        }
      ]
    },
    {
      "cell_type": "markdown",
      "source": [
        "# Hyperparameter Tuning"
      ],
      "metadata": {
        "id": "hBuF5QryguaZ"
      }
    },
    {
      "cell_type": "markdown",
      "source": [
        "###  Grid search"
      ],
      "metadata": {
        "id": "0Ju5WgOQ1ekp"
      }
    },
    {
      "cell_type": "code",
      "source": [
        "hpt_svm_reg = SVR(kernel = \"rbf\")\n",
        "hpt_svm_reg.get_params()"
      ],
      "metadata": {
        "colab": {
          "base_uri": "https://localhost:8080/"
        },
        "id": "Esx5GlBGgyMB",
        "outputId": "2e1beee0-a63f-40f5-a3aa-19c02600700d"
      },
      "execution_count": 18,
      "outputs": [
        {
          "output_type": "execute_result",
          "data": {
            "text/plain": [
              "{'C': 1.0,\n",
              " 'cache_size': 200,\n",
              " 'coef0': 0.0,\n",
              " 'degree': 3,\n",
              " 'epsilon': 0.1,\n",
              " 'gamma': 'scale',\n",
              " 'kernel': 'rbf',\n",
              " 'max_iter': -1,\n",
              " 'shrinking': True,\n",
              " 'tol': 0.001,\n",
              " 'verbose': False}"
            ]
          },
          "metadata": {},
          "execution_count": 18
        }
      ]
    },
    {
      "cell_type": "code",
      "source": [
        "# take the parameters to tune as 'C' and 'gamma'\n",
        "hpt_param_grid = [{'C':[i for i in range(1,10)],\n",
        "                   'gamma' : np.linspace(0,0.1)}]\n",
        "hpt_param_grid"
      ],
      "metadata": {
        "colab": {
          "base_uri": "https://localhost:8080/"
        },
        "id": "kD-sLyQgg7xM",
        "outputId": "1e602ad1-a642-4683-fad9-2b498f151324"
      },
      "execution_count": 19,
      "outputs": [
        {
          "output_type": "execute_result",
          "data": {
            "text/plain": [
              "[{'C': [1, 2, 3, 4, 5, 6, 7, 8, 9],\n",
              "  'gamma': array([0.        , 0.00204082, 0.00408163, 0.00612245, 0.00816327,\n",
              "         0.01020408, 0.0122449 , 0.01428571, 0.01632653, 0.01836735,\n",
              "         0.02040816, 0.02244898, 0.0244898 , 0.02653061, 0.02857143,\n",
              "         0.03061224, 0.03265306, 0.03469388, 0.03673469, 0.03877551,\n",
              "         0.04081633, 0.04285714, 0.04489796, 0.04693878, 0.04897959,\n",
              "         0.05102041, 0.05306122, 0.05510204, 0.05714286, 0.05918367,\n",
              "         0.06122449, 0.06326531, 0.06530612, 0.06734694, 0.06938776,\n",
              "         0.07142857, 0.07346939, 0.0755102 , 0.07755102, 0.07959184,\n",
              "         0.08163265, 0.08367347, 0.08571429, 0.0877551 , 0.08979592,\n",
              "         0.09183673, 0.09387755, 0.09591837, 0.09795918, 0.1       ])}]"
            ]
          },
          "metadata": {},
          "execution_count": 19
        }
      ]
    },
    {
      "cell_type": "code",
      "source": [
        "from sklearn.model_selection import GridSearchCV\n",
        "grid_search = GridSearchCV(estimator = hpt_svm_reg,\n",
        "                          param_grid = hpt_param_grid,\n",
        "                          cv = 5)"
      ],
      "metadata": {
        "id": "egdWK4GjhAmV"
      },
      "execution_count": 20,
      "outputs": []
    },
    {
      "cell_type": "code",
      "source": [
        "grid_search.fit(X_train,y_train)"
      ],
      "metadata": {
        "colab": {
          "base_uri": "https://localhost:8080/",
          "height": 117
        },
        "id": "QYbxAC-AhNn0",
        "outputId": "0465ebb2-ab7c-442a-bb5b-e31d16e8e5d6"
      },
      "execution_count": 21,
      "outputs": [
        {
          "output_type": "execute_result",
          "data": {
            "text/plain": [
              "GridSearchCV(cv=5, estimator=SVR(),\n",
              "             param_grid=[{'C': [1, 2, 3, 4, 5, 6, 7, 8, 9],\n",
              "                          'gamma': array([0.        , 0.00204082, 0.00408163, 0.00612245, 0.00816327,\n",
              "       0.01020408, 0.0122449 , 0.01428571, 0.01632653, 0.01836735,\n",
              "       0.02040816, 0.02244898, 0.0244898 , 0.02653061, 0.02857143,\n",
              "       0.03061224, 0.03265306, 0.03469388, 0.03673469, 0.03877551,\n",
              "       0.04081633, 0.04285714, 0.04489796, 0.04693878, 0.04897959,\n",
              "       0.05102041, 0.05306122, 0.05510204, 0.05714286, 0.05918367,\n",
              "       0.06122449, 0.06326531, 0.06530612, 0.06734694, 0.06938776,\n",
              "       0.07142857, 0.07346939, 0.0755102 , 0.07755102, 0.07959184,\n",
              "       0.08163265, 0.08367347, 0.08571429, 0.0877551 , 0.08979592,\n",
              "       0.09183673, 0.09387755, 0.09591837, 0.09795918, 0.1       ])}])"
            ],
            "text/html": [
              "<style>#sk-container-id-1 {color: black;background-color: white;}#sk-container-id-1 pre{padding: 0;}#sk-container-id-1 div.sk-toggleable {background-color: white;}#sk-container-id-1 label.sk-toggleable__label {cursor: pointer;display: block;width: 100%;margin-bottom: 0;padding: 0.3em;box-sizing: border-box;text-align: center;}#sk-container-id-1 label.sk-toggleable__label-arrow:before {content: \"▸\";float: left;margin-right: 0.25em;color: #696969;}#sk-container-id-1 label.sk-toggleable__label-arrow:hover:before {color: black;}#sk-container-id-1 div.sk-estimator:hover label.sk-toggleable__label-arrow:before {color: black;}#sk-container-id-1 div.sk-toggleable__content {max-height: 0;max-width: 0;overflow: hidden;text-align: left;background-color: #f0f8ff;}#sk-container-id-1 div.sk-toggleable__content pre {margin: 0.2em;color: black;border-radius: 0.25em;background-color: #f0f8ff;}#sk-container-id-1 input.sk-toggleable__control:checked~div.sk-toggleable__content {max-height: 200px;max-width: 100%;overflow: auto;}#sk-container-id-1 input.sk-toggleable__control:checked~label.sk-toggleable__label-arrow:before {content: \"▾\";}#sk-container-id-1 div.sk-estimator input.sk-toggleable__control:checked~label.sk-toggleable__label {background-color: #d4ebff;}#sk-container-id-1 div.sk-label input.sk-toggleable__control:checked~label.sk-toggleable__label {background-color: #d4ebff;}#sk-container-id-1 input.sk-hidden--visually {border: 0;clip: rect(1px 1px 1px 1px);clip: rect(1px, 1px, 1px, 1px);height: 1px;margin: -1px;overflow: hidden;padding: 0;position: absolute;width: 1px;}#sk-container-id-1 div.sk-estimator {font-family: monospace;background-color: #f0f8ff;border: 1px dotted black;border-radius: 0.25em;box-sizing: border-box;margin-bottom: 0.5em;}#sk-container-id-1 div.sk-estimator:hover {background-color: #d4ebff;}#sk-container-id-1 div.sk-parallel-item::after {content: \"\";width: 100%;border-bottom: 1px solid gray;flex-grow: 1;}#sk-container-id-1 div.sk-label:hover label.sk-toggleable__label {background-color: #d4ebff;}#sk-container-id-1 div.sk-serial::before {content: \"\";position: absolute;border-left: 1px solid gray;box-sizing: border-box;top: 0;bottom: 0;left: 50%;z-index: 0;}#sk-container-id-1 div.sk-serial {display: flex;flex-direction: column;align-items: center;background-color: white;padding-right: 0.2em;padding-left: 0.2em;position: relative;}#sk-container-id-1 div.sk-item {position: relative;z-index: 1;}#sk-container-id-1 div.sk-parallel {display: flex;align-items: stretch;justify-content: center;background-color: white;position: relative;}#sk-container-id-1 div.sk-item::before, #sk-container-id-1 div.sk-parallel-item::before {content: \"\";position: absolute;border-left: 1px solid gray;box-sizing: border-box;top: 0;bottom: 0;left: 50%;z-index: -1;}#sk-container-id-1 div.sk-parallel-item {display: flex;flex-direction: column;z-index: 1;position: relative;background-color: white;}#sk-container-id-1 div.sk-parallel-item:first-child::after {align-self: flex-end;width: 50%;}#sk-container-id-1 div.sk-parallel-item:last-child::after {align-self: flex-start;width: 50%;}#sk-container-id-1 div.sk-parallel-item:only-child::after {width: 0;}#sk-container-id-1 div.sk-dashed-wrapped {border: 1px dashed gray;margin: 0 0.4em 0.5em 0.4em;box-sizing: border-box;padding-bottom: 0.4em;background-color: white;}#sk-container-id-1 div.sk-label label {font-family: monospace;font-weight: bold;display: inline-block;line-height: 1.2em;}#sk-container-id-1 div.sk-label-container {text-align: center;}#sk-container-id-1 div.sk-container {/* jupyter's `normalize.less` sets `[hidden] { display: none; }` but bootstrap.min.css set `[hidden] { display: none !important; }` so we also need the `!important` here to be able to override the default hidden behavior on the sphinx rendered scikit-learn.org. See: https://github.com/scikit-learn/scikit-learn/issues/21755 */display: inline-block !important;position: relative;}#sk-container-id-1 div.sk-text-repr-fallback {display: none;}</style><div id=\"sk-container-id-1\" class=\"sk-top-container\"><div class=\"sk-text-repr-fallback\"><pre>GridSearchCV(cv=5, estimator=SVR(),\n",
              "             param_grid=[{&#x27;C&#x27;: [1, 2, 3, 4, 5, 6, 7, 8, 9],\n",
              "                          &#x27;gamma&#x27;: array([0.        , 0.00204082, 0.00408163, 0.00612245, 0.00816327,\n",
              "       0.01020408, 0.0122449 , 0.01428571, 0.01632653, 0.01836735,\n",
              "       0.02040816, 0.02244898, 0.0244898 , 0.02653061, 0.02857143,\n",
              "       0.03061224, 0.03265306, 0.03469388, 0.03673469, 0.03877551,\n",
              "       0.04081633, 0.04285714, 0.04489796, 0.04693878, 0.04897959,\n",
              "       0.05102041, 0.05306122, 0.05510204, 0.05714286, 0.05918367,\n",
              "       0.06122449, 0.06326531, 0.06530612, 0.06734694, 0.06938776,\n",
              "       0.07142857, 0.07346939, 0.0755102 , 0.07755102, 0.07959184,\n",
              "       0.08163265, 0.08367347, 0.08571429, 0.0877551 , 0.08979592,\n",
              "       0.09183673, 0.09387755, 0.09591837, 0.09795918, 0.1       ])}])</pre><b>In a Jupyter environment, please rerun this cell to show the HTML representation or trust the notebook. <br />On GitHub, the HTML representation is unable to render, please try loading this page with nbviewer.org.</b></div><div class=\"sk-container\" hidden><div class=\"sk-item sk-dashed-wrapped\"><div class=\"sk-label-container\"><div class=\"sk-label sk-toggleable\"><input class=\"sk-toggleable__control sk-hidden--visually\" id=\"sk-estimator-id-1\" type=\"checkbox\" ><label for=\"sk-estimator-id-1\" class=\"sk-toggleable__label sk-toggleable__label-arrow\">GridSearchCV</label><div class=\"sk-toggleable__content\"><pre>GridSearchCV(cv=5, estimator=SVR(),\n",
              "             param_grid=[{&#x27;C&#x27;: [1, 2, 3, 4, 5, 6, 7, 8, 9],\n",
              "                          &#x27;gamma&#x27;: array([0.        , 0.00204082, 0.00408163, 0.00612245, 0.00816327,\n",
              "       0.01020408, 0.0122449 , 0.01428571, 0.01632653, 0.01836735,\n",
              "       0.02040816, 0.02244898, 0.0244898 , 0.02653061, 0.02857143,\n",
              "       0.03061224, 0.03265306, 0.03469388, 0.03673469, 0.03877551,\n",
              "       0.04081633, 0.04285714, 0.04489796, 0.04693878, 0.04897959,\n",
              "       0.05102041, 0.05306122, 0.05510204, 0.05714286, 0.05918367,\n",
              "       0.06122449, 0.06326531, 0.06530612, 0.06734694, 0.06938776,\n",
              "       0.07142857, 0.07346939, 0.0755102 , 0.07755102, 0.07959184,\n",
              "       0.08163265, 0.08367347, 0.08571429, 0.0877551 , 0.08979592,\n",
              "       0.09183673, 0.09387755, 0.09591837, 0.09795918, 0.1       ])}])</pre></div></div></div><div class=\"sk-parallel\"><div class=\"sk-parallel-item\"><div class=\"sk-item\"><div class=\"sk-label-container\"><div class=\"sk-label sk-toggleable\"><input class=\"sk-toggleable__control sk-hidden--visually\" id=\"sk-estimator-id-2\" type=\"checkbox\" ><label for=\"sk-estimator-id-2\" class=\"sk-toggleable__label sk-toggleable__label-arrow\">estimator: SVR</label><div class=\"sk-toggleable__content\"><pre>SVR()</pre></div></div></div><div class=\"sk-serial\"><div class=\"sk-item\"><div class=\"sk-estimator sk-toggleable\"><input class=\"sk-toggleable__control sk-hidden--visually\" id=\"sk-estimator-id-3\" type=\"checkbox\" ><label for=\"sk-estimator-id-3\" class=\"sk-toggleable__label sk-toggleable__label-arrow\">SVR</label><div class=\"sk-toggleable__content\"><pre>SVR()</pre></div></div></div></div></div></div></div></div></div></div>"
            ]
          },
          "metadata": {},
          "execution_count": 21
        }
      ]
    },
    {
      "cell_type": "code",
      "source": [
        "print(grid_search.best_params_)"
      ],
      "metadata": {
        "colab": {
          "base_uri": "https://localhost:8080/"
        },
        "id": "8WSyzhuXhXQf",
        "outputId": "4e75e979-1fed-4495-8a4a-333dae605495"
      },
      "execution_count": 22,
      "outputs": [
        {
          "output_type": "stream",
          "name": "stdout",
          "text": [
            "{'C': 9, 'gamma': 0.05510204081632654}\n"
          ]
        }
      ]
    },
    {
      "cell_type": "code",
      "source": [
        "score_rbf_grid=print(grid_search.best_score_)\n",
        "score_rbf_grid"
      ],
      "metadata": {
        "colab": {
          "base_uri": "https://localhost:8080/"
        },
        "id": "bFx4TwiohaXa",
        "outputId": "9450075c-86c5-4b27-86c4-748895f28359"
      },
      "execution_count": 23,
      "outputs": [
        {
          "output_type": "stream",
          "name": "stdout",
          "text": [
            "0.561711353072861\n"
          ]
        }
      ]
    },
    {
      "cell_type": "code",
      "source": [
        "svm_rbf = SVR(kernel='rbf',C=900, gamma=0.01)\n",
        "\n",
        "svm_rbf.fit(X_train, y_train)\n",
        "score_svm_rbf = svm_rbf.score(X_test, y_test)\n",
        "\n",
        "print(score_svm_rbf)"
      ],
      "metadata": {
        "colab": {
          "base_uri": "https://localhost:8080/"
        },
        "id": "Fm-FvHwvwPIW",
        "outputId": "f1f6520b-8eb8-4faf-83a0-9ea931ccf51b"
      },
      "execution_count": 24,
      "outputs": [
        {
          "output_type": "stream",
          "name": "stdout",
          "text": [
            "0.5759845489697898\n"
          ]
        }
      ]
    },
    {
      "cell_type": "markdown",
      "source": [
        "###  Random Search"
      ],
      "metadata": {
        "id": "ee-2XlWB0bd7"
      }
    },
    {
      "cell_type": "code",
      "source": [
        "hpt_param_dict = {'C' : [i for i in range(0,100)],\n",
        "                 'gamma' : np.linspace(0,0.1)}\n"
      ],
      "metadata": {
        "id": "f23FrC4Wx4gc"
      },
      "execution_count": null,
      "outputs": []
    },
    {
      "source": [
        "!pip install scikit-learn\n",
        "from sklearn.model_selection import RandomizedSearchCV\n",
        "\n",
        "random_search = RandomizedSearchCV(estimator = hpt_svm_reg,\n",
        "                                  param_distributions = hpt_param_dict,\n",
        "                                  cv = 5)"
      ],
      "cell_type": "code",
      "metadata": {
        "colab": {
          "base_uri": "https://localhost:8080/"
        },
        "id": "bsxgdphsyFY9",
        "outputId": "2cd38e23-62fa-4e09-c053-108974516e37"
      },
      "execution_count": null,
      "outputs": [
        {
          "output_type": "stream",
          "name": "stdout",
          "text": [
            "Requirement already satisfied: scikit-learn in /usr/local/lib/python3.10/dist-packages (1.2.2)\n",
            "Requirement already satisfied: numpy>=1.17.3 in /usr/local/lib/python3.10/dist-packages (from scikit-learn) (1.25.2)\n",
            "Requirement already satisfied: scipy>=1.3.2 in /usr/local/lib/python3.10/dist-packages (from scikit-learn) (1.11.4)\n",
            "Requirement already satisfied: joblib>=1.1.1 in /usr/local/lib/python3.10/dist-packages (from scikit-learn) (1.4.2)\n",
            "Requirement already satisfied: threadpoolctl>=2.0.0 in /usr/local/lib/python3.10/dist-packages (from scikit-learn) (3.5.0)\n"
          ]
        }
      ]
    },
    {
      "cell_type": "code",
      "source": [
        "random_search.fit(X_train, y_train)"
      ],
      "metadata": {
        "colab": {
          "base_uri": "https://localhost:8080/",
          "height": 117
        },
        "id": "k3y3a-jXyAT5",
        "outputId": "abb5d427-4ee3-4630-b4d5-9b6a8fbc5b5b"
      },
      "execution_count": null,
      "outputs": [
        {
          "output_type": "execute_result",
          "data": {
            "text/plain": [
              "RandomizedSearchCV(cv=5, estimator=SVR(),\n",
              "                   param_distributions={'C': [0, 1, 2, 3, 4, 5, 6, 7, 8, 9, 10,\n",
              "                                              11, 12, 13, 14, 15, 16, 17, 18,\n",
              "                                              19, 20, 21, 22, 23, 24, 25, 26,\n",
              "                                              27, 28, 29, ...],\n",
              "                                        'gamma': array([0.        , 0.00204082, 0.00408163, 0.00612245, 0.00816327,\n",
              "       0.01020408, 0.0122449 , 0.01428571, 0.01632653, 0.01836735,\n",
              "       0.02040816, 0.02244898, 0.0244898 , 0.02653061, 0.02857143,\n",
              "       0.03061224, 0.03265306, 0.03469388, 0.03673469, 0.03877551,\n",
              "       0.04081633, 0.04285714, 0.04489796, 0.04693878, 0.04897959,\n",
              "       0.05102041, 0.05306122, 0.05510204, 0.05714286, 0.05918367,\n",
              "       0.06122449, 0.06326531, 0.06530612, 0.06734694, 0.06938776,\n",
              "       0.07142857, 0.07346939, 0.0755102 , 0.07755102, 0.07959184,\n",
              "       0.08163265, 0.08367347, 0.08571429, 0.0877551 , 0.08979592,\n",
              "       0.09183673, 0.09387755, 0.09591837, 0.09795918, 0.1       ])})"
            ],
            "text/html": [
              "<style>#sk-container-id-2 {color: black;background-color: white;}#sk-container-id-2 pre{padding: 0;}#sk-container-id-2 div.sk-toggleable {background-color: white;}#sk-container-id-2 label.sk-toggleable__label {cursor: pointer;display: block;width: 100%;margin-bottom: 0;padding: 0.3em;box-sizing: border-box;text-align: center;}#sk-container-id-2 label.sk-toggleable__label-arrow:before {content: \"▸\";float: left;margin-right: 0.25em;color: #696969;}#sk-container-id-2 label.sk-toggleable__label-arrow:hover:before {color: black;}#sk-container-id-2 div.sk-estimator:hover label.sk-toggleable__label-arrow:before {color: black;}#sk-container-id-2 div.sk-toggleable__content {max-height: 0;max-width: 0;overflow: hidden;text-align: left;background-color: #f0f8ff;}#sk-container-id-2 div.sk-toggleable__content pre {margin: 0.2em;color: black;border-radius: 0.25em;background-color: #f0f8ff;}#sk-container-id-2 input.sk-toggleable__control:checked~div.sk-toggleable__content {max-height: 200px;max-width: 100%;overflow: auto;}#sk-container-id-2 input.sk-toggleable__control:checked~label.sk-toggleable__label-arrow:before {content: \"▾\";}#sk-container-id-2 div.sk-estimator input.sk-toggleable__control:checked~label.sk-toggleable__label {background-color: #d4ebff;}#sk-container-id-2 div.sk-label input.sk-toggleable__control:checked~label.sk-toggleable__label {background-color: #d4ebff;}#sk-container-id-2 input.sk-hidden--visually {border: 0;clip: rect(1px 1px 1px 1px);clip: rect(1px, 1px, 1px, 1px);height: 1px;margin: -1px;overflow: hidden;padding: 0;position: absolute;width: 1px;}#sk-container-id-2 div.sk-estimator {font-family: monospace;background-color: #f0f8ff;border: 1px dotted black;border-radius: 0.25em;box-sizing: border-box;margin-bottom: 0.5em;}#sk-container-id-2 div.sk-estimator:hover {background-color: #d4ebff;}#sk-container-id-2 div.sk-parallel-item::after {content: \"\";width: 100%;border-bottom: 1px solid gray;flex-grow: 1;}#sk-container-id-2 div.sk-label:hover label.sk-toggleable__label {background-color: #d4ebff;}#sk-container-id-2 div.sk-serial::before {content: \"\";position: absolute;border-left: 1px solid gray;box-sizing: border-box;top: 0;bottom: 0;left: 50%;z-index: 0;}#sk-container-id-2 div.sk-serial {display: flex;flex-direction: column;align-items: center;background-color: white;padding-right: 0.2em;padding-left: 0.2em;position: relative;}#sk-container-id-2 div.sk-item {position: relative;z-index: 1;}#sk-container-id-2 div.sk-parallel {display: flex;align-items: stretch;justify-content: center;background-color: white;position: relative;}#sk-container-id-2 div.sk-item::before, #sk-container-id-2 div.sk-parallel-item::before {content: \"\";position: absolute;border-left: 1px solid gray;box-sizing: border-box;top: 0;bottom: 0;left: 50%;z-index: -1;}#sk-container-id-2 div.sk-parallel-item {display: flex;flex-direction: column;z-index: 1;position: relative;background-color: white;}#sk-container-id-2 div.sk-parallel-item:first-child::after {align-self: flex-end;width: 50%;}#sk-container-id-2 div.sk-parallel-item:last-child::after {align-self: flex-start;width: 50%;}#sk-container-id-2 div.sk-parallel-item:only-child::after {width: 0;}#sk-container-id-2 div.sk-dashed-wrapped {border: 1px dashed gray;margin: 0 0.4em 0.5em 0.4em;box-sizing: border-box;padding-bottom: 0.4em;background-color: white;}#sk-container-id-2 div.sk-label label {font-family: monospace;font-weight: bold;display: inline-block;line-height: 1.2em;}#sk-container-id-2 div.sk-label-container {text-align: center;}#sk-container-id-2 div.sk-container {/* jupyter's `normalize.less` sets `[hidden] { display: none; }` but bootstrap.min.css set `[hidden] { display: none !important; }` so we also need the `!important` here to be able to override the default hidden behavior on the sphinx rendered scikit-learn.org. See: https://github.com/scikit-learn/scikit-learn/issues/21755 */display: inline-block !important;position: relative;}#sk-container-id-2 div.sk-text-repr-fallback {display: none;}</style><div id=\"sk-container-id-2\" class=\"sk-top-container\"><div class=\"sk-text-repr-fallback\"><pre>RandomizedSearchCV(cv=5, estimator=SVR(),\n",
              "                   param_distributions={&#x27;C&#x27;: [0, 1, 2, 3, 4, 5, 6, 7, 8, 9, 10,\n",
              "                                              11, 12, 13, 14, 15, 16, 17, 18,\n",
              "                                              19, 20, 21, 22, 23, 24, 25, 26,\n",
              "                                              27, 28, 29, ...],\n",
              "                                        &#x27;gamma&#x27;: array([0.        , 0.00204082, 0.00408163, 0.00612245, 0.00816327,\n",
              "       0.01020408, 0.0122449 , 0.01428571, 0.01632653, 0.01836735,\n",
              "       0.02040816, 0.02244898, 0.0244898 , 0.02653061, 0.02857143,\n",
              "       0.03061224, 0.03265306, 0.03469388, 0.03673469, 0.03877551,\n",
              "       0.04081633, 0.04285714, 0.04489796, 0.04693878, 0.04897959,\n",
              "       0.05102041, 0.05306122, 0.05510204, 0.05714286, 0.05918367,\n",
              "       0.06122449, 0.06326531, 0.06530612, 0.06734694, 0.06938776,\n",
              "       0.07142857, 0.07346939, 0.0755102 , 0.07755102, 0.07959184,\n",
              "       0.08163265, 0.08367347, 0.08571429, 0.0877551 , 0.08979592,\n",
              "       0.09183673, 0.09387755, 0.09591837, 0.09795918, 0.1       ])})</pre><b>In a Jupyter environment, please rerun this cell to show the HTML representation or trust the notebook. <br />On GitHub, the HTML representation is unable to render, please try loading this page with nbviewer.org.</b></div><div class=\"sk-container\" hidden><div class=\"sk-item sk-dashed-wrapped\"><div class=\"sk-label-container\"><div class=\"sk-label sk-toggleable\"><input class=\"sk-toggleable__control sk-hidden--visually\" id=\"sk-estimator-id-4\" type=\"checkbox\" ><label for=\"sk-estimator-id-4\" class=\"sk-toggleable__label sk-toggleable__label-arrow\">RandomizedSearchCV</label><div class=\"sk-toggleable__content\"><pre>RandomizedSearchCV(cv=5, estimator=SVR(),\n",
              "                   param_distributions={&#x27;C&#x27;: [0, 1, 2, 3, 4, 5, 6, 7, 8, 9, 10,\n",
              "                                              11, 12, 13, 14, 15, 16, 17, 18,\n",
              "                                              19, 20, 21, 22, 23, 24, 25, 26,\n",
              "                                              27, 28, 29, ...],\n",
              "                                        &#x27;gamma&#x27;: array([0.        , 0.00204082, 0.00408163, 0.00612245, 0.00816327,\n",
              "       0.01020408, 0.0122449 , 0.01428571, 0.01632653, 0.01836735,\n",
              "       0.02040816, 0.02244898, 0.0244898 , 0.02653061, 0.02857143,\n",
              "       0.03061224, 0.03265306, 0.03469388, 0.03673469, 0.03877551,\n",
              "       0.04081633, 0.04285714, 0.04489796, 0.04693878, 0.04897959,\n",
              "       0.05102041, 0.05306122, 0.05510204, 0.05714286, 0.05918367,\n",
              "       0.06122449, 0.06326531, 0.06530612, 0.06734694, 0.06938776,\n",
              "       0.07142857, 0.07346939, 0.0755102 , 0.07755102, 0.07959184,\n",
              "       0.08163265, 0.08367347, 0.08571429, 0.0877551 , 0.08979592,\n",
              "       0.09183673, 0.09387755, 0.09591837, 0.09795918, 0.1       ])})</pre></div></div></div><div class=\"sk-parallel\"><div class=\"sk-parallel-item\"><div class=\"sk-item\"><div class=\"sk-label-container\"><div class=\"sk-label sk-toggleable\"><input class=\"sk-toggleable__control sk-hidden--visually\" id=\"sk-estimator-id-5\" type=\"checkbox\" ><label for=\"sk-estimator-id-5\" class=\"sk-toggleable__label sk-toggleable__label-arrow\">estimator: SVR</label><div class=\"sk-toggleable__content\"><pre>SVR()</pre></div></div></div><div class=\"sk-serial\"><div class=\"sk-item\"><div class=\"sk-estimator sk-toggleable\"><input class=\"sk-toggleable__control sk-hidden--visually\" id=\"sk-estimator-id-6\" type=\"checkbox\" ><label for=\"sk-estimator-id-6\" class=\"sk-toggleable__label sk-toggleable__label-arrow\">SVR</label><div class=\"sk-toggleable__content\"><pre>SVR()</pre></div></div></div></div></div></div></div></div></div></div>"
            ]
          },
          "metadata": {},
          "execution_count": 28
        }
      ]
    },
    {
      "cell_type": "code",
      "source": [
        "random_search.best_params_"
      ],
      "metadata": {
        "colab": {
          "base_uri": "https://localhost:8080/"
        },
        "id": "s5MTYVaI0Ufd",
        "outputId": "13fabe7d-83cd-4fb8-bef5-1c2eced98aa0"
      },
      "execution_count": null,
      "outputs": [
        {
          "output_type": "execute_result",
          "data": {
            "text/plain": [
              "{'gamma': 0.02653061224489796, 'C': 30}"
            ]
          },
          "metadata": {},
          "execution_count": 29
        }
      ]
    },
    {
      "cell_type": "code",
      "source": [
        "random_search.best_score_"
      ],
      "metadata": {
        "colab": {
          "base_uri": "https://localhost:8080/"
        },
        "id": "s3npbieL0Xmy",
        "outputId": "190cf7b7-4d7d-4fa4-d676-59a518e832b1"
      },
      "execution_count": null,
      "outputs": [
        {
          "output_type": "execute_result",
          "data": {
            "text/plain": [
              "0.5611785091847991"
            ]
          },
          "metadata": {},
          "execution_count": 30
        }
      ]
    },
    {
      "cell_type": "code",
      "source": [
        "svm_rbf_rnd = SVR(kernel='rbf',C=9000, gamma=0.004)\n",
        "\n",
        "svm_rbf_rnd.fit(X_train, y_train)\n",
        "score_svm_rbf_rnd = svm_rbf_rnd.score(X_test, y_test)\n",
        "\n",
        "print(score_svm_rbf_rnd)"
      ],
      "metadata": {
        "colab": {
          "base_uri": "https://localhost:8080/"
        },
        "id": "kKcpr3FY0m66",
        "outputId": "bb8050db-787b-4de5-fc34-be543d11695c"
      },
      "execution_count": null,
      "outputs": [
        {
          "output_type": "stream",
          "name": "stdout",
          "text": [
            "0.5759590316168088\n"
          ]
        }
      ]
    },
    {
      "cell_type": "markdown",
      "source": [
        "# Decision tree"
      ],
      "metadata": {
        "id": "IzKs0ns8O1j0"
      }
    },
    {
      "cell_type": "code",
      "source": [
        "# Initialize the Decision Tree Regressor\n",
        "decision_tree = DecisionTreeRegressor(random_state=42)\n",
        "\n",
        "# Train the model on the training data\n",
        "decision_tree.fit(X_train, y_train)\n",
        "\n",
        "# Predict on the testing data\n",
        "y_pred1 = decision_tree.predict(X_test)\n",
        "\n",
        "# Calculate performance metrics\n",
        "mse = mean_squared_error(y_test, y_pred1)\n",
        "r2 = r2_score(y_test, y_pred1)\n",
        "mae = mean_absolute_error(y_test, y_pred1)\n",
        "mape= mean_absolute_percentage_error(y_test, y_pred1)\n",
        "\n",
        "print(\"Decision Tree Regressor\")\n",
        "print(f\"Mean Squared Error (MSE): {mse}\")\n",
        "print(f\"R-squared (R2) Score: {r2}\")\n",
        "print(\"Mean absolute error(MAE) %.2f\"%mae)\n",
        "print(\"Mean absolute percentage error(MAPE) %.2f\"%mape)"
      ],
      "metadata": {
        "colab": {
          "base_uri": "https://localhost:8080/"
        },
        "id": "vBq7YU3WO_QV",
        "outputId": "91b4ffe0-3321-45f7-f88c-d86a5a8d7662"
      },
      "execution_count": 25,
      "outputs": [
        {
          "output_type": "stream",
          "name": "stdout",
          "text": [
            "Decision Tree Regressor\n",
            "Mean Squared Error (MSE): 8.574162679425838\n",
            "R-squared (R2) Score: 0.1665358147835212\n",
            "Mean absolute error(MAE) 2.02\n",
            "Mean absolute percentage error(MAPE) 0.20\n"
          ]
        }
      ]
    },
    {
      "cell_type": "markdown",
      "source": [
        "# Decision tree with hyperparametric tuning"
      ],
      "metadata": {
        "id": "oap28bfkPX2G"
      }
    },
    {
      "cell_type": "markdown",
      "source": [
        "# Hyperparametric Tuning"
      ],
      "metadata": {
        "id": "7ifGAdbYTmsi"
      }
    },
    {
      "cell_type": "markdown",
      "source": [
        "### Grid Search"
      ],
      "metadata": {
        "id": "siTEjGkIPryr"
      }
    },
    {
      "cell_type": "code",
      "source": [
        "!pip install scikit-learn\n",
        "from sklearn.model_selection import GridSearchCV\n",
        "from sklearn.tree import DecisionTreeRegressor"
      ],
      "metadata": {
        "colab": {
          "base_uri": "https://localhost:8080/"
        },
        "id": "cAmUFjfd3Ya-",
        "outputId": "8866fd3e-dbde-4b35-9b2b-350af1940135"
      },
      "execution_count": 26,
      "outputs": [
        {
          "output_type": "stream",
          "name": "stdout",
          "text": [
            "Requirement already satisfied: scikit-learn in /usr/local/lib/python3.10/dist-packages (1.2.2)\n",
            "Requirement already satisfied: numpy>=1.17.3 in /usr/local/lib/python3.10/dist-packages (from scikit-learn) (1.25.2)\n",
            "Requirement already satisfied: scipy>=1.3.2 in /usr/local/lib/python3.10/dist-packages (from scikit-learn) (1.11.4)\n",
            "Requirement already satisfied: joblib>=1.1.1 in /usr/local/lib/python3.10/dist-packages (from scikit-learn) (1.4.2)\n",
            "Requirement already satisfied: threadpoolctl>=2.0.0 in /usr/local/lib/python3.10/dist-packages (from scikit-learn) (3.5.0)\n"
          ]
        }
      ]
    },
    {
      "cell_type": "code",
      "source": [
        "hyperpt_decision_tree = DecisionTreeRegressor(random_state=42)\n",
        "hyperpt_decision_tree.get_params()"
      ],
      "metadata": {
        "colab": {
          "base_uri": "https://localhost:8080/"
        },
        "id": "1k_uEkKtPc9O",
        "outputId": "26baa14a-4e86-4668-c05b-4ab0ce825d79"
      },
      "execution_count": 27,
      "outputs": [
        {
          "output_type": "execute_result",
          "data": {
            "text/plain": [
              "{'ccp_alpha': 0.0,\n",
              " 'criterion': 'squared_error',\n",
              " 'max_depth': None,\n",
              " 'max_features': None,\n",
              " 'max_leaf_nodes': None,\n",
              " 'min_impurity_decrease': 0.0,\n",
              " 'min_samples_leaf': 1,\n",
              " 'min_samples_split': 2,\n",
              " 'min_weight_fraction_leaf': 0.0,\n",
              " 'random_state': 42,\n",
              " 'splitter': 'best'}"
            ]
          },
          "metadata": {},
          "execution_count": 27
        }
      ]
    },
    {
      "cell_type": "code",
      "source": [
        "hyperpt_param_grid1 = [{'max_depth': [i for i in range(1, 20)],\n",
        "                       'max_features': [i for i in range(1, 8)],\n",
        "                       'max_leaf_nodes': [None, 10, 20, 30, 40, 50]}]\n",
        "hyperpt_param_grid1"
      ],
      "metadata": {
        "colab": {
          "base_uri": "https://localhost:8080/"
        },
        "id": "N7MLk2A00sAA",
        "outputId": "b3523157-e504-4a77-d244-35088860ef50"
      },
      "execution_count": 28,
      "outputs": [
        {
          "output_type": "execute_result",
          "data": {
            "text/plain": [
              "[{'max_depth': [1,\n",
              "   2,\n",
              "   3,\n",
              "   4,\n",
              "   5,\n",
              "   6,\n",
              "   7,\n",
              "   8,\n",
              "   9,\n",
              "   10,\n",
              "   11,\n",
              "   12,\n",
              "   13,\n",
              "   14,\n",
              "   15,\n",
              "   16,\n",
              "   17,\n",
              "   18,\n",
              "   19],\n",
              "  'max_features': [1, 2, 3, 4, 5, 6, 7],\n",
              "  'max_leaf_nodes': [None, 10, 20, 30, 40, 50]}]"
            ]
          },
          "metadata": {},
          "execution_count": 28
        }
      ]
    },
    {
      "cell_type": "code",
      "source": [
        "grid_search_decision_tree = GridSearchCV(estimator = hyperpt_decision_tree,\n",
        "                   param_grid = hyperpt_param_grid1,\n",
        "                   cv=5)"
      ],
      "metadata": {
        "id": "cMPN94M10yot"
      },
      "execution_count": 29,
      "outputs": []
    },
    {
      "cell_type": "code",
      "source": [
        "grid_search_decision_tree.fit(X_train,y_train)"
      ],
      "metadata": {
        "colab": {
          "base_uri": "https://localhost:8080/",
          "height": 117
        },
        "id": "Al3Fh-3r1Lm1",
        "outputId": "ba07cedd-b766-453e-e733-645bf976c4ee"
      },
      "execution_count": 30,
      "outputs": [
        {
          "output_type": "execute_result",
          "data": {
            "text/plain": [
              "GridSearchCV(cv=5, estimator=DecisionTreeRegressor(random_state=42),\n",
              "             param_grid=[{'max_depth': [1, 2, 3, 4, 5, 6, 7, 8, 9, 10, 11, 12,\n",
              "                                        13, 14, 15, 16, 17, 18, 19],\n",
              "                          'max_features': [1, 2, 3, 4, 5, 6, 7],\n",
              "                          'max_leaf_nodes': [None, 10, 20, 30, 40, 50]}])"
            ],
            "text/html": [
              "<style>#sk-container-id-2 {color: black;background-color: white;}#sk-container-id-2 pre{padding: 0;}#sk-container-id-2 div.sk-toggleable {background-color: white;}#sk-container-id-2 label.sk-toggleable__label {cursor: pointer;display: block;width: 100%;margin-bottom: 0;padding: 0.3em;box-sizing: border-box;text-align: center;}#sk-container-id-2 label.sk-toggleable__label-arrow:before {content: \"▸\";float: left;margin-right: 0.25em;color: #696969;}#sk-container-id-2 label.sk-toggleable__label-arrow:hover:before {color: black;}#sk-container-id-2 div.sk-estimator:hover label.sk-toggleable__label-arrow:before {color: black;}#sk-container-id-2 div.sk-toggleable__content {max-height: 0;max-width: 0;overflow: hidden;text-align: left;background-color: #f0f8ff;}#sk-container-id-2 div.sk-toggleable__content pre {margin: 0.2em;color: black;border-radius: 0.25em;background-color: #f0f8ff;}#sk-container-id-2 input.sk-toggleable__control:checked~div.sk-toggleable__content {max-height: 200px;max-width: 100%;overflow: auto;}#sk-container-id-2 input.sk-toggleable__control:checked~label.sk-toggleable__label-arrow:before {content: \"▾\";}#sk-container-id-2 div.sk-estimator input.sk-toggleable__control:checked~label.sk-toggleable__label {background-color: #d4ebff;}#sk-container-id-2 div.sk-label input.sk-toggleable__control:checked~label.sk-toggleable__label {background-color: #d4ebff;}#sk-container-id-2 input.sk-hidden--visually {border: 0;clip: rect(1px 1px 1px 1px);clip: rect(1px, 1px, 1px, 1px);height: 1px;margin: -1px;overflow: hidden;padding: 0;position: absolute;width: 1px;}#sk-container-id-2 div.sk-estimator {font-family: monospace;background-color: #f0f8ff;border: 1px dotted black;border-radius: 0.25em;box-sizing: border-box;margin-bottom: 0.5em;}#sk-container-id-2 div.sk-estimator:hover {background-color: #d4ebff;}#sk-container-id-2 div.sk-parallel-item::after {content: \"\";width: 100%;border-bottom: 1px solid gray;flex-grow: 1;}#sk-container-id-2 div.sk-label:hover label.sk-toggleable__label {background-color: #d4ebff;}#sk-container-id-2 div.sk-serial::before {content: \"\";position: absolute;border-left: 1px solid gray;box-sizing: border-box;top: 0;bottom: 0;left: 50%;z-index: 0;}#sk-container-id-2 div.sk-serial {display: flex;flex-direction: column;align-items: center;background-color: white;padding-right: 0.2em;padding-left: 0.2em;position: relative;}#sk-container-id-2 div.sk-item {position: relative;z-index: 1;}#sk-container-id-2 div.sk-parallel {display: flex;align-items: stretch;justify-content: center;background-color: white;position: relative;}#sk-container-id-2 div.sk-item::before, #sk-container-id-2 div.sk-parallel-item::before {content: \"\";position: absolute;border-left: 1px solid gray;box-sizing: border-box;top: 0;bottom: 0;left: 50%;z-index: -1;}#sk-container-id-2 div.sk-parallel-item {display: flex;flex-direction: column;z-index: 1;position: relative;background-color: white;}#sk-container-id-2 div.sk-parallel-item:first-child::after {align-self: flex-end;width: 50%;}#sk-container-id-2 div.sk-parallel-item:last-child::after {align-self: flex-start;width: 50%;}#sk-container-id-2 div.sk-parallel-item:only-child::after {width: 0;}#sk-container-id-2 div.sk-dashed-wrapped {border: 1px dashed gray;margin: 0 0.4em 0.5em 0.4em;box-sizing: border-box;padding-bottom: 0.4em;background-color: white;}#sk-container-id-2 div.sk-label label {font-family: monospace;font-weight: bold;display: inline-block;line-height: 1.2em;}#sk-container-id-2 div.sk-label-container {text-align: center;}#sk-container-id-2 div.sk-container {/* jupyter's `normalize.less` sets `[hidden] { display: none; }` but bootstrap.min.css set `[hidden] { display: none !important; }` so we also need the `!important` here to be able to override the default hidden behavior on the sphinx rendered scikit-learn.org. See: https://github.com/scikit-learn/scikit-learn/issues/21755 */display: inline-block !important;position: relative;}#sk-container-id-2 div.sk-text-repr-fallback {display: none;}</style><div id=\"sk-container-id-2\" class=\"sk-top-container\"><div class=\"sk-text-repr-fallback\"><pre>GridSearchCV(cv=5, estimator=DecisionTreeRegressor(random_state=42),\n",
              "             param_grid=[{&#x27;max_depth&#x27;: [1, 2, 3, 4, 5, 6, 7, 8, 9, 10, 11, 12,\n",
              "                                        13, 14, 15, 16, 17, 18, 19],\n",
              "                          &#x27;max_features&#x27;: [1, 2, 3, 4, 5, 6, 7],\n",
              "                          &#x27;max_leaf_nodes&#x27;: [None, 10, 20, 30, 40, 50]}])</pre><b>In a Jupyter environment, please rerun this cell to show the HTML representation or trust the notebook. <br />On GitHub, the HTML representation is unable to render, please try loading this page with nbviewer.org.</b></div><div class=\"sk-container\" hidden><div class=\"sk-item sk-dashed-wrapped\"><div class=\"sk-label-container\"><div class=\"sk-label sk-toggleable\"><input class=\"sk-toggleable__control sk-hidden--visually\" id=\"sk-estimator-id-4\" type=\"checkbox\" ><label for=\"sk-estimator-id-4\" class=\"sk-toggleable__label sk-toggleable__label-arrow\">GridSearchCV</label><div class=\"sk-toggleable__content\"><pre>GridSearchCV(cv=5, estimator=DecisionTreeRegressor(random_state=42),\n",
              "             param_grid=[{&#x27;max_depth&#x27;: [1, 2, 3, 4, 5, 6, 7, 8, 9, 10, 11, 12,\n",
              "                                        13, 14, 15, 16, 17, 18, 19],\n",
              "                          &#x27;max_features&#x27;: [1, 2, 3, 4, 5, 6, 7],\n",
              "                          &#x27;max_leaf_nodes&#x27;: [None, 10, 20, 30, 40, 50]}])</pre></div></div></div><div class=\"sk-parallel\"><div class=\"sk-parallel-item\"><div class=\"sk-item\"><div class=\"sk-label-container\"><div class=\"sk-label sk-toggleable\"><input class=\"sk-toggleable__control sk-hidden--visually\" id=\"sk-estimator-id-5\" type=\"checkbox\" ><label for=\"sk-estimator-id-5\" class=\"sk-toggleable__label sk-toggleable__label-arrow\">estimator: DecisionTreeRegressor</label><div class=\"sk-toggleable__content\"><pre>DecisionTreeRegressor(random_state=42)</pre></div></div></div><div class=\"sk-serial\"><div class=\"sk-item\"><div class=\"sk-estimator sk-toggleable\"><input class=\"sk-toggleable__control sk-hidden--visually\" id=\"sk-estimator-id-6\" type=\"checkbox\" ><label for=\"sk-estimator-id-6\" class=\"sk-toggleable__label sk-toggleable__label-arrow\">DecisionTreeRegressor</label><div class=\"sk-toggleable__content\"><pre>DecisionTreeRegressor(random_state=42)</pre></div></div></div></div></div></div></div></div></div></div>"
            ]
          },
          "metadata": {},
          "execution_count": 30
        }
      ]
    },
    {
      "cell_type": "code",
      "source": [
        "grid_search_decision_tree.best_params_"
      ],
      "metadata": {
        "colab": {
          "base_uri": "https://localhost:8080/"
        },
        "id": "5GTDFvq71gVG",
        "outputId": "44b45769-0ed1-44f0-c7e0-5c5e5e054bfc"
      },
      "execution_count": 31,
      "outputs": [
        {
          "output_type": "execute_result",
          "data": {
            "text/plain": [
              "{'max_depth': 7, 'max_features': 3, 'max_leaf_nodes': 40}"
            ]
          },
          "metadata": {},
          "execution_count": 31
        }
      ]
    },
    {
      "cell_type": "code",
      "source": [
        "grid_search_decision_tree.best_score_"
      ],
      "metadata": {
        "colab": {
          "base_uri": "https://localhost:8080/"
        },
        "id": "dqCg57SZ1hNv",
        "outputId": "800a2ae3-f89f-4215-dacc-e1ea7b02eb09"
      },
      "execution_count": 32,
      "outputs": [
        {
          "output_type": "execute_result",
          "data": {
            "text/plain": [
              "0.48016460355736346"
            ]
          },
          "metadata": {},
          "execution_count": 32
        }
      ]
    },
    {
      "cell_type": "code",
      "source": [
        "grid_search_decision_tree.best_estimator_"
      ],
      "metadata": {
        "colab": {
          "base_uri": "https://localhost:8080/",
          "height": 92
        },
        "id": "GlBN1sSP1k_G",
        "outputId": "8930cfbd-6a0a-479a-cfa5-0b93a631d219"
      },
      "execution_count": 33,
      "outputs": [
        {
          "output_type": "execute_result",
          "data": {
            "text/plain": [
              "DecisionTreeRegressor(max_depth=7, max_features=3, max_leaf_nodes=40,\n",
              "                      random_state=42)"
            ],
            "text/html": [
              "<style>#sk-container-id-3 {color: black;background-color: white;}#sk-container-id-3 pre{padding: 0;}#sk-container-id-3 div.sk-toggleable {background-color: white;}#sk-container-id-3 label.sk-toggleable__label {cursor: pointer;display: block;width: 100%;margin-bottom: 0;padding: 0.3em;box-sizing: border-box;text-align: center;}#sk-container-id-3 label.sk-toggleable__label-arrow:before {content: \"▸\";float: left;margin-right: 0.25em;color: #696969;}#sk-container-id-3 label.sk-toggleable__label-arrow:hover:before {color: black;}#sk-container-id-3 div.sk-estimator:hover label.sk-toggleable__label-arrow:before {color: black;}#sk-container-id-3 div.sk-toggleable__content {max-height: 0;max-width: 0;overflow: hidden;text-align: left;background-color: #f0f8ff;}#sk-container-id-3 div.sk-toggleable__content pre {margin: 0.2em;color: black;border-radius: 0.25em;background-color: #f0f8ff;}#sk-container-id-3 input.sk-toggleable__control:checked~div.sk-toggleable__content {max-height: 200px;max-width: 100%;overflow: auto;}#sk-container-id-3 input.sk-toggleable__control:checked~label.sk-toggleable__label-arrow:before {content: \"▾\";}#sk-container-id-3 div.sk-estimator input.sk-toggleable__control:checked~label.sk-toggleable__label {background-color: #d4ebff;}#sk-container-id-3 div.sk-label input.sk-toggleable__control:checked~label.sk-toggleable__label {background-color: #d4ebff;}#sk-container-id-3 input.sk-hidden--visually {border: 0;clip: rect(1px 1px 1px 1px);clip: rect(1px, 1px, 1px, 1px);height: 1px;margin: -1px;overflow: hidden;padding: 0;position: absolute;width: 1px;}#sk-container-id-3 div.sk-estimator {font-family: monospace;background-color: #f0f8ff;border: 1px dotted black;border-radius: 0.25em;box-sizing: border-box;margin-bottom: 0.5em;}#sk-container-id-3 div.sk-estimator:hover {background-color: #d4ebff;}#sk-container-id-3 div.sk-parallel-item::after {content: \"\";width: 100%;border-bottom: 1px solid gray;flex-grow: 1;}#sk-container-id-3 div.sk-label:hover label.sk-toggleable__label {background-color: #d4ebff;}#sk-container-id-3 div.sk-serial::before {content: \"\";position: absolute;border-left: 1px solid gray;box-sizing: border-box;top: 0;bottom: 0;left: 50%;z-index: 0;}#sk-container-id-3 div.sk-serial {display: flex;flex-direction: column;align-items: center;background-color: white;padding-right: 0.2em;padding-left: 0.2em;position: relative;}#sk-container-id-3 div.sk-item {position: relative;z-index: 1;}#sk-container-id-3 div.sk-parallel {display: flex;align-items: stretch;justify-content: center;background-color: white;position: relative;}#sk-container-id-3 div.sk-item::before, #sk-container-id-3 div.sk-parallel-item::before {content: \"\";position: absolute;border-left: 1px solid gray;box-sizing: border-box;top: 0;bottom: 0;left: 50%;z-index: -1;}#sk-container-id-3 div.sk-parallel-item {display: flex;flex-direction: column;z-index: 1;position: relative;background-color: white;}#sk-container-id-3 div.sk-parallel-item:first-child::after {align-self: flex-end;width: 50%;}#sk-container-id-3 div.sk-parallel-item:last-child::after {align-self: flex-start;width: 50%;}#sk-container-id-3 div.sk-parallel-item:only-child::after {width: 0;}#sk-container-id-3 div.sk-dashed-wrapped {border: 1px dashed gray;margin: 0 0.4em 0.5em 0.4em;box-sizing: border-box;padding-bottom: 0.4em;background-color: white;}#sk-container-id-3 div.sk-label label {font-family: monospace;font-weight: bold;display: inline-block;line-height: 1.2em;}#sk-container-id-3 div.sk-label-container {text-align: center;}#sk-container-id-3 div.sk-container {/* jupyter's `normalize.less` sets `[hidden] { display: none; }` but bootstrap.min.css set `[hidden] { display: none !important; }` so we also need the `!important` here to be able to override the default hidden behavior on the sphinx rendered scikit-learn.org. See: https://github.com/scikit-learn/scikit-learn/issues/21755 */display: inline-block !important;position: relative;}#sk-container-id-3 div.sk-text-repr-fallback {display: none;}</style><div id=\"sk-container-id-3\" class=\"sk-top-container\"><div class=\"sk-text-repr-fallback\"><pre>DecisionTreeRegressor(max_depth=7, max_features=3, max_leaf_nodes=40,\n",
              "                      random_state=42)</pre><b>In a Jupyter environment, please rerun this cell to show the HTML representation or trust the notebook. <br />On GitHub, the HTML representation is unable to render, please try loading this page with nbviewer.org.</b></div><div class=\"sk-container\" hidden><div class=\"sk-item\"><div class=\"sk-estimator sk-toggleable\"><input class=\"sk-toggleable__control sk-hidden--visually\" id=\"sk-estimator-id-7\" type=\"checkbox\" checked><label for=\"sk-estimator-id-7\" class=\"sk-toggleable__label sk-toggleable__label-arrow\">DecisionTreeRegressor</label><div class=\"sk-toggleable__content\"><pre>DecisionTreeRegressor(max_depth=7, max_features=3, max_leaf_nodes=40,\n",
              "                      random_state=42)</pre></div></div></div></div></div>"
            ]
          },
          "metadata": {},
          "execution_count": 33
        }
      ]
    },
    {
      "cell_type": "code",
      "source": [
        "dt = DecisionTreeRegressor(max_depth=7,max_features=3, max_leaf_nodes=45, random_state=42)\n",
        "dt.fit(X_train,y_train)\n",
        "score_dt = dt.score(X_test,y_test)\n",
        "print(score_dt)"
      ],
      "metadata": {
        "colab": {
          "base_uri": "https://localhost:8080/"
        },
        "id": "Rr-daTxW1nwr",
        "outputId": "337ac3dc-eda9-4202-adc0-4b98be9d4be0"
      },
      "execution_count": 34,
      "outputs": [
        {
          "output_type": "stream",
          "name": "stdout",
          "text": [
            "0.45304304343514323\n"
          ]
        }
      ]
    },
    {
      "cell_type": "markdown",
      "source": [
        "### Random Search"
      ],
      "metadata": {
        "id": "39atKgnDRc4v"
      }
    },
    {
      "cell_type": "code",
      "source": [
        "# the hyperparameter to tune as max_depth\n",
        "hyp_param_dict2 = [{'max_depth' : [i for i in range(0,20)]}]\n",
        "hyp_param_dict2"
      ],
      "metadata": {
        "colab": {
          "base_uri": "https://localhost:8080/"
        },
        "id": "rso7PZnxRGlZ",
        "outputId": "b0b593b7-0fe1-452c-fbca-5705333354a1"
      },
      "execution_count": 43,
      "outputs": [
        {
          "output_type": "execute_result",
          "data": {
            "text/plain": [
              "[{'max_depth': [0,\n",
              "   1,\n",
              "   2,\n",
              "   3,\n",
              "   4,\n",
              "   5,\n",
              "   6,\n",
              "   7,\n",
              "   8,\n",
              "   9,\n",
              "   10,\n",
              "   11,\n",
              "   12,\n",
              "   13,\n",
              "   14,\n",
              "   15,\n",
              "   16,\n",
              "   17,\n",
              "   18,\n",
              "   19]}]"
            ]
          },
          "metadata": {},
          "execution_count": 43
        }
      ]
    },
    {
      "cell_type": "code",
      "source": [
        "from sklearn.model_selection import RandomizedSearchCV\n",
        "from sklearn.tree import DecisionTreeRegressor\n",
        "\n",
        "hyp_dec_tree = DecisionTreeRegressor()\n",
        "\n",
        "decisiontree_rnd = RandomizedSearchCV(estimator = hyp_dec_tree,\n",
        "                   param_distributions = hyp_param_dict2,\n",
        "                   cv=5)"
      ],
      "metadata": {
        "id": "MbmM2yxkR12Z"
      },
      "execution_count": 46,
      "outputs": []
    },
    {
      "cell_type": "code",
      "source": [
        "decisiontree_rnd.fit(X_train, y_train)"
      ],
      "metadata": {
        "colab": {
          "base_uri": "https://localhost:8080/",
          "height": 663
        },
        "id": "TpGNJgjhR7WQ",
        "outputId": "c5d3a6bf-e1c9-4e90-cd6d-43881974191a"
      },
      "execution_count": 47,
      "outputs": [
        {
          "output_type": "stream",
          "name": "stderr",
          "text": [
            "/usr/local/lib/python3.10/dist-packages/sklearn/model_selection/_validation.py:378: FitFailedWarning:\n",
            "\n",
            "\n",
            "5 fits failed out of a total of 50.\n",
            "The score on these train-test partitions for these parameters will be set to nan.\n",
            "If these failures are not expected, you can try to debug them by setting error_score='raise'.\n",
            "\n",
            "Below are more details about the failures:\n",
            "--------------------------------------------------------------------------------\n",
            "5 fits failed with the following error:\n",
            "Traceback (most recent call last):\n",
            "  File \"/usr/local/lib/python3.10/dist-packages/sklearn/model_selection/_validation.py\", line 686, in _fit_and_score\n",
            "    estimator.fit(X_train, y_train, **fit_params)\n",
            "  File \"/usr/local/lib/python3.10/dist-packages/sklearn/tree/_classes.py\", line 1247, in fit\n",
            "    super().fit(\n",
            "  File \"/usr/local/lib/python3.10/dist-packages/sklearn/tree/_classes.py\", line 177, in fit\n",
            "    self._validate_params()\n",
            "  File \"/usr/local/lib/python3.10/dist-packages/sklearn/base.py\", line 600, in _validate_params\n",
            "    validate_parameter_constraints(\n",
            "  File \"/usr/local/lib/python3.10/dist-packages/sklearn/utils/_param_validation.py\", line 97, in validate_parameter_constraints\n",
            "    raise InvalidParameterError(\n",
            "sklearn.utils._param_validation.InvalidParameterError: The 'max_depth' parameter of DecisionTreeRegressor must be an int in the range [1, inf) or None. Got 0 instead.\n",
            "\n",
            "\n",
            "/usr/local/lib/python3.10/dist-packages/sklearn/model_selection/_search.py:952: UserWarning:\n",
            "\n",
            "One or more of the test scores are non-finite: [0.35547286 0.11239023 0.4680845  0.22162033        nan 0.44670003\n",
            " 0.1066581  0.13597631 0.2683412  0.13545747]\n",
            "\n"
          ]
        },
        {
          "output_type": "execute_result",
          "data": {
            "text/plain": [
              "RandomizedSearchCV(cv=5, estimator=DecisionTreeRegressor(),\n",
              "                   param_distributions=[{'max_depth': [0, 1, 2, 3, 4, 5, 6, 7,\n",
              "                                                       8, 9, 10, 11, 12, 13, 14,\n",
              "                                                       15, 16, 17, 18, 19]}])"
            ],
            "text/html": [
              "<style>#sk-container-id-3 {color: black;background-color: white;}#sk-container-id-3 pre{padding: 0;}#sk-container-id-3 div.sk-toggleable {background-color: white;}#sk-container-id-3 label.sk-toggleable__label {cursor: pointer;display: block;width: 100%;margin-bottom: 0;padding: 0.3em;box-sizing: border-box;text-align: center;}#sk-container-id-3 label.sk-toggleable__label-arrow:before {content: \"▸\";float: left;margin-right: 0.25em;color: #696969;}#sk-container-id-3 label.sk-toggleable__label-arrow:hover:before {color: black;}#sk-container-id-3 div.sk-estimator:hover label.sk-toggleable__label-arrow:before {color: black;}#sk-container-id-3 div.sk-toggleable__content {max-height: 0;max-width: 0;overflow: hidden;text-align: left;background-color: #f0f8ff;}#sk-container-id-3 div.sk-toggleable__content pre {margin: 0.2em;color: black;border-radius: 0.25em;background-color: #f0f8ff;}#sk-container-id-3 input.sk-toggleable__control:checked~div.sk-toggleable__content {max-height: 200px;max-width: 100%;overflow: auto;}#sk-container-id-3 input.sk-toggleable__control:checked~label.sk-toggleable__label-arrow:before {content: \"▾\";}#sk-container-id-3 div.sk-estimator input.sk-toggleable__control:checked~label.sk-toggleable__label {background-color: #d4ebff;}#sk-container-id-3 div.sk-label input.sk-toggleable__control:checked~label.sk-toggleable__label {background-color: #d4ebff;}#sk-container-id-3 input.sk-hidden--visually {border: 0;clip: rect(1px 1px 1px 1px);clip: rect(1px, 1px, 1px, 1px);height: 1px;margin: -1px;overflow: hidden;padding: 0;position: absolute;width: 1px;}#sk-container-id-3 div.sk-estimator {font-family: monospace;background-color: #f0f8ff;border: 1px dotted black;border-radius: 0.25em;box-sizing: border-box;margin-bottom: 0.5em;}#sk-container-id-3 div.sk-estimator:hover {background-color: #d4ebff;}#sk-container-id-3 div.sk-parallel-item::after {content: \"\";width: 100%;border-bottom: 1px solid gray;flex-grow: 1;}#sk-container-id-3 div.sk-label:hover label.sk-toggleable__label {background-color: #d4ebff;}#sk-container-id-3 div.sk-serial::before {content: \"\";position: absolute;border-left: 1px solid gray;box-sizing: border-box;top: 0;bottom: 0;left: 50%;z-index: 0;}#sk-container-id-3 div.sk-serial {display: flex;flex-direction: column;align-items: center;background-color: white;padding-right: 0.2em;padding-left: 0.2em;position: relative;}#sk-container-id-3 div.sk-item {position: relative;z-index: 1;}#sk-container-id-3 div.sk-parallel {display: flex;align-items: stretch;justify-content: center;background-color: white;position: relative;}#sk-container-id-3 div.sk-item::before, #sk-container-id-3 div.sk-parallel-item::before {content: \"\";position: absolute;border-left: 1px solid gray;box-sizing: border-box;top: 0;bottom: 0;left: 50%;z-index: -1;}#sk-container-id-3 div.sk-parallel-item {display: flex;flex-direction: column;z-index: 1;position: relative;background-color: white;}#sk-container-id-3 div.sk-parallel-item:first-child::after {align-self: flex-end;width: 50%;}#sk-container-id-3 div.sk-parallel-item:last-child::after {align-self: flex-start;width: 50%;}#sk-container-id-3 div.sk-parallel-item:only-child::after {width: 0;}#sk-container-id-3 div.sk-dashed-wrapped {border: 1px dashed gray;margin: 0 0.4em 0.5em 0.4em;box-sizing: border-box;padding-bottom: 0.4em;background-color: white;}#sk-container-id-3 div.sk-label label {font-family: monospace;font-weight: bold;display: inline-block;line-height: 1.2em;}#sk-container-id-3 div.sk-label-container {text-align: center;}#sk-container-id-3 div.sk-container {/* jupyter's `normalize.less` sets `[hidden] { display: none; }` but bootstrap.min.css set `[hidden] { display: none !important; }` so we also need the `!important` here to be able to override the default hidden behavior on the sphinx rendered scikit-learn.org. See: https://github.com/scikit-learn/scikit-learn/issues/21755 */display: inline-block !important;position: relative;}#sk-container-id-3 div.sk-text-repr-fallback {display: none;}</style><div id=\"sk-container-id-3\" class=\"sk-top-container\"><div class=\"sk-text-repr-fallback\"><pre>RandomizedSearchCV(cv=5, estimator=DecisionTreeRegressor(),\n",
              "                   param_distributions=[{&#x27;max_depth&#x27;: [0, 1, 2, 3, 4, 5, 6, 7,\n",
              "                                                       8, 9, 10, 11, 12, 13, 14,\n",
              "                                                       15, 16, 17, 18, 19]}])</pre><b>In a Jupyter environment, please rerun this cell to show the HTML representation or trust the notebook. <br />On GitHub, the HTML representation is unable to render, please try loading this page with nbviewer.org.</b></div><div class=\"sk-container\" hidden><div class=\"sk-item sk-dashed-wrapped\"><div class=\"sk-label-container\"><div class=\"sk-label sk-toggleable\"><input class=\"sk-toggleable__control sk-hidden--visually\" id=\"sk-estimator-id-7\" type=\"checkbox\" ><label for=\"sk-estimator-id-7\" class=\"sk-toggleable__label sk-toggleable__label-arrow\">RandomizedSearchCV</label><div class=\"sk-toggleable__content\"><pre>RandomizedSearchCV(cv=5, estimator=DecisionTreeRegressor(),\n",
              "                   param_distributions=[{&#x27;max_depth&#x27;: [0, 1, 2, 3, 4, 5, 6, 7,\n",
              "                                                       8, 9, 10, 11, 12, 13, 14,\n",
              "                                                       15, 16, 17, 18, 19]}])</pre></div></div></div><div class=\"sk-parallel\"><div class=\"sk-parallel-item\"><div class=\"sk-item\"><div class=\"sk-label-container\"><div class=\"sk-label sk-toggleable\"><input class=\"sk-toggleable__control sk-hidden--visually\" id=\"sk-estimator-id-8\" type=\"checkbox\" ><label for=\"sk-estimator-id-8\" class=\"sk-toggleable__label sk-toggleable__label-arrow\">estimator: DecisionTreeRegressor</label><div class=\"sk-toggleable__content\"><pre>DecisionTreeRegressor()</pre></div></div></div><div class=\"sk-serial\"><div class=\"sk-item\"><div class=\"sk-estimator sk-toggleable\"><input class=\"sk-toggleable__control sk-hidden--visually\" id=\"sk-estimator-id-9\" type=\"checkbox\" ><label for=\"sk-estimator-id-9\" class=\"sk-toggleable__label sk-toggleable__label-arrow\">DecisionTreeRegressor</label><div class=\"sk-toggleable__content\"><pre>DecisionTreeRegressor()</pre></div></div></div></div></div></div></div></div></div></div>"
            ]
          },
          "metadata": {},
          "execution_count": 47
        }
      ]
    },
    {
      "cell_type": "code",
      "source": [
        "decisiontree_rnd.best_params_"
      ],
      "metadata": {
        "colab": {
          "base_uri": "https://localhost:8080/"
        },
        "id": "Ov5fzCO5R8v7",
        "outputId": "966682c9-771e-4707-81d1-41e15ad83f34"
      },
      "execution_count": 48,
      "outputs": [
        {
          "output_type": "execute_result",
          "data": {
            "text/plain": [
              "{'max_depth': 6}"
            ]
          },
          "metadata": {},
          "execution_count": 48
        }
      ]
    },
    {
      "cell_type": "code",
      "source": [
        "decisiontree_rnd.best_estimator_"
      ],
      "metadata": {
        "colab": {
          "base_uri": "https://localhost:8080/",
          "height": 74
        },
        "id": "-X3wDVZ4SDAX",
        "outputId": "9caf2e3f-29b9-47db-f35d-bc0a1827c1ab"
      },
      "execution_count": 49,
      "outputs": [
        {
          "output_type": "execute_result",
          "data": {
            "text/plain": [
              "DecisionTreeRegressor(max_depth=6)"
            ],
            "text/html": [
              "<style>#sk-container-id-4 {color: black;background-color: white;}#sk-container-id-4 pre{padding: 0;}#sk-container-id-4 div.sk-toggleable {background-color: white;}#sk-container-id-4 label.sk-toggleable__label {cursor: pointer;display: block;width: 100%;margin-bottom: 0;padding: 0.3em;box-sizing: border-box;text-align: center;}#sk-container-id-4 label.sk-toggleable__label-arrow:before {content: \"▸\";float: left;margin-right: 0.25em;color: #696969;}#sk-container-id-4 label.sk-toggleable__label-arrow:hover:before {color: black;}#sk-container-id-4 div.sk-estimator:hover label.sk-toggleable__label-arrow:before {color: black;}#sk-container-id-4 div.sk-toggleable__content {max-height: 0;max-width: 0;overflow: hidden;text-align: left;background-color: #f0f8ff;}#sk-container-id-4 div.sk-toggleable__content pre {margin: 0.2em;color: black;border-radius: 0.25em;background-color: #f0f8ff;}#sk-container-id-4 input.sk-toggleable__control:checked~div.sk-toggleable__content {max-height: 200px;max-width: 100%;overflow: auto;}#sk-container-id-4 input.sk-toggleable__control:checked~label.sk-toggleable__label-arrow:before {content: \"▾\";}#sk-container-id-4 div.sk-estimator input.sk-toggleable__control:checked~label.sk-toggleable__label {background-color: #d4ebff;}#sk-container-id-4 div.sk-label input.sk-toggleable__control:checked~label.sk-toggleable__label {background-color: #d4ebff;}#sk-container-id-4 input.sk-hidden--visually {border: 0;clip: rect(1px 1px 1px 1px);clip: rect(1px, 1px, 1px, 1px);height: 1px;margin: -1px;overflow: hidden;padding: 0;position: absolute;width: 1px;}#sk-container-id-4 div.sk-estimator {font-family: monospace;background-color: #f0f8ff;border: 1px dotted black;border-radius: 0.25em;box-sizing: border-box;margin-bottom: 0.5em;}#sk-container-id-4 div.sk-estimator:hover {background-color: #d4ebff;}#sk-container-id-4 div.sk-parallel-item::after {content: \"\";width: 100%;border-bottom: 1px solid gray;flex-grow: 1;}#sk-container-id-4 div.sk-label:hover label.sk-toggleable__label {background-color: #d4ebff;}#sk-container-id-4 div.sk-serial::before {content: \"\";position: absolute;border-left: 1px solid gray;box-sizing: border-box;top: 0;bottom: 0;left: 50%;z-index: 0;}#sk-container-id-4 div.sk-serial {display: flex;flex-direction: column;align-items: center;background-color: white;padding-right: 0.2em;padding-left: 0.2em;position: relative;}#sk-container-id-4 div.sk-item {position: relative;z-index: 1;}#sk-container-id-4 div.sk-parallel {display: flex;align-items: stretch;justify-content: center;background-color: white;position: relative;}#sk-container-id-4 div.sk-item::before, #sk-container-id-4 div.sk-parallel-item::before {content: \"\";position: absolute;border-left: 1px solid gray;box-sizing: border-box;top: 0;bottom: 0;left: 50%;z-index: -1;}#sk-container-id-4 div.sk-parallel-item {display: flex;flex-direction: column;z-index: 1;position: relative;background-color: white;}#sk-container-id-4 div.sk-parallel-item:first-child::after {align-self: flex-end;width: 50%;}#sk-container-id-4 div.sk-parallel-item:last-child::after {align-self: flex-start;width: 50%;}#sk-container-id-4 div.sk-parallel-item:only-child::after {width: 0;}#sk-container-id-4 div.sk-dashed-wrapped {border: 1px dashed gray;margin: 0 0.4em 0.5em 0.4em;box-sizing: border-box;padding-bottom: 0.4em;background-color: white;}#sk-container-id-4 div.sk-label label {font-family: monospace;font-weight: bold;display: inline-block;line-height: 1.2em;}#sk-container-id-4 div.sk-label-container {text-align: center;}#sk-container-id-4 div.sk-container {/* jupyter's `normalize.less` sets `[hidden] { display: none; }` but bootstrap.min.css set `[hidden] { display: none !important; }` so we also need the `!important` here to be able to override the default hidden behavior on the sphinx rendered scikit-learn.org. See: https://github.com/scikit-learn/scikit-learn/issues/21755 */display: inline-block !important;position: relative;}#sk-container-id-4 div.sk-text-repr-fallback {display: none;}</style><div id=\"sk-container-id-4\" class=\"sk-top-container\"><div class=\"sk-text-repr-fallback\"><pre>DecisionTreeRegressor(max_depth=6)</pre><b>In a Jupyter environment, please rerun this cell to show the HTML representation or trust the notebook. <br />On GitHub, the HTML representation is unable to render, please try loading this page with nbviewer.org.</b></div><div class=\"sk-container\" hidden><div class=\"sk-item\"><div class=\"sk-estimator sk-toggleable\"><input class=\"sk-toggleable__control sk-hidden--visually\" id=\"sk-estimator-id-10\" type=\"checkbox\" checked><label for=\"sk-estimator-id-10\" class=\"sk-toggleable__label sk-toggleable__label-arrow\">DecisionTreeRegressor</label><div class=\"sk-toggleable__content\"><pre>DecisionTreeRegressor(max_depth=6)</pre></div></div></div></div></div>"
            ]
          },
          "metadata": {},
          "execution_count": 49
        }
      ]
    },
    {
      "cell_type": "code",
      "source": [
        "decisiontree_rnd.best_score_"
      ],
      "metadata": {
        "colab": {
          "base_uri": "https://localhost:8080/"
        },
        "id": "vZgk0v7SR_t3",
        "outputId": "e5e3a4d6-56c5-4c20-9156-3ce17d8b1e11"
      },
      "execution_count": 50,
      "outputs": [
        {
          "output_type": "execute_result",
          "data": {
            "text/plain": [
              "0.4680844971950314"
            ]
          },
          "metadata": {},
          "execution_count": 50
        }
      ]
    },
    {
      "cell_type": "code",
      "source": [
        "dt_rand = DecisionTreeRegressor(max_depth=4,random_state=42)\n",
        "dt_rand.fit(X_train,y_train)\n",
        "\n",
        "score_dt_rand = dt_rand.score(X_test,y_test)\n",
        "print(score_dt_rand)"
      ],
      "metadata": {
        "colab": {
          "base_uri": "https://localhost:8080/"
        },
        "id": "LLGHFqStSB3D",
        "outputId": "004b75e1-3d10-4154-d665-d717fe359065"
      },
      "execution_count": 51,
      "outputs": [
        {
          "output_type": "stream",
          "name": "stdout",
          "text": [
            "0.4715833401163033\n"
          ]
        }
      ]
    },
    {
      "cell_type": "markdown",
      "source": [
        "# Random Forest"
      ],
      "metadata": {
        "id": "ZvKAgt8ASy7M"
      }
    },
    {
      "cell_type": "code",
      "source": [
        "random_forest = RandomForestRegressor(random_state=42)\n",
        "random_forest.fit(X_train, y_train)"
      ],
      "metadata": {
        "colab": {
          "base_uri": "https://localhost:8080/",
          "height": 74
        },
        "id": "ZD4nAsvxS3B0",
        "outputId": "3ca51a15-6595-4a97-ed62-2b099e7d6346"
      },
      "execution_count": 35,
      "outputs": [
        {
          "output_type": "execute_result",
          "data": {
            "text/plain": [
              "RandomForestRegressor(random_state=42)"
            ],
            "text/html": [
              "<style>#sk-container-id-4 {color: black;background-color: white;}#sk-container-id-4 pre{padding: 0;}#sk-container-id-4 div.sk-toggleable {background-color: white;}#sk-container-id-4 label.sk-toggleable__label {cursor: pointer;display: block;width: 100%;margin-bottom: 0;padding: 0.3em;box-sizing: border-box;text-align: center;}#sk-container-id-4 label.sk-toggleable__label-arrow:before {content: \"▸\";float: left;margin-right: 0.25em;color: #696969;}#sk-container-id-4 label.sk-toggleable__label-arrow:hover:before {color: black;}#sk-container-id-4 div.sk-estimator:hover label.sk-toggleable__label-arrow:before {color: black;}#sk-container-id-4 div.sk-toggleable__content {max-height: 0;max-width: 0;overflow: hidden;text-align: left;background-color: #f0f8ff;}#sk-container-id-4 div.sk-toggleable__content pre {margin: 0.2em;color: black;border-radius: 0.25em;background-color: #f0f8ff;}#sk-container-id-4 input.sk-toggleable__control:checked~div.sk-toggleable__content {max-height: 200px;max-width: 100%;overflow: auto;}#sk-container-id-4 input.sk-toggleable__control:checked~label.sk-toggleable__label-arrow:before {content: \"▾\";}#sk-container-id-4 div.sk-estimator input.sk-toggleable__control:checked~label.sk-toggleable__label {background-color: #d4ebff;}#sk-container-id-4 div.sk-label input.sk-toggleable__control:checked~label.sk-toggleable__label {background-color: #d4ebff;}#sk-container-id-4 input.sk-hidden--visually {border: 0;clip: rect(1px 1px 1px 1px);clip: rect(1px, 1px, 1px, 1px);height: 1px;margin: -1px;overflow: hidden;padding: 0;position: absolute;width: 1px;}#sk-container-id-4 div.sk-estimator {font-family: monospace;background-color: #f0f8ff;border: 1px dotted black;border-radius: 0.25em;box-sizing: border-box;margin-bottom: 0.5em;}#sk-container-id-4 div.sk-estimator:hover {background-color: #d4ebff;}#sk-container-id-4 div.sk-parallel-item::after {content: \"\";width: 100%;border-bottom: 1px solid gray;flex-grow: 1;}#sk-container-id-4 div.sk-label:hover label.sk-toggleable__label {background-color: #d4ebff;}#sk-container-id-4 div.sk-serial::before {content: \"\";position: absolute;border-left: 1px solid gray;box-sizing: border-box;top: 0;bottom: 0;left: 50%;z-index: 0;}#sk-container-id-4 div.sk-serial {display: flex;flex-direction: column;align-items: center;background-color: white;padding-right: 0.2em;padding-left: 0.2em;position: relative;}#sk-container-id-4 div.sk-item {position: relative;z-index: 1;}#sk-container-id-4 div.sk-parallel {display: flex;align-items: stretch;justify-content: center;background-color: white;position: relative;}#sk-container-id-4 div.sk-item::before, #sk-container-id-4 div.sk-parallel-item::before {content: \"\";position: absolute;border-left: 1px solid gray;box-sizing: border-box;top: 0;bottom: 0;left: 50%;z-index: -1;}#sk-container-id-4 div.sk-parallel-item {display: flex;flex-direction: column;z-index: 1;position: relative;background-color: white;}#sk-container-id-4 div.sk-parallel-item:first-child::after {align-self: flex-end;width: 50%;}#sk-container-id-4 div.sk-parallel-item:last-child::after {align-self: flex-start;width: 50%;}#sk-container-id-4 div.sk-parallel-item:only-child::after {width: 0;}#sk-container-id-4 div.sk-dashed-wrapped {border: 1px dashed gray;margin: 0 0.4em 0.5em 0.4em;box-sizing: border-box;padding-bottom: 0.4em;background-color: white;}#sk-container-id-4 div.sk-label label {font-family: monospace;font-weight: bold;display: inline-block;line-height: 1.2em;}#sk-container-id-4 div.sk-label-container {text-align: center;}#sk-container-id-4 div.sk-container {/* jupyter's `normalize.less` sets `[hidden] { display: none; }` but bootstrap.min.css set `[hidden] { display: none !important; }` so we also need the `!important` here to be able to override the default hidden behavior on the sphinx rendered scikit-learn.org. See: https://github.com/scikit-learn/scikit-learn/issues/21755 */display: inline-block !important;position: relative;}#sk-container-id-4 div.sk-text-repr-fallback {display: none;}</style><div id=\"sk-container-id-4\" class=\"sk-top-container\"><div class=\"sk-text-repr-fallback\"><pre>RandomForestRegressor(random_state=42)</pre><b>In a Jupyter environment, please rerun this cell to show the HTML representation or trust the notebook. <br />On GitHub, the HTML representation is unable to render, please try loading this page with nbviewer.org.</b></div><div class=\"sk-container\" hidden><div class=\"sk-item\"><div class=\"sk-estimator sk-toggleable\"><input class=\"sk-toggleable__control sk-hidden--visually\" id=\"sk-estimator-id-8\" type=\"checkbox\" checked><label for=\"sk-estimator-id-8\" class=\"sk-toggleable__label sk-toggleable__label-arrow\">RandomForestRegressor</label><div class=\"sk-toggleable__content\"><pre>RandomForestRegressor(random_state=42)</pre></div></div></div></div></div>"
            ]
          },
          "metadata": {},
          "execution_count": 35
        }
      ]
    },
    {
      "cell_type": "code",
      "source": [
        "y_pred2 = random_forest.predict(X_test)\n",
        "\n",
        "mse = mean_squared_error(y_test, y_pred2)\n",
        "r2 = r2_score(y_test, y_pred2)\n",
        "mae = mean_absolute_error(y_test, y_pred2)\n",
        "mape= mean_absolute_percentage_error(y_test, y_pred2)\n",
        "\n",
        "\n",
        "print(\"Random Forest Regressor\")\n",
        "print(f\"Mean Squared Error (MSE): {mse}\")\n",
        "print(f\"R-squared (R2) Score: {r2}\")\n",
        "print(\"Mean absolute error(MAE) %.2f\"%mae)\n",
        "print(\"Mean absolute percentage error(MAPE) %.2f\"%mape)"
      ],
      "metadata": {
        "colab": {
          "base_uri": "https://localhost:8080/"
        },
        "id": "Qn4M6OFeTLOd",
        "outputId": "4962c345-40b6-4416-8c9f-cef3971b1509"
      },
      "execution_count": 36,
      "outputs": [
        {
          "output_type": "stream",
          "name": "stdout",
          "text": [
            "Random Forest Regressor\n",
            "Mean Squared Error (MSE): 4.815609377990431\n",
            "R-squared (R2) Score: 0.5318915564573357\n",
            "Mean absolute error(MAE) 1.57\n",
            "Mean absolute percentage error(MAPE) 0.16\n"
          ]
        }
      ]
    },
    {
      "cell_type": "markdown",
      "source": [
        "# Hyperparametric Tuning"
      ],
      "metadata": {
        "id": "Gp1Xe1R5TdyE"
      }
    },
    {
      "cell_type": "markdown",
      "source": [
        "### Grid Search"
      ],
      "metadata": {
        "id": "LMIcrolZTW7m"
      }
    },
    {
      "cell_type": "code",
      "source": [
        "hyp_random_forest = RandomForestRegressor(random_state=42)\n",
        "hyp_random_forest.get_params()"
      ],
      "metadata": {
        "colab": {
          "base_uri": "https://localhost:8080/"
        },
        "id": "wLsJXtV0TPdF",
        "outputId": "fb5a56a6-bba2-45f3-8c9c-ac85000308b4"
      },
      "execution_count": 37,
      "outputs": [
        {
          "output_type": "execute_result",
          "data": {
            "text/plain": [
              "{'bootstrap': True,\n",
              " 'ccp_alpha': 0.0,\n",
              " 'criterion': 'squared_error',\n",
              " 'max_depth': None,\n",
              " 'max_features': 1.0,\n",
              " 'max_leaf_nodes': None,\n",
              " 'max_samples': None,\n",
              " 'min_impurity_decrease': 0.0,\n",
              " 'min_samples_leaf': 1,\n",
              " 'min_samples_split': 2,\n",
              " 'min_weight_fraction_leaf': 0.0,\n",
              " 'n_estimators': 100,\n",
              " 'n_jobs': None,\n",
              " 'oob_score': False,\n",
              " 'random_state': 42,\n",
              " 'verbose': 0,\n",
              " 'warm_start': False}"
            ]
          },
          "metadata": {},
          "execution_count": 37
        }
      ]
    },
    {
      "cell_type": "code",
      "source": [
        "hyp_grid = [{'n_estimators' : [i for i in range(10,200,10)]},\n",
        "                  {'max_depth':[j for j in range(10)]}]\n",
        "hyp_grid"
      ],
      "metadata": {
        "colab": {
          "base_uri": "https://localhost:8080/"
        },
        "id": "dQ1YhFzDTx4u",
        "outputId": "4e915815-9fc8-4090-ac78-f136dfa6df5b"
      },
      "execution_count": 38,
      "outputs": [
        {
          "output_type": "execute_result",
          "data": {
            "text/plain": [
              "[{'n_estimators': [10,\n",
              "   20,\n",
              "   30,\n",
              "   40,\n",
              "   50,\n",
              "   60,\n",
              "   70,\n",
              "   80,\n",
              "   90,\n",
              "   100,\n",
              "   110,\n",
              "   120,\n",
              "   130,\n",
              "   140,\n",
              "   150,\n",
              "   160,\n",
              "   170,\n",
              "   180,\n",
              "   190]},\n",
              " {'max_depth': [0, 1, 2, 3, 4, 5, 6, 7, 8, 9]}]"
            ]
          },
          "metadata": {},
          "execution_count": 38
        }
      ]
    },
    {
      "cell_type": "code",
      "source": [
        "grid_search = GridSearchCV(estimator = hyp_random_forest,\n",
        "                          param_grid = hyp_grid,\n",
        "                          cv = 5)"
      ],
      "metadata": {
        "id": "GxFoG-hRURRd"
      },
      "execution_count": 39,
      "outputs": []
    },
    {
      "cell_type": "code",
      "source": [
        "grid_search.fit(X_train,y_train)"
      ],
      "metadata": {
        "colab": {
          "base_uri": "https://localhost:8080/",
          "height": 609
        },
        "id": "FBabMkirUqpw",
        "outputId": "536ca293-3efa-4936-8b0d-ca38502ec9c7"
      },
      "execution_count": 40,
      "outputs": [
        {
          "output_type": "stream",
          "name": "stderr",
          "text": [
            "/usr/local/lib/python3.10/dist-packages/sklearn/model_selection/_validation.py:378: FitFailedWarning: \n",
            "5 fits failed out of a total of 145.\n",
            "The score on these train-test partitions for these parameters will be set to nan.\n",
            "If these failures are not expected, you can try to debug them by setting error_score='raise'.\n",
            "\n",
            "Below are more details about the failures:\n",
            "--------------------------------------------------------------------------------\n",
            "5 fits failed with the following error:\n",
            "Traceback (most recent call last):\n",
            "  File \"/usr/local/lib/python3.10/dist-packages/sklearn/model_selection/_validation.py\", line 686, in _fit_and_score\n",
            "    estimator.fit(X_train, y_train, **fit_params)\n",
            "  File \"/usr/local/lib/python3.10/dist-packages/sklearn/ensemble/_forest.py\", line 340, in fit\n",
            "    self._validate_params()\n",
            "  File \"/usr/local/lib/python3.10/dist-packages/sklearn/base.py\", line 600, in _validate_params\n",
            "    validate_parameter_constraints(\n",
            "  File \"/usr/local/lib/python3.10/dist-packages/sklearn/utils/_param_validation.py\", line 97, in validate_parameter_constraints\n",
            "    raise InvalidParameterError(\n",
            "sklearn.utils._param_validation.InvalidParameterError: The 'max_depth' parameter of RandomForestRegressor must be an int in the range [1, inf) or None. Got 0 instead.\n",
            "\n",
            "  warnings.warn(some_fits_failed_message, FitFailedWarning)\n",
            "/usr/local/lib/python3.10/dist-packages/sklearn/model_selection/_search.py:952: UserWarning: One or more of the test scores are non-finite: [0.48582045 0.51845485 0.52914468 0.53349116 0.53605259 0.5359155\n",
            " 0.5363794  0.53798774 0.53792365 0.53909736 0.53937208 0.53915106\n",
            " 0.5394217  0.53944877 0.54061384 0.54093917 0.54139275 0.54121496\n",
            " 0.54195203        nan 0.28851288 0.38124073 0.44767284 0.50495891\n",
            " 0.52885252 0.54330608 0.54903646 0.54959744 0.54968565]\n",
            "  warnings.warn(\n"
          ]
        },
        {
          "output_type": "execute_result",
          "data": {
            "text/plain": [
              "GridSearchCV(cv=5, estimator=RandomForestRegressor(random_state=42),\n",
              "             param_grid=[{'n_estimators': [10, 20, 30, 40, 50, 60, 70, 80, 90,\n",
              "                                           100, 110, 120, 130, 140, 150, 160,\n",
              "                                           170, 180, 190]},\n",
              "                         {'max_depth': [0, 1, 2, 3, 4, 5, 6, 7, 8, 9]}])"
            ],
            "text/html": [
              "<style>#sk-container-id-5 {color: black;background-color: white;}#sk-container-id-5 pre{padding: 0;}#sk-container-id-5 div.sk-toggleable {background-color: white;}#sk-container-id-5 label.sk-toggleable__label {cursor: pointer;display: block;width: 100%;margin-bottom: 0;padding: 0.3em;box-sizing: border-box;text-align: center;}#sk-container-id-5 label.sk-toggleable__label-arrow:before {content: \"▸\";float: left;margin-right: 0.25em;color: #696969;}#sk-container-id-5 label.sk-toggleable__label-arrow:hover:before {color: black;}#sk-container-id-5 div.sk-estimator:hover label.sk-toggleable__label-arrow:before {color: black;}#sk-container-id-5 div.sk-toggleable__content {max-height: 0;max-width: 0;overflow: hidden;text-align: left;background-color: #f0f8ff;}#sk-container-id-5 div.sk-toggleable__content pre {margin: 0.2em;color: black;border-radius: 0.25em;background-color: #f0f8ff;}#sk-container-id-5 input.sk-toggleable__control:checked~div.sk-toggleable__content {max-height: 200px;max-width: 100%;overflow: auto;}#sk-container-id-5 input.sk-toggleable__control:checked~label.sk-toggleable__label-arrow:before {content: \"▾\";}#sk-container-id-5 div.sk-estimator input.sk-toggleable__control:checked~label.sk-toggleable__label {background-color: #d4ebff;}#sk-container-id-5 div.sk-label input.sk-toggleable__control:checked~label.sk-toggleable__label {background-color: #d4ebff;}#sk-container-id-5 input.sk-hidden--visually {border: 0;clip: rect(1px 1px 1px 1px);clip: rect(1px, 1px, 1px, 1px);height: 1px;margin: -1px;overflow: hidden;padding: 0;position: absolute;width: 1px;}#sk-container-id-5 div.sk-estimator {font-family: monospace;background-color: #f0f8ff;border: 1px dotted black;border-radius: 0.25em;box-sizing: border-box;margin-bottom: 0.5em;}#sk-container-id-5 div.sk-estimator:hover {background-color: #d4ebff;}#sk-container-id-5 div.sk-parallel-item::after {content: \"\";width: 100%;border-bottom: 1px solid gray;flex-grow: 1;}#sk-container-id-5 div.sk-label:hover label.sk-toggleable__label {background-color: #d4ebff;}#sk-container-id-5 div.sk-serial::before {content: \"\";position: absolute;border-left: 1px solid gray;box-sizing: border-box;top: 0;bottom: 0;left: 50%;z-index: 0;}#sk-container-id-5 div.sk-serial {display: flex;flex-direction: column;align-items: center;background-color: white;padding-right: 0.2em;padding-left: 0.2em;position: relative;}#sk-container-id-5 div.sk-item {position: relative;z-index: 1;}#sk-container-id-5 div.sk-parallel {display: flex;align-items: stretch;justify-content: center;background-color: white;position: relative;}#sk-container-id-5 div.sk-item::before, #sk-container-id-5 div.sk-parallel-item::before {content: \"\";position: absolute;border-left: 1px solid gray;box-sizing: border-box;top: 0;bottom: 0;left: 50%;z-index: -1;}#sk-container-id-5 div.sk-parallel-item {display: flex;flex-direction: column;z-index: 1;position: relative;background-color: white;}#sk-container-id-5 div.sk-parallel-item:first-child::after {align-self: flex-end;width: 50%;}#sk-container-id-5 div.sk-parallel-item:last-child::after {align-self: flex-start;width: 50%;}#sk-container-id-5 div.sk-parallel-item:only-child::after {width: 0;}#sk-container-id-5 div.sk-dashed-wrapped {border: 1px dashed gray;margin: 0 0.4em 0.5em 0.4em;box-sizing: border-box;padding-bottom: 0.4em;background-color: white;}#sk-container-id-5 div.sk-label label {font-family: monospace;font-weight: bold;display: inline-block;line-height: 1.2em;}#sk-container-id-5 div.sk-label-container {text-align: center;}#sk-container-id-5 div.sk-container {/* jupyter's `normalize.less` sets `[hidden] { display: none; }` but bootstrap.min.css set `[hidden] { display: none !important; }` so we also need the `!important` here to be able to override the default hidden behavior on the sphinx rendered scikit-learn.org. See: https://github.com/scikit-learn/scikit-learn/issues/21755 */display: inline-block !important;position: relative;}#sk-container-id-5 div.sk-text-repr-fallback {display: none;}</style><div id=\"sk-container-id-5\" class=\"sk-top-container\"><div class=\"sk-text-repr-fallback\"><pre>GridSearchCV(cv=5, estimator=RandomForestRegressor(random_state=42),\n",
              "             param_grid=[{&#x27;n_estimators&#x27;: [10, 20, 30, 40, 50, 60, 70, 80, 90,\n",
              "                                           100, 110, 120, 130, 140, 150, 160,\n",
              "                                           170, 180, 190]},\n",
              "                         {&#x27;max_depth&#x27;: [0, 1, 2, 3, 4, 5, 6, 7, 8, 9]}])</pre><b>In a Jupyter environment, please rerun this cell to show the HTML representation or trust the notebook. <br />On GitHub, the HTML representation is unable to render, please try loading this page with nbviewer.org.</b></div><div class=\"sk-container\" hidden><div class=\"sk-item sk-dashed-wrapped\"><div class=\"sk-label-container\"><div class=\"sk-label sk-toggleable\"><input class=\"sk-toggleable__control sk-hidden--visually\" id=\"sk-estimator-id-9\" type=\"checkbox\" ><label for=\"sk-estimator-id-9\" class=\"sk-toggleable__label sk-toggleable__label-arrow\">GridSearchCV</label><div class=\"sk-toggleable__content\"><pre>GridSearchCV(cv=5, estimator=RandomForestRegressor(random_state=42),\n",
              "             param_grid=[{&#x27;n_estimators&#x27;: [10, 20, 30, 40, 50, 60, 70, 80, 90,\n",
              "                                           100, 110, 120, 130, 140, 150, 160,\n",
              "                                           170, 180, 190]},\n",
              "                         {&#x27;max_depth&#x27;: [0, 1, 2, 3, 4, 5, 6, 7, 8, 9]}])</pre></div></div></div><div class=\"sk-parallel\"><div class=\"sk-parallel-item\"><div class=\"sk-item\"><div class=\"sk-label-container\"><div class=\"sk-label sk-toggleable\"><input class=\"sk-toggleable__control sk-hidden--visually\" id=\"sk-estimator-id-10\" type=\"checkbox\" ><label for=\"sk-estimator-id-10\" class=\"sk-toggleable__label sk-toggleable__label-arrow\">estimator: RandomForestRegressor</label><div class=\"sk-toggleable__content\"><pre>RandomForestRegressor(random_state=42)</pre></div></div></div><div class=\"sk-serial\"><div class=\"sk-item\"><div class=\"sk-estimator sk-toggleable\"><input class=\"sk-toggleable__control sk-hidden--visually\" id=\"sk-estimator-id-11\" type=\"checkbox\" ><label for=\"sk-estimator-id-11\" class=\"sk-toggleable__label sk-toggleable__label-arrow\">RandomForestRegressor</label><div class=\"sk-toggleable__content\"><pre>RandomForestRegressor(random_state=42)</pre></div></div></div></div></div></div></div></div></div></div>"
            ]
          },
          "metadata": {},
          "execution_count": 40
        }
      ]
    },
    {
      "cell_type": "code",
      "source": [
        "grid_search.best_params_"
      ],
      "metadata": {
        "colab": {
          "base_uri": "https://localhost:8080/"
        },
        "id": "b3P0AfDJUuCC",
        "outputId": "eb425fee-afd4-4d01-a852-ed0ea9431ee5"
      },
      "execution_count": 41,
      "outputs": [
        {
          "output_type": "execute_result",
          "data": {
            "text/plain": [
              "{'max_depth': 9}"
            ]
          },
          "metadata": {},
          "execution_count": 41
        }
      ]
    },
    {
      "cell_type": "code",
      "source": [
        "grid_search.best_score_"
      ],
      "metadata": {
        "colab": {
          "base_uri": "https://localhost:8080/"
        },
        "id": "DA59l0hSUwCs",
        "outputId": "96be2b25-b7f2-43df-ef54-731c15a72b04"
      },
      "execution_count": 42,
      "outputs": [
        {
          "output_type": "execute_result",
          "data": {
            "text/plain": [
              "0.5496856459913332"
            ]
          },
          "metadata": {},
          "execution_count": 42
        }
      ]
    },
    {
      "cell_type": "code",
      "source": [
        "grid_search.best_estimator_"
      ],
      "metadata": {
        "colab": {
          "base_uri": "https://localhost:8080/",
          "height": 74
        },
        "id": "-t0pnJJWUxlH",
        "outputId": "a80a74eb-67b3-42a2-af7d-f4a4a9a106a5"
      },
      "execution_count": 43,
      "outputs": [
        {
          "output_type": "execute_result",
          "data": {
            "text/plain": [
              "RandomForestRegressor(max_depth=9, random_state=42)"
            ],
            "text/html": [
              "<style>#sk-container-id-6 {color: black;background-color: white;}#sk-container-id-6 pre{padding: 0;}#sk-container-id-6 div.sk-toggleable {background-color: white;}#sk-container-id-6 label.sk-toggleable__label {cursor: pointer;display: block;width: 100%;margin-bottom: 0;padding: 0.3em;box-sizing: border-box;text-align: center;}#sk-container-id-6 label.sk-toggleable__label-arrow:before {content: \"▸\";float: left;margin-right: 0.25em;color: #696969;}#sk-container-id-6 label.sk-toggleable__label-arrow:hover:before {color: black;}#sk-container-id-6 div.sk-estimator:hover label.sk-toggleable__label-arrow:before {color: black;}#sk-container-id-6 div.sk-toggleable__content {max-height: 0;max-width: 0;overflow: hidden;text-align: left;background-color: #f0f8ff;}#sk-container-id-6 div.sk-toggleable__content pre {margin: 0.2em;color: black;border-radius: 0.25em;background-color: #f0f8ff;}#sk-container-id-6 input.sk-toggleable__control:checked~div.sk-toggleable__content {max-height: 200px;max-width: 100%;overflow: auto;}#sk-container-id-6 input.sk-toggleable__control:checked~label.sk-toggleable__label-arrow:before {content: \"▾\";}#sk-container-id-6 div.sk-estimator input.sk-toggleable__control:checked~label.sk-toggleable__label {background-color: #d4ebff;}#sk-container-id-6 div.sk-label input.sk-toggleable__control:checked~label.sk-toggleable__label {background-color: #d4ebff;}#sk-container-id-6 input.sk-hidden--visually {border: 0;clip: rect(1px 1px 1px 1px);clip: rect(1px, 1px, 1px, 1px);height: 1px;margin: -1px;overflow: hidden;padding: 0;position: absolute;width: 1px;}#sk-container-id-6 div.sk-estimator {font-family: monospace;background-color: #f0f8ff;border: 1px dotted black;border-radius: 0.25em;box-sizing: border-box;margin-bottom: 0.5em;}#sk-container-id-6 div.sk-estimator:hover {background-color: #d4ebff;}#sk-container-id-6 div.sk-parallel-item::after {content: \"\";width: 100%;border-bottom: 1px solid gray;flex-grow: 1;}#sk-container-id-6 div.sk-label:hover label.sk-toggleable__label {background-color: #d4ebff;}#sk-container-id-6 div.sk-serial::before {content: \"\";position: absolute;border-left: 1px solid gray;box-sizing: border-box;top: 0;bottom: 0;left: 50%;z-index: 0;}#sk-container-id-6 div.sk-serial {display: flex;flex-direction: column;align-items: center;background-color: white;padding-right: 0.2em;padding-left: 0.2em;position: relative;}#sk-container-id-6 div.sk-item {position: relative;z-index: 1;}#sk-container-id-6 div.sk-parallel {display: flex;align-items: stretch;justify-content: center;background-color: white;position: relative;}#sk-container-id-6 div.sk-item::before, #sk-container-id-6 div.sk-parallel-item::before {content: \"\";position: absolute;border-left: 1px solid gray;box-sizing: border-box;top: 0;bottom: 0;left: 50%;z-index: -1;}#sk-container-id-6 div.sk-parallel-item {display: flex;flex-direction: column;z-index: 1;position: relative;background-color: white;}#sk-container-id-6 div.sk-parallel-item:first-child::after {align-self: flex-end;width: 50%;}#sk-container-id-6 div.sk-parallel-item:last-child::after {align-self: flex-start;width: 50%;}#sk-container-id-6 div.sk-parallel-item:only-child::after {width: 0;}#sk-container-id-6 div.sk-dashed-wrapped {border: 1px dashed gray;margin: 0 0.4em 0.5em 0.4em;box-sizing: border-box;padding-bottom: 0.4em;background-color: white;}#sk-container-id-6 div.sk-label label {font-family: monospace;font-weight: bold;display: inline-block;line-height: 1.2em;}#sk-container-id-6 div.sk-label-container {text-align: center;}#sk-container-id-6 div.sk-container {/* jupyter's `normalize.less` sets `[hidden] { display: none; }` but bootstrap.min.css set `[hidden] { display: none !important; }` so we also need the `!important` here to be able to override the default hidden behavior on the sphinx rendered scikit-learn.org. See: https://github.com/scikit-learn/scikit-learn/issues/21755 */display: inline-block !important;position: relative;}#sk-container-id-6 div.sk-text-repr-fallback {display: none;}</style><div id=\"sk-container-id-6\" class=\"sk-top-container\"><div class=\"sk-text-repr-fallback\"><pre>RandomForestRegressor(max_depth=9, random_state=42)</pre><b>In a Jupyter environment, please rerun this cell to show the HTML representation or trust the notebook. <br />On GitHub, the HTML representation is unable to render, please try loading this page with nbviewer.org.</b></div><div class=\"sk-container\" hidden><div class=\"sk-item\"><div class=\"sk-estimator sk-toggleable\"><input class=\"sk-toggleable__control sk-hidden--visually\" id=\"sk-estimator-id-12\" type=\"checkbox\" checked><label for=\"sk-estimator-id-12\" class=\"sk-toggleable__label sk-toggleable__label-arrow\">RandomForestRegressor</label><div class=\"sk-toggleable__content\"><pre>RandomForestRegressor(max_depth=9, random_state=42)</pre></div></div></div></div></div>"
            ]
          },
          "metadata": {},
          "execution_count": 43
        }
      ]
    },
    {
      "cell_type": "code",
      "source": [
        "rand_for = RandomForestRegressor(max_depth = 9, n_estimators = 200,random_state = 42)\n",
        "rand_for.fit(X_train,y_train)\n",
        "score_rand_for = rand_for.score(X_test,y_test)\n",
        "print(score_rand_for)"
      ],
      "metadata": {
        "colab": {
          "base_uri": "https://localhost:8080/"
        },
        "id": "hZkxTak8Kxfa",
        "outputId": "61cc54ae-f1bb-42b3-f660-59ac46764014"
      },
      "execution_count": 44,
      "outputs": [
        {
          "output_type": "stream",
          "name": "stdout",
          "text": [
            "0.543162589973887\n"
          ]
        }
      ]
    },
    {
      "cell_type": "markdown",
      "source": [
        "### Random search"
      ],
      "metadata": {
        "id": "x3q4b0nXYixr"
      }
    },
    {
      "cell_type": "code",
      "source": [
        "hyp_grid2 = [{'n_estimators' : [i for i in range(0,10)]},\n",
        "                  {'max_depth':[j for j in range(10)]}]\n",
        "hyp_grid2"
      ],
      "metadata": {
        "colab": {
          "base_uri": "https://localhost:8080/"
        },
        "id": "QRlfKJ-MVRgQ",
        "outputId": "b151ab1c-ea50-4f55-9aad-cf1e7c988525"
      },
      "execution_count": null,
      "outputs": [
        {
          "output_type": "execute_result",
          "data": {
            "text/plain": [
              "[{'n_estimators': [0, 1, 2, 3, 4, 5, 6, 7, 8, 9]},\n",
              " {'max_depth': [0, 1, 2, 3, 4, 5, 6, 7, 8, 9]}]"
            ]
          },
          "metadata": {},
          "execution_count": 59
        }
      ]
    },
    {
      "cell_type": "code",
      "source": [
        "randomforest_rd = RandomizedSearchCV( estimator = hyp_random_forest,\n",
        "                                   param_distributions = hyp_grid2,\n",
        "                                    cv=5)"
      ],
      "metadata": {
        "id": "Hs0M-VpFYwTU"
      },
      "execution_count": null,
      "outputs": []
    },
    {
      "cell_type": "code",
      "source": [
        "randomforest_rd.fit(X_train,y_train)"
      ],
      "metadata": {
        "colab": {
          "base_uri": "https://localhost:8080/",
          "height": 554
        },
        "id": "JYTcLn2TZS2u",
        "outputId": "3d78854a-f6c8-4d26-cf11-7d8145ba430c"
      },
      "execution_count": null,
      "outputs": [
        {
          "output_type": "stream",
          "name": "stderr",
          "text": [
            "/usr/local/lib/python3.10/dist-packages/sklearn/model_selection/_validation.py:378: FitFailedWarning: \n",
            "5 fits failed out of a total of 50.\n",
            "The score on these train-test partitions for these parameters will be set to nan.\n",
            "If these failures are not expected, you can try to debug them by setting error_score='raise'.\n",
            "\n",
            "Below are more details about the failures:\n",
            "--------------------------------------------------------------------------------\n",
            "5 fits failed with the following error:\n",
            "Traceback (most recent call last):\n",
            "  File \"/usr/local/lib/python3.10/dist-packages/sklearn/model_selection/_validation.py\", line 686, in _fit_and_score\n",
            "    estimator.fit(X_train, y_train, **fit_params)\n",
            "  File \"/usr/local/lib/python3.10/dist-packages/sklearn/ensemble/_forest.py\", line 340, in fit\n",
            "    self._validate_params()\n",
            "  File \"/usr/local/lib/python3.10/dist-packages/sklearn/base.py\", line 600, in _validate_params\n",
            "    validate_parameter_constraints(\n",
            "  File \"/usr/local/lib/python3.10/dist-packages/sklearn/utils/_param_validation.py\", line 97, in validate_parameter_constraints\n",
            "    raise InvalidParameterError(\n",
            "sklearn.utils._param_validation.InvalidParameterError: The 'max_depth' parameter of RandomForestRegressor must be an int in the range [1, inf) or None. Got 0 instead.\n",
            "\n",
            "  warnings.warn(some_fits_failed_message, FitFailedWarning)\n",
            "/usr/local/lib/python3.10/dist-packages/sklearn/model_selection/_search.py:952: UserWarning: One or more of the test scores are non-finite: [       nan 0.38124073 0.46783826 0.28851288 0.45549218 0.07359353\n",
            " 0.44767284 0.42570488 0.38311439 0.54330608]\n",
            "  warnings.warn(\n"
          ]
        },
        {
          "output_type": "execute_result",
          "data": {
            "text/plain": [
              "RandomizedSearchCV(cv=5, estimator=RandomForestRegressor(random_state=42),\n",
              "                   param_distributions=[{'n_estimators': [0, 1, 2, 3, 4, 5, 6,\n",
              "                                                          7, 8, 9]},\n",
              "                                        {'max_depth': [0, 1, 2, 3, 4, 5, 6, 7,\n",
              "                                                       8, 9]}])"
            ],
            "text/html": [
              "<style>#sk-container-id-11 {color: black;background-color: white;}#sk-container-id-11 pre{padding: 0;}#sk-container-id-11 div.sk-toggleable {background-color: white;}#sk-container-id-11 label.sk-toggleable__label {cursor: pointer;display: block;width: 100%;margin-bottom: 0;padding: 0.3em;box-sizing: border-box;text-align: center;}#sk-container-id-11 label.sk-toggleable__label-arrow:before {content: \"▸\";float: left;margin-right: 0.25em;color: #696969;}#sk-container-id-11 label.sk-toggleable__label-arrow:hover:before {color: black;}#sk-container-id-11 div.sk-estimator:hover label.sk-toggleable__label-arrow:before {color: black;}#sk-container-id-11 div.sk-toggleable__content {max-height: 0;max-width: 0;overflow: hidden;text-align: left;background-color: #f0f8ff;}#sk-container-id-11 div.sk-toggleable__content pre {margin: 0.2em;color: black;border-radius: 0.25em;background-color: #f0f8ff;}#sk-container-id-11 input.sk-toggleable__control:checked~div.sk-toggleable__content {max-height: 200px;max-width: 100%;overflow: auto;}#sk-container-id-11 input.sk-toggleable__control:checked~label.sk-toggleable__label-arrow:before {content: \"▾\";}#sk-container-id-11 div.sk-estimator input.sk-toggleable__control:checked~label.sk-toggleable__label {background-color: #d4ebff;}#sk-container-id-11 div.sk-label input.sk-toggleable__control:checked~label.sk-toggleable__label {background-color: #d4ebff;}#sk-container-id-11 input.sk-hidden--visually {border: 0;clip: rect(1px 1px 1px 1px);clip: rect(1px, 1px, 1px, 1px);height: 1px;margin: -1px;overflow: hidden;padding: 0;position: absolute;width: 1px;}#sk-container-id-11 div.sk-estimator {font-family: monospace;background-color: #f0f8ff;border: 1px dotted black;border-radius: 0.25em;box-sizing: border-box;margin-bottom: 0.5em;}#sk-container-id-11 div.sk-estimator:hover {background-color: #d4ebff;}#sk-container-id-11 div.sk-parallel-item::after {content: \"\";width: 100%;border-bottom: 1px solid gray;flex-grow: 1;}#sk-container-id-11 div.sk-label:hover label.sk-toggleable__label {background-color: #d4ebff;}#sk-container-id-11 div.sk-serial::before {content: \"\";position: absolute;border-left: 1px solid gray;box-sizing: border-box;top: 0;bottom: 0;left: 50%;z-index: 0;}#sk-container-id-11 div.sk-serial {display: flex;flex-direction: column;align-items: center;background-color: white;padding-right: 0.2em;padding-left: 0.2em;position: relative;}#sk-container-id-11 div.sk-item {position: relative;z-index: 1;}#sk-container-id-11 div.sk-parallel {display: flex;align-items: stretch;justify-content: center;background-color: white;position: relative;}#sk-container-id-11 div.sk-item::before, #sk-container-id-11 div.sk-parallel-item::before {content: \"\";position: absolute;border-left: 1px solid gray;box-sizing: border-box;top: 0;bottom: 0;left: 50%;z-index: -1;}#sk-container-id-11 div.sk-parallel-item {display: flex;flex-direction: column;z-index: 1;position: relative;background-color: white;}#sk-container-id-11 div.sk-parallel-item:first-child::after {align-self: flex-end;width: 50%;}#sk-container-id-11 div.sk-parallel-item:last-child::after {align-self: flex-start;width: 50%;}#sk-container-id-11 div.sk-parallel-item:only-child::after {width: 0;}#sk-container-id-11 div.sk-dashed-wrapped {border: 1px dashed gray;margin: 0 0.4em 0.5em 0.4em;box-sizing: border-box;padding-bottom: 0.4em;background-color: white;}#sk-container-id-11 div.sk-label label {font-family: monospace;font-weight: bold;display: inline-block;line-height: 1.2em;}#sk-container-id-11 div.sk-label-container {text-align: center;}#sk-container-id-11 div.sk-container {/* jupyter's `normalize.less` sets `[hidden] { display: none; }` but bootstrap.min.css set `[hidden] { display: none !important; }` so we also need the `!important` here to be able to override the default hidden behavior on the sphinx rendered scikit-learn.org. See: https://github.com/scikit-learn/scikit-learn/issues/21755 */display: inline-block !important;position: relative;}#sk-container-id-11 div.sk-text-repr-fallback {display: none;}</style><div id=\"sk-container-id-11\" class=\"sk-top-container\"><div class=\"sk-text-repr-fallback\"><pre>RandomizedSearchCV(cv=5, estimator=RandomForestRegressor(random_state=42),\n",
              "                   param_distributions=[{&#x27;n_estimators&#x27;: [0, 1, 2, 3, 4, 5, 6,\n",
              "                                                          7, 8, 9]},\n",
              "                                        {&#x27;max_depth&#x27;: [0, 1, 2, 3, 4, 5, 6, 7,\n",
              "                                                       8, 9]}])</pre><b>In a Jupyter environment, please rerun this cell to show the HTML representation or trust the notebook. <br />On GitHub, the HTML representation is unable to render, please try loading this page with nbviewer.org.</b></div><div class=\"sk-container\" hidden><div class=\"sk-item sk-dashed-wrapped\"><div class=\"sk-label-container\"><div class=\"sk-label sk-toggleable\"><input class=\"sk-toggleable__control sk-hidden--visually\" id=\"sk-estimator-id-21\" type=\"checkbox\" ><label for=\"sk-estimator-id-21\" class=\"sk-toggleable__label sk-toggleable__label-arrow\">RandomizedSearchCV</label><div class=\"sk-toggleable__content\"><pre>RandomizedSearchCV(cv=5, estimator=RandomForestRegressor(random_state=42),\n",
              "                   param_distributions=[{&#x27;n_estimators&#x27;: [0, 1, 2, 3, 4, 5, 6,\n",
              "                                                          7, 8, 9]},\n",
              "                                        {&#x27;max_depth&#x27;: [0, 1, 2, 3, 4, 5, 6, 7,\n",
              "                                                       8, 9]}])</pre></div></div></div><div class=\"sk-parallel\"><div class=\"sk-parallel-item\"><div class=\"sk-item\"><div class=\"sk-label-container\"><div class=\"sk-label sk-toggleable\"><input class=\"sk-toggleable__control sk-hidden--visually\" id=\"sk-estimator-id-22\" type=\"checkbox\" ><label for=\"sk-estimator-id-22\" class=\"sk-toggleable__label sk-toggleable__label-arrow\">estimator: RandomForestRegressor</label><div class=\"sk-toggleable__content\"><pre>RandomForestRegressor(random_state=42)</pre></div></div></div><div class=\"sk-serial\"><div class=\"sk-item\"><div class=\"sk-estimator sk-toggleable\"><input class=\"sk-toggleable__control sk-hidden--visually\" id=\"sk-estimator-id-23\" type=\"checkbox\" ><label for=\"sk-estimator-id-23\" class=\"sk-toggleable__label sk-toggleable__label-arrow\">RandomForestRegressor</label><div class=\"sk-toggleable__content\"><pre>RandomForestRegressor(random_state=42)</pre></div></div></div></div></div></div></div></div></div></div>"
            ]
          },
          "metadata": {},
          "execution_count": 61
        }
      ]
    },
    {
      "cell_type": "code",
      "source": [
        "randomforest_rd.best_params_"
      ],
      "metadata": {
        "colab": {
          "base_uri": "https://localhost:8080/"
        },
        "id": "Uf-2YZW_Zlwz",
        "outputId": "6dd6fee0-d259-4a83-fd16-42d548a5c284"
      },
      "execution_count": null,
      "outputs": [
        {
          "output_type": "execute_result",
          "data": {
            "text/plain": [
              "{'max_depth': 6}"
            ]
          },
          "metadata": {},
          "execution_count": 62
        }
      ]
    },
    {
      "cell_type": "code",
      "source": [
        "randomforest_rd.best_estimator_"
      ],
      "metadata": {
        "colab": {
          "base_uri": "https://localhost:8080/",
          "height": 74
        },
        "id": "xc0T8Z6uas0T",
        "outputId": "5aab2a60-4d51-4f69-91b6-aa9e71cc6851"
      },
      "execution_count": null,
      "outputs": [
        {
          "output_type": "execute_result",
          "data": {
            "text/plain": [
              "RandomForestRegressor(max_depth=6, random_state=42)"
            ],
            "text/html": [
              "<style>#sk-container-id-12 {color: black;background-color: white;}#sk-container-id-12 pre{padding: 0;}#sk-container-id-12 div.sk-toggleable {background-color: white;}#sk-container-id-12 label.sk-toggleable__label {cursor: pointer;display: block;width: 100%;margin-bottom: 0;padding: 0.3em;box-sizing: border-box;text-align: center;}#sk-container-id-12 label.sk-toggleable__label-arrow:before {content: \"▸\";float: left;margin-right: 0.25em;color: #696969;}#sk-container-id-12 label.sk-toggleable__label-arrow:hover:before {color: black;}#sk-container-id-12 div.sk-estimator:hover label.sk-toggleable__label-arrow:before {color: black;}#sk-container-id-12 div.sk-toggleable__content {max-height: 0;max-width: 0;overflow: hidden;text-align: left;background-color: #f0f8ff;}#sk-container-id-12 div.sk-toggleable__content pre {margin: 0.2em;color: black;border-radius: 0.25em;background-color: #f0f8ff;}#sk-container-id-12 input.sk-toggleable__control:checked~div.sk-toggleable__content {max-height: 200px;max-width: 100%;overflow: auto;}#sk-container-id-12 input.sk-toggleable__control:checked~label.sk-toggleable__label-arrow:before {content: \"▾\";}#sk-container-id-12 div.sk-estimator input.sk-toggleable__control:checked~label.sk-toggleable__label {background-color: #d4ebff;}#sk-container-id-12 div.sk-label input.sk-toggleable__control:checked~label.sk-toggleable__label {background-color: #d4ebff;}#sk-container-id-12 input.sk-hidden--visually {border: 0;clip: rect(1px 1px 1px 1px);clip: rect(1px, 1px, 1px, 1px);height: 1px;margin: -1px;overflow: hidden;padding: 0;position: absolute;width: 1px;}#sk-container-id-12 div.sk-estimator {font-family: monospace;background-color: #f0f8ff;border: 1px dotted black;border-radius: 0.25em;box-sizing: border-box;margin-bottom: 0.5em;}#sk-container-id-12 div.sk-estimator:hover {background-color: #d4ebff;}#sk-container-id-12 div.sk-parallel-item::after {content: \"\";width: 100%;border-bottom: 1px solid gray;flex-grow: 1;}#sk-container-id-12 div.sk-label:hover label.sk-toggleable__label {background-color: #d4ebff;}#sk-container-id-12 div.sk-serial::before {content: \"\";position: absolute;border-left: 1px solid gray;box-sizing: border-box;top: 0;bottom: 0;left: 50%;z-index: 0;}#sk-container-id-12 div.sk-serial {display: flex;flex-direction: column;align-items: center;background-color: white;padding-right: 0.2em;padding-left: 0.2em;position: relative;}#sk-container-id-12 div.sk-item {position: relative;z-index: 1;}#sk-container-id-12 div.sk-parallel {display: flex;align-items: stretch;justify-content: center;background-color: white;position: relative;}#sk-container-id-12 div.sk-item::before, #sk-container-id-12 div.sk-parallel-item::before {content: \"\";position: absolute;border-left: 1px solid gray;box-sizing: border-box;top: 0;bottom: 0;left: 50%;z-index: -1;}#sk-container-id-12 div.sk-parallel-item {display: flex;flex-direction: column;z-index: 1;position: relative;background-color: white;}#sk-container-id-12 div.sk-parallel-item:first-child::after {align-self: flex-end;width: 50%;}#sk-container-id-12 div.sk-parallel-item:last-child::after {align-self: flex-start;width: 50%;}#sk-container-id-12 div.sk-parallel-item:only-child::after {width: 0;}#sk-container-id-12 div.sk-dashed-wrapped {border: 1px dashed gray;margin: 0 0.4em 0.5em 0.4em;box-sizing: border-box;padding-bottom: 0.4em;background-color: white;}#sk-container-id-12 div.sk-label label {font-family: monospace;font-weight: bold;display: inline-block;line-height: 1.2em;}#sk-container-id-12 div.sk-label-container {text-align: center;}#sk-container-id-12 div.sk-container {/* jupyter's `normalize.less` sets `[hidden] { display: none; }` but bootstrap.min.css set `[hidden] { display: none !important; }` so we also need the `!important` here to be able to override the default hidden behavior on the sphinx rendered scikit-learn.org. See: https://github.com/scikit-learn/scikit-learn/issues/21755 */display: inline-block !important;position: relative;}#sk-container-id-12 div.sk-text-repr-fallback {display: none;}</style><div id=\"sk-container-id-12\" class=\"sk-top-container\"><div class=\"sk-text-repr-fallback\"><pre>RandomForestRegressor(max_depth=6, random_state=42)</pre><b>In a Jupyter environment, please rerun this cell to show the HTML representation or trust the notebook. <br />On GitHub, the HTML representation is unable to render, please try loading this page with nbviewer.org.</b></div><div class=\"sk-container\" hidden><div class=\"sk-item\"><div class=\"sk-estimator sk-toggleable\"><input class=\"sk-toggleable__control sk-hidden--visually\" id=\"sk-estimator-id-24\" type=\"checkbox\" checked><label for=\"sk-estimator-id-24\" class=\"sk-toggleable__label sk-toggleable__label-arrow\">RandomForestRegressor</label><div class=\"sk-toggleable__content\"><pre>RandomForestRegressor(max_depth=6, random_state=42)</pre></div></div></div></div></div>"
            ]
          },
          "metadata": {},
          "execution_count": 63
        }
      ]
    },
    {
      "cell_type": "code",
      "source": [
        "randomforest_rd.best_score_"
      ],
      "metadata": {
        "colab": {
          "base_uri": "https://localhost:8080/"
        },
        "id": "SZuaWUEOZqYt",
        "outputId": "a0926acb-3224-4a6c-e69b-a422ba868c15"
      },
      "execution_count": null,
      "outputs": [
        {
          "output_type": "execute_result",
          "data": {
            "text/plain": [
              "0.543306081621124"
            ]
          },
          "metadata": {},
          "execution_count": 64
        }
      ]
    },
    {
      "cell_type": "code",
      "source": [
        "rand_for_rd = RandomForestRegressor(max_depth = 9,n_estimators =1000,random_state=42)\n",
        "rand_for_rd.fit(X_train,y_train)\n",
        "\n",
        "score_rand_for_rd = rand_for_rd.score(X_test,y_test)\n",
        "print(score_rand_for_rd)"
      ],
      "metadata": {
        "colab": {
          "base_uri": "https://localhost:8080/"
        },
        "id": "QwhCu6XDa3_u",
        "outputId": "868ccc1e-05df-4a6e-d297-887a4d4e1dc6"
      },
      "execution_count": null,
      "outputs": [
        {
          "output_type": "stream",
          "name": "stdout",
          "text": [
            "0.5464172433309769\n"
          ]
        }
      ]
    },
    {
      "cell_type": "markdown",
      "source": [
        "# Adaboost"
      ],
      "metadata": {
        "id": "in4fyf4phbDs"
      }
    },
    {
      "cell_type": "code",
      "source": [
        "# Using DecisionTreeRegressor with a max depth of 3 as the base estimator\n",
        "base_estimator = DecisionTreeRegressor(max_depth=3)\n",
        "adaboost = AdaBoostRegressor(base_estimator=base_estimator, random_state=42, n_estimators=50)\n",
        "adaboost.fit(X_train, y_train)"
      ],
      "metadata": {
        "colab": {
          "base_uri": "https://localhost:8080/",
          "height": 173
        },
        "id": "ujJS3xb-hgEW",
        "outputId": "77c6b1bf-73ec-4127-f78c-6ea359cceb03"
      },
      "execution_count": 45,
      "outputs": [
        {
          "output_type": "stream",
          "name": "stderr",
          "text": [
            "/usr/local/lib/python3.10/dist-packages/sklearn/ensemble/_base.py:166: FutureWarning: `base_estimator` was renamed to `estimator` in version 1.2 and will be removed in 1.4.\n",
            "  warnings.warn(\n"
          ]
        },
        {
          "output_type": "execute_result",
          "data": {
            "text/plain": [
              "AdaBoostRegressor(base_estimator=DecisionTreeRegressor(max_depth=3),\n",
              "                  random_state=42)"
            ],
            "text/html": [
              "<style>#sk-container-id-7 {color: black;background-color: white;}#sk-container-id-7 pre{padding: 0;}#sk-container-id-7 div.sk-toggleable {background-color: white;}#sk-container-id-7 label.sk-toggleable__label {cursor: pointer;display: block;width: 100%;margin-bottom: 0;padding: 0.3em;box-sizing: border-box;text-align: center;}#sk-container-id-7 label.sk-toggleable__label-arrow:before {content: \"▸\";float: left;margin-right: 0.25em;color: #696969;}#sk-container-id-7 label.sk-toggleable__label-arrow:hover:before {color: black;}#sk-container-id-7 div.sk-estimator:hover label.sk-toggleable__label-arrow:before {color: black;}#sk-container-id-7 div.sk-toggleable__content {max-height: 0;max-width: 0;overflow: hidden;text-align: left;background-color: #f0f8ff;}#sk-container-id-7 div.sk-toggleable__content pre {margin: 0.2em;color: black;border-radius: 0.25em;background-color: #f0f8ff;}#sk-container-id-7 input.sk-toggleable__control:checked~div.sk-toggleable__content {max-height: 200px;max-width: 100%;overflow: auto;}#sk-container-id-7 input.sk-toggleable__control:checked~label.sk-toggleable__label-arrow:before {content: \"▾\";}#sk-container-id-7 div.sk-estimator input.sk-toggleable__control:checked~label.sk-toggleable__label {background-color: #d4ebff;}#sk-container-id-7 div.sk-label input.sk-toggleable__control:checked~label.sk-toggleable__label {background-color: #d4ebff;}#sk-container-id-7 input.sk-hidden--visually {border: 0;clip: rect(1px 1px 1px 1px);clip: rect(1px, 1px, 1px, 1px);height: 1px;margin: -1px;overflow: hidden;padding: 0;position: absolute;width: 1px;}#sk-container-id-7 div.sk-estimator {font-family: monospace;background-color: #f0f8ff;border: 1px dotted black;border-radius: 0.25em;box-sizing: border-box;margin-bottom: 0.5em;}#sk-container-id-7 div.sk-estimator:hover {background-color: #d4ebff;}#sk-container-id-7 div.sk-parallel-item::after {content: \"\";width: 100%;border-bottom: 1px solid gray;flex-grow: 1;}#sk-container-id-7 div.sk-label:hover label.sk-toggleable__label {background-color: #d4ebff;}#sk-container-id-7 div.sk-serial::before {content: \"\";position: absolute;border-left: 1px solid gray;box-sizing: border-box;top: 0;bottom: 0;left: 50%;z-index: 0;}#sk-container-id-7 div.sk-serial {display: flex;flex-direction: column;align-items: center;background-color: white;padding-right: 0.2em;padding-left: 0.2em;position: relative;}#sk-container-id-7 div.sk-item {position: relative;z-index: 1;}#sk-container-id-7 div.sk-parallel {display: flex;align-items: stretch;justify-content: center;background-color: white;position: relative;}#sk-container-id-7 div.sk-item::before, #sk-container-id-7 div.sk-parallel-item::before {content: \"\";position: absolute;border-left: 1px solid gray;box-sizing: border-box;top: 0;bottom: 0;left: 50%;z-index: -1;}#sk-container-id-7 div.sk-parallel-item {display: flex;flex-direction: column;z-index: 1;position: relative;background-color: white;}#sk-container-id-7 div.sk-parallel-item:first-child::after {align-self: flex-end;width: 50%;}#sk-container-id-7 div.sk-parallel-item:last-child::after {align-self: flex-start;width: 50%;}#sk-container-id-7 div.sk-parallel-item:only-child::after {width: 0;}#sk-container-id-7 div.sk-dashed-wrapped {border: 1px dashed gray;margin: 0 0.4em 0.5em 0.4em;box-sizing: border-box;padding-bottom: 0.4em;background-color: white;}#sk-container-id-7 div.sk-label label {font-family: monospace;font-weight: bold;display: inline-block;line-height: 1.2em;}#sk-container-id-7 div.sk-label-container {text-align: center;}#sk-container-id-7 div.sk-container {/* jupyter's `normalize.less` sets `[hidden] { display: none; }` but bootstrap.min.css set `[hidden] { display: none !important; }` so we also need the `!important` here to be able to override the default hidden behavior on the sphinx rendered scikit-learn.org. See: https://github.com/scikit-learn/scikit-learn/issues/21755 */display: inline-block !important;position: relative;}#sk-container-id-7 div.sk-text-repr-fallback {display: none;}</style><div id=\"sk-container-id-7\" class=\"sk-top-container\"><div class=\"sk-text-repr-fallback\"><pre>AdaBoostRegressor(base_estimator=DecisionTreeRegressor(max_depth=3),\n",
              "                  random_state=42)</pre><b>In a Jupyter environment, please rerun this cell to show the HTML representation or trust the notebook. <br />On GitHub, the HTML representation is unable to render, please try loading this page with nbviewer.org.</b></div><div class=\"sk-container\" hidden><div class=\"sk-item sk-dashed-wrapped\"><div class=\"sk-label-container\"><div class=\"sk-label sk-toggleable\"><input class=\"sk-toggleable__control sk-hidden--visually\" id=\"sk-estimator-id-13\" type=\"checkbox\" ><label for=\"sk-estimator-id-13\" class=\"sk-toggleable__label sk-toggleable__label-arrow\">AdaBoostRegressor</label><div class=\"sk-toggleable__content\"><pre>AdaBoostRegressor(base_estimator=DecisionTreeRegressor(max_depth=3),\n",
              "                  random_state=42)</pre></div></div></div><div class=\"sk-parallel\"><div class=\"sk-parallel-item\"><div class=\"sk-item\"><div class=\"sk-label-container\"><div class=\"sk-label sk-toggleable\"><input class=\"sk-toggleable__control sk-hidden--visually\" id=\"sk-estimator-id-14\" type=\"checkbox\" ><label for=\"sk-estimator-id-14\" class=\"sk-toggleable__label sk-toggleable__label-arrow\">base_estimator: DecisionTreeRegressor</label><div class=\"sk-toggleable__content\"><pre>DecisionTreeRegressor(max_depth=3)</pre></div></div></div><div class=\"sk-serial\"><div class=\"sk-item\"><div class=\"sk-estimator sk-toggleable\"><input class=\"sk-toggleable__control sk-hidden--visually\" id=\"sk-estimator-id-15\" type=\"checkbox\" ><label for=\"sk-estimator-id-15\" class=\"sk-toggleable__label sk-toggleable__label-arrow\">DecisionTreeRegressor</label><div class=\"sk-toggleable__content\"><pre>DecisionTreeRegressor(max_depth=3)</pre></div></div></div></div></div></div></div></div></div></div>"
            ]
          },
          "metadata": {},
          "execution_count": 45
        }
      ]
    },
    {
      "cell_type": "code",
      "source": [
        "y_pred3 = adaboost.predict(X_test)\n",
        "\n",
        "mse = mean_squared_error(y_test, y_pred3)\n",
        "r2 = r2_score(y_test, y_pred3)\n",
        "mae = mean_absolute_error(y_test, y_pred3)\n",
        "mape= mean_absolute_percentage_error(y_test, y_pred3)\n",
        "\n",
        "\n",
        "print(\"Adaboost Regressor\")\n",
        "print(f\"Mean Squared Error (MSE): {mse}\")\n",
        "print(f\"R-squared (R2) Score: {r2}\")\n",
        "print(\"Mean absolute error(MAE) %.2f\"%mae)\n",
        "print(\"Mean absolute percentage error(MAPE) %.2f\"%mape)"
      ],
      "metadata": {
        "colab": {
          "base_uri": "https://localhost:8080/"
        },
        "id": "aXeefjUGhic2",
        "outputId": "ad7e5239-d09e-46fa-835d-5f41a038706a"
      },
      "execution_count": 47,
      "outputs": [
        {
          "output_type": "stream",
          "name": "stdout",
          "text": [
            "Adaboost Regressor\n",
            "Mean Squared Error (MSE): 8.791322472019772\n",
            "R-squared (R2) Score: 0.14542647543888876\n",
            "Mean absolute error(MAE) 2.55\n",
            "Mean absolute percentage error(MAPE) 0.29\n"
          ]
        }
      ]
    },
    {
      "cell_type": "markdown",
      "source": [
        "### Hyperparametric tuning"
      ],
      "metadata": {
        "id": "tfskOiK6hylb"
      }
    },
    {
      "cell_type": "markdown",
      "source": [
        "### grid search"
      ],
      "metadata": {
        "id": "z8jSia9vh4w9"
      }
    },
    {
      "cell_type": "code",
      "source": [
        "hyp_adaboost = AdaBoostRegressor(random_state=42)\n",
        "hyp_adaboost.get_params()"
      ],
      "metadata": {
        "colab": {
          "base_uri": "https://localhost:8080/"
        },
        "id": "onRVdymxh3pR",
        "outputId": "edfede95-2f50-40d8-d022-f9846ed82b88"
      },
      "execution_count": 48,
      "outputs": [
        {
          "output_type": "execute_result",
          "data": {
            "text/plain": [
              "{'base_estimator': 'deprecated',\n",
              " 'estimator': None,\n",
              " 'learning_rate': 1.0,\n",
              " 'loss': 'linear',\n",
              " 'n_estimators': 50,\n",
              " 'random_state': 42}"
            ]
          },
          "metadata": {},
          "execution_count": 48
        }
      ]
    },
    {
      "cell_type": "code",
      "source": [
        "#  hyperparameters to tune as 'learning_rate' and 'n_estimators'\n",
        "hyp_gridsrch = [{'learning_rate': np.linspace(0.1,1 ,10),\n",
        "                'n_estimators': [j for j in range(10,101,10)]}]\n",
        "hyp_gridsrch"
      ],
      "metadata": {
        "colab": {
          "base_uri": "https://localhost:8080/"
        },
        "id": "4lOx8V9FiCWI",
        "outputId": "e868434f-62f6-4458-b029-798cfbaa6419"
      },
      "execution_count": 49,
      "outputs": [
        {
          "output_type": "execute_result",
          "data": {
            "text/plain": [
              "[{'learning_rate': array([0.1, 0.2, 0.3, 0.4, 0.5, 0.6, 0.7, 0.8, 0.9, 1. ]),\n",
              "  'n_estimators': [10, 20, 30, 40, 50, 60, 70, 80, 90, 100]}]"
            ]
          },
          "metadata": {},
          "execution_count": 49
        }
      ]
    },
    {
      "cell_type": "code",
      "source": [
        "ada_boost = GridSearchCV(estimator = hyp_adaboost,\n",
        "                        param_grid = hyp_gridsrch,\n",
        "                        cv=5)"
      ],
      "metadata": {
        "id": "OGT34Q6RiW10"
      },
      "execution_count": 50,
      "outputs": []
    },
    {
      "cell_type": "code",
      "source": [
        "ada_boost.fit(X_train,y_train)"
      ],
      "metadata": {
        "colab": {
          "base_uri": "https://localhost:8080/",
          "height": 117
        },
        "id": "P-jttbPyidIM",
        "outputId": "24e0262b-cd61-4592-94dd-da56f9b0449c"
      },
      "execution_count": 51,
      "outputs": [
        {
          "output_type": "execute_result",
          "data": {
            "text/plain": [
              "GridSearchCV(cv=5, estimator=AdaBoostRegressor(random_state=42),\n",
              "             param_grid=[{'learning_rate': array([0.1, 0.2, 0.3, 0.4, 0.5, 0.6, 0.7, 0.8, 0.9, 1. ]),\n",
              "                          'n_estimators': [10, 20, 30, 40, 50, 60, 70, 80, 90,\n",
              "                                           100]}])"
            ],
            "text/html": [
              "<style>#sk-container-id-8 {color: black;background-color: white;}#sk-container-id-8 pre{padding: 0;}#sk-container-id-8 div.sk-toggleable {background-color: white;}#sk-container-id-8 label.sk-toggleable__label {cursor: pointer;display: block;width: 100%;margin-bottom: 0;padding: 0.3em;box-sizing: border-box;text-align: center;}#sk-container-id-8 label.sk-toggleable__label-arrow:before {content: \"▸\";float: left;margin-right: 0.25em;color: #696969;}#sk-container-id-8 label.sk-toggleable__label-arrow:hover:before {color: black;}#sk-container-id-8 div.sk-estimator:hover label.sk-toggleable__label-arrow:before {color: black;}#sk-container-id-8 div.sk-toggleable__content {max-height: 0;max-width: 0;overflow: hidden;text-align: left;background-color: #f0f8ff;}#sk-container-id-8 div.sk-toggleable__content pre {margin: 0.2em;color: black;border-radius: 0.25em;background-color: #f0f8ff;}#sk-container-id-8 input.sk-toggleable__control:checked~div.sk-toggleable__content {max-height: 200px;max-width: 100%;overflow: auto;}#sk-container-id-8 input.sk-toggleable__control:checked~label.sk-toggleable__label-arrow:before {content: \"▾\";}#sk-container-id-8 div.sk-estimator input.sk-toggleable__control:checked~label.sk-toggleable__label {background-color: #d4ebff;}#sk-container-id-8 div.sk-label input.sk-toggleable__control:checked~label.sk-toggleable__label {background-color: #d4ebff;}#sk-container-id-8 input.sk-hidden--visually {border: 0;clip: rect(1px 1px 1px 1px);clip: rect(1px, 1px, 1px, 1px);height: 1px;margin: -1px;overflow: hidden;padding: 0;position: absolute;width: 1px;}#sk-container-id-8 div.sk-estimator {font-family: monospace;background-color: #f0f8ff;border: 1px dotted black;border-radius: 0.25em;box-sizing: border-box;margin-bottom: 0.5em;}#sk-container-id-8 div.sk-estimator:hover {background-color: #d4ebff;}#sk-container-id-8 div.sk-parallel-item::after {content: \"\";width: 100%;border-bottom: 1px solid gray;flex-grow: 1;}#sk-container-id-8 div.sk-label:hover label.sk-toggleable__label {background-color: #d4ebff;}#sk-container-id-8 div.sk-serial::before {content: \"\";position: absolute;border-left: 1px solid gray;box-sizing: border-box;top: 0;bottom: 0;left: 50%;z-index: 0;}#sk-container-id-8 div.sk-serial {display: flex;flex-direction: column;align-items: center;background-color: white;padding-right: 0.2em;padding-left: 0.2em;position: relative;}#sk-container-id-8 div.sk-item {position: relative;z-index: 1;}#sk-container-id-8 div.sk-parallel {display: flex;align-items: stretch;justify-content: center;background-color: white;position: relative;}#sk-container-id-8 div.sk-item::before, #sk-container-id-8 div.sk-parallel-item::before {content: \"\";position: absolute;border-left: 1px solid gray;box-sizing: border-box;top: 0;bottom: 0;left: 50%;z-index: -1;}#sk-container-id-8 div.sk-parallel-item {display: flex;flex-direction: column;z-index: 1;position: relative;background-color: white;}#sk-container-id-8 div.sk-parallel-item:first-child::after {align-self: flex-end;width: 50%;}#sk-container-id-8 div.sk-parallel-item:last-child::after {align-self: flex-start;width: 50%;}#sk-container-id-8 div.sk-parallel-item:only-child::after {width: 0;}#sk-container-id-8 div.sk-dashed-wrapped {border: 1px dashed gray;margin: 0 0.4em 0.5em 0.4em;box-sizing: border-box;padding-bottom: 0.4em;background-color: white;}#sk-container-id-8 div.sk-label label {font-family: monospace;font-weight: bold;display: inline-block;line-height: 1.2em;}#sk-container-id-8 div.sk-label-container {text-align: center;}#sk-container-id-8 div.sk-container {/* jupyter's `normalize.less` sets `[hidden] { display: none; }` but bootstrap.min.css set `[hidden] { display: none !important; }` so we also need the `!important` here to be able to override the default hidden behavior on the sphinx rendered scikit-learn.org. See: https://github.com/scikit-learn/scikit-learn/issues/21755 */display: inline-block !important;position: relative;}#sk-container-id-8 div.sk-text-repr-fallback {display: none;}</style><div id=\"sk-container-id-8\" class=\"sk-top-container\"><div class=\"sk-text-repr-fallback\"><pre>GridSearchCV(cv=5, estimator=AdaBoostRegressor(random_state=42),\n",
              "             param_grid=[{&#x27;learning_rate&#x27;: array([0.1, 0.2, 0.3, 0.4, 0.5, 0.6, 0.7, 0.8, 0.9, 1. ]),\n",
              "                          &#x27;n_estimators&#x27;: [10, 20, 30, 40, 50, 60, 70, 80, 90,\n",
              "                                           100]}])</pre><b>In a Jupyter environment, please rerun this cell to show the HTML representation or trust the notebook. <br />On GitHub, the HTML representation is unable to render, please try loading this page with nbviewer.org.</b></div><div class=\"sk-container\" hidden><div class=\"sk-item sk-dashed-wrapped\"><div class=\"sk-label-container\"><div class=\"sk-label sk-toggleable\"><input class=\"sk-toggleable__control sk-hidden--visually\" id=\"sk-estimator-id-16\" type=\"checkbox\" ><label for=\"sk-estimator-id-16\" class=\"sk-toggleable__label sk-toggleable__label-arrow\">GridSearchCV</label><div class=\"sk-toggleable__content\"><pre>GridSearchCV(cv=5, estimator=AdaBoostRegressor(random_state=42),\n",
              "             param_grid=[{&#x27;learning_rate&#x27;: array([0.1, 0.2, 0.3, 0.4, 0.5, 0.6, 0.7, 0.8, 0.9, 1. ]),\n",
              "                          &#x27;n_estimators&#x27;: [10, 20, 30, 40, 50, 60, 70, 80, 90,\n",
              "                                           100]}])</pre></div></div></div><div class=\"sk-parallel\"><div class=\"sk-parallel-item\"><div class=\"sk-item\"><div class=\"sk-label-container\"><div class=\"sk-label sk-toggleable\"><input class=\"sk-toggleable__control sk-hidden--visually\" id=\"sk-estimator-id-17\" type=\"checkbox\" ><label for=\"sk-estimator-id-17\" class=\"sk-toggleable__label sk-toggleable__label-arrow\">estimator: AdaBoostRegressor</label><div class=\"sk-toggleable__content\"><pre>AdaBoostRegressor(random_state=42)</pre></div></div></div><div class=\"sk-serial\"><div class=\"sk-item\"><div class=\"sk-estimator sk-toggleable\"><input class=\"sk-toggleable__control sk-hidden--visually\" id=\"sk-estimator-id-18\" type=\"checkbox\" ><label for=\"sk-estimator-id-18\" class=\"sk-toggleable__label sk-toggleable__label-arrow\">AdaBoostRegressor</label><div class=\"sk-toggleable__content\"><pre>AdaBoostRegressor(random_state=42)</pre></div></div></div></div></div></div></div></div></div></div>"
            ]
          },
          "metadata": {},
          "execution_count": 51
        }
      ]
    },
    {
      "cell_type": "code",
      "source": [
        "ada_boost.best_params_"
      ],
      "metadata": {
        "colab": {
          "base_uri": "https://localhost:8080/"
        },
        "id": "1HBHuDqhiezY",
        "outputId": "6356c971-c651-4bdc-fdbf-893d956c409d"
      },
      "execution_count": 52,
      "outputs": [
        {
          "output_type": "execute_result",
          "data": {
            "text/plain": [
              "{'learning_rate': 0.30000000000000004, 'n_estimators': 10}"
            ]
          },
          "metadata": {},
          "execution_count": 52
        }
      ]
    },
    {
      "cell_type": "code",
      "source": [
        "ada_boost.best_score_"
      ],
      "metadata": {
        "colab": {
          "base_uri": "https://localhost:8080/"
        },
        "id": "avYiZwaYihES",
        "outputId": "99d68df6-3e48-4bef-9b18-20e956f5d68c"
      },
      "execution_count": 53,
      "outputs": [
        {
          "output_type": "execute_result",
          "data": {
            "text/plain": [
              "0.4445099866824263"
            ]
          },
          "metadata": {},
          "execution_count": 53
        }
      ]
    },
    {
      "cell_type": "code",
      "source": [
        "ada_boost_ = AdaBoostRegressor(learning_rate = 0.44,n_estimators=10)\n",
        "ada_boost_.fit(X_train,y_train)\n",
        "\n",
        "score_ada_boost_ = ada_boost_.score(X_test,y_test)\n",
        "print(score_ada_boost_)"
      ],
      "metadata": {
        "colab": {
          "base_uri": "https://localhost:8080/"
        },
        "id": "S4zgl-e8jqjx",
        "outputId": "d7404356-8e18-4a53-815b-422c215bb87c"
      },
      "execution_count": 54,
      "outputs": [
        {
          "output_type": "stream",
          "name": "stdout",
          "text": [
            "0.46692388221657977\n"
          ]
        }
      ]
    },
    {
      "cell_type": "markdown",
      "source": [
        "### random search"
      ],
      "metadata": {
        "id": "2tRDt2XYlNtW"
      }
    },
    {
      "cell_type": "code",
      "source": [
        "# the hyperparameters to tune as 'learning_rate' and 'n_estimators'\n",
        "hyp_rand = [{'learning_rate': np.linspace(0.1,1 ,10),\n",
        "                'n_estimators': [j for j in range(10,101,10)]}]\n",
        "hyp_rand"
      ],
      "metadata": {
        "colab": {
          "base_uri": "https://localhost:8080/"
        },
        "id": "GbwJlGdelQbA",
        "outputId": "843b14b6-6ad8-4984-8272-33bd8452b65d"
      },
      "execution_count": null,
      "outputs": [
        {
          "output_type": "execute_result",
          "data": {
            "text/plain": [
              "[{'learning_rate': array([0.1, 0.2, 0.3, 0.4, 0.5, 0.6, 0.7, 0.8, 0.9, 1. ]),\n",
              "  'n_estimators': [10, 20, 30, 40, 50, 60, 70, 80, 90, 100]}]"
            ]
          },
          "metadata": {},
          "execution_count": 75
        }
      ]
    },
    {
      "cell_type": "code",
      "source": [
        "ada_boost1 = RandomizedSearchCV(estimator = hyp_adaboost,\n",
        "                        param_distributions = hyp_rand,\n",
        "                        cv=5)\n",
        "ada_boost1.fit(X_train,y_train)"
      ],
      "metadata": {
        "colab": {
          "base_uri": "https://localhost:8080/",
          "height": 117
        },
        "id": "wlxDoUh0le4d",
        "outputId": "663bb425-86d1-479c-fadb-41355c1515b4"
      },
      "execution_count": null,
      "outputs": [
        {
          "output_type": "execute_result",
          "data": {
            "text/plain": [
              "RandomizedSearchCV(cv=5, estimator=AdaBoostRegressor(random_state=42),\n",
              "                   param_distributions=[{'learning_rate': array([0.1, 0.2, 0.3, 0.4, 0.5, 0.6, 0.7, 0.8, 0.9, 1. ]),\n",
              "                                         'n_estimators': [10, 20, 30, 40, 50,\n",
              "                                                          60, 70, 80, 90,\n",
              "                                                          100]}])"
            ],
            "text/html": [
              "<style>#sk-container-id-15 {color: black;background-color: white;}#sk-container-id-15 pre{padding: 0;}#sk-container-id-15 div.sk-toggleable {background-color: white;}#sk-container-id-15 label.sk-toggleable__label {cursor: pointer;display: block;width: 100%;margin-bottom: 0;padding: 0.3em;box-sizing: border-box;text-align: center;}#sk-container-id-15 label.sk-toggleable__label-arrow:before {content: \"▸\";float: left;margin-right: 0.25em;color: #696969;}#sk-container-id-15 label.sk-toggleable__label-arrow:hover:before {color: black;}#sk-container-id-15 div.sk-estimator:hover label.sk-toggleable__label-arrow:before {color: black;}#sk-container-id-15 div.sk-toggleable__content {max-height: 0;max-width: 0;overflow: hidden;text-align: left;background-color: #f0f8ff;}#sk-container-id-15 div.sk-toggleable__content pre {margin: 0.2em;color: black;border-radius: 0.25em;background-color: #f0f8ff;}#sk-container-id-15 input.sk-toggleable__control:checked~div.sk-toggleable__content {max-height: 200px;max-width: 100%;overflow: auto;}#sk-container-id-15 input.sk-toggleable__control:checked~label.sk-toggleable__label-arrow:before {content: \"▾\";}#sk-container-id-15 div.sk-estimator input.sk-toggleable__control:checked~label.sk-toggleable__label {background-color: #d4ebff;}#sk-container-id-15 div.sk-label input.sk-toggleable__control:checked~label.sk-toggleable__label {background-color: #d4ebff;}#sk-container-id-15 input.sk-hidden--visually {border: 0;clip: rect(1px 1px 1px 1px);clip: rect(1px, 1px, 1px, 1px);height: 1px;margin: -1px;overflow: hidden;padding: 0;position: absolute;width: 1px;}#sk-container-id-15 div.sk-estimator {font-family: monospace;background-color: #f0f8ff;border: 1px dotted black;border-radius: 0.25em;box-sizing: border-box;margin-bottom: 0.5em;}#sk-container-id-15 div.sk-estimator:hover {background-color: #d4ebff;}#sk-container-id-15 div.sk-parallel-item::after {content: \"\";width: 100%;border-bottom: 1px solid gray;flex-grow: 1;}#sk-container-id-15 div.sk-label:hover label.sk-toggleable__label {background-color: #d4ebff;}#sk-container-id-15 div.sk-serial::before {content: \"\";position: absolute;border-left: 1px solid gray;box-sizing: border-box;top: 0;bottom: 0;left: 50%;z-index: 0;}#sk-container-id-15 div.sk-serial {display: flex;flex-direction: column;align-items: center;background-color: white;padding-right: 0.2em;padding-left: 0.2em;position: relative;}#sk-container-id-15 div.sk-item {position: relative;z-index: 1;}#sk-container-id-15 div.sk-parallel {display: flex;align-items: stretch;justify-content: center;background-color: white;position: relative;}#sk-container-id-15 div.sk-item::before, #sk-container-id-15 div.sk-parallel-item::before {content: \"\";position: absolute;border-left: 1px solid gray;box-sizing: border-box;top: 0;bottom: 0;left: 50%;z-index: -1;}#sk-container-id-15 div.sk-parallel-item {display: flex;flex-direction: column;z-index: 1;position: relative;background-color: white;}#sk-container-id-15 div.sk-parallel-item:first-child::after {align-self: flex-end;width: 50%;}#sk-container-id-15 div.sk-parallel-item:last-child::after {align-self: flex-start;width: 50%;}#sk-container-id-15 div.sk-parallel-item:only-child::after {width: 0;}#sk-container-id-15 div.sk-dashed-wrapped {border: 1px dashed gray;margin: 0 0.4em 0.5em 0.4em;box-sizing: border-box;padding-bottom: 0.4em;background-color: white;}#sk-container-id-15 div.sk-label label {font-family: monospace;font-weight: bold;display: inline-block;line-height: 1.2em;}#sk-container-id-15 div.sk-label-container {text-align: center;}#sk-container-id-15 div.sk-container {/* jupyter's `normalize.less` sets `[hidden] { display: none; }` but bootstrap.min.css set `[hidden] { display: none !important; }` so we also need the `!important` here to be able to override the default hidden behavior on the sphinx rendered scikit-learn.org. See: https://github.com/scikit-learn/scikit-learn/issues/21755 */display: inline-block !important;position: relative;}#sk-container-id-15 div.sk-text-repr-fallback {display: none;}</style><div id=\"sk-container-id-15\" class=\"sk-top-container\"><div class=\"sk-text-repr-fallback\"><pre>RandomizedSearchCV(cv=5, estimator=AdaBoostRegressor(random_state=42),\n",
              "                   param_distributions=[{&#x27;learning_rate&#x27;: array([0.1, 0.2, 0.3, 0.4, 0.5, 0.6, 0.7, 0.8, 0.9, 1. ]),\n",
              "                                         &#x27;n_estimators&#x27;: [10, 20, 30, 40, 50,\n",
              "                                                          60, 70, 80, 90,\n",
              "                                                          100]}])</pre><b>In a Jupyter environment, please rerun this cell to show the HTML representation or trust the notebook. <br />On GitHub, the HTML representation is unable to render, please try loading this page with nbviewer.org.</b></div><div class=\"sk-container\" hidden><div class=\"sk-item sk-dashed-wrapped\"><div class=\"sk-label-container\"><div class=\"sk-label sk-toggleable\"><input class=\"sk-toggleable__control sk-hidden--visually\" id=\"sk-estimator-id-31\" type=\"checkbox\" ><label for=\"sk-estimator-id-31\" class=\"sk-toggleable__label sk-toggleable__label-arrow\">RandomizedSearchCV</label><div class=\"sk-toggleable__content\"><pre>RandomizedSearchCV(cv=5, estimator=AdaBoostRegressor(random_state=42),\n",
              "                   param_distributions=[{&#x27;learning_rate&#x27;: array([0.1, 0.2, 0.3, 0.4, 0.5, 0.6, 0.7, 0.8, 0.9, 1. ]),\n",
              "                                         &#x27;n_estimators&#x27;: [10, 20, 30, 40, 50,\n",
              "                                                          60, 70, 80, 90,\n",
              "                                                          100]}])</pre></div></div></div><div class=\"sk-parallel\"><div class=\"sk-parallel-item\"><div class=\"sk-item\"><div class=\"sk-label-container\"><div class=\"sk-label sk-toggleable\"><input class=\"sk-toggleable__control sk-hidden--visually\" id=\"sk-estimator-id-32\" type=\"checkbox\" ><label for=\"sk-estimator-id-32\" class=\"sk-toggleable__label sk-toggleable__label-arrow\">estimator: AdaBoostRegressor</label><div class=\"sk-toggleable__content\"><pre>AdaBoostRegressor(random_state=42)</pre></div></div></div><div class=\"sk-serial\"><div class=\"sk-item\"><div class=\"sk-estimator sk-toggleable\"><input class=\"sk-toggleable__control sk-hidden--visually\" id=\"sk-estimator-id-33\" type=\"checkbox\" ><label for=\"sk-estimator-id-33\" class=\"sk-toggleable__label sk-toggleable__label-arrow\">AdaBoostRegressor</label><div class=\"sk-toggleable__content\"><pre>AdaBoostRegressor(random_state=42)</pre></div></div></div></div></div></div></div></div></div></div>"
            ]
          },
          "metadata": {},
          "execution_count": 76
        }
      ]
    },
    {
      "cell_type": "code",
      "source": [
        "ada_boost1.best_params_"
      ],
      "metadata": {
        "colab": {
          "base_uri": "https://localhost:8080/"
        },
        "id": "gQo6-tBqmQCe",
        "outputId": "af0561cd-687c-4e88-a357-459b528b9898"
      },
      "execution_count": null,
      "outputs": [
        {
          "output_type": "execute_result",
          "data": {
            "text/plain": [
              "{'n_estimators': 10, 'learning_rate': 0.4}"
            ]
          },
          "metadata": {},
          "execution_count": 77
        }
      ]
    },
    {
      "cell_type": "code",
      "source": [
        "ada_boost1.best_score_"
      ],
      "metadata": {
        "colab": {
          "base_uri": "https://localhost:8080/"
        },
        "id": "gdsAUfw_mTqy",
        "outputId": "120210c8-edec-4c71-e1ba-bbc4d3d3ed8f"
      },
      "execution_count": null,
      "outputs": [
        {
          "output_type": "execute_result",
          "data": {
            "text/plain": [
              "0.42885938087694875"
            ]
          },
          "metadata": {},
          "execution_count": 78
        }
      ]
    },
    {
      "cell_type": "code",
      "source": [
        "ada_boost_rnd = AdaBoostRegressor(n_estimators = 29,learning_rate=0.30000000000000004)\n",
        "ada_boost_rnd.fit(X_train,y_train)\n",
        "\n",
        "score_ada_boost_rnd = ada_boost_rnd.score(X_test,y_test)\n",
        "print(score_ada_boost_rnd)"
      ],
      "metadata": {
        "colab": {
          "base_uri": "https://localhost:8080/"
        },
        "id": "QMzzmn1AmVqX",
        "outputId": "765642e1-ac51-44db-a90a-13a8420f1e2b"
      },
      "execution_count": null,
      "outputs": [
        {
          "output_type": "stream",
          "name": "stdout",
          "text": [
            "0.4114045043631094\n"
          ]
        }
      ]
    },
    {
      "cell_type": "markdown",
      "source": [
        "# Gradient Boosting"
      ],
      "metadata": {
        "id": "v-h-BwqSm35h"
      }
    },
    {
      "cell_type": "code",
      "source": [
        "gradient_boosting = GradientBoostingRegressor(random_state=42)\n",
        "gradient_boosting.fit(X_train, y_train)"
      ],
      "metadata": {
        "colab": {
          "base_uri": "https://localhost:8080/",
          "height": 74
        },
        "id": "UV7BWU6Rm8RZ",
        "outputId": "b6cc1af9-a488-4575-9920-2c67169bb891"
      },
      "execution_count": 55,
      "outputs": [
        {
          "output_type": "execute_result",
          "data": {
            "text/plain": [
              "GradientBoostingRegressor(random_state=42)"
            ],
            "text/html": [
              "<style>#sk-container-id-9 {color: black;background-color: white;}#sk-container-id-9 pre{padding: 0;}#sk-container-id-9 div.sk-toggleable {background-color: white;}#sk-container-id-9 label.sk-toggleable__label {cursor: pointer;display: block;width: 100%;margin-bottom: 0;padding: 0.3em;box-sizing: border-box;text-align: center;}#sk-container-id-9 label.sk-toggleable__label-arrow:before {content: \"▸\";float: left;margin-right: 0.25em;color: #696969;}#sk-container-id-9 label.sk-toggleable__label-arrow:hover:before {color: black;}#sk-container-id-9 div.sk-estimator:hover label.sk-toggleable__label-arrow:before {color: black;}#sk-container-id-9 div.sk-toggleable__content {max-height: 0;max-width: 0;overflow: hidden;text-align: left;background-color: #f0f8ff;}#sk-container-id-9 div.sk-toggleable__content pre {margin: 0.2em;color: black;border-radius: 0.25em;background-color: #f0f8ff;}#sk-container-id-9 input.sk-toggleable__control:checked~div.sk-toggleable__content {max-height: 200px;max-width: 100%;overflow: auto;}#sk-container-id-9 input.sk-toggleable__control:checked~label.sk-toggleable__label-arrow:before {content: \"▾\";}#sk-container-id-9 div.sk-estimator input.sk-toggleable__control:checked~label.sk-toggleable__label {background-color: #d4ebff;}#sk-container-id-9 div.sk-label input.sk-toggleable__control:checked~label.sk-toggleable__label {background-color: #d4ebff;}#sk-container-id-9 input.sk-hidden--visually {border: 0;clip: rect(1px 1px 1px 1px);clip: rect(1px, 1px, 1px, 1px);height: 1px;margin: -1px;overflow: hidden;padding: 0;position: absolute;width: 1px;}#sk-container-id-9 div.sk-estimator {font-family: monospace;background-color: #f0f8ff;border: 1px dotted black;border-radius: 0.25em;box-sizing: border-box;margin-bottom: 0.5em;}#sk-container-id-9 div.sk-estimator:hover {background-color: #d4ebff;}#sk-container-id-9 div.sk-parallel-item::after {content: \"\";width: 100%;border-bottom: 1px solid gray;flex-grow: 1;}#sk-container-id-9 div.sk-label:hover label.sk-toggleable__label {background-color: #d4ebff;}#sk-container-id-9 div.sk-serial::before {content: \"\";position: absolute;border-left: 1px solid gray;box-sizing: border-box;top: 0;bottom: 0;left: 50%;z-index: 0;}#sk-container-id-9 div.sk-serial {display: flex;flex-direction: column;align-items: center;background-color: white;padding-right: 0.2em;padding-left: 0.2em;position: relative;}#sk-container-id-9 div.sk-item {position: relative;z-index: 1;}#sk-container-id-9 div.sk-parallel {display: flex;align-items: stretch;justify-content: center;background-color: white;position: relative;}#sk-container-id-9 div.sk-item::before, #sk-container-id-9 div.sk-parallel-item::before {content: \"\";position: absolute;border-left: 1px solid gray;box-sizing: border-box;top: 0;bottom: 0;left: 50%;z-index: -1;}#sk-container-id-9 div.sk-parallel-item {display: flex;flex-direction: column;z-index: 1;position: relative;background-color: white;}#sk-container-id-9 div.sk-parallel-item:first-child::after {align-self: flex-end;width: 50%;}#sk-container-id-9 div.sk-parallel-item:last-child::after {align-self: flex-start;width: 50%;}#sk-container-id-9 div.sk-parallel-item:only-child::after {width: 0;}#sk-container-id-9 div.sk-dashed-wrapped {border: 1px dashed gray;margin: 0 0.4em 0.5em 0.4em;box-sizing: border-box;padding-bottom: 0.4em;background-color: white;}#sk-container-id-9 div.sk-label label {font-family: monospace;font-weight: bold;display: inline-block;line-height: 1.2em;}#sk-container-id-9 div.sk-label-container {text-align: center;}#sk-container-id-9 div.sk-container {/* jupyter's `normalize.less` sets `[hidden] { display: none; }` but bootstrap.min.css set `[hidden] { display: none !important; }` so we also need the `!important` here to be able to override the default hidden behavior on the sphinx rendered scikit-learn.org. See: https://github.com/scikit-learn/scikit-learn/issues/21755 */display: inline-block !important;position: relative;}#sk-container-id-9 div.sk-text-repr-fallback {display: none;}</style><div id=\"sk-container-id-9\" class=\"sk-top-container\"><div class=\"sk-text-repr-fallback\"><pre>GradientBoostingRegressor(random_state=42)</pre><b>In a Jupyter environment, please rerun this cell to show the HTML representation or trust the notebook. <br />On GitHub, the HTML representation is unable to render, please try loading this page with nbviewer.org.</b></div><div class=\"sk-container\" hidden><div class=\"sk-item\"><div class=\"sk-estimator sk-toggleable\"><input class=\"sk-toggleable__control sk-hidden--visually\" id=\"sk-estimator-id-19\" type=\"checkbox\" checked><label for=\"sk-estimator-id-19\" class=\"sk-toggleable__label sk-toggleable__label-arrow\">GradientBoostingRegressor</label><div class=\"sk-toggleable__content\"><pre>GradientBoostingRegressor(random_state=42)</pre></div></div></div></div></div>"
            ]
          },
          "metadata": {},
          "execution_count": 55
        }
      ]
    },
    {
      "cell_type": "code",
      "source": [
        "y_pred4 = gradient_boosting.predict(X_test)\n",
        "\n",
        "mse = mean_squared_error(y_test, y_pred4)\n",
        "r2 = r2_score(y_test, y_pred4)\n",
        "mae = mean_absolute_error(y_test, y_pred4)\n",
        "mape= mean_absolute_percentage_error(y_test, y_pred4)\n",
        "\n",
        "\n",
        "print(\"Gradient Boosting Regressor\")\n",
        "print(f\"Mean Squared Error (MSE): {mse}\")\n",
        "print(f\"R-squared (R2) Score: {r2}\")\n",
        "print(\"Mean absolute error(MAE) %.2f\"%mae)\n",
        "print(\"Mean absolute percentage error(MAPE) %.2f\"%mape)"
      ],
      "metadata": {
        "colab": {
          "base_uri": "https://localhost:8080/"
        },
        "id": "ZTCcqyJknBW-",
        "outputId": "f67502b6-0864-490b-c795-ea6cf963b186"
      },
      "execution_count": 56,
      "outputs": [
        {
          "output_type": "stream",
          "name": "stdout",
          "text": [
            "Gradient Boosting Regressor\n",
            "Mean Squared Error (MSE): 4.736128274813973\n",
            "R-squared (R2) Score: 0.5396176348367476\n",
            "Mean absolute error(MAE) 1.54\n",
            "Mean absolute percentage error(MAPE) 0.15\n"
          ]
        }
      ]
    },
    {
      "cell_type": "markdown",
      "source": [
        "### Hyperparametric tuning"
      ],
      "metadata": {
        "id": "HQBnheO4nICY"
      }
    },
    {
      "cell_type": "markdown",
      "source": [
        "### grid search"
      ],
      "metadata": {
        "id": "ZgW9GJzqnQUM"
      }
    },
    {
      "cell_type": "code",
      "source": [
        "hyp_gradient_boost = GradientBoostingRegressor(random_state=42)\n",
        "hyp_gradient_boost.get_params()"
      ],
      "metadata": {
        "colab": {
          "base_uri": "https://localhost:8080/"
        },
        "id": "ezW3RLOjnFyB",
        "outputId": "5dec8fb7-c70a-4cfd-ce6e-b1a0e8a77691"
      },
      "execution_count": 57,
      "outputs": [
        {
          "output_type": "execute_result",
          "data": {
            "text/plain": [
              "{'alpha': 0.9,\n",
              " 'ccp_alpha': 0.0,\n",
              " 'criterion': 'friedman_mse',\n",
              " 'init': None,\n",
              " 'learning_rate': 0.1,\n",
              " 'loss': 'squared_error',\n",
              " 'max_depth': 3,\n",
              " 'max_features': None,\n",
              " 'max_leaf_nodes': None,\n",
              " 'min_impurity_decrease': 0.0,\n",
              " 'min_samples_leaf': 1,\n",
              " 'min_samples_split': 2,\n",
              " 'min_weight_fraction_leaf': 0.0,\n",
              " 'n_estimators': 100,\n",
              " 'n_iter_no_change': None,\n",
              " 'random_state': 42,\n",
              " 'subsample': 1.0,\n",
              " 'tol': 0.0001,\n",
              " 'validation_fraction': 0.1,\n",
              " 'verbose': 0,\n",
              " 'warm_start': False}"
            ]
          },
          "metadata": {},
          "execution_count": 57
        }
      ]
    },
    {
      "cell_type": "code",
      "source": [
        "# hyperparameters to tune as 'max_depth' and 'n_estimators'\n",
        "hyp_gridsrch = [{'max_depth' : [i for i in range(1,10)],\n",
        "                'n_estimators' : [j for j in range(1,100,10)]}]\n",
        "hyp_gridsrch"
      ],
      "metadata": {
        "colab": {
          "base_uri": "https://localhost:8080/"
        },
        "id": "qDJA232fnbXL",
        "outputId": "cace512e-ec10-46bd-ffee-4d4403058839"
      },
      "execution_count": 58,
      "outputs": [
        {
          "output_type": "execute_result",
          "data": {
            "text/plain": [
              "[{'max_depth': [1, 2, 3, 4, 5, 6, 7, 8, 9],\n",
              "  'n_estimators': [1, 11, 21, 31, 41, 51, 61, 71, 81, 91]}]"
            ]
          },
          "metadata": {},
          "execution_count": 58
        }
      ]
    },
    {
      "cell_type": "code",
      "source": [
        "grid_srch = GridSearchCV(estimator=hyp_gradient_boost,\n",
        "                       param_grid=hyp_gridsrch,\n",
        "                       cv=5)"
      ],
      "metadata": {
        "id": "psD-X4Ntnwnl"
      },
      "execution_count": 59,
      "outputs": []
    },
    {
      "cell_type": "code",
      "source": [
        "grid_srch.fit(  X_train, y_train)"
      ],
      "metadata": {
        "colab": {
          "base_uri": "https://localhost:8080/",
          "height": 117
        },
        "id": "0BqVby_-nmUm",
        "outputId": "c7530364-29b4-49c1-e35c-bb74f6a25f79"
      },
      "execution_count": 60,
      "outputs": [
        {
          "output_type": "execute_result",
          "data": {
            "text/plain": [
              "GridSearchCV(cv=5, estimator=GradientBoostingRegressor(random_state=42),\n",
              "             param_grid=[{'max_depth': [1, 2, 3, 4, 5, 6, 7, 8, 9],\n",
              "                          'n_estimators': [1, 11, 21, 31, 41, 51, 61, 71, 81,\n",
              "                                           91]}])"
            ],
            "text/html": [
              "<style>#sk-container-id-10 {color: black;background-color: white;}#sk-container-id-10 pre{padding: 0;}#sk-container-id-10 div.sk-toggleable {background-color: white;}#sk-container-id-10 label.sk-toggleable__label {cursor: pointer;display: block;width: 100%;margin-bottom: 0;padding: 0.3em;box-sizing: border-box;text-align: center;}#sk-container-id-10 label.sk-toggleable__label-arrow:before {content: \"▸\";float: left;margin-right: 0.25em;color: #696969;}#sk-container-id-10 label.sk-toggleable__label-arrow:hover:before {color: black;}#sk-container-id-10 div.sk-estimator:hover label.sk-toggleable__label-arrow:before {color: black;}#sk-container-id-10 div.sk-toggleable__content {max-height: 0;max-width: 0;overflow: hidden;text-align: left;background-color: #f0f8ff;}#sk-container-id-10 div.sk-toggleable__content pre {margin: 0.2em;color: black;border-radius: 0.25em;background-color: #f0f8ff;}#sk-container-id-10 input.sk-toggleable__control:checked~div.sk-toggleable__content {max-height: 200px;max-width: 100%;overflow: auto;}#sk-container-id-10 input.sk-toggleable__control:checked~label.sk-toggleable__label-arrow:before {content: \"▾\";}#sk-container-id-10 div.sk-estimator input.sk-toggleable__control:checked~label.sk-toggleable__label {background-color: #d4ebff;}#sk-container-id-10 div.sk-label input.sk-toggleable__control:checked~label.sk-toggleable__label {background-color: #d4ebff;}#sk-container-id-10 input.sk-hidden--visually {border: 0;clip: rect(1px 1px 1px 1px);clip: rect(1px, 1px, 1px, 1px);height: 1px;margin: -1px;overflow: hidden;padding: 0;position: absolute;width: 1px;}#sk-container-id-10 div.sk-estimator {font-family: monospace;background-color: #f0f8ff;border: 1px dotted black;border-radius: 0.25em;box-sizing: border-box;margin-bottom: 0.5em;}#sk-container-id-10 div.sk-estimator:hover {background-color: #d4ebff;}#sk-container-id-10 div.sk-parallel-item::after {content: \"\";width: 100%;border-bottom: 1px solid gray;flex-grow: 1;}#sk-container-id-10 div.sk-label:hover label.sk-toggleable__label {background-color: #d4ebff;}#sk-container-id-10 div.sk-serial::before {content: \"\";position: absolute;border-left: 1px solid gray;box-sizing: border-box;top: 0;bottom: 0;left: 50%;z-index: 0;}#sk-container-id-10 div.sk-serial {display: flex;flex-direction: column;align-items: center;background-color: white;padding-right: 0.2em;padding-left: 0.2em;position: relative;}#sk-container-id-10 div.sk-item {position: relative;z-index: 1;}#sk-container-id-10 div.sk-parallel {display: flex;align-items: stretch;justify-content: center;background-color: white;position: relative;}#sk-container-id-10 div.sk-item::before, #sk-container-id-10 div.sk-parallel-item::before {content: \"\";position: absolute;border-left: 1px solid gray;box-sizing: border-box;top: 0;bottom: 0;left: 50%;z-index: -1;}#sk-container-id-10 div.sk-parallel-item {display: flex;flex-direction: column;z-index: 1;position: relative;background-color: white;}#sk-container-id-10 div.sk-parallel-item:first-child::after {align-self: flex-end;width: 50%;}#sk-container-id-10 div.sk-parallel-item:last-child::after {align-self: flex-start;width: 50%;}#sk-container-id-10 div.sk-parallel-item:only-child::after {width: 0;}#sk-container-id-10 div.sk-dashed-wrapped {border: 1px dashed gray;margin: 0 0.4em 0.5em 0.4em;box-sizing: border-box;padding-bottom: 0.4em;background-color: white;}#sk-container-id-10 div.sk-label label {font-family: monospace;font-weight: bold;display: inline-block;line-height: 1.2em;}#sk-container-id-10 div.sk-label-container {text-align: center;}#sk-container-id-10 div.sk-container {/* jupyter's `normalize.less` sets `[hidden] { display: none; }` but bootstrap.min.css set `[hidden] { display: none !important; }` so we also need the `!important` here to be able to override the default hidden behavior on the sphinx rendered scikit-learn.org. See: https://github.com/scikit-learn/scikit-learn/issues/21755 */display: inline-block !important;position: relative;}#sk-container-id-10 div.sk-text-repr-fallback {display: none;}</style><div id=\"sk-container-id-10\" class=\"sk-top-container\"><div class=\"sk-text-repr-fallback\"><pre>GridSearchCV(cv=5, estimator=GradientBoostingRegressor(random_state=42),\n",
              "             param_grid=[{&#x27;max_depth&#x27;: [1, 2, 3, 4, 5, 6, 7, 8, 9],\n",
              "                          &#x27;n_estimators&#x27;: [1, 11, 21, 31, 41, 51, 61, 71, 81,\n",
              "                                           91]}])</pre><b>In a Jupyter environment, please rerun this cell to show the HTML representation or trust the notebook. <br />On GitHub, the HTML representation is unable to render, please try loading this page with nbviewer.org.</b></div><div class=\"sk-container\" hidden><div class=\"sk-item sk-dashed-wrapped\"><div class=\"sk-label-container\"><div class=\"sk-label sk-toggleable\"><input class=\"sk-toggleable__control sk-hidden--visually\" id=\"sk-estimator-id-20\" type=\"checkbox\" ><label for=\"sk-estimator-id-20\" class=\"sk-toggleable__label sk-toggleable__label-arrow\">GridSearchCV</label><div class=\"sk-toggleable__content\"><pre>GridSearchCV(cv=5, estimator=GradientBoostingRegressor(random_state=42),\n",
              "             param_grid=[{&#x27;max_depth&#x27;: [1, 2, 3, 4, 5, 6, 7, 8, 9],\n",
              "                          &#x27;n_estimators&#x27;: [1, 11, 21, 31, 41, 51, 61, 71, 81,\n",
              "                                           91]}])</pre></div></div></div><div class=\"sk-parallel\"><div class=\"sk-parallel-item\"><div class=\"sk-item\"><div class=\"sk-label-container\"><div class=\"sk-label sk-toggleable\"><input class=\"sk-toggleable__control sk-hidden--visually\" id=\"sk-estimator-id-21\" type=\"checkbox\" ><label for=\"sk-estimator-id-21\" class=\"sk-toggleable__label sk-toggleable__label-arrow\">estimator: GradientBoostingRegressor</label><div class=\"sk-toggleable__content\"><pre>GradientBoostingRegressor(random_state=42)</pre></div></div></div><div class=\"sk-serial\"><div class=\"sk-item\"><div class=\"sk-estimator sk-toggleable\"><input class=\"sk-toggleable__control sk-hidden--visually\" id=\"sk-estimator-id-22\" type=\"checkbox\" ><label for=\"sk-estimator-id-22\" class=\"sk-toggleable__label sk-toggleable__label-arrow\">GradientBoostingRegressor</label><div class=\"sk-toggleable__content\"><pre>GradientBoostingRegressor(random_state=42)</pre></div></div></div></div></div></div></div></div></div></div>"
            ]
          },
          "metadata": {},
          "execution_count": 60
        }
      ]
    },
    {
      "cell_type": "code",
      "source": [
        "grid_srch.best_params_"
      ],
      "metadata": {
        "colab": {
          "base_uri": "https://localhost:8080/"
        },
        "id": "hqSZIgg1n-Yf",
        "outputId": "1bb58d5b-877f-4b9f-e6fd-f6343ab24da3"
      },
      "execution_count": 61,
      "outputs": [
        {
          "output_type": "execute_result",
          "data": {
            "text/plain": [
              "{'max_depth': 4, 'n_estimators': 61}"
            ]
          },
          "metadata": {},
          "execution_count": 61
        }
      ]
    },
    {
      "cell_type": "code",
      "source": [
        "grid_srch.best_score_"
      ],
      "metadata": {
        "colab": {
          "base_uri": "https://localhost:8080/"
        },
        "id": "lM-WFHO5oAqX",
        "outputId": "6dff9b78-4983-4a24-f693-29517119ca66"
      },
      "execution_count": 62,
      "outputs": [
        {
          "output_type": "execute_result",
          "data": {
            "text/plain": [
              "0.5584925376653727"
            ]
          },
          "metadata": {},
          "execution_count": 62
        }
      ]
    },
    {
      "cell_type": "code",
      "source": [
        "grd_boost = GradientBoostingRegressor(max_depth = 4, n_estimators = 71)\n",
        "grd_boost.fit(X_train,y_train)\n",
        "\n",
        "score_grd_boost = grd_boost.score(X_test,y_test)\n",
        "print(score_grd_boost)"
      ],
      "metadata": {
        "colab": {
          "base_uri": "https://localhost:8080/"
        },
        "id": "wdv7RdKZoDpx",
        "outputId": "2f65a33b-7a05-4a41-f18e-28e31b4be906"
      },
      "execution_count": 63,
      "outputs": [
        {
          "output_type": "stream",
          "name": "stdout",
          "text": [
            "0.5356452012811987\n"
          ]
        }
      ]
    },
    {
      "cell_type": "markdown",
      "source": [
        "### Random search"
      ],
      "metadata": {
        "id": "eyHUrD48r2Wy"
      }
    },
    {
      "cell_type": "code",
      "source": [
        "hyp_ran = [{'max_depth' : [i for i in range(1,10)],\n",
        "                'n_estimators' : [j for j in range(1,100,10)]}]\n",
        "hyp_ran"
      ],
      "metadata": {
        "colab": {
          "base_uri": "https://localhost:8080/"
        },
        "id": "Wn5MxIpHr53x",
        "outputId": "056272ec-1249-43e8-de78-be52d1fc0d28"
      },
      "execution_count": null,
      "outputs": [
        {
          "output_type": "execute_result",
          "data": {
            "text/plain": [
              "[{'max_depth': [1, 2, 3, 4, 5, 6, 7, 8, 9],\n",
              "  'n_estimators': [1, 11, 21, 31, 41, 51, 61, 71, 81, 91]}]"
            ]
          },
          "metadata": {},
          "execution_count": 90
        }
      ]
    },
    {
      "cell_type": "code",
      "source": [
        "ran_srch = GridSearchCV(estimator = hyp_gradient_boost,\n",
        "                       param_grid = hyp_ran,\n",
        "                       cv =5)"
      ],
      "metadata": {
        "id": "HAvxmC1tsBu4"
      },
      "execution_count": null,
      "outputs": []
    },
    {
      "cell_type": "code",
      "source": [
        "ran_srch.fit(X_train, y_train)"
      ],
      "metadata": {
        "colab": {
          "base_uri": "https://localhost:8080/",
          "height": 117
        },
        "id": "zJZ5CxW_sUTu",
        "outputId": "7583dcda-a392-43cd-e56b-eb59c8f912f6"
      },
      "execution_count": null,
      "outputs": [
        {
          "output_type": "execute_result",
          "data": {
            "text/plain": [
              "GridSearchCV(cv=5, estimator=GradientBoostingRegressor(random_state=42),\n",
              "             param_grid=[{'max_depth': [1, 2, 3, 4, 5, 6, 7, 8, 9],\n",
              "                          'n_estimators': [1, 11, 21, 31, 41, 51, 61, 71, 81,\n",
              "                                           91]}])"
            ],
            "text/html": [
              "<style>#sk-container-id-18 {color: black;background-color: white;}#sk-container-id-18 pre{padding: 0;}#sk-container-id-18 div.sk-toggleable {background-color: white;}#sk-container-id-18 label.sk-toggleable__label {cursor: pointer;display: block;width: 100%;margin-bottom: 0;padding: 0.3em;box-sizing: border-box;text-align: center;}#sk-container-id-18 label.sk-toggleable__label-arrow:before {content: \"▸\";float: left;margin-right: 0.25em;color: #696969;}#sk-container-id-18 label.sk-toggleable__label-arrow:hover:before {color: black;}#sk-container-id-18 div.sk-estimator:hover label.sk-toggleable__label-arrow:before {color: black;}#sk-container-id-18 div.sk-toggleable__content {max-height: 0;max-width: 0;overflow: hidden;text-align: left;background-color: #f0f8ff;}#sk-container-id-18 div.sk-toggleable__content pre {margin: 0.2em;color: black;border-radius: 0.25em;background-color: #f0f8ff;}#sk-container-id-18 input.sk-toggleable__control:checked~div.sk-toggleable__content {max-height: 200px;max-width: 100%;overflow: auto;}#sk-container-id-18 input.sk-toggleable__control:checked~label.sk-toggleable__label-arrow:before {content: \"▾\";}#sk-container-id-18 div.sk-estimator input.sk-toggleable__control:checked~label.sk-toggleable__label {background-color: #d4ebff;}#sk-container-id-18 div.sk-label input.sk-toggleable__control:checked~label.sk-toggleable__label {background-color: #d4ebff;}#sk-container-id-18 input.sk-hidden--visually {border: 0;clip: rect(1px 1px 1px 1px);clip: rect(1px, 1px, 1px, 1px);height: 1px;margin: -1px;overflow: hidden;padding: 0;position: absolute;width: 1px;}#sk-container-id-18 div.sk-estimator {font-family: monospace;background-color: #f0f8ff;border: 1px dotted black;border-radius: 0.25em;box-sizing: border-box;margin-bottom: 0.5em;}#sk-container-id-18 div.sk-estimator:hover {background-color: #d4ebff;}#sk-container-id-18 div.sk-parallel-item::after {content: \"\";width: 100%;border-bottom: 1px solid gray;flex-grow: 1;}#sk-container-id-18 div.sk-label:hover label.sk-toggleable__label {background-color: #d4ebff;}#sk-container-id-18 div.sk-serial::before {content: \"\";position: absolute;border-left: 1px solid gray;box-sizing: border-box;top: 0;bottom: 0;left: 50%;z-index: 0;}#sk-container-id-18 div.sk-serial {display: flex;flex-direction: column;align-items: center;background-color: white;padding-right: 0.2em;padding-left: 0.2em;position: relative;}#sk-container-id-18 div.sk-item {position: relative;z-index: 1;}#sk-container-id-18 div.sk-parallel {display: flex;align-items: stretch;justify-content: center;background-color: white;position: relative;}#sk-container-id-18 div.sk-item::before, #sk-container-id-18 div.sk-parallel-item::before {content: \"\";position: absolute;border-left: 1px solid gray;box-sizing: border-box;top: 0;bottom: 0;left: 50%;z-index: -1;}#sk-container-id-18 div.sk-parallel-item {display: flex;flex-direction: column;z-index: 1;position: relative;background-color: white;}#sk-container-id-18 div.sk-parallel-item:first-child::after {align-self: flex-end;width: 50%;}#sk-container-id-18 div.sk-parallel-item:last-child::after {align-self: flex-start;width: 50%;}#sk-container-id-18 div.sk-parallel-item:only-child::after {width: 0;}#sk-container-id-18 div.sk-dashed-wrapped {border: 1px dashed gray;margin: 0 0.4em 0.5em 0.4em;box-sizing: border-box;padding-bottom: 0.4em;background-color: white;}#sk-container-id-18 div.sk-label label {font-family: monospace;font-weight: bold;display: inline-block;line-height: 1.2em;}#sk-container-id-18 div.sk-label-container {text-align: center;}#sk-container-id-18 div.sk-container {/* jupyter's `normalize.less` sets `[hidden] { display: none; }` but bootstrap.min.css set `[hidden] { display: none !important; }` so we also need the `!important` here to be able to override the default hidden behavior on the sphinx rendered scikit-learn.org. See: https://github.com/scikit-learn/scikit-learn/issues/21755 */display: inline-block !important;position: relative;}#sk-container-id-18 div.sk-text-repr-fallback {display: none;}</style><div id=\"sk-container-id-18\" class=\"sk-top-container\"><div class=\"sk-text-repr-fallback\"><pre>GridSearchCV(cv=5, estimator=GradientBoostingRegressor(random_state=42),\n",
              "             param_grid=[{&#x27;max_depth&#x27;: [1, 2, 3, 4, 5, 6, 7, 8, 9],\n",
              "                          &#x27;n_estimators&#x27;: [1, 11, 21, 31, 41, 51, 61, 71, 81,\n",
              "                                           91]}])</pre><b>In a Jupyter environment, please rerun this cell to show the HTML representation or trust the notebook. <br />On GitHub, the HTML representation is unable to render, please try loading this page with nbviewer.org.</b></div><div class=\"sk-container\" hidden><div class=\"sk-item sk-dashed-wrapped\"><div class=\"sk-label-container\"><div class=\"sk-label sk-toggleable\"><input class=\"sk-toggleable__control sk-hidden--visually\" id=\"sk-estimator-id-38\" type=\"checkbox\" ><label for=\"sk-estimator-id-38\" class=\"sk-toggleable__label sk-toggleable__label-arrow\">GridSearchCV</label><div class=\"sk-toggleable__content\"><pre>GridSearchCV(cv=5, estimator=GradientBoostingRegressor(random_state=42),\n",
              "             param_grid=[{&#x27;max_depth&#x27;: [1, 2, 3, 4, 5, 6, 7, 8, 9],\n",
              "                          &#x27;n_estimators&#x27;: [1, 11, 21, 31, 41, 51, 61, 71, 81,\n",
              "                                           91]}])</pre></div></div></div><div class=\"sk-parallel\"><div class=\"sk-parallel-item\"><div class=\"sk-item\"><div class=\"sk-label-container\"><div class=\"sk-label sk-toggleable\"><input class=\"sk-toggleable__control sk-hidden--visually\" id=\"sk-estimator-id-39\" type=\"checkbox\" ><label for=\"sk-estimator-id-39\" class=\"sk-toggleable__label sk-toggleable__label-arrow\">estimator: GradientBoostingRegressor</label><div class=\"sk-toggleable__content\"><pre>GradientBoostingRegressor(random_state=42)</pre></div></div></div><div class=\"sk-serial\"><div class=\"sk-item\"><div class=\"sk-estimator sk-toggleable\"><input class=\"sk-toggleable__control sk-hidden--visually\" id=\"sk-estimator-id-40\" type=\"checkbox\" ><label for=\"sk-estimator-id-40\" class=\"sk-toggleable__label sk-toggleable__label-arrow\">GradientBoostingRegressor</label><div class=\"sk-toggleable__content\"><pre>GradientBoostingRegressor(random_state=42)</pre></div></div></div></div></div></div></div></div></div></div>"
            ]
          },
          "metadata": {},
          "execution_count": 92
        }
      ]
    },
    {
      "cell_type": "code",
      "source": [
        "ran_srch.best_params_"
      ],
      "metadata": {
        "colab": {
          "base_uri": "https://localhost:8080/"
        },
        "id": "VBYIW0cbspVf",
        "outputId": "a42aa9e0-ae2f-4bb5-ae4b-fa0827de613a"
      },
      "execution_count": null,
      "outputs": [
        {
          "output_type": "execute_result",
          "data": {
            "text/plain": [
              "{'max_depth': 4, 'n_estimators': 61}"
            ]
          },
          "metadata": {},
          "execution_count": 93
        }
      ]
    },
    {
      "cell_type": "code",
      "source": [
        "ran_srch.best_score_"
      ],
      "metadata": {
        "colab": {
          "base_uri": "https://localhost:8080/"
        },
        "id": "Q59HCEIQsu2y",
        "outputId": "b5b87a2d-a0b8-43aa-84d4-61f5810424b5"
      },
      "execution_count": null,
      "outputs": [
        {
          "output_type": "execute_result",
          "data": {
            "text/plain": [
              "0.5584925376653727"
            ]
          },
          "metadata": {},
          "execution_count": 94
        }
      ]
    },
    {
      "cell_type": "code",
      "source": [
        "grd_boost_rnd = GradientBoostingRegressor(n_estimators = 81,max_depth = 4)\n",
        "grd_boost_rnd.fit(X_train,y_train)\n",
        "\n",
        "score_grd_boost_rnd = grd_boost_rnd.score(X_test,y_test)\n",
        "print(score_grd_boost_rnd)"
      ],
      "metadata": {
        "colab": {
          "base_uri": "https://localhost:8080/"
        },
        "id": "e7fpeqcwswl8",
        "outputId": "60761815-4ec1-4ae0-af19-4186010a4d82"
      },
      "execution_count": null,
      "outputs": [
        {
          "output_type": "stream",
          "name": "stdout",
          "text": [
            "0.5356717941785116\n"
          ]
        }
      ]
    },
    {
      "cell_type": "markdown",
      "source": [
        "# Results"
      ],
      "metadata": {
        "id": "2QEU4eM5uG9E"
      }
    },
    {
      "cell_type": "code",
      "source": [
        "M= [ 'Linear Regression','SVM(linear)','SVM(poly)','SVM(rbf)','Decision Tree','Random Forest','Adaboost','Gradient Boosting']\n",
        "MSE=[4.6759,4.7880,5.4239,4.6270,8.8076,4.8052,9.0149,4.7367]\n",
        "R2=[0.5454,0.5345,0.4727, 0.5502,0.1438,0.5328,0.1236,0.5395]\n",
        "MAE=[1.5693,1.5268,1.5472,1.4807,2.04,1.56,2.60,1.54]\n",
        "MAPE=[0.1596,0.14777,0.14738,0.14249,0.20, 0.16, 0.29,0.15]"
      ],
      "metadata": {
        "id": "Pud1-wf6uGZT"
      },
      "execution_count": 64,
      "outputs": []
    },
    {
      "cell_type": "code",
      "source": [
        "# Creating a DataFrame\n",
        "data = {\n",
        "    'Model': M,\n",
        "    'MSE': MSE,\n",
        "    'R2': R2,\n",
        "    'MAE': MAE,\n",
        "    'MAPE':MAPE,\n",
        "}\n",
        "df = pd.DataFrame(data)\n",
        "\n",
        "\n",
        "print(df)"
      ],
      "metadata": {
        "colab": {
          "base_uri": "https://localhost:8080/"
        },
        "id": "o-1nvWHGuPFk",
        "outputId": "5305bfbf-3a78-4b5b-96a4-35f3e5397763"
      },
      "execution_count": 65,
      "outputs": [
        {
          "output_type": "stream",
          "name": "stdout",
          "text": [
            "               Model     MSE      R2     MAE     MAPE\n",
            "0  Linear Regression  4.6759  0.5454  1.5693  0.15960\n",
            "1        SVM(linear)  4.7880  0.5345  1.5268  0.14777\n",
            "2          SVM(poly)  5.4239  0.4727  1.5472  0.14738\n",
            "3           SVM(rbf)  4.6270  0.5502  1.4807  0.14249\n",
            "4      Decision Tree  8.8076  0.1438  2.0400  0.20000\n",
            "5      Random Forest  4.8052  0.5328  1.5600  0.16000\n",
            "6           Adaboost  9.0149  0.1236  2.6000  0.29000\n",
            "7  Gradient Boosting  4.7367  0.5395  1.5400  0.15000\n"
          ]
        }
      ]
    },
    {
      "cell_type": "code",
      "source": [
        "# Plotting the bar graphs\n",
        "fig, axs = plt.subplots(3, 1, figsize=(10, 18))\n",
        "\n",
        "# Plotting MSE\n",
        "axs[0].bar(df['Model'], df['MSE'], color='skyblue')\n",
        "axs[0].set_title('Mean Squared Error (MSE) of Different Models')\n",
        "axs[0].set_ylabel('MSE')\n",
        "axs[0].set_xticklabels(df['Model'], rotation=45, ha='right')\n",
        "\n",
        "# Plotting R2\n",
        "axs[1].bar(df['Model'], df['R2'], color='lightgreen')\n",
        "axs[1].set_title('R-squared (R2) of Different Models')\n",
        "axs[1].set_ylabel('R2')\n",
        "axs[1].set_xticklabels(df['Model'], rotation=45, ha='right')\n",
        "\n",
        "# Plotting MAE\n",
        "axs[2].bar(df['Model'], df['MAE'], color='salmon')\n",
        "axs[2].set_title('Mean Absolute Error (MAE) of Different Models')\n",
        "axs[2].set_ylabel('MAE')\n",
        "axs[2].set_xticklabels(df['Model'], rotation=45, ha='right')\n",
        "\n",
        "# Adjust layout\n",
        "plt.tight_layout()\n",
        "plt.show()\n"
      ],
      "metadata": {
        "colab": {
          "base_uri": "https://localhost:8080/",
          "height": 1000
        },
        "id": "2M1R8-lwuwAT",
        "outputId": "f1b0a3e4-3773-40c5-a597-7186c0df5d91"
      },
      "execution_count": 66,
      "outputs": [
        {
          "output_type": "stream",
          "name": "stderr",
          "text": [
            "<ipython-input-66-bbf63f37246b>:8: UserWarning: FixedFormatter should only be used together with FixedLocator\n",
            "  axs[0].set_xticklabels(df['Model'], rotation=45, ha='right')\n",
            "<ipython-input-66-bbf63f37246b>:14: UserWarning: FixedFormatter should only be used together with FixedLocator\n",
            "  axs[1].set_xticklabels(df['Model'], rotation=45, ha='right')\n",
            "<ipython-input-66-bbf63f37246b>:20: UserWarning: FixedFormatter should only be used together with FixedLocator\n",
            "  axs[2].set_xticklabels(df['Model'], rotation=45, ha='right')\n"
          ]
        },
        {
          "output_type": "display_data",
          "data": {
            "text/plain": [
              "<Figure size 1000x1800 with 3 Axes>"
            ],
            "image/png": "[encoded data removed]"
          },
          "metadata": {}
        }
      ]
    },
    {
      "cell_type": "code",
      "source": [
        "#Results after Hyperparameter Tuning\n",
        "methods = ('SVM(rbf)', 'Decision Tree', 'Random Forest', 'AdaBoost', 'Gradient Boosting')\n",
        "d_results_plot = {\n",
        "    'Before_Hyp': [ 0.5502,0.1438,0.5328,0.1236,0.5395],\n",
        "    'After_Hyp': [score_svm_rbf, score_dt, score_rand_for, score_ada_boost_, score_grd_boost]\n",
        "}"
      ],
      "metadata": {
        "id": "752oCA9vu3zf"
      },
      "execution_count": 67,
      "outputs": []
    },
    {
      "cell_type": "code",
      "source": [
        "# Creating a DataFrame\n",
        "data = {\n",
        "    'Method': methods,\n",
        "    'Before_Hyp': d_results_plot['Before_Hyp'],\n",
        "    'After_Hyp': d_results_plot['After_Hyp']\n",
        "}\n",
        "df = pd.DataFrame(data)\n",
        "\n",
        "# Display the table\n",
        "print(df)"
      ],
      "metadata": {
        "colab": {
          "base_uri": "https://localhost:8080/"
        },
        "id": "UusAd4TLwDXS",
        "outputId": "3a6a90a6-3dec-4123-fd9e-a2de769147a2"
      },
      "execution_count": 68,
      "outputs": [
        {
          "output_type": "stream",
          "name": "stdout",
          "text": [
            "              Method  Before_Hyp  After_Hyp\n",
            "0           SVM(rbf)      0.5502   0.575985\n",
            "1      Decision Tree      0.1438   0.453043\n",
            "2      Random Forest      0.5328   0.543163\n",
            "3           AdaBoost      0.1236   0.466924\n",
            "4  Gradient Boosting      0.5395   0.535645\n"
          ]
        }
      ]
    },
    {
      "cell_type": "code",
      "source": [
        "import numpy as np\n",
        "import matplotlib.pyplot as plt\n",
        "\n",
        "# Results after Hyperparameter Tuning\n",
        "methods = ('SVM(RBF)', 'Decision Tree', 'Random Forest', 'AdaBoost', 'Gradient Boosting')\n",
        "d_results_plot = {\n",
        "    'Before_Hyp': [0.5502, 0.1438, 0.5328, 0.1236, 0.5395],\n",
        "    'After_Hyp': [score_svm_rbf, score_dt, score_rand_for, score_ada_boost_, score_grd_boost]\n",
        "}\n",
        "\n",
        "X = np.arange(len(methods))\n",
        "width = 0.25\n",
        "multiplier = 0\n",
        "\n",
        "fig, ax = plt.subplots(figsize=(20, 10))\n",
        "\n",
        "for attribute, measurement in d_results_plot.items():\n",
        "    offset = width * multiplier\n",
        "    if attribute == 'Before_Hyp':\n",
        "        rects = ax.bar(X + offset, measurement, width, label=attribute, color='skyblue')\n",
        "    else:\n",
        "        rects = ax.bar(X + offset, measurement, width, label=attribute, color='thistle')\n",
        "    ax.bar_label(rects, padding=3)\n",
        "    multiplier += 1\n",
        "\n",
        "ax.set_ylabel('r2 Values')\n",
        "ax.set_title('Results after Hyperparameter Tuning')\n",
        "ax.set_xticks(X + width / 2)\n",
        "ax.set_xticklabels(methods)\n",
        "ax.legend(loc='upper right', ncols=2)\n",
        "ax.set_ylim(0, 1)\n",
        "plt.savefig(\"output1.jpg\")\n",
        "plt.show()\n"
      ],
      "metadata": {
        "colab": {
          "base_uri": "https://localhost:8080/",
          "height": 591
        },
        "id": "T2G04GSmwdOi",
        "outputId": "560a12e7-3a80-4343-91ed-23f25f69fa68"
      },
      "execution_count": 69,
      "outputs": [
        {
          "output_type": "display_data",
          "data": {
            "text/plain": [
              "<Figure size 2000x1000 with 1 Axes>"
            ],
            "image/png": "[encoded data removed]"
          },
          "metadata": {}
        }
      ]
    },
    {
      "cell_type": "markdown",
      "source": [
        "# Feature Reduction"
      ],
      "metadata": {
        "id": "UWJRkABYxZI8"
      }
    },
    {
      "cell_type": "code",
      "source": [
        "!pip install scikit-learn\n",
        "from sklearn.decomposition import PCA\n",
        "\n",
        "pca = PCA(n_components=min(X_train.shape[0], X_train.shape[1]))\n",
        "pca.fit(X_train)\n",
        "X_train_pca = pca.transform(X_train)\n",
        "X_test_pca = pca.transform(X_test)\n",
        "\n",
        "print(X_train_pca.shape)\n",
        "print(X_test_pca.shape)"
      ],
      "metadata": {
        "colab": {
          "base_uri": "https://localhost:8080/"
        },
        "id": "NrzOCvz9xaoT",
        "outputId": "27e25d32-4571-4d50-9bcb-f5652287507c"
      },
      "execution_count": 70,
      "outputs": [
        {
          "output_type": "stream",
          "name": "stdout",
          "text": [
            "Requirement already satisfied: scikit-learn in /usr/local/lib/python3.10/dist-packages (1.2.2)\n",
            "Requirement already satisfied: numpy>=1.17.3 in /usr/local/lib/python3.10/dist-packages (from scikit-learn) (1.25.2)\n",
            "Requirement already satisfied: scipy>=1.3.2 in /usr/local/lib/python3.10/dist-packages (from scikit-learn) (1.11.4)\n",
            "Requirement already satisfied: joblib>=1.1.1 in /usr/local/lib/python3.10/dist-packages (from scikit-learn) (1.4.2)\n",
            "Requirement already satisfied: threadpoolctl>=2.0.0 in /usr/local/lib/python3.10/dist-packages (from scikit-learn) (3.5.0)\n",
            "(3132, 9)\n",
            "(1045, 9)\n"
          ]
        }
      ]
    },
    {
      "cell_type": "code",
      "source": [
        "grid_search = GridSearchCV(estimator = hpt_svm_reg,\n",
        "                          param_grid = hpt_param_grid,\n",
        "                          cv = 5)"
      ],
      "metadata": {
        "id": "JgBztiAuydPY"
      },
      "execution_count": null,
      "outputs": []
    },
    {
      "cell_type": "code",
      "source": [
        "grid_search.fit(X_train_pca,y_train)"
      ],
      "metadata": {
        "colab": {
          "base_uri": "https://localhost:8080/",
          "height": 117
        },
        "id": "AgUptmRVytFq",
        "outputId": "415e6202-7e8c-407c-cc6b-1b94fa53be82"
      },
      "execution_count": null,
      "outputs": [
        {
          "output_type": "execute_result",
          "data": {
            "text/plain": [
              "GridSearchCV(cv=5, estimator=SVR(),\n",
              "             param_grid=[{'C': [1, 2, 3, 4, 5, 6, 7, 8, 9],\n",
              "                          'gamma': array([0.        , 0.00204082, 0.00408163, 0.00612245, 0.00816327,\n",
              "       0.01020408, 0.0122449 , 0.01428571, 0.01632653, 0.01836735,\n",
              "       0.02040816, 0.02244898, 0.0244898 , 0.02653061, 0.02857143,\n",
              "       0.03061224, 0.03265306, 0.03469388, 0.03673469, 0.03877551,\n",
              "       0.04081633, 0.04285714, 0.04489796, 0.04693878, 0.04897959,\n",
              "       0.05102041, 0.05306122, 0.05510204, 0.05714286, 0.05918367,\n",
              "       0.06122449, 0.06326531, 0.06530612, 0.06734694, 0.06938776,\n",
              "       0.07142857, 0.07346939, 0.0755102 , 0.07755102, 0.07959184,\n",
              "       0.08163265, 0.08367347, 0.08571429, 0.0877551 , 0.08979592,\n",
              "       0.09183673, 0.09387755, 0.09591837, 0.09795918, 0.1       ])}])"
            ],
            "text/html": [
              "<style>#sk-container-id-2 {color: black;background-color: white;}#sk-container-id-2 pre{padding: 0;}#sk-container-id-2 div.sk-toggleable {background-color: white;}#sk-container-id-2 label.sk-toggleable__label {cursor: pointer;display: block;width: 100%;margin-bottom: 0;padding: 0.3em;box-sizing: border-box;text-align: center;}#sk-container-id-2 label.sk-toggleable__label-arrow:before {content: \"▸\";float: left;margin-right: 0.25em;color: #696969;}#sk-container-id-2 label.sk-toggleable__label-arrow:hover:before {color: black;}#sk-container-id-2 div.sk-estimator:hover label.sk-toggleable__label-arrow:before {color: black;}#sk-container-id-2 div.sk-toggleable__content {max-height: 0;max-width: 0;overflow: hidden;text-align: left;background-color: #f0f8ff;}#sk-container-id-2 div.sk-toggleable__content pre {margin: 0.2em;color: black;border-radius: 0.25em;background-color: #f0f8ff;}#sk-container-id-2 input.sk-toggleable__control:checked~div.sk-toggleable__content {max-height: 200px;max-width: 100%;overflow: auto;}#sk-container-id-2 input.sk-toggleable__control:checked~label.sk-toggleable__label-arrow:before {content: \"▾\";}#sk-container-id-2 div.sk-estimator input.sk-toggleable__control:checked~label.sk-toggleable__label {background-color: #d4ebff;}#sk-container-id-2 div.sk-label input.sk-toggleable__control:checked~label.sk-toggleable__label {background-color: #d4ebff;}#sk-container-id-2 input.sk-hidden--visually {border: 0;clip: rect(1px 1px 1px 1px);clip: rect(1px, 1px, 1px, 1px);height: 1px;margin: -1px;overflow: hidden;padding: 0;position: absolute;width: 1px;}#sk-container-id-2 div.sk-estimator {font-family: monospace;background-color: #f0f8ff;border: 1px dotted black;border-radius: 0.25em;box-sizing: border-box;margin-bottom: 0.5em;}#sk-container-id-2 div.sk-estimator:hover {background-color: #d4ebff;}#sk-container-id-2 div.sk-parallel-item::after {content: \"\";width: 100%;border-bottom: 1px solid gray;flex-grow: 1;}#sk-container-id-2 div.sk-label:hover label.sk-toggleable__label {background-color: #d4ebff;}#sk-container-id-2 div.sk-serial::before {content: \"\";position: absolute;border-left: 1px solid gray;box-sizing: border-box;top: 0;bottom: 0;left: 50%;z-index: 0;}#sk-container-id-2 div.sk-serial {display: flex;flex-direction: column;align-items: center;background-color: white;padding-right: 0.2em;padding-left: 0.2em;position: relative;}#sk-container-id-2 div.sk-item {position: relative;z-index: 1;}#sk-container-id-2 div.sk-parallel {display: flex;align-items: stretch;justify-content: center;background-color: white;position: relative;}#sk-container-id-2 div.sk-item::before, #sk-container-id-2 div.sk-parallel-item::before {content: \"\";position: absolute;border-left: 1px solid gray;box-sizing: border-box;top: 0;bottom: 0;left: 50%;z-index: -1;}#sk-container-id-2 div.sk-parallel-item {display: flex;flex-direction: column;z-index: 1;position: relative;background-color: white;}#sk-container-id-2 div.sk-parallel-item:first-child::after {align-self: flex-end;width: 50%;}#sk-container-id-2 div.sk-parallel-item:last-child::after {align-self: flex-start;width: 50%;}#sk-container-id-2 div.sk-parallel-item:only-child::after {width: 0;}#sk-container-id-2 div.sk-dashed-wrapped {border: 1px dashed gray;margin: 0 0.4em 0.5em 0.4em;box-sizing: border-box;padding-bottom: 0.4em;background-color: white;}#sk-container-id-2 div.sk-label label {font-family: monospace;font-weight: bold;display: inline-block;line-height: 1.2em;}#sk-container-id-2 div.sk-label-container {text-align: center;}#sk-container-id-2 div.sk-container {/* jupyter's `normalize.less` sets `[hidden] { display: none; }` but bootstrap.min.css set `[hidden] { display: none !important; }` so we also need the `!important` here to be able to override the default hidden behavior on the sphinx rendered scikit-learn.org. See: https://github.com/scikit-learn/scikit-learn/issues/21755 */display: inline-block !important;position: relative;}#sk-container-id-2 div.sk-text-repr-fallback {display: none;}</style><div id=\"sk-container-id-2\" class=\"sk-top-container\"><div class=\"sk-text-repr-fallback\"><pre>GridSearchCV(cv=5, estimator=SVR(),\n",
              "             param_grid=[{&#x27;C&#x27;: [1, 2, 3, 4, 5, 6, 7, 8, 9],\n",
              "                          &#x27;gamma&#x27;: array([0.        , 0.00204082, 0.00408163, 0.00612245, 0.00816327,\n",
              "       0.01020408, 0.0122449 , 0.01428571, 0.01632653, 0.01836735,\n",
              "       0.02040816, 0.02244898, 0.0244898 , 0.02653061, 0.02857143,\n",
              "       0.03061224, 0.03265306, 0.03469388, 0.03673469, 0.03877551,\n",
              "       0.04081633, 0.04285714, 0.04489796, 0.04693878, 0.04897959,\n",
              "       0.05102041, 0.05306122, 0.05510204, 0.05714286, 0.05918367,\n",
              "       0.06122449, 0.06326531, 0.06530612, 0.06734694, 0.06938776,\n",
              "       0.07142857, 0.07346939, 0.0755102 , 0.07755102, 0.07959184,\n",
              "       0.08163265, 0.08367347, 0.08571429, 0.0877551 , 0.08979592,\n",
              "       0.09183673, 0.09387755, 0.09591837, 0.09795918, 0.1       ])}])</pre><b>In a Jupyter environment, please rerun this cell to show the HTML representation or trust the notebook. <br />On GitHub, the HTML representation is unable to render, please try loading this page with nbviewer.org.</b></div><div class=\"sk-container\" hidden><div class=\"sk-item sk-dashed-wrapped\"><div class=\"sk-label-container\"><div class=\"sk-label sk-toggleable\"><input class=\"sk-toggleable__control sk-hidden--visually\" id=\"sk-estimator-id-4\" type=\"checkbox\" ><label for=\"sk-estimator-id-4\" class=\"sk-toggleable__label sk-toggleable__label-arrow\">GridSearchCV</label><div class=\"sk-toggleable__content\"><pre>GridSearchCV(cv=5, estimator=SVR(),\n",
              "             param_grid=[{&#x27;C&#x27;: [1, 2, 3, 4, 5, 6, 7, 8, 9],\n",
              "                          &#x27;gamma&#x27;: array([0.        , 0.00204082, 0.00408163, 0.00612245, 0.00816327,\n",
              "       0.01020408, 0.0122449 , 0.01428571, 0.01632653, 0.01836735,\n",
              "       0.02040816, 0.02244898, 0.0244898 , 0.02653061, 0.02857143,\n",
              "       0.03061224, 0.03265306, 0.03469388, 0.03673469, 0.03877551,\n",
              "       0.04081633, 0.04285714, 0.04489796, 0.04693878, 0.04897959,\n",
              "       0.05102041, 0.05306122, 0.05510204, 0.05714286, 0.05918367,\n",
              "       0.06122449, 0.06326531, 0.06530612, 0.06734694, 0.06938776,\n",
              "       0.07142857, 0.07346939, 0.0755102 , 0.07755102, 0.07959184,\n",
              "       0.08163265, 0.08367347, 0.08571429, 0.0877551 , 0.08979592,\n",
              "       0.09183673, 0.09387755, 0.09591837, 0.09795918, 0.1       ])}])</pre></div></div></div><div class=\"sk-parallel\"><div class=\"sk-parallel-item\"><div class=\"sk-item\"><div class=\"sk-label-container\"><div class=\"sk-label sk-toggleable\"><input class=\"sk-toggleable__control sk-hidden--visually\" id=\"sk-estimator-id-5\" type=\"checkbox\" ><label for=\"sk-estimator-id-5\" class=\"sk-toggleable__label sk-toggleable__label-arrow\">estimator: SVR</label><div class=\"sk-toggleable__content\"><pre>SVR()</pre></div></div></div><div class=\"sk-serial\"><div class=\"sk-item\"><div class=\"sk-estimator sk-toggleable\"><input class=\"sk-toggleable__control sk-hidden--visually\" id=\"sk-estimator-id-6\" type=\"checkbox\" ><label for=\"sk-estimator-id-6\" class=\"sk-toggleable__label sk-toggleable__label-arrow\">SVR</label><div class=\"sk-toggleable__content\"><pre>SVR()</pre></div></div></div></div></div></div></div></div></div></div>"
            ]
          },
          "metadata": {},
          "execution_count": 24
        }
      ]
    },
    {
      "cell_type": "code",
      "source": [
        "newscore = grid_search.score(X_test_pca,y_test)\n",
        "print(newscore)"
      ],
      "metadata": {
        "colab": {
          "base_uri": "https://localhost:8080/"
        },
        "id": "B1dj9xNby0FD",
        "outputId": "5d56e50f-3ae9-4ca4-9d3e-df2145904d3b"
      },
      "execution_count": null,
      "outputs": [
        {
          "output_type": "stream",
          "name": "stdout",
          "text": [
            "0.5698455708703736\n"
          ]
        }
      ]
    },
    {
      "cell_type": "markdown",
      "source": [
        "# Feature selection"
      ],
      "metadata": {
        "id": "lp2cDW_Oy5bX"
      }
    },
    {
      "cell_type": "code",
      "source": [
        "from sklearn.feature_selection import SelectPercentile, f_regression\n",
        "\n",
        "fs = SelectPercentile(score_func=f_regression,percentile=50)\n",
        "X_train_fs = fs.fit_transform(X_train,y_train)\n",
        "X_test_fs = fs.transform(X_test)\n",
        "\n",
        "print(X_train_fs.shape)\n",
        "print(X_test_fs.shape)"
      ],
      "metadata": {
        "colab": {
          "base_uri": "https://localhost:8080/"
        },
        "id": "Sn6n8Xyxy4-I",
        "outputId": "cbca8c02-2690-47e2-959c-8f8dd427d886"
      },
      "execution_count": 22,
      "outputs": [
        {
          "output_type": "stream",
          "name": "stdout",
          "text": [
            "(3132, 4)\n",
            "(1045, 4)\n"
          ]
        }
      ]
    },
    {
      "cell_type": "code",
      "source": [
        "fs.get_feature_names_out()"
      ],
      "metadata": {
        "colab": {
          "base_uri": "https://localhost:8080/"
        },
        "id": "ES1Lz2vA5-jz",
        "outputId": "5c78078a-e510-46d6-ad71-315dab1757a5"
      },
      "execution_count": 23,
      "outputs": [
        {
          "output_type": "execute_result",
          "data": {
            "text/plain": [
              "array(['x0', 'x1', 'x2', 'x6'], dtype=object)"
            ]
          },
          "metadata": {},
          "execution_count": 23
        }
      ]
    },
    {
      "cell_type": "code",
      "source": [
        "grid_search = GridSearchCV(estimator = hpt_svm_reg,\n",
        "                          param_grid = hpt_param_grid,\n",
        "                          cv = 5)\n",
        "grid_search.fit(X_train_fs,y_train)"
      ],
      "metadata": {
        "id": "nsyZGVl46B-z",
        "colab": {
          "base_uri": "https://localhost:8080/",
          "height": 117
        },
        "outputId": "b8b02474-4680-473a-e5ac-23ec7af0588f"
      },
      "execution_count": 24,
      "outputs": [
        {
          "output_type": "execute_result",
          "data": {
            "text/plain": [
              "GridSearchCV(cv=5, estimator=SVR(),\n",
              "             param_grid=[{'C': [1, 2, 3, 4, 5, 6, 7, 8, 9],\n",
              "                          'gamma': array([0.        , 0.00204082, 0.00408163, 0.00612245, 0.00816327,\n",
              "       0.01020408, 0.0122449 , 0.01428571, 0.01632653, 0.01836735,\n",
              "       0.02040816, 0.02244898, 0.0244898 , 0.02653061, 0.02857143,\n",
              "       0.03061224, 0.03265306, 0.03469388, 0.03673469, 0.03877551,\n",
              "       0.04081633, 0.04285714, 0.04489796, 0.04693878, 0.04897959,\n",
              "       0.05102041, 0.05306122, 0.05510204, 0.05714286, 0.05918367,\n",
              "       0.06122449, 0.06326531, 0.06530612, 0.06734694, 0.06938776,\n",
              "       0.07142857, 0.07346939, 0.0755102 , 0.07755102, 0.07959184,\n",
              "       0.08163265, 0.08367347, 0.08571429, 0.0877551 , 0.08979592,\n",
              "       0.09183673, 0.09387755, 0.09591837, 0.09795918, 0.1       ])}])"
            ],
            "text/html": [
              "<style>#sk-container-id-2 {color: black;background-color: white;}#sk-container-id-2 pre{padding: 0;}#sk-container-id-2 div.sk-toggleable {background-color: white;}#sk-container-id-2 label.sk-toggleable__label {cursor: pointer;display: block;width: 100%;margin-bottom: 0;padding: 0.3em;box-sizing: border-box;text-align: center;}#sk-container-id-2 label.sk-toggleable__label-arrow:before {content: \"▸\";float: left;margin-right: 0.25em;color: #696969;}#sk-container-id-2 label.sk-toggleable__label-arrow:hover:before {color: black;}#sk-container-id-2 div.sk-estimator:hover label.sk-toggleable__label-arrow:before {color: black;}#sk-container-id-2 div.sk-toggleable__content {max-height: 0;max-width: 0;overflow: hidden;text-align: left;background-color: #f0f8ff;}#sk-container-id-2 div.sk-toggleable__content pre {margin: 0.2em;color: black;border-radius: 0.25em;background-color: #f0f8ff;}#sk-container-id-2 input.sk-toggleable__control:checked~div.sk-toggleable__content {max-height: 200px;max-width: 100%;overflow: auto;}#sk-container-id-2 input.sk-toggleable__control:checked~label.sk-toggleable__label-arrow:before {content: \"▾\";}#sk-container-id-2 div.sk-estimator input.sk-toggleable__control:checked~label.sk-toggleable__label {background-color: #d4ebff;}#sk-container-id-2 div.sk-label input.sk-toggleable__control:checked~label.sk-toggleable__label {background-color: #d4ebff;}#sk-container-id-2 input.sk-hidden--visually {border: 0;clip: rect(1px 1px 1px 1px);clip: rect(1px, 1px, 1px, 1px);height: 1px;margin: -1px;overflow: hidden;padding: 0;position: absolute;width: 1px;}#sk-container-id-2 div.sk-estimator {font-family: monospace;background-color: #f0f8ff;border: 1px dotted black;border-radius: 0.25em;box-sizing: border-box;margin-bottom: 0.5em;}#sk-container-id-2 div.sk-estimator:hover {background-color: #d4ebff;}#sk-container-id-2 div.sk-parallel-item::after {content: \"\";width: 100%;border-bottom: 1px solid gray;flex-grow: 1;}#sk-container-id-2 div.sk-label:hover label.sk-toggleable__label {background-color: #d4ebff;}#sk-container-id-2 div.sk-serial::before {content: \"\";position: absolute;border-left: 1px solid gray;box-sizing: border-box;top: 0;bottom: 0;left: 50%;z-index: 0;}#sk-container-id-2 div.sk-serial {display: flex;flex-direction: column;align-items: center;background-color: white;padding-right: 0.2em;padding-left: 0.2em;position: relative;}#sk-container-id-2 div.sk-item {position: relative;z-index: 1;}#sk-container-id-2 div.sk-parallel {display: flex;align-items: stretch;justify-content: center;background-color: white;position: relative;}#sk-container-id-2 div.sk-item::before, #sk-container-id-2 div.sk-parallel-item::before {content: \"\";position: absolute;border-left: 1px solid gray;box-sizing: border-box;top: 0;bottom: 0;left: 50%;z-index: -1;}#sk-container-id-2 div.sk-parallel-item {display: flex;flex-direction: column;z-index: 1;position: relative;background-color: white;}#sk-container-id-2 div.sk-parallel-item:first-child::after {align-self: flex-end;width: 50%;}#sk-container-id-2 div.sk-parallel-item:last-child::after {align-self: flex-start;width: 50%;}#sk-container-id-2 div.sk-parallel-item:only-child::after {width: 0;}#sk-container-id-2 div.sk-dashed-wrapped {border: 1px dashed gray;margin: 0 0.4em 0.5em 0.4em;box-sizing: border-box;padding-bottom: 0.4em;background-color: white;}#sk-container-id-2 div.sk-label label {font-family: monospace;font-weight: bold;display: inline-block;line-height: 1.2em;}#sk-container-id-2 div.sk-label-container {text-align: center;}#sk-container-id-2 div.sk-container {/* jupyter's `normalize.less` sets `[hidden] { display: none; }` but bootstrap.min.css set `[hidden] { display: none !important; }` so we also need the `!important` here to be able to override the default hidden behavior on the sphinx rendered scikit-learn.org. See: https://github.com/scikit-learn/scikit-learn/issues/21755 */display: inline-block !important;position: relative;}#sk-container-id-2 div.sk-text-repr-fallback {display: none;}</style><div id=\"sk-container-id-2\" class=\"sk-top-container\"><div class=\"sk-text-repr-fallback\"><pre>GridSearchCV(cv=5, estimator=SVR(),\n",
              "             param_grid=[{&#x27;C&#x27;: [1, 2, 3, 4, 5, 6, 7, 8, 9],\n",
              "                          &#x27;gamma&#x27;: array([0.        , 0.00204082, 0.00408163, 0.00612245, 0.00816327,\n",
              "       0.01020408, 0.0122449 , 0.01428571, 0.01632653, 0.01836735,\n",
              "       0.02040816, 0.02244898, 0.0244898 , 0.02653061, 0.02857143,\n",
              "       0.03061224, 0.03265306, 0.03469388, 0.03673469, 0.03877551,\n",
              "       0.04081633, 0.04285714, 0.04489796, 0.04693878, 0.04897959,\n",
              "       0.05102041, 0.05306122, 0.05510204, 0.05714286, 0.05918367,\n",
              "       0.06122449, 0.06326531, 0.06530612, 0.06734694, 0.06938776,\n",
              "       0.07142857, 0.07346939, 0.0755102 , 0.07755102, 0.07959184,\n",
              "       0.08163265, 0.08367347, 0.08571429, 0.0877551 , 0.08979592,\n",
              "       0.09183673, 0.09387755, 0.09591837, 0.09795918, 0.1       ])}])</pre><b>In a Jupyter environment, please rerun this cell to show the HTML representation or trust the notebook. <br />On GitHub, the HTML representation is unable to render, please try loading this page with nbviewer.org.</b></div><div class=\"sk-container\" hidden><div class=\"sk-item sk-dashed-wrapped\"><div class=\"sk-label-container\"><div class=\"sk-label sk-toggleable\"><input class=\"sk-toggleable__control sk-hidden--visually\" id=\"sk-estimator-id-4\" type=\"checkbox\" ><label for=\"sk-estimator-id-4\" class=\"sk-toggleable__label sk-toggleable__label-arrow\">GridSearchCV</label><div class=\"sk-toggleable__content\"><pre>GridSearchCV(cv=5, estimator=SVR(),\n",
              "             param_grid=[{&#x27;C&#x27;: [1, 2, 3, 4, 5, 6, 7, 8, 9],\n",
              "                          &#x27;gamma&#x27;: array([0.        , 0.00204082, 0.00408163, 0.00612245, 0.00816327,\n",
              "       0.01020408, 0.0122449 , 0.01428571, 0.01632653, 0.01836735,\n",
              "       0.02040816, 0.02244898, 0.0244898 , 0.02653061, 0.02857143,\n",
              "       0.03061224, 0.03265306, 0.03469388, 0.03673469, 0.03877551,\n",
              "       0.04081633, 0.04285714, 0.04489796, 0.04693878, 0.04897959,\n",
              "       0.05102041, 0.05306122, 0.05510204, 0.05714286, 0.05918367,\n",
              "       0.06122449, 0.06326531, 0.06530612, 0.06734694, 0.06938776,\n",
              "       0.07142857, 0.07346939, 0.0755102 , 0.07755102, 0.07959184,\n",
              "       0.08163265, 0.08367347, 0.08571429, 0.0877551 , 0.08979592,\n",
              "       0.09183673, 0.09387755, 0.09591837, 0.09795918, 0.1       ])}])</pre></div></div></div><div class=\"sk-parallel\"><div class=\"sk-parallel-item\"><div class=\"sk-item\"><div class=\"sk-label-container\"><div class=\"sk-label sk-toggleable\"><input class=\"sk-toggleable__control sk-hidden--visually\" id=\"sk-estimator-id-5\" type=\"checkbox\" ><label for=\"sk-estimator-id-5\" class=\"sk-toggleable__label sk-toggleable__label-arrow\">estimator: SVR</label><div class=\"sk-toggleable__content\"><pre>SVR()</pre></div></div></div><div class=\"sk-serial\"><div class=\"sk-item\"><div class=\"sk-estimator sk-toggleable\"><input class=\"sk-toggleable__control sk-hidden--visually\" id=\"sk-estimator-id-6\" type=\"checkbox\" ><label for=\"sk-estimator-id-6\" class=\"sk-toggleable__label sk-toggleable__label-arrow\">SVR</label><div class=\"sk-toggleable__content\"><pre>SVR()</pre></div></div></div></div></div></div></div></div></div></div>"
            ]
          },
          "metadata": {},
          "execution_count": 24
        }
      ]
    },
    {
      "cell_type": "code",
      "source": [
        "score_fs = grid_search.score(X_test_fs,y_test)\n",
        "print(score_fs)"
      ],
      "metadata": {
        "colab": {
          "base_uri": "https://localhost:8080/"
        },
        "id": "SsFSlQ2XBTLc",
        "outputId": "62892b56-87ab-4b65-e374-0b90c95982b5"
      },
      "execution_count": 25,
      "outputs": [
        {
          "output_type": "stream",
          "name": "stdout",
          "text": [
            "0.4589022715343374\n"
          ]
        }
      ]
    },
    {
      "cell_type": "markdown",
      "source": [
        "# Data Visualization"
      ],
      "metadata": {
        "id": "QE35RTKov_cZ"
      }
    },
    {
      "cell_type": "code",
      "source": [
        "#T-SNE\n",
        "from sklearn.manifold import TSNE\n",
        "tsne_1 = TSNE(n_components=2,init='pca',learning_rate='auto')\n",
        "X_train_std_tsne = tsne_1.fit_transform(X_train)\n",
        "print(X_train_std_tsne.shape)"
      ],
      "metadata": {
        "colab": {
          "base_uri": "https://localhost:8080/"
        },
        "id": "0XhUMM68vKML",
        "outputId": "60dc0e15-b7b5-4458-f16b-58842e9bbd35"
      },
      "execution_count": 71,
      "outputs": [
        {
          "output_type": "stream",
          "name": "stdout",
          "text": [
            "(3132, 2)\n"
          ]
        }
      ]
    },
    {
      "cell_type": "code",
      "source": [
        "from sklearn.manifold import TSNE\n",
        "import matplotlib.pyplot as plt\n",
        "\n",
        "fig, ax = plt.subplots(figsize=(8, 8))\n",
        "\n",
        "scatter = ax.scatter(X_train_std_tsne[:, 0], X_train_std_tsne[:, 1], c=y_train, cmap='viridis', marker='o')\n",
        "\n",
        "ax.set_xlabel(\"tSNE_1\")\n",
        "ax.set_ylabel(\"tSNE_2\")\n",
        "\n",
        "colorbar = plt.colorbar(scatter)\n",
        "colorbar.set_label('rings')\n",
        "\n",
        "plt.tight_layout()\n",
        "plt.show()"
      ],
      "metadata": {
        "colab": {
          "base_uri": "https://localhost:8080/",
          "height": 807
        },
        "id": "WcoNh98cvRMO",
        "outputId": "7290bebb-dfa7-4170-8aad-4b3d5da3556c"
      },
      "execution_count": 72,
      "outputs": [
        {
          "output_type": "display_data",
          "data": {
            "text/plain": [
              "<Figure size 800x800 with 2 Axes>"
            ],
            "image/png": "[encoded data removed]"
          },
          "metadata": {}
        }
      ]
    },
    {
      "cell_type": "code",
      "source": [
        "import numpy as np\n",
        "import matplotlib.pyplot as plt\n",
        "from matplotlib import offsetbox\n",
        "from sklearn import (manifold, datasets, decomposition, ensemble,\n",
        "                     discriminant_analysis, random_projection, neighbors)"
      ],
      "metadata": {
        "id": "DVFIlWpMrIZ1"
      },
      "execution_count": 28,
      "outputs": []
    },
    {
      "cell_type": "code",
      "source": [
        "from sklearn.manifold import TSNE\n",
        "\n",
        "tsne = TSNE(n_components=2,perplexity=40, random_state=42)\n",
        "X_train_tsne = tsne.fit_transform(X_train)\n",
        "\n",
        "tsne.kl_divergence_"
      ],
      "metadata": {
        "colab": {
          "base_uri": "https://localhost:8080/"
        },
        "id": "FyGGxFvbumTA",
        "outputId": "6f7dec85-9726-442a-dd14-87b897dfcca6"
      },
      "execution_count": 39,
      "outputs": [
        {
          "output_type": "execute_result",
          "data": {
            "text/plain": [
              "0.7038719654083252"
            ]
          },
          "metadata": {},
          "execution_count": 39
        }
      ]
    },
    {
      "cell_type": "code",
      "source": [
        "!pip install plotly\n",
        "import plotly.express as px\n",
        "\n",
        "fig = px.scatter(x=X_train_tsne[:, 0], y=X_train_tsne[:, 1], color=y_train)\n",
        "fig.update_layout(\n",
        "    title=\"t-SNE visualization of dataset\",\n",
        "    xaxis_title=\"First t-SNE\",\n",
        "    yaxis_title=\"Second t-SNE\",\n",
        ")\n",
        "fig.show()"
      ],
      "metadata": {
        "colab": {
          "base_uri": "https://localhost:8080/",
          "height": 596
        },
        "id": "KsYXGJIZu0zl",
        "outputId": "9e61f069-611c-47de-ce78-6c1eac5e6657"
      },
      "execution_count": 42,
      "outputs": [
        {
          "output_type": "stream",
          "name": "stdout",
          "text": [
            "Requirement already satisfied: plotly in /usr/local/lib/python3.10/dist-packages (5.15.0)\n",
            "Requirement already satisfied: tenacity>=6.2.0 in /usr/local/lib/python3.10/dist-packages (from plotly) (8.4.2)\n",
            "Requirement already satisfied: packaging in /usr/local/lib/python3.10/dist-packages (from plotly) (24.1)\n"
          ]
        },
        {
          "output_type": "display_data",
          "data": {
            "text/html": [
              "<html>\n",
              "<head><meta charset=\"utf-8\" /></head>\n",
              "<body>\n",
              "    <div>            <script src=\"https://cdnjs.cloudflare.com/ajax/libs/mathjax/2.7.5/MathJax.js?config=TeX-AMS-MML_SVG\"></script><script type=\"text/javascript\">if (window.MathJax && window.MathJax.Hub && window.MathJax.Hub.Config) {window.MathJax.Hub.Config({SVG: {font: \"STIX-Web\"}});}</script>                <script type=\"text/javascript\">window.PlotlyConfig = {MathJaxConfig: 'local'};</script>\n",
              "        <script charset=\"utf-8\" src=\"https://cdn.plot.ly/plotly-2.24.1.min.js\"></script>                <div id=\"b93be657-b4d4-498e-a5a5-1834dc7cfa02\" class=\"plotly-graph-div\" style=\"height:525px; width:100%;\"></div>            <script type=\"text/javascript\">                                    window.PLOTLYENV=window.PLOTLYENV || {};                                    if (document.getElementById(\"b93be657-b4d4-498e-a5a5-1834dc7cfa02\")) {                    Plotly.newPlot(                        \"b93be657-b4d4-498e-a5a5-1834dc7cfa02\",                        [{\"hovertemplate\":\"x=%{x}\\u003cbr\\u003ey=%{y}\\u003cbr\\u003ecolor=%{marker.color}\\u003cextra\\u003e\\u003c\\u002fextra\\u003e\",\"legendgroup\":\"\",\"marker\":{\"color\":[9,12,10,15,6,12,8,6,9,6,8,5,8,8,11,7,14,10,10,10,11,20,7,8,9,9,9,9,9,5,10,10,8,11,8,13,6,7,11,13,8,12,11,9,12,6,6,8,9,13,6,10,7,7,5,12,10,7,8,11,10,8,13,4,8,8,9,10,9,8,8,13,9,10,15,11,12,10,9,10,8,11,10,9,4,12,10,9,6,12,11,11,15,16,9,6,6,16,11,15,15,23,17,10,10,7,10,8,16,17,11,9,8,7,12,6,9,7,6,9,6,7,15,6,10,8,8,8,15,10,11,11,12,16,12,13,8,12,10,12,7,9,9,8,8,11,7,9,7,7,8,12,5,13,4,8,8,20,9,9,9,11,11,9,12,8,9,9,9,8,10,12,8,16,7,9,19,6,9,10,8,10,10,13,15,7,8,6,10,9,6,11,12,11,9,8,8,14,11,9,5,7,8,8,12,5,7,11,8,9,7,11,7,13,12,7,8,17,4,11,14,10,8,14,6,9,8,9,8,13,6,10,5,13,20,8,9,15,8,11,11,11,8,10,9,11,7,13,10,6,10,5,6,10,7,9,11,13,11,14,11,15,10,10,10,11,11,8,17,10,10,12,7,8,8,11,7,9,7,11,10,10,7,4,11,9,9,10,11,8,10,6,12,9,15,5,9,19,8,9,13,7,7,10,7,17,10,9,9,9,9,7,8,11,11,11,13,5,6,10,10,10,12,8,9,13,7,10,23,10,7,8,6,5,8,9,17,7,9,13,5,7,9,9,9,7,6,7,9,7,11,12,8,8,12,7,11,12,5,4,7,12,10,6,9,7,7,14,11,11,5,10,9,9,9,9,10,9,8,9,10,8,11,13,15,6,7,10,11,8,9,10,11,8,11,9,7,14,9,9,20,10,7,9,8,15,8,8,12,12,3,10,12,14,9,12,10,14,10,5,9,8,9,14,9,8,6,13,7,11,6,13,8,13,7,9,8,8,14,11,13,8,8,6,7,8,10,15,5,11,10,10,10,9,10,15,10,10,8,9,10,9,13,11,9,5,10,11,6,19,12,12,13,9,11,9,16,10,12,7,7,11,8,13,7,13,11,20,14,10,10,9,9,9,11,6,10,9,6,10,6,10,11,7,14,8,10,11,15,8,9,10,7,8,9,8,12,12,11,10,10,14,9,8,12,8,15,12,14,6,10,14,7,9,9,12,9,6,8,6,7,10,7,8,6,12,7,12,11,10,4,5,10,11,13,8,9,7,9,5,11,16,13,8,18,9,10,5,4,11,9,7,11,9,17,11,6,10,20,10,7,10,9,7,12,7,9,20,13,7,7,9,9,10,13,11,10,8,6,12,9,15,11,21,11,11,10,11,8,8,9,7,11,10,10,10,11,10,9,11,7,8,8,12,6,9,15,12,8,11,10,11,8,6,9,6,6,13,10,9,8,7,11,6,11,4,6,8,3,11,15,9,10,12,18,9,10,12,12,12,10,9,7,7,5,8,6,11,11,8,12,17,12,7,6,18,7,11,3,10,9,19,11,14,8,4,12,7,8,8,8,11,11,9,5,12,10,9,7,10,11,9,7,7,12,9,20,10,14,18,9,14,9,6,29,9,9,10,5,7,10,6,8,9,10,7,8,4,9,18,8,11,10,11,9,8,12,13,8,10,6,8,10,7,13,9,8,7,11,9,8,7,7,10,10,9,7,23,7,13,8,10,7,11,7,8,9,12,11,10,9,7,18,7,10,19,13,11,6,8,13,13,18,11,11,6,9,9,11,9,9,7,11,8,6,8,13,10,10,6,7,10,9,20,11,9,5,17,16,9,10,9,17,13,10,8,7,8,9,15,9,8,13,12,8,6,10,8,10,11,8,12,7,10,9,14,4,10,11,9,13,14,9,7,5,11,18,16,11,10,8,14,18,9,19,5,11,15,6,12,6,14,7,10,10,10,12,9,5,9,9,11,20,10,9,9,7,10,10,6,2,9,6,11,9,9,12,11,19,7,8,12,15,7,9,10,11,11,12,8,15,9,11,9,11,9,9,8,11,9,8,12,16,13,4,17,8,7,8,10,4,7,6,8,6,9,9,8,14,10,9,7,18,15,13,11,13,9,11,6,9,17,11,7,9,19,9,8,15,12,10,11,11,4,9,9,10,9,5,6,12,9,10,17,9,10,13,16,11,8,9,8,9,9,18,11,7,19,6,4,12,8,5,10,16,9,11,7,6,7,7,13,19,10,7,9,12,5,9,12,5,4,14,7,9,8,14,9,10,9,6,6,10,9,11,6,16,8,6,8,11,7,8,11,15,6,9,16,9,9,17,8,8,8,6,9,6,8,4,10,8,5,8,10,9,12,9,10,12,11,10,11,9,9,19,12,12,8,17,8,10,13,13,10,8,11,10,13,10,6,7,22,14,19,6,3,6,10,10,4,7,4,9,8,6,12,9,7,14,11,8,8,8,8,9,11,8,6,11,10,9,7,12,10,9,6,13,10,9,10,8,9,7,11,6,7,11,6,10,9,7,13,15,9,15,9,11,13,13,15,11,7,9,10,12,8,9,9,10,7,8,13,8,17,12,8,6,6,8,10,9,8,15,12,5,9,9,13,13,11,14,5,12,7,11,10,10,10,20,10,9,14,12,7,8,3,4,9,8,15,6,9,6,8,10,8,10,11,10,5,13,8,10,16,8,9,10,14,6,8,11,8,8,10,8,12,12,20,12,11,9,10,14,10,8,10,19,17,12,16,4,9,11,11,5,9,11,10,15,11,11,11,10,10,5,13,9,8,9,13,8,7,9,15,17,8,7,10,15,9,8,13,10,13,9,10,10,15,8,8,6,13,10,10,10,10,16,20,12,15,7,11,3,10,7,7,9,11,8,10,9,9,11,13,6,6,8,7,11,10,9,8,10,9,10,10,7,15,11,10,9,10,21,10,11,16,7,11,10,11,7,10,12,8,13,14,12,6,8,8,10,6,6,12,9,8,7,7,11,13,8,17,13,11,10,10,7,11,6,8,7,19,10,11,18,7,12,5,11,14,5,10,9,12,11,10,11,23,16,10,8,8,13,14,9,10,8,13,26,6,7,14,10,12,9,13,13,3,8,14,10,8,9,10,7,12,12,7,9,13,14,16,5,7,8,10,8,11,7,8,8,11,14,10,14,13,10,3,7,10,9,11,11,6,9,10,8,10,8,8,8,8,11,6,9,9,9,12,11,14,11,10,10,8,7,9,15,17,9,10,6,13,13,9,10,11,10,9,7,7,9,9,12,6,11,10,10,10,15,10,12,7,9,10,8,9,8,7,8,13,8,7,9,8,9,6,9,12,27,8,11,14,9,12,11,9,20,15,10,10,14,10,4,9,8,13,15,12,11,6,8,8,16,4,9,8,10,9,12,14,9,5,10,9,9,10,11,7,13,11,14,21,8,6,11,12,9,12,8,10,16,10,9,6,9,13,11,11,15,8,9,8,10,9,10,10,6,12,7,21,16,10,14,9,7,7,6,9,10,8,16,10,7,8,6,7,15,11,12,10,13,10,10,9,6,11,6,11,12,9,15,11,7,10,15,10,5,8,9,16,9,8,16,9,11,7,7,11,6,6,17,14,10,12,8,4,11,8,12,15,10,8,9,16,10,11,8,11,5,15,13,5,11,12,8,8,11,14,14,14,8,12,17,12,20,11,10,8,10,9,13,11,12,8,12,10,10,12,11,8,9,8,8,8,9,9,12,9,1,8,3,8,10,9,14,9,18,9,10,9,7,13,8,7,7,16,11,11,12,6,9,11,13,17,11,8,6,12,9,4,7,6,13,10,8,7,6,7,7,7,10,21,16,12,16,15,11,8,11,8,11,12,10,7,8,8,10,19,9,8,11,9,8,27,13,9,13,11,7,9,9,13,10,17,7,8,16,10,15,7,11,9,10,9,21,9,6,9,15,8,16,17,9,9,11,7,8,12,11,8,7,14,9,7,8,8,7,6,18,9,11,9,16,8,12,10,9,6,12,7,10,10,11,12,19,14,8,6,10,14,10,11,9,14,7,8,10,9,7,11,11,13,10,11,9,7,18,12,8,8,16,10,8,9,4,9,11,10,12,6,6,11,9,20,6,6,10,10,12,10,11,20,9,13,9,8,11,10,8,14,8,6,7,12,11,9,9,15,18,8,3,9,9,13,9,8,19,11,7,7,7,8,9,8,8,10,8,18,6,7,8,7,13,6,8,17,9,8,10,10,8,10,12,16,4,10,21,11,18,7,6,6,8,11,4,9,11,11,10,11,13,8,13,9,11,6,9,9,9,8,11,9,11,10,8,8,11,10,13,9,13,14,15,12,9,9,9,7,8,6,9,20,9,5,8,9,12,10,9,9,11,12,12,9,9,8,10,10,5,10,6,9,11,13,9,9,11,7,6,11,6,12,9,10,9,10,7,8,6,7,10,12,13,14,9,13,10,15,11,8,15,6,12,11,14,7,11,9,11,8,9,12,8,9,6,10,11,10,11,8,10,13,7,13,8,7,6,11,11,5,8,5,11,14,9,15,10,10,8,7,8,10,9,6,17,12,24,8,6,8,18,11,12,10,7,7,13,14,7,12,12,13,8,9,20,12,8,3,22,12,6,8,14,11,11,5,9,7,9,13,4,12,9,12,8,8,7,18,6,11,19,7,10,8,7,9,8,10,17,9,8,10,4,12,8,12,11,4,17,8,14,8,8,6,8,9,15,9,8,12,10,14,7,8,11,17,7,9,11,8,11,13,9,9,6,10,8,12,6,8,7,5,9,9,8,14,6,10,11,11,9,8,8,7,9,17,13,11,9,15,11,14,16,5,12,6,18,10,15,14,11,5,10,8,8,10,9,10,14,9,9,7,9,9,10,11,21,12,15,13,11,11,10,8,14,7,10,12,13,12,8,11,10,9,8,8,9,14,10,13,11,10,9,10,10,9,11,7,9,17,9,14,9,11,11,8,11,9,14,21,7,25,8,4,9,8,10,9,10,12,8,8,7,9,9,10,6,24,10,8,16,9,8,9,9,8,8,10,10,8,9,17,5,12,7,10,6,7,8,10,10,11,7,8,6,10,10,13,9,8,11,6,11,14,5,11,5,6,6,11,7,7,19,12,11,8,10,15,11,8,9,8,8,12,6,14,8,6,5,10,6,16,11,5,12,10,9,10,9,10,6,8,8,7,10,9,9,19,15,8,18,7,7,11,11,10,9,9,10,10,11,11,7,7,7,8,8,5,13,7,11,11,11,10,14,8,7,8,8,5,9,10,7,9,7,6,6,5,6,17,8,14,7,16,10,10,9,3,6,11,9,12,9,10,10,11,8,7,11,11,8,15,8,11,13,8,8,12,5,6,8,11,8,9,10,13,10,11,11,12,10,14,8,8,10,8,5,9,10,11,12,13,9,10,12,7,11,10,10,13,7,13,13,7,13,13,12,15,8,8,10,8,12,12,9,11,6,12,5,9,8,18,11,11,9,9,9,10,20,10,11,9,10,9,8,6,7,5,6,15,15,11,11,7,9,10,10,10,10,9,10,13,13,9,9,9,10,14,11,8,7,16,11,11,11,10,12,8,8,9,10,8,11,6,9,9,22,9,12,7,13,8,8,11,14,10,10,7,10,12,11,20,11,10,8,9,11,12,8,9,10,13,4,12,19,9,10,9,14,6,10,7,8,6,10,8,4,8,6,9,10,9,9,7,8,6,12,23,10,11,10,7,6,9,9,6,8,8,11,14,8,10,8,8,6,8,11,13,10,10,9,9,17,10,14,9,13,13,8,13,11,6,10,7,10,8,7,10,6,11,7,11,9,12,10,13,9,9,8,11,9,12,5,13,4,5,15,13,10,10,10,10,9,10,9,10,9,9,9,9,7,11,8,14,10,10,6,9,6,8,17,8,6,8,8,17,9,11,8,7,9,9,11,11,7,9,9,6,9,7,9,9,10,7,10,8,10,12,7,9,10,9,18,9,9,12,10,8,12,10,8,9,11,9,11,7,10,9,9,8,11,7,13,11,7,16,9,10,8,11,8,7,4,6,6,7,11,7,9,11,4,8,15,10,10,11,5,10,11,12,11,4,12,8,20,12,7,10,8,11,9,11,10,8,8,13,16,7,7,6,9,10,13,9,8,16,9,9,14,13,10,18,5,7,6,8,8,11,6,11,6,8,14,7,9,9,5,8,10,18,14,11,9,10,7,11,15,9,9,13,9,11,10,9,8,11,6,19,10,9,11,10,8,21,8,11,8,10,13,13,5,9,11,14,12,7,9,11,9,9,13,10,7,11,13,5,9,8,10,10,10,7,13,7,8,7,11,13,15,10,6,9,10,10,8,11,13,19,21,10,8,12,11,11,14,6,7,11,7,7,17,9,10,11,7,8,11,8,9,17,7,8,8,11,10,17,7,6,12,9,11,7,10,12,9,8,13,8,11,8,12,11,16,10,6,4,10,10,10,10,9,11,10,10,6,12,12,9,11,10,15,10,10,11,11,16,11,9,9,13,19,13,9,14,5,12,9,8,12,8,9,8,9,12,8,9,10,6,11,10,12,10,9,15,13,7,19,13,8,11,13,10,13,8,10,10,9,13,13,15,10,8,7,11,16,9,12,12,8,10,7,12,16,8,11,9,6,10,11,7,8,7,6,9,8,8,10,10,9,11,10,14,17,15,9,8,5,10,8,10,8,9,9,10,8,11,15,9,11,6,10,10,7,10,11,9,11,9,13,8,7,5,15,15,12,10,12,7,10,11,10,14,10,11,17,10,10,9,8,9,10,10,6,10,9,10,9,12,8,4,11,15,11,9,9,8,10,8,8,7,7,10,11,11,8,11,10,10,9,5,15,10,10,6,15,9,9,13,9,12,11,9,9,10,8,9,9,7,8,9,7,11,12,12,7,9,16,8,9,10,14,9,12,13,10,16,11,11,10,10,14,9,12,11,13,10,11,6,9,10,11,7,8,5,8,18,17,14,8,6,16,9,17,13,8,9,13,8,9,11,8,10,6,6,7,10,9,9,13,9,16,10,17,10,17,10,13,9,12,11,9,6],\"coloraxis\":\"coloraxis\",\"symbol\":\"circle\"},\"mode\":\"markers\",\"name\":\"\",\"showlegend\":false,\"x\":[8.4005765914917,-3.8435235023498535,41.92776870727539,-17.04558753967285,-0.033166512846946716,36.278141021728516,-36.56378173828125,-33.87979507446289,-42.34394454956055,-12.076642036437988,-0.4859957993030548,-50.45045471191406,-6.64223051071167,-24.264400482177734,48.567142486572266,-35.719207763671875,27.75208854675293,-4.790432929992676,38.31269073486328,30.9573974609375,22.301433563232422,36.18307876586914,-10.594569206237793,-13.151728630065918,-4.873013496398926,25.548633575439453,33.2061653137207,5.009894371032715,-0.936991274356842,-49.88398361206055,-3.5060458183288574,21.35177993774414,-12.899530410766602,37.808860778808594,-5.611854553222656,34.57213592529297,-32.96761703491211,-11.776976585388184,43.17365646362305,0.8315082788467407,7.758573532104492,-26.210243225097656,42.73011779785156,-18.792646408081055,13.693248748779297,-25.249744415283203,-38.67643356323242,-18.67445182800293,-7.368476390838623,-43.63669967651367,-32.78008270263672,3.41637921333313,-22.927513122558594,-20.27665138244629,-36.37984848022461,46.01137161254883,-20.729928970336914,-20.428775787353516,-19.571340560913086,38.243568420410156,45.49655532836914,1.816785454750061,14.036922454833984,-45.24324035644531,-24.90784454345703,-27.523557662963867,-33.483062744140625,29.581275939941406,11.88475227355957,-15.490220069885254,-34.41670227050781,5.427538871765137,7.8752923011779785,47.39981460571289,29.08946990966797,38.31413269042969,-0.3740581274032593,1.2653124332427979,16.97156524658203,46.496429443359375,6.588255882263184,-34.112857818603516,26.211605072021484,42.29566955566406,-51.12589645385742,9.832270622253418,24.248088836669922,21.047035217285156,-22.758718490600586,0.7343378663063049,36.121639251708984,33.622215270996094,20.47074317932129,-2.52892804145813,-12.134054183959961,-41.201759338378906,-41.005836486816406,33.8752326965332,-18.28554916381836,10.020261764526367,43.214576721191406,2.45381236076355,4.565643787384033,5.052890300750732,28.707508087158203,-36.41840362548828,12.74284553527832,-15.393903732299805,5.662816047668457,6.385182857513428,20.570667266845703,-21.107906341552734,-18.493206024169922,-31.052759170532227,-4.571136474609375,-46.343711853027344,13.638570785522461,-40.48305892944336,-46.71563720703125,1.0934226512908936,2.815199613571167,-17.503454208374023,31.36393928527832,-29.692832946777344,-4.940738677978516,-28.199617385864258,-34.19717025756836,7.42087459564209,36.130069732666016,47.457977294921875,41.47442626953125,13.001076698303223,-6.654370307922363,-24.888792037963867,0.558804452419281,37.28300476074219,-7.817443370819092,-1.1951984167099,0.7914717793464661,-3.081310272216797,1.1181291341781616,46.30094909667969,5.3283772468566895,-20.62114715576172,-0.1979491263628006,7.369223117828369,-13.635720252990723,-5.82852029800415,29.40593719482422,-36.73069381713867,-2.1555962562561035,10.970096588134766,-48.382591247558594,-5.630550384521484,-50.52809524536133,-15.115023612976074,1.9966425895690918,19.176856994628906,-25.36553955078125,-16.54673957824707,5.0040435791015625,39.402183532714844,26.107481002807617,-7.953784465789795,36.742103576660156,0.610818088054657,-33.07040023803711,3.9943463802337646,-13.068416595458984,-30.458545684814453,32.66549301147461,-11.562833786010742,7.40100622177124,36.783538818359375,-17.613046646118164,-2.375164031982422,0.8511061072349548,-8.742008209228516,-23.098140716552734,28.758943557739258,-16.125837326049805,1.6165740489959717,17.767473220825195,6.667304515838623,11.144161224365234,-16.914262771606445,29.844518661499023,-44.36078643798828,-20.05321502685547,-13.821006774902344,-40.61948013305664,3.217162847518921,0.816347599029541,30.867300033569336,-17.865400314331055,31.752830505371094,-10.539116859436035,0.9139646291732788,-14.787850379943848,-25.310827255249023,-41.6844596862793,-13.750419616699219,-32.700965881347656,24.298240661621094,28.817766189575195,-19.993417739868164,-4.28096342086792,36.678733825683594,-24.09087371826172,-1.8194235563278198,-33.23415756225586,-18.87116241455078,-37.63851547241211,13.793684005737305,32.47789001464844,-25.83742332458496,-17.00243377685547,21.70643424987793,-37.6574592590332,10.159566879272461,43.36984634399414,32.8559455871582,3.7794764041900635,0.2947358787059784,-31.06181526184082,-30.964509963989258,14.308614730834961,16.58563232421875,-13.704323768615723,-0.8682831525802612,-46.15542984008789,-11.824652671813965,-28.717622756958008,34.212406158447266,20.33083724975586,44.13776397705078,11.088980674743652,-15.930238723754883,-44.52750015258789,41.834007263183594,29.015392303466797,9.167318344116211,-11.997035026550293,13.749929428100586,-1.357420563697815,44.85935974121094,-22.0390682220459,29.01064109802246,38.667877197265625,-37.775508880615234,0.8306809663772583,-48.74684143066406,-20.00514030456543,46.0645751953125,-16.574718475341797,21.684234619140625,-12.449321746826172,2.822962760925293,38.343387603759766,20.692838668823242,33.41083908081055,9.781534194946289,1.4059447050094604,-13.511366844177246,23.642120361328125,38.41923522949219,42.07966613769531,-6.585610389709473,2.9984700679779053,28.030807495117188,35.75111389160156,26.66107749938965,-36.164146423339844,-7.663501262664795,23.799772262573242,26.711130142211914,-17.913108825683594,12.797611236572266,-39.97126388549805,39.06205368041992,-3.1969082355499268,8.757678031921387,-7.823090076446533,-49.095237731933594,32.53810501098633,-20.9552059173584,35.14326477050781,-19.827558517456055,6.907306671142578,-25.02528190612793,23.824735641479492,-36.48982620239258,11.711219787597656,-32.90394592285156,22.8859806060791,-42.84477233886719,18.0931339263916,36.01587677001953,-8.499497413635254,3.5460402965545654,9.9545259475708,-24.261106491088867,-19.770435333251953,29.282657623291016,-22.003679275512695,1.8292487859725952,35.22286605834961,-2.637596607208252,30.959028244018555,24.644174575805664,17.78486442565918,-16.210783004760742,-11.356253623962402,-22.649005889892578,26.154497146606445,39.78474044799805,7.671417236328125,-34.55706787109375,-28.72928810119629,36.41665267944336,7.668620586395264,-23.731178283691406,13.353452682495117,-6.985884189605713,38.99892807006836,7.129171848297119,26.670961380004883,-32.649227142333984,25.620826721191406,-17.246185302734375,-45.153438568115234,-16.010770797729492,-14.936400413513184,-39.30808639526367,-8.093969345092773,-18.169057846069336,0.27870476245880127,-31.110010147094727,2.9702811241149902,5.126170635223389,-38.78263854980469,-39.783714294433594,-27.263269424438477,9.40667724609375,-10.219756126403809,-6.624255657196045,-25.629364013671875,-35.217674255371094,4.403926372528076,-34.13872146606445,43.43434524536133,16.141693115234375,-14.931805610656738,2.5793333053588867,33.12641143798828,19.8873291015625,39.650535583496094,-0.03526552394032478,-48.393402099609375,-51.12636184692383,-19.34186363220215,8.840082168579102,-3.4584264755249023,-31.1551570892334,-11.613286018371582,-41.7343864440918,-23.653011322021484,36.491729736328125,-17.37256622314453,-27.10150718688965,-43.5911979675293,7.593139171600342,-12.771297454833984,25.16385269165039,28.739879608154297,-11.077522277832031,-1.0901994705200195,6.027159214019775,19.59210205078125,-15.615309715270996,-5.139810085296631,-23.478370666503906,43.168357849121094,38.92107391357422,-7.991807460784912,-41.81180953979492,-14.959328651428223,28.998218536376953,40.034698486328125,-13.784363746643066,20.67390251159668,24.808584213256836,19.685306549072266,-16.532007217407227,40.8127555847168,2.725273370742798,-18.680727005004883,-4.206934928894043,19.962352752685547,-17.721643447875977,30.944881439208984,-31.849767684936523,-40.927894592285156,34.987613677978516,-10.61670970916748,9.66729736328125,-8.51407527923584,-29.21212387084961,4.155102252960205,10.727544784545898,-51.08935546875,7.880407333374023,22.099346160888672,18.910404205322266,-11.971955299377441,46.92879867553711,3.1594367027282715,21.893558502197266,2.979220151901245,-19.11773681640625,-35.294681549072266,-5.546119689941406,-26.92340660095215,-11.177464485168457,-6.852334499359131,23.26497459411621,-37.85626220703125,-2.3194801807403564,-27.760501861572266,46.341064453125,-40.70814895629883,16.380077362060547,14.352593421936035,-11.773170471191406,-32.99113082885742,6.093772888183594,10.787177085876465,-2.9410009384155273,43.437355041503906,-8.984291076660156,41.5926628112793,-5.029342174530029,-10.161726951599121,-47.543766021728516,-35.77873992919922,-27.042232513427734,-0.7277266383171082,9.58719253540039,-48.53893280029297,2.451535940170288,25.462970733642578,7.60516357421875,26.309690475463867,-43.355308532714844,-0.5851948857307434,-8.019048690795898,19.658926010131836,42.60539627075195,-25.860998153686523,-6.01059103012085,39.24918746948242,-12.908382415771484,-19.621395111083984,18.956966400146484,44.79130172729492,-38.63535690307617,32.22112274169922,-3.840456962585449,-39.72490310668945,20.591156005859375,38.74191665649414,32.40256118774414,44.14164733886719,-5.401668071746826,16.27867317199707,34.626914978027344,6.848623752593994,-1.4323949813842773,20.13346290588379,-27.83815574645996,-23.086009979248047,32.78091812133789,-1.758474588394165,-6.6919636726379395,-35.93718719482422,18.85118293762207,46.99577713012695,19.241981506347656,18.364953994750977,2.1938087940216064,19.624412536621094,-13.817168235778809,5.557862281799316,-5.640890121459961,1.2490087747573853,-11.710530281066895,10.735223770141602,3.5740902423858643,-44.22515106201172,-19.16973114013672,-25.47025489807129,29.410051345825195,36.177127838134766,-42.14638137817383,9.034132957458496,3.1157045364379883,39.43659591674805,41.65324783325195,32.825111389160156,-1.742415189743042,6.165441989898682,-16.448545455932617,-26.97652816772461,-8.559577941894531,9.917956352233887,16.952280044555664,21.558460235595703,23.451692581176758,16.597763061523438,28.20834732055664,0.5263512134552002,28.87505340576172,-11.740670204162598,-39.700050354003906,8.80151653289795,-29.618295669555664,-6.1655192375183105,36.392333984375,40.856590270996094,-25.047325134277344,33.92643356323242,7.634383201599121,-21.41697120666504,21.049402236938477,-15.425883293151855,-5.940762042999268,-13.681525230407715,-38.32386779785156,11.657042503356934,-47.192405700683594,-15.423810005187988,-24.591121673583984,-33.98896789550781,-14.347561836242676,-40.92897415161133,47.59579086303711,-30.829526901245117,-16.50445556640625,35.80954360961914,46.11592483520508,-43.654850006103516,-31.375064849853516,38.87887954711914,-20.560312271118164,10.020366668701172,-19.187454223632812,25.94901466369629,-39.71065902709961,-11.40418815612793,-47.58281707763672,47.63969421386719,4.440711498260498,4.1567583084106445,-15.470698356628418,32.32790756225586,0.5155822038650513,18.9218807220459,-47.562381744384766,-33.207576751708984,41.394493103027344,-29.954288482666016,-42.37218475341797,19.879758834838867,32.24690628051758,20.567914962768555,-16.96123504638672,-31.123769760131836,26.966920852661133,18.189088821411133,28.06960105895996,-41.627872467041016,37.30342483520508,24.59134292602539,-38.93707275390625,32.103111267089844,-14.338833808898926,-7.058663368225098,0.8016232848167419,-2.498842716217041,-33.80442810058594,-8.597890853881836,-7.521004676818848,7.5868916511535645,31.118419647216797,19.348129272460938,44.55943298339844,26.27787971496582,-19.298236846923828,-42.33259582519531,-17.877405166625977,9.58536434173584,28.824851989746094,28.45763397216797,42.925540924072266,-40.969390869140625,31.589557647705078,3.6172547340393066,43.03679656982422,-39.21466827392578,34.926177978515625,19.95636558532715,-34.0738410949707,29.47588348388672,35.1405029296875,13.91330337524414,-12.730807304382324,6.441248416900635,28.367067337036133,12.138704299926758,23.219863891601562,-18.24811553955078,-19.4405574798584,1.6483315229415894,0.6969298124313354,-38.7317008972168,10.504332542419434,-22.63189125061035,4.503205299377441,-22.818096160888672,3.4985194206237793,32.40909957885742,41.542633056640625,-8.118313789367676,-10.176305770874023,22.331377029418945,-46.322998046875,-44.32465744018555,5.1995062828063965,10.051783561706543,7.921106338500977,-18.0217227935791,-6.76936149597168,48.16812515258789,-45.367820739746094,17.71792221069336,-46.79315948486328,-19.909055709838867,23.200376510620117,-51.98438262939453,8.98942756652832,34.877140045166016,17.867815017700195,-5.408708572387695,46.41712188720703,45.76103591918945,-18.86018943786621,21.62727928161621,10.924055099487305,-7.91913366317749,0.8039231896400452,38.23098373413086,-22.450613021850586,-28.576215744018555,-35.86849594116211,-26.54606819152832,22.724504470825195,-31.778715133666992,32.68626022338867,-3.3427345752716064,14.25631046295166,20.712541580200195,8.51611328125,5.583105564117432,-11.256449699401855,-31.689804077148438,3.798072338104248,-20.132305145263672,15.43791389465332,-51.148902893066406,31.73059844970703,-24.91737174987793,32.78633117675781,-11.273423194885254,-0.2001902014017105,-34.21372604370117,-49.21122360229492,-24.480003356933594,-19.236469268798828,-43.63824462890625,2.258708953857422,3.2024269104003906,42.11319351196289,38.187294006347656,19.48311424255371,-37.439208984375,0.06695356965065002,14.402338981628418,-18.21246337890625,7.748894214630127,23.131816864013672,28.78972053527832,34.97382736206055,-23.021804809570312,-31.896841049194336,21.365459442138672,6.034816265106201,10.097262382507324,42.266300201416016,27.261276245117188,26.768449783325195,3.3384528160095215,2.4529993534088135,-20.48113250732422,-36.29715347290039,41.01590347290039,32.17313003540039,-9.096552848815918,30.949438095092773,-47.555511474609375,-35.79135513305664,7.890660285949707,-30.629371643066406,-6.936782360076904,-23.121997833251953,27.01192855834961,-11.28555679321289,-27.562129974365234,-49.182498931884766,-9.109679222106934,36.151123046875,-34.51051330566406,3.6791679859161377,45.547916412353516,20.915559768676758,-2.5979325771331787,-26.270387649536133,37.02788543701172,26.732755661010742,11.17880916595459,-17.252138137817383,-43.750431060791016,-3.62532639503479,-0.487819641828537,-24.803482055664062,46.589874267578125,29.377050399780273,8.663949966430664,-32.846229553222656,43.264892578125,3.275773286819458,-8.909804344177246,-45.87492752075195,-0.2630104720592499,-14.990532875061035,35.033485412597656,8.736283302307129,-33.0081787109375,1.0578049421310425,-12.922274589538574,-15.12270450592041,7.297879695892334,-0.8632116913795471,12.33089542388916,21.775245666503906,-40.19240951538086,-12.622920989990234,10.117084503173828,12.411811828613281,-9.38195514678955,21.784971237182617,12.074042320251465,-39.99269104003906,-21.7459774017334,-39.881282806396484,15.380560874938965,5.796414852142334,-2.2443130016326904,37.24130630493164,-43.48604965209961,-9.169511795043945,9.351861953735352,-10.214773178100586,35.892005920410156,3.030062437057495,36.376075744628906,-38.16027069091797,-9.055720329284668,17.171398162841797,27.121623992919922,9.68252944946289,-20.536489486694336,-24.16848373413086,-40.231449127197266,8.09805679321289,-46.688106536865234,-16.092313766479492,47.883827209472656,-19.199827194213867,-14.360846519470215,-46.855281829833984,-15.005387306213379,30.784076690673828,-8.492931365966797,23.289339065551758,28.950044631958008,3.9022955894470215,-42.49946975708008,-0.17874978482723236,35.3460693359375,27.2499942779541,-32.104393005371094,-6.546038627624512,-1.7253612279891968,-17.738595962524414,8.747551918029785,-43.49609375,-35.25687026977539,-38.271053314208984,-3.5351362228393555,4.961631774902344,21.34177017211914,9.562873840332031,8.668907165527344,-9.50726318359375,-34.81262969970703,-43.573978424072266,38.89310073852539,-8.982097625732422,1.782439947128296,9.400252342224121,-4.234770774841309,0.4199475944042206,-45.341468811035156,0.4669416546821594,-9.719035148620605,35.06269454956055,-36.621742248535156,-35.618099212646484,9.414937019348145,-17.107084274291992,-16.317983627319336,16.879009246826172,-12.183796882629395,-38.807891845703125,-45.122718811035156,14.66468620300293,38.0155143737793,18.680213928222656,1.885533094406128,27.74815559387207,-9.932811737060547,2.229353427886963,12.191362380981445,-20.081281661987305,2.05080246925354,-35.80609893798828,-8.149713516235352,5.681031227111816,-9.88969612121582,-29.479564666748047,-41.9940071105957,26.812646865844727,-9.346327781677246,13.361211776733398,14.348516464233398,17.416215896606445,40.842594146728516,22.499629974365234,-42.29423141479492,38.10385513305664,34.74932098388672,3.8436028957366943,1.662715196609497,36.724395751953125,3.555375099182129,-2.649853229522705,-46.08631134033203,14.699953079223633,13.615221977233887,-37.77220153808594,-52.246517181396484,23.992374420166016,-45.161460876464844,0.774489164352417,24.664167404174805,11.965094566345215,-5.5801262855529785,-5.49231481552124,-3.2348735332489014,-42.338932037353516,-46.19895553588867,20.131389617919922,-5.874686241149902,-39.58388900756836,-12.234737396240234,7.249995231628418,12.733437538146973,6.996760845184326,0.7636637091636658,-23.407333374023438,24.15306854248047,-18.17660903930664,10.39822006225586,22.9724178314209,21.479076385498047,23.87519645690918,-0.7019647359848022,10.362588882446289,32.02946472167969,10.12356948852539,2.4420573711395264,-21.51801109313965,6.919251918792725,7.072558879852295,-43.494354248046875,22.080768585205078,-23.473480224609375,-43.209556579589844,-15.395907402038574,-4.884869575500488,-49.67360305786133,-44.75461196899414,-37.40370559692383,-14.06213665008545,-13.873316764831543,28.988719940185547,-8.276161193847656,12.773552894592285,26.8596248626709,18.854660034179688,27.86920738220215,-31.403461456298828,-21.817859649658203,19.076210021972656,21.73015022277832,21.28264617919922,-6.2014570236206055,-42.14443588256836,39.789093017578125,-39.49557876586914,21.877439498901367,10.154675483703613,34.91973876953125,-2.5807037353515625,28.53605842590332,9.963285446166992,10.284429550170898,-10.51636791229248,-0.9654210805892944,-0.38366076350212097,23.198301315307617,29.482473373413086,17.169416427612305,-49.845462799072266,-6.767458915710449,6.98931884765625,4.289717674255371,-1.0593546628952026,-46.01601028442383,-35.87149429321289,40.58858108520508,-31.802961349487305,34.83406448364258,39.26042175292969,17.472511291503906,-3.2000205516815186,44.198272705078125,1.348123550415039,24.399925231933594,-18.094457626342773,-34.37678146362305,-16.422025680541992,-23.959766387939453,16.886077880859375,17.917448043823242,44.60589599609375,-7.191688060760498,16.36186981201172,-35.182247161865234,-48.21052932739258,30.01127052307129,-25.581186294555664,-45.17052459716797,3.7351746559143066,16.192888259887695,4.083696365356445,-3.7341372966766357,-35.25502014160156,-28.75179100036621,-36.07170486450195,-40.789161682128906,44.4032096862793,-28.591079711914062,21.806537628173828,-37.42192077636719,10.11357593536377,32.808170318603516,-48.173583984375,-2.982963800430298,38.699031829833984,-47.28998565673828,-51.73078155517578,16.009105682373047,3.2900447845458984,-6.384965896606445,-29.075054168701172,-9.895155906677246,44.80741500854492,-10.917119979858398,8.752528190612793,-23.453386306762695,-44.1596794128418,18.163408279418945,3.9971718788146973,-3.1660616397857666,-30.4359073638916,-4.861867427825928,-21.762920379638672,-39.9248046875,-10.094000816345215,11.104493141174316,-28.996389389038086,24.907047271728516,30.73504066467285,32.71372604370117,-45.246421813964844,21.961780548095703,2.7525293827056885,19.468738555908203,-8.571442604064941,31.97438621520996,-22.60299301147461,20.78266716003418,26.080814361572266,-39.74079895019531,30.093698501586914,-45.9488639831543,-9.910835266113281,-52.29180145263672,7.672524929046631,1.1976488828659058,-43.22407150268555,12.17855453491211,20.916061401367188,-11.228384971618652,27.97036361694336,19.92108154296875,46.27548599243164,21.013853073120117,44.86050796508789,17.951663970947266,22.508586883544922,-27.404329299926758,24.73443031311035,38.29814910888672,30.25020980834961,36.508846282958984,-17.935665130615234,46.539207458496094,3.656148672103882,16.204544067382812,36.70881271362305,-11.672029495239258,1.7163819074630737,9.473698616027832,35.512203216552734,45.076202392578125,49.1070671081543,2.153452157974243,-33.177642822265625,-42.30461120605469,41.30882263183594,13.429698944091797,16.243175506591797,-42.1768684387207,-50.14623260498047,-39.96607971191406,-6.367586135864258,18.659988403320312,-48.331382751464844,-36.18242645263672,-38.07512283325195,6.817576885223389,-2.9783847332000732,-40.459266662597656,6.808638572692871,23.68189811706543,-37.08039093017578,41.41389083862305,38.667171478271484,14.369504928588867,-22.006868362426758,-12.957845687866211,9.216216087341309,-6.339972496032715,33.4537239074707,-2.7430343627929688,-43.370025634765625,14.854375839233398,32.46906661987305,35.306640625,-14.256382942199707,14.12259292602539,26.780344009399414,3.573289632797241,-48.42176055908203,-11.545013427734375,-31.233016967773438,-17.86126708984375,7.9861016273498535,-19.060087203979492,-1.0864980220794678,-30.332788467407227,36.281097412109375,-45.080204010009766,-40.2354850769043,32.78313064575195,-14.54438591003418,32.37056350708008,16.418912887573242,-35.836463928222656,24.40489959716797,-18.523962020874023,26.142305374145508,23.714385986328125,39.38738250732422,42.99235916137695,26.385732650756836,32.075252532958984,44.33058547973633,33.781124114990234,-22.4854679107666,18.83808708190918,30.054161071777344,-14.636205673217773,6.148252964019775,3.0473523139953613,-27.033021926879883,35.03707504272461,-28.48371124267578,-23.78900718688965,29.365169525146484,5.8929901123046875,36.509132385253906,-1.776149868965149,3.329322099685669,-33.50704574584961,-41.9255256652832,-22.664783477783203,-22.22890853881836,22.255077362060547,-7.349668025970459,5.351713180541992,36.01447296142578,-47.081451416015625,1.0329540967941284,10.395708084106445,43.4433708190918,10.123116493225098,36.08917236328125,26.553604125976562,-46.38615798950195,13.47419548034668,-42.180152893066406,41.2850341796875,-11.54030704498291,-16.648151397705078,-2.4765148162841797,33.64468002319336,38.445167541503906,0.2646627128124237,13.618260383605957,3.277667999267578,-41.54684829711914,-16.891708374023438,-52.080074310302734,-52.54214859008789,25.52276611328125,-35.42552947998047,41.238555908203125,-44.925174713134766,-27.26950454711914,-40.48344039916992,-19.395355224609375,-1.3633852005004883,0.898004949092865,-0.7699205875396729,20.81902313232422,-11.891679763793945,-20.17959976196289,-9.864412307739258,3.85833740234375,-19.059207916259766,45.586936950683594,-29.38507080078125,-20.632434844970703,-31.593496322631836,2.121204376220703,-31.957000732421875,-38.74846649169922,35.848140716552734,21.848115921020508,-4.9986066818237305,34.46891403198242,-12.12269115447998,-16.540241241455078,3.4937546253204346,7.17592716217041,-14.928083419799805,19.392784118652344,-27.918298721313477,-17.62751579284668,30.317087173461914,29.33501625061035,-23.884429931640625,-0.500946044921875,17.642169952392578,13.516639709472656,0.7572624087333679,34.69133758544922,-52.70330810546875,30.261655807495117,-24.05653190612793,-14.341499328613281,-38.264015197753906,6.5915608406066895,32.833988189697266,28.519939422607422,36.83782196044922,44.30974197387695,31.65734100341797,33.132389068603516,29.752973556518555,30.9951229095459,-47.46242904663086,36.99791717529297,-1.7352440357208252,-34.963584899902344,-17.402433395385742,2.542933702468872,-21.653776168823242,-3.5047245025634766,-6.370922565460205,-10.572121620178223,29.209095001220703,-35.089256286621094,-36.3563232421875,24.659467697143555,-5.867082118988037,3.755241870880127,-26.37478256225586,-6.599593639373779,16.626121520996094,-27.059295654296875,6.710404872894287,27.358293533325195,-11.538394927978516,36.84225082397461,-16.27614402770996,-24.380163192749023,-38.62546157836914,-24.48360824584961,26.82866096496582,27.182634353637695,48.13818359375,-0.5437146425247192,-9.969035148620605,10.263212203979492,49.676361083984375,34.76023864746094,-30.04718589782715,31.748302459716797,-38.16088104248047,13.178586959838867,-34.17880630493164,5.258540630340576,24.676618576049805,36.177886962890625,-31.465394973754883,-17.04116439819336,8.470008850097656,38.86459732055664,37.56888198852539,-2.6541078090667725,-19.38401222229004,-40.705047607421875,-38.691898345947266,-29.44062042236328,-0.20294027030467987,1.0569450855255127,-10.482473373413086,15.02932357788086,-6.604234218597412,-9.283987045288086,41.26453399658203,44.74407958984375,-40.90071487426758,13.889726638793945,47.00872039794922,36.40009689331055,20.921098709106445,-32.70509338378906,32.69390869140625,12.670413970947266,-28.639211654663086,-12.418008804321289,-26.329675674438477,-2.7154362201690674,29.20374870300293,-2.594676971435547,-8.799342155456543,36.14133071899414,42.2733268737793,-16.249971389770508,36.2102165222168,34.82863235473633,-6.018072605133057,-22.46668243408203,8.888899803161621,-23.090700149536133,-7.606572151184082,-44.67383575439453,-43.32320022583008,-7.539436340332031,-12.495190620422363,-8.199688911437988,-4.138787746429443,-47.60027313232422,5.898852348327637,1.1665995121002197,-39.99176025390625,40.930931091308594,0.5178645849227905,42.14662170410156,-37.18815231323242,32.4748649597168,-38.38205337524414,35.2418327331543,-42.15225601196289,-16.28838348388672,-22.670522689819336,8.040075302124023,3.1680057048797607,37.08815383911133,36.41067886352539,10.598166465759277,37.470542907714844,-41.23695373535156,-1.5907598733901978,-25.31197166442871,-40.190677642822266,18.036006927490234,-16.681367874145508,10.85436725616455,-11.003557205200195,9.90666389465332,26.53346824645996,-1.5123130083084106,9.142645835876465,3.7992396354675293,-5.791308879852295,0.9783192276954651,8.746248245239258,43.262535095214844,22.454195022583008,44.06026077270508,-34.388526916503906,45.1269645690918,12.056924819946289,-37.19694137573242,-23.141674041748047,-15.923644065856934,-34.61497497558594,9.900190353393555,-7.386096477508545,25.77512550354004,11.94572639465332,-51.12623977661133,-22.812156677246094,0.17913784086704254,19.3988094329834,-24.61431884765625,-6.339811325073242,7.591145992279053,-40.929046630859375,47.20857238769531,29.95058250427246,-37.203269958496094,-23.385272979736328,-28.99110984802246,38.562705993652344,-5.645749092102051,-43.693458557128906,-15.574898719787598,-6.118513107299805,15.82968521118164,-34.233306884765625,46.450416564941406,-1.558762550354004,2.5659596920013428,-22.734111785888672,45.0723991394043,6.387310028076172,13.742033958435059,4.437304496765137,46.11709213256836,10.969968795776367,-52.15567398071289,-25.89933967590332,41.280731201171875,36.27865982055664,43.23202896118164,8.646829605102539,-38.708187103271484,29.812118530273438,47.21535110473633,-20.76873779296875,-30.34829330444336,-14.510209083557129,-2.4314327239990234,-4.544745445251465,-37.46610641479492,47.30990982055664,-29.734350204467773,-27.399993896484375,13.541872024536133,25.4331111907959,42.0965576171875,12.893524169921875,45.06010437011719,24.562345504760742,14.953096389770508,12.365043640136719,15.74835205078125,-12.445235252380371,23.4593448638916,38.3376350402832,33.65750503540039,7.821235179901123,26.3239688873291,-50.63034439086914,7.211761951446533,20.001502990722656,-4.107981204986572,23.490615844726562,21.958377838134766,14.179327011108398,-20.140783309936523,-17.4310245513916,-12.46264934539795,3.671312093734741,8.030940055847168,40.095970153808594,-39.245277404785156,20.056076049804688,-12.429789543151855,14.4447603225708,18.26029396057129,12.266377449035645,24.98604965209961,3.272599220275879,-35.89110565185547,-21.927635192871094,19.675601959228516,-4.134848117828369,36.448604583740234,-4.167354583740234,-6.490555286407471,-18.44558334350586,24.085285186767578,-4.956879615783691,-25.21979331970215,-12.55225658416748,2.4927725791931152,-13.506851196289062,-46.47617721557617,16.764949798583984,46.79741287231445,43.677391052246094,-41.068321228027344,20.981809616088867,8.457836151123047,-7.606935977935791,0.18849287927150726,26.58313751220703,-20.778928756713867,17.625003814697266,21.883119583129883,29.082014083862305,-8.632509231567383,-4.811391830444336,21.542110443115234,-52.54756546020508,6.0945258140563965,-15.643421173095703,7.30241584777832,13.552739143371582,48.83010482788086,-8.121179580688477,-36.17447280883789,1.2761458158493042,-5.762655735015869,22.05353546142578,-50.954193115234375,-4.511848449707031,-42.116050720214844,45.20682907104492,-14.027607917785645,14.643208503723145,30.221086502075195,3.1824147701263428,-48.992897033691406,11.832551956176758,26.419700622558594,-7.027760982513428,25.50102424621582,6.024314880371094,-38.7525520324707,-3.726621389389038,-33.46502685546875,1.8414884805679321,27.770030975341797,18.06298828125,-16.52775764465332,43.916629791259766,-5.533777236938477,-5.592979907989502,28.79778480529785,7.9429826736450195,30.324817657470703,15.10261058807373,13.110379219055176,40.246822357177734,-38.153072357177734,-0.12309253960847855,24.501323699951172,33.0438346862793,32.00461196899414,-24.636810302734375,10.713780403137207,0.1897064447402954,-24.08133316040039,-12.376331329345703,26.294160842895508,8.638421058654785,-25.730281829833984,-38.03993606567383,39.91228485107422,-19.836313247680664,1.8511966466903687,44.286094665527344,-34.18391418457031,8.668456077575684,38.2913703918457,26.37078857421875,-43.3231201171875,29.036298751831055,8.594253540039062,17.988161087036133,-35.050811767578125,20.480613708496094,3.118279218673706,4.740085601806641,-7.188884735107422,-40.84766387939453,-30.772869110107422,-2.4308722019195557,42.29827117919922,46.82698440551758,-7.394237995147705,30.41034507751465,1.7025792598724365,26.05588150024414,33.722354888916016,-25.928142547607422,42.779823303222656,-18.821752548217773,43.60874557495117,-0.2961968779563904,-17.32573890686035,4.596557140350342,-12.050485610961914,0.0865989699959755,-5.520322799682617,38.186485290527344,-1.7757686376571655,-48.36111068725586,-14.836600303649902,27.49041175842285,-15.755627632141113,10.965372085571289,-26.813962936401367,24.474138259887695,-12.558579444885254,40.33955001831055,1.977430820465088,-23.141986846923828,37.846885681152344,-49.84649658203125,-29.60685157775879,7.240592956542969,47.91034698486328,16.63155746459961,49.374412536621094,37.25948715209961,-51.5079460144043,22.47613525390625,-13.72221565246582,1.890823483467102,28.69342041015625,-18.122943878173828,-12.09083366394043,6.294075012207031,-26.998592376708984,-28.44147491455078,0.5201722979545593,-8.632420539855957,46.68560028076172,-50.4481315612793,11.359550476074219,33.588069915771484,-35.2379150390625,-14.825201034545898,19.173860549926758,-29.76061248779297,0.6417912244796753,-2.61968731880188,-6.597263813018799,42.601741790771484,27.403154373168945,-42.25718307495117,40.46831512451172,4.77205228805542,-30.710351943969727,43.70710754394531,1.93112313747406,5.0257415771484375,-36.19926071166992,26.516244888305664,0.6113294363021851,0.4419141113758087,41.668724060058594,35.91728591918945,-33.04836654663086,-6.106019020080566,19.10097312927246,35.2147216796875,9.879236221313477,26.53350067138672,-30.376895904541016,-0.4695214331150055,-24.871021270751953,-38.52440643310547,47.35811233520508,40.50861358642578,-9.749406814575195,41.9730339050293,-0.566508948802948,-52.45256423950195,26.55950355529785,-37.544456481933594,-21.880685806274414,-5.567935943603516,2.9683852195739746,16.965133666992188,10.962156295776367,2.9682605266571045,-4.449039936065674,7.44447660446167,-13.27694320678711,-24.895917892456055,1.1552737951278687,-46.26588439941406,-31.236347198486328,-18.029279708862305,30.496490478515625,10.776219367980957,-13.334574699401855,-16.271299362182617,-24.96355438232422,-24.875789642333984,-32.12303924560547,44.11686325073242,-1.3905963897705078,16.524364471435547,-8.84840202331543,-33.945220947265625,33.59181213378906,1.274467945098877,-46.690372467041016,-37.301963806152344,-49.16476058959961,-0.36842888593673706,-6.97000789642334,-40.87385559082031,-16.638185501098633,-41.81378936767578,-25.511890411376953,-39.557960510253906,-45.20219802856445,-18.61337661743164,33.53993225097656,43.91326141357422,46.13273620605469,34.74771499633789,40.848785400390625,-0.026501541957259178,-12.899651527404785,42.960453033447266,-10.046406745910645,8.776592254638672,-5.246082782745361,14.077083587646484,-20.199792861938477,-9.74810791015625,-31.313505172729492,-6.706547260284424,28.37810516357422,-24.361452102661133,33.0589485168457,40.795772552490234,-4.3154096603393555,-14.489133834838867,21.144819259643555,3.747426748275757,3.783388614654541,-8.56974983215332,-15.96152114868164,-22.99384307861328,6.470049858093262,-4.157834529876709,36.84001922607422,26.07337188720703,45.993385314941406,-21.472314834594727,17.29091453552246,37.013572692871094,8.48809814453125,38.74245071411133,-28.18573570251465,2.776604175567627,-8.439393043518066,7.29901123046875,22.176904678344727,4.966508388519287,-4.407698631286621,-39.8647575378418,12.9321928024292,10.466293334960938,-17.38233757019043,34.82938003540039,8.421087265014648,25.938892364501953,-14.551040649414062,43.51541519165039,-38.887840270996094,20.7040958404541,19.895519256591797,34.13324737548828,-26.90788459777832,-44.999717712402344,30.982946395874023,-44.0129280090332,-13.948202133178711,-16.48816680908203,0.06070655956864357,-13.308697700500488,-32.29864501953125,33.134239196777344,19.90815544128418,4.5768351554870605,7.085841178894043,25.701379776000977,4.486083507537842,9.210386276245117,22.399478912353516,-3.0237674713134766,-50.026580810546875,44.1954460144043,-47.63680648803711,20.176122665405273,27.924192428588867,39.65681076049805,27.836999893188477,44.329315185546875,26.059179306030273,11.596333503723145,-19.622455596923828,34.397560119628906,10.062055587768555,18.335298538208008,15.311151504516602,-14.375923156738281,31.414793014526367,-9.887310981750488,-0.4198574423789978,-11.333812713623047,32.96438217163086,-19.850465774536133,-11.225018501281738,7.7216644287109375,2.150082588195801,-2.3100016117095947,46.64860916137695,36.77963638305664,-24.696828842163086,-11.089203834533691,-19.33514976501465,-19.522600173950195,24.532060623168945,3.5349910259246826,4.283469200134277,24.52991485595703,12.737324714660645,-49.192237854003906,-10.177800178527832,-21.090314865112305,20.88736915588379,24.521202087402344,-29.96904754638672,-40.22200393676758,32.78190231323242,-1.2956252098083496,44.712867736816406,-38.889862060546875,-34.86117935180664,0.19392748177051544,26.660844802856445,-11.386898040771484,13.210455894470215,-10.744860649108887,33.9241828918457,-15.047119140625,-4.369983673095703,37.76167678833008,-38.66690444946289,-27.00616455078125,4.9134907722473145,16.96075439453125,-4.286767959594727,-44.38026809692383,-49.0213737487793,-36.07512664794922,8.16733455657959,-0.933449923992157,35.36411666870117,12.69031047821045,39.031131744384766,42.604827880859375,-11.611258506774902,-37.86501693725586,-6.439250946044922,43.39926528930664,23.50499725341797,17.457609176635742,-17.522619247436523,12.403159141540527,18.287641525268555,-32.331485748291016,-23.52977752685547,-11.841047286987305,7.326272010803223,-25.30278205871582,-4.8605499267578125,-13.617035865783691,-13.204292297363281,-22.0731258392334,10.186781883239746,-7.601283073425293,-0.14619949460029602,18.75305938720703,-19.92740249633789,-3.1519384384155273,-33.77434158325195,28.801589965820312,32.732933044433594,42.6085319519043,-13.803763389587402,29.237760543823242,27.904077529907227,-1.0570939779281616,24.85413932800293,47.73054122924805,6.5356035232543945,-50.585296630859375,13.229286193847656,37.03594970703125,32.211219787597656,45.91505432128906,-30.466903686523438,-43.94331359863281,-43.58356475830078,-37.23876190185547,5.812965393066406,-51.07393264770508,8.192946434020996,8.609186172485352,31.69448471069336,43.03868865966797,-1.119877815246582,3.504547119140625,24.78594398498535,-17.75872230529785,-1.3525184392929077,30.170011520385742,-50.504024505615234,-18.00496482849121,-1.0152015686035156,41.355247497558594,-25.111204147338867,30.82722282409668,-13.105188369750977,-0.627262532711029,6.735255718231201,3.328596591949463,-15.624763488769531,-17.382362365722656,-2.0013437271118164,-7.387354373931885,-21.9156494140625,1.4431692361831665,40.116920471191406,15.425885200500488,16.35410499572754,-14.840337753295898,36.674041748046875,-0.053209222853183746,-29.155967712402344,7.121244430541992,-37.76681900024414,37.346435546875,42.97745132446289,9.177689552307129,-51.225250244140625,-46.86005401611328,26.04878044128418,18.627788543701172,14.639618873596191,-11.621509552001953,28.757844924926758,25.0462646484375,35.18340301513672,-6.810821533203125,17.18309211730957,-30.676002502441406,-15.493387222290039,1.1921063661575317,7.530642032623291,-48.66082763671875,1.8123234510421753,-31.737655639648438,-1.675626516342163,31.148340225219727,-4.114644527435303,2.6544291973114014,30.580347061157227,7.252364635467529,-36.19562530517578,-46.58082962036133,13.534339904785156,-41.55621337890625,21.21261978149414,4.073107719421387,3.366189956665039,-16.617172241210938,16.5750732421875,-43.51138687133789,-17.916452407836914,-39.99588394165039,-34.16621017456055,12.687512397766113,10.959494590759277,31.269062042236328,-5.9692063331604,-39.842559814453125,-11.449358940124512,-33.66718292236328,10.11630630493164,22.457012176513672,-17.260272979736328,35.807044982910156,-38.72030258178711,-2.308797597885132,10.03696060180664,-4.362351417541504,-18.309602737426758,38.176631927490234,3.810243844985962,-0.7368122935295105,-43.787109375,-6.665581703186035,42.517784118652344,-10.646187782287598,-2.737468719482422,-46.537925720214844,0.3027576208114624,24.133283615112305,-19.791336059570312,-28.000518798828125,-7.187345027923584,-14.455499649047852,24.63974380493164,36.56075668334961,35.33345031738281,-36.094478607177734,-37.42073440551758,-38.38568115234375,15.002744674682617,17.934904098510742,-47.56010055541992,2.78387188911438,-48.53624725341797,33.989601135253906,15.951476097106934,18.784517288208008,8.541573524475098,28.562618255615234,30.962905883789062,14.77438735961914,-24.701547622680664,12.655952453613281,44.75736999511719,-6.899042129516602,-48.36738967895508,33.9549560546875,46.483028411865234,38.244117736816406,-14.930784225463867,-45.27945327758789,-22.21957778930664,31.7775821685791,42.4550666809082,47.211212158203125,1.6569948196411133,-35.20335006713867,-44.27021408081055,32.940643310546875,41.849369049072266,-19.226978302001953,25.32232093811035,-8.347722053527832,-1.0819882154464722,1.366763949394226,-9.524214744567871,32.89702606201172,16.999876022338867,16.28243064880371,-50.84482955932617,35.78377914428711,8.58981704711914,-32.062171936035156,5.93340539932251,15.493093490600586,-7.170457363128662,42.651119232177734,-48.72332763671875,-18.695297241210938,-30.204322814941406,26.031879425048828,41.88286209106445,-50.180328369140625,-13.761038780212402,10.960832595825195,20.699054718017578,2.6079652309417725,-39.575904846191406,-42.763763427734375,12.201936721801758,-42.26811599731445,13.825030326843262,36.14961624145508,-11.105325698852539,-9.725031852722168,-31.518125534057617,-38.29896926879883,-4.018066883087158,41.776851654052734,21.48925018310547,46.10104751586914,15.266093254089355,-19.80474090576172,37.63301467895508,-49.09138870239258,25.87778663635254,-17.23735237121582,13.457239151000977,-8.38031005859375,-38.037601470947266,-12.52128791809082,-2.291501760482788,-23.92888069152832,-27.67134666442871,14.227078437805176,-46.4833984375,-21.18587303161621,14.309032440185547,-21.062536239624023,-22.49227523803711,-9.483278274536133,29.391122817993164,45.13637161254883,22.05966567993164,-12.29594898223877,-14.499921798706055,7.2242937088012695,11.166670799255371,-28.81084632873535,-1.4940341711044312,9.070265769958496,18.323476791381836,42.73744201660156,-0.519916296005249,18.024110794067383,30.74939727783203,-38.25716781616211,46.32337951660156,-16.480030059814453,38.34632110595703,-18.155508041381836,-15.48415756225586,-32.92557144165039,-37.559715270996094,-14.491015434265137,33.57761764526367,-13.991530418395996,46.568485260009766,2.9321718215942383,30.541667938232422,-22.943557739257812,15.6084566116333,19.334482192993164,9.792248725891113,-9.987043380737305,-18.689796447753906,-28.559507369995117,-1.8449673652648926,23.64874267578125,-13.292804718017578,4.196176528930664,8.095466613769531,39.94606399536133,-28.72873878479004,42.53276443481445,-44.23097229003906,20.69804573059082,-47.57567596435547,36.211814880371094,-12.70582103729248,18.63585090637207,8.370062828063965,49.10746765136719,-50.92282485961914,4.96066427230835,-20.44444465637207,0.2578434944152832,-37.108978271484375,17.856369018554688,-10.299270629882812,27.510425567626953,9.16641616821289,-0.635994017124176,-35.044273376464844,1.2605092525482178,-31.316049575805664,26.60491943359375,-1.0928763151168823,19.731098175048828,23.603473663330078,-4.786035537719727,18.656978607177734,-14.214140892028809,34.29246520996094,-12.485334396362305,-12.522660255432129,47.16377258300781,-44.96601486206055,9.229655265808105,-6.925919532775879,8.73820686340332,2.6810383796691895,9.711770057678223,8.950963973999023,18.4892635345459,-15.97639274597168,-1.837090253829956,20.70234489440918,32.15981674194336,39.39004135131836,-18.365516662597656,-33.54145050048828,-13.153193473815918,12.591398239135742,-0.4415552616119385,-8.462420463562012,39.74847412109375,28.420427322387695,45.45404815673828,-19.192935943603516,-23.85187339782715,-1.8004432916641235,13.10927963256836,-5.614675521850586,-43.73967742919922,32.82975769042969,43.53030776977539,-26.79450035095215,11.705053329467773,16.63941764831543,-37.70650100708008,-8.923030853271484,-35.69735336303711,30.892650604248047,-9.26781177520752,-51.51941680908203,-25.952722549438477,32.24147415161133,45.95387268066406,-24.14368438720703,7.456439971923828,23.608827590942383,-2.6242313385009766,-46.73678207397461,-39.5185661315918,35.41737365722656,-28.57713508605957,13.610860824584961,-42.20162582397461,43.88019561767578,4.176602363586426,13.045989990234375,10.890863418579102,17.031606674194336,-42.3205680847168,4.250295639038086,-6.170162200927734,-14.645439147949219,-40.49568557739258,3.907320976257324,21.504796981811523,-9.158621788024902,-35.62982940673828,0.9967933893203735,-35.37889099121094,13.553729057312012,-27.63566780090332,8.256376266479492,-47.5062141418457,-24.320480346679688,-16.846954345703125,-0.4193306565284729,26.856952667236328,2.6388556957244873,-20.981353759765625,-33.17142868041992,-35.44270324707031,-3.2744147777557373,18.66789436340332,20.994754791259766,15.556539535522461,-27.048187255859375,-6.389127731323242,-50.018104553222656,1.8629627227783203,32.57794952392578,-51.55516052246094,38.380531311035156,-52.421817779541016,-31.31908416748047,-45.01603317260742,-24.229557037353516,-48.13188552856445,-42.340579986572266,6.086424350738525,1.8125734329223633,30.19795799255371,-35.772403717041016,-25.0549373626709,10.195669174194336,23.417505264282227,-1.6465731859207153,-19.91548728942871,2.263270139694214,-14.24766731262207,40.26026153564453,-33.78556823730469,0.27202463150024414,-33.19796371459961,-32.878143310546875,-48.942283630371094,26.121868133544922,-39.88591384887695,34.50788116455078,44.0098762512207,-49.13909149169922,31.69229507446289,-22.079875946044922,-15.571182250976562,23.046438217163086,11.44302749633789,-17.276716232299805,-33.33927917480469,-17.85627555847168,-13.821878433227539,-30.510955810546875,23.42432403564453,48.60097122192383,37.2395133972168,43.5686149597168,-3.400712013244629,-28.620065689086914,38.70380783081055,-4.665040969848633,-0.34970808029174805,25.794586181640625,17.78598976135254,39.43362045288086,-30.798856735229492,-0.9585868120193481,4.752715587615967,-16.374248504638672,31.60371208190918,48.6576042175293,-38.0700798034668,-38.06117630004883,-38.27885437011719,-38.964080810546875,4.700464725494385,-36.26382064819336,11.416717529296875,-29.74217414855957,7.33390998840332,-6.894004821777344,8.078280448913574,20.438413619995117,20.15131378173828,27.91431427001953,-42.50959777832031,-18.289934158325195,0.49540820717811584,-43.315120697021484,-19.786035537719727,21.7988224029541,-39.03788375854492,13.337564468383789,-22.864078521728516,-28.024782180786133,-37.351497650146484,-51.06615447998047,-43.04657745361328,25.051362991333008,-28.95113182067871,8.393170356750488,-46.039154052734375,11.487956047058105,36.77986526489258,9.839263916015625,26.652488708496094,-48.36682891845703,-34.892906188964844,6.120356559753418,8.56847858428955,23.86605453491211,-17.269113540649414,34.182010650634766,41.26380920410156,-23.529245376586914,18.64051055908203,-45.037296295166016,1.5503120422363281,43.339786529541016,-30.630695343017578,4.577442169189453,-13.423574447631836,46.3583984375,19.83867835998535,12.488923072814941,-2.346860647201538,-17.478364944458008,-48.57916259765625,-42.06862258911133,12.412529945373535,3.256150007247925,-15.83951473236084,-29.466876983642578,9.761506080627441,30.475662231445312,9.208391189575195,24.48111915588379,-12.394682884216309,21.29767608642578,41.70872116088867,-4.7251386642456055,-20.057207107543945,-36.97751235961914,24.450654983520508,-39.06034851074219,-43.65788650512695,23.574405670166016,12.709983825683594,33.64160919189453,25.797571182250977,-1.2123712301254272,9.740876197814941,22.02730941772461,47.71297073364258,-44.19389343261719,43.66633987426758,2.436290979385376,38.321685791015625,41.62405014038086,-13.355463981628418,6.343426704406738,42.52032470703125,-33.54331970214844,-11.316200256347656,40.119937896728516,-25.409515380859375,1.8327124118804932,-43.353782653808594,1.352381944656372,20.88165283203125,-22.20403480529785,24.697240829467773,-9.332221031188965,25.88871192932129,48.791404724121094,-48.59006118774414,31.836496353149414,-43.51130294799805,30.178964614868164,17.044536590576172,9.527968406677246,18.50583267211914,22.391408920288086,31.390392303466797,-9.325599670410156,7.215007305145264,0.25537732243537903,7.4449896812438965,40.19050598144531,7.386978626251221,29.88106346130371,5.826638698577881,23.866134643554688,22.84798240661621,-49.0406608581543,-30.71819496154785,-46.53392791748047,-35.39435958862305,9.017217636108398,5.361799716949463,-4.770617961883545,-34.37717056274414,-9.983975410461426,1.2832531929016113,-13.890986442565918,47.73019790649414,-0.954969048500061,22.21477508544922,-35.683006286621094,6.4791579246521,5.217708110809326,27.149566650390625,7.852286338806152,47.30311584472656,30.572429656982422,17.805288314819336,5.947378158569336,-22.234235763549805,-40.17779541015625,-20.99148178100586,18.903385162353516,23.746320724487305,48.29986572265625,19.738487243652344,-17.037107467651367,21.29298210144043,-0.9898918271064758,-21.667726516723633,7.89064884185791,36.82929229736328,-12.819724082946777,34.50251770019531,-37.35225296020508,10.871498107910156,24.919050216674805,1.3159222602844238,44.18781280517578,34.14952087402344,-38.01493453979492,1.3771103620529175,15.939613342285156,-9.074291229248047,7.437368869781494,19.954626083374023,37.800811767578125,6.792816162109375,-37.92901611328125,-13.586618423461914,-10.007375717163086,-4.914867877960205,33.797279357910156,30.51844024658203,8.929011344909668,-31.84579849243164,-12.49051570892334,0.5953468680381775,12.465686798095703,-4.146812915802002,36.371299743652344,39.7129020690918,16.42911720275879,-48.002037048339844,-37.22124481201172,4.1969122886657715,3.339473009109497,-19.677709579467773,-11.295291900634766,1.2056033611297607,-42.46680450439453,45.9661750793457,-38.78330993652344,-20.649730682373047,-47.42634582519531,13.755424499511719,-18.995418548583984,-51.77732467651367,-21.563068389892578,-35.97163391113281,-25.00249671936035,-10.565889358520508,18.07657241821289,11.267960548400879,-20.737171173095703,-19.796106338500977,-50.237911224365234,31.903553009033203,-0.13353726267814636,3.771822452545166,30.065780639648438,8.090712547302246,-36.39650344848633,-35.59908676147461,27.121868133544922,31.05207633972168,-44.358577728271484,14.40928840637207,-28.31598663330078,40.39036178588867,21.79938316345215,-19.259044647216797,16.796993255615234,8.520182609558105,10.516533851623535,-25.91204261779785,-1.5953168869018555,-9.872564315795898,40.88657760620117,8.822501182556152,-31.198490142822266,-5.188177585601807,-1.4639304876327515,8.761575698852539,-6.897243976593018,1.4219223260879517,0.056312259286642075,46.66788101196289,23.966522216796875,-41.09050369262695,44.205841064453125,20.739442825317383,-6.434453964233398,-5.783083438873291,-44.83821487426758,25.63731575012207,-1.7195647954940796,-25.85655975341797,32.19630813598633,-36.421661376953125,-10.931353569030762,-33.433536529541016,26.24213218688965,28.03131866455078,23.016176223754883,18.1602725982666,26.93820571899414,-5.259819984436035,12.544090270996094,4.316221237182617,23.941293716430664,-5.356564998626709,-24.533937454223633,-48.236812591552734,-16.01091766357422,-49.81840896606445,-35.41421127319336,23.08869171142578,-8.139445304870605,-0.5810258984565735,-6.4441986083984375,30.175363540649414,-2.1068263053894043,-21.448667526245117,0.5241110324859619,1.6657264232635498,33.58258819580078,33.72555923461914,23.471879959106445,12.05991268157959,28.556331634521484,-24.869647979736328,-5.095055103302002,-24.005512237548828,8.963224411010742,-37.99931716918945,30.40857696533203,-27.155447006225586,36.5186882019043,-24.41289710998535,-25.944963455200195,10.868141174316406,-11.671504020690918,-43.97185516357422,9.465740203857422,-30.735393524169922,38.77061462402344,-7.6061272621154785,40.503456115722656,-1.5334819555282593,-41.132545471191406,-3.411099910736084,-5.172832012176514,24.264984130859375,-12.24219799041748,11.725825309753418,35.92559814453125,-13.756285667419434,-44.66518020629883,10.452509880065918,-43.46818161010742,10.682737350463867,-1.2519675493240356,0.8868040442466736,-26.926189422607422,2.482534170150757,-21.340435028076172,6.218522071838379,23.592660903930664,-29.980403900146484,-18.699724197387695,-10.204907417297363,32.505592346191406,33.00558853149414,-8.06204605102539,43.594879150390625,5.846067428588867,-32.900821685791016,17.65656280517578,30.269147872924805,6.446228981018066,-12.856410026550293,13.384871482849121,47.945281982421875,4.537827968597412,45.807830810546875,-23.7353458404541,36.39805221557617,-0.621798574924469,12.690696716308594,-1.8053085803985596,-0.2394794374704361,-2.959662914276123,38.12712860107422,17.11506462097168,-33.890628814697266,46.195682525634766,-21.899681091308594,-6.048483371734619,-16.636943817138672,34.89961242675781,8.367794036865234,-35.10758972167969,-37.03989791870117,-48.45547103881836,-36.95212936401367,-33.72188949584961,11.23249340057373,-34.853477478027344,41.79844665527344,43.721824645996094,-49.2934455871582,-31.0499324798584,27.405845642089844,-42.12836837768555,35.07137680053711,-12.683965682983398,-49.550933837890625,28.958250045776367,12.393941879272461,5.034736633300781,31.272674560546875,-48.154876708984375,30.90761947631836,-4.071714401245117,8.127593040466309,0.2173062115907669,-34.050819396972656,10.092217445373535,9.245739936828613,-15.3770170211792,-24.795703887939453,43.65559768676758,35.84737014770508,-4.3617167472839355,-40.998558044433594,21.832612991333008,11.280864715576172,-36.38364791870117,-35.402099609375,-37.261810302734375,4.40567684173584,-5.413760185241699,23.389524459838867,8.824699401855469,12.98401927947998,-17.138893127441406,30.005573272705078,-30.5177059173584,11.279531478881836,8.442008018493652,46.7331428527832,27.995361328125,-46.869659423828125,-49.52734375,-37.710853576660156,-4.8948073387146,-24.112571716308594,10.415802955627441,-43.40317916870117,26.69290542602539,-44.11448287963867,-42.4163703918457,21.004291534423828,-43.58684158325195,27.174949645996094,-4.561602592468262,-47.64882278442383,-36.34011459350586,36.12969207763672,10.901144027709961,-5.879922866821289,41.80242919921875,-33.920780181884766,16.94898796081543,-7.141101837158203,5.441427707672119,6.540316104888916,19.493968963623047,-19.964372634887695,-11.727839469909668,-9.480034828186035,18.1413631439209,-14.538918495178223,20.02943229675293,-40.81757736206055,-13.423274993896484,-38.612064361572266,24.12476921081543,42.18388366699219,7.694212436676025,31.29065704345703,45.836021423339844,-14.654537200927734,35.12234878540039,-8.498137474060059,-3.451198101043701,-29.260515213012695,5.2577009201049805,-6.6419572830200195,1.7760523557662964,-46.46574783325195,26.178802490234375,42.93113327026367,7.090521335601807,47.520992279052734,-43.67932891845703,-5.873198986053467,24.393970489501953,21.052209854125977,-0.12108945101499557,21.807355880737305,33.01345443725586,-7.5987396240234375,27.298898696899414,25.75060272216797,-42.4459342956543,14.052420616149902,-4.880935192108154,25.484277725219727,8.348448753356934,28.7232666015625,-1.7542837858200073,33.85212707519531,-12.22447395324707,28.52063751220703,-36.153324127197266,6.271189212799072,22.350780487060547,17.09389877319336,-1.8615660667419434,-24.597915649414062,-21.142614364624023,28.0761775970459,1.168831706047058,-18.402250289916992,27.457788467407227,36.102783203125,-4.612358093261719,42.635032653808594,-3.153594493865967,29.792011260986328,-4.733684062957764,48.762916564941406,8.24666976928711,10.052136421203613,-8.755309104919434,-4.709085464477539,22.845802307128906,-3.55049991607666,-43.33717346191406,33.34749221801758,-22.256650924682617,1.697385549545288,-1.7025566101074219,32.607120513916016,-28.150541305541992,38.942081451416016,-28.139524459838867,32.63935470581055,-12.408696174621582,-42.01124954223633,-13.173017501831055,3.148534059524536,6.090555667877197,14.682740211486816,9.480493545532227,-38.96791076660156,-44.57346725463867,31.526033401489258,10.120939254760742,16.39799690246582,-32.82203674316406,3.94840669631958,-13.55416488647461,26.561948776245117,24.713306427001953,21.5002498626709,-26.785341262817383,3.6534125804901123,-31.786256790161133,35.72183609008789,-1.8611441850662231,33.91181945800781,-15.281148910522461,-42.71003723144531,-51.39818572998047,9.415143013000488,-12.712724685668945,-4.367103576660156,40.48976516723633,48.98706817626953,14.183963775634766,-1.901494026184082,19.185020446777344,-32.52154541015625,-4.136377811431885,17.217369079589844,12.338006019592285,-15.553064346313477,-27.745920181274414,34.10565948486328,29.690513610839844,22.895692825317383,22.020193099975586,-6.0381340980529785,33.532630920410156,29.178356170654297,15.886539459228516,-23.311355590820312,-7.712924957275391,13.71677017211914,6.906518459320068,-9.185019493103027,-0.17902709543704987,-44.81020736694336,-2.3420424461364746,40.78080749511719,-20.918794631958008,-0.5530642867088318,-37.84639358520508,35.84841537475586,27.091663360595703,-3.186537027359009,33.720420837402344,-12.038495063781738,12.752104759216309,27.666702270507812,-41.40535354614258,19.213699340820312,40.6367301940918,46.85588073730469,3.2127137184143066,-6.302929401397705,20.652055740356445,10.074368476867676,-30.070768356323242,44.270347595214844,-13.360801696777344,13.364782333374023,30.005537033081055,37.5375862121582,10.689249992370605,42.29124450683594,13.25037670135498,26.394012451171875,-16.380239486694336,28.036348342895508,-5.303484916687012,18.761005401611328,-9.894965171813965,40.66481399536133,-17.914030075073242,7.9883246421813965,-6.284082412719727,-0.37519776821136475,41.23747253417969,-1.0053319931030273,43.42363357543945,-7.496825695037842,6.310576438903809,-44.45097732543945,-17.762861251831055,7.915358066558838,-41.285213470458984,36.79396057128906,14.742155075073242,-34.31801986694336,-19.7039737701416,-23.328453063964844,-42.52088928222656,12.040193557739258,-42.15333938598633,-45.18321228027344,-4.137407302856445,-26.3374080657959,-1.7871414422988892,48.55589294433594,28.779212951660156,-3.0357298851013184,40.441925048828125,34.687774658203125,17.898439407348633,22.67858123779297,41.04151916503906,22.784896850585938,26.292224884033203,-44.19325256347656,46.95103073120117,10.304119110107422,8.121668815612793,-27.562952041625977,-0.7706847190856934,7.288990020751953,47.0570068359375,2.83296799659729,48.09587860107422,-3.25877046585083,34.06443405151367,24.70545768737793,-46.91816711425781,-6.184711933135986,23.65713119506836,-35.26740264892578,47.74732971191406,43.953548431396484,-16.93000602722168,-25.759984970092773,15.819068908691406,-14.941530227661133,35.155662536621094,-15.102190971374512,-48.243125915527344,-4.902776718139648,35.50741958618164,9.368043899536133,33.795616149902344,30.882352828979492,-27.106189727783203,22.644559860229492,45.82038497924805,16.2259464263916,39.69916534423828,37.76319122314453,0.040723640471696854,-1.8578587770462036,25.728872299194336,18.3161678314209,-24.034997940063477,-15.977892875671387,11.35889720916748,6.227193355560303,33.48268508911133,-3.325895071029663,39.15519714355469,-32.27825164794922,-8.568115234375,25.92097282409668,33.213748931884766,-9.139056205749512,-49.350704193115234,29.599985122680664,-0.7911614179611206,35.69482421875,1.399960994720459,31.05292320251465,8.120565414428711,5.876312255859375,-6.408181190490723,-12.656354904174805,-7.850275993347168,-17.448551177978516,41.455711364746094,7.423939228057861,8.434576034545898,-34.994503021240234,-12.693365097045898,-4.546360492706299,40.07976531982422,-23.789936065673828,-47.60895538330078,26.74932289123535,-4.212059497833252,40.157901763916016,-24.17329978942871,-5.237659454345703,-7.179206848144531,-13.402886390686035,7.045769214630127,14.876882553100586,46.53773880004883,16.4417724609375,-2.4842875003814697,-3.243474006652832,-11.00405216217041,11.06908130645752,36.415977478027344,13.355245590209961,-26.410921096801758,-8.508821487426758,-44.58551025390625,-6.782578468322754,30.362831115722656,25.397705078125,46.3030891418457,-33.099205017089844,22.40593147277832,24.817052841186523,31.193077087402344,-18.562700271606445,33.1504020690918,-22.75167465209961,26.33871841430664,41.56651306152344,17.307825088500977,20.89118766784668,11.330435752868652,30.10630226135254,20.08724594116211,36.016292572021484,32.617557525634766,10.285408020019531,-20.733903884887695,39.69957733154297,-14.151372909545898,42.97960662841797,25.256410598754883,1.0774377584457397,-42.381126403808594,18.34210205078125,10.770208358764648,31.14667320251465,-19.626441955566406,-46.10062789916992,-46.61878204345703,-4.923337459564209,12.360246658325195,2.0398731231689453,-4.9997453689575195,-12.687891006469727,-34.43489456176758,-2.428611993789673,-10.17284870147705,31.081571578979492,48.026275634765625,-11.84961223602295,4.565459728240967,44.89155960083008,-30.569744110107422,12.18596076965332,26.135324478149414,1.426124930381775,-16.972681045532227,-29.2678165435791,-40.9655876159668,-26.002323150634766,2.2152674198150635,4.797855377197266,28.06847381591797,-13.525091171264648,10.548860549926758,36.44397735595703,-28.52559471130371,10.704667091369629,3.886704921722412,25.700138092041016,18.434423446655273,0.9805454611778259,-9.356821060180664,32.24613571166992,-8.440704345703125,16.694202423095703,11.90712833404541],\"xaxis\":\"x\",\"y\":[-19.25644302368164,-1.7370842695236206,15.40347957611084,45.75414276123047,34.472190856933594,19.51261329650879,-9.424641609191895,-18.565458297729492,-3.2386410236358643,42.38447570800781,-48.111106872558594,17.839012145996094,1.8275190591812134,-30.902652740478516,4.8863019943237305,-5.195343971252441,-12.746345520019531,-4.108608245849609,22.81545066833496,32.607791900634766,-27.068483352661133,12.897871017456055,45.654972076416016,-41.80984115600586,-45.68885803222656,33.21297073364258,26.186508178710938,-16.892833709716797,-50.507259368896484,16.972658157348633,42.425804138183594,33.1873664855957,-39.679473876953125,25.299705505371094,-49.13346481323242,23.922624588012695,41.18269348144531,5.511549472808838,-23.69973373413086,-7.526984691619873,39.15190505981445,41.46269989013672,-22.8486270904541,40.70606231689453,-8.111761093139648,-36.74262619018555,-5.756667613983154,-36.1017951965332,44.58479309082031,5.069400787353516,-22.62734031677246,-52.91971206665039,44.588680267333984,39.85976791381836,-7.952126979827881,5.3959527015686035,-32.9268798828125,-29.25851821899414,42.36021423339844,-20.920738220214844,7.589855670928955,-12.312347412109375,-17.6099853515625,12.364557266235352,-27.042444229125977,-22.1624755859375,41.88478469848633,-17.697917938232422,36.595848083496094,12.719883918762207,-11.626385688781738,-11.936840057373047,-21.460668563842773,0.7872079014778137,-24.735475540161133,24.262624740600586,38.44812774658203,-13.158282279968262,34.82019805908203,-19.32097816467285,-52.50638198852539,-20.056867599487305,-17.93366050720215,14.225605964660645,20.68134117126465,-6.86824893951416,32.947914123535156,-21.50523567199707,-29.731220245361328,-2.865781545639038,27.557981491088867,24.20534324645996,20.877853393554688,-5.3076066970825195,8.271732330322266,-8.545985221862793,0.9356318116188049,-21.31559181213379,-41.606201171875,26.716459274291992,10.470240592956543,-0.44630804657936096,-47.39093017578125,-13.841948509216309,-26.69338035583496,-10.40774917602539,30.709226608276367,43.08231735229492,33.44843292236328,43.778690338134766,29.066734313964844,-35.046993255615234,13.80405044555664,-22.02052879333496,38.07890701293945,8.062411308288574,-11.445669174194336,-1.432822346687317,10.845261573791504,-51.92205810546875,-49.656864166259766,12.217694282531738,14.095813751220703,-23.229331970214844,41.94801712036133,-30.151466369628906,-23.980754852294922,-14.654151916503906,-18.308198928833008,-19.993600845336914,14.470364570617676,26.928939819335938,6.676206588745117,-38.47030258178711,1.5915379524230957,19.101747512817383,-41.11146545410156,36.8739128112793,-9.516956329345703,1.539482831954956,44.38652038574219,9.356245994567871,39.57966232299805,-31.825300216674805,-47.86183547973633,-16.948261260986328,6.3842902183532715,-2.4752197265625,33.008262634277344,-8.452631950378418,43.034278869628906,-12.753427505493164,9.70050048828125,1.6181010007858276,18.46756935119629,-40.433998107910156,-13.662272453308105,-10.114641189575195,41.964664459228516,39.859134674072266,-52.27156066894531,-18.9730224609375,-22.333484649658203,46.17546463012695,17.392629623413086,44.08364486694336,-21.767684936523438,-51.5321159362793,-44.44268798828125,-18.543859481811523,-23.198822021484375,43.18895721435547,34.92756271362305,-24.32990837097168,43.786842346191406,-50.62122344970703,34.69854736328125,0.6711904406547546,-33.173221588134766,25.6114501953125,44.68694305419922,-4.605805397033691,-14.739045143127441,43.050655364990234,35.17517852783203,-37.147377014160156,23.6155948638916,-2.068406343460083,-29.788562774658203,41.024410247802734,-3.424546241760254,-52.016780853271484,36.0894889831543,-20.861221313476562,-40.162841796875,29.28524398803711,44.52751922607422,-48.44020462036133,39.85985565185547,-26.611541748046875,6.577211380004883,9.489657402038574,42.17469024658203,34.180511474609375,23.07324981689453,14.619284629821777,-7.2107086181640625,-22.990751266479492,43.62289810180664,-8.604626655578613,-21.470012664794922,44.509910583496094,40.76842498779297,-17.926006317138672,20.60713768005371,-38.938636779785156,-38.48845672607422,26.706323623657227,40.4517707824707,34.12561798095703,6.658028602600098,25.850032806396484,-15.12479019165039,-2.910940170288086,41.996986389160156,40.6732177734375,39.71498107910156,-23.78518295288086,-37.78073501586914,-11.293289184570312,5.478131294250488,6.966121673583984,-21.276784896850586,-18.155393600463867,26.632585525512695,10.257426261901855,33.828853607177734,40.357513427734375,9.550114631652832,15.700984954833984,25.332059860229492,-52.514976501464844,43.92709732055664,34.10617446899414,-11.526765823364258,8.63083553314209,-31.124265670776367,22.241653442382812,17.4539794921875,-5.875975608825684,-1.3016129732131958,14.589274406433105,14.598485946655273,9.153019905090332,7.966577053070068,31.06415367126465,7.94830322265625,34.538387298583984,-21.6196231842041,-15.82290267944336,-19.508955001831055,-52.126705169677734,-50.66261291503906,43.235965728759766,31.348764419555664,-21.255985260009766,9.637213706970215,-40.128753662109375,-49.94174575805664,24.430530548095703,19.95157241821289,-23.114032745361328,-21.03824234008789,-0.45660728216171265,29.550817489624023,-20.5135440826416,-41.41606521606445,-13.119868278503418,-8.048900604248047,-22.10947608947754,1.393791675567627,-10.123841285705566,0.4987298250198364,15.331591606140137,18.72056007385254,-37.93803787231445,16.72038459777832,41.715389251708984,33.71889877319336,-26.097171783447266,-24.25440788269043,-15.376117706298828,-19.386877059936523,-18.51853370666504,37.37738037109375,9.259285926818848,-15.258443832397461,-22.391599655151367,-1.2218693494796753,-9.021834373474121,44.029541015625,-28.01174545288086,41.68959426879883,-21.270671844482422,-31.069644927978516,37.26680374145508,21.370309829711914,-47.83914566040039,30.37467384338379,27.22968864440918,32.45783233642578,13.150315284729004,-43.7763671875,-38.021087646484375,-24.5417423248291,10.024941444396973,-50.716732025146484,39.734737396240234,41.46244812011719,-17.337526321411133,-53.27754592895508,-30.588294982910156,-9.100430488586426,-1.905251145362854,8.799040794372559,-5.255289554595947,-20.02633285522461,42.79686737060547,-12.540918350219727,12.64404296875,11.779020309448242,-36.77696228027344,8.293941497802734,-1.6821671724319458,-43.56803894042969,45.352020263671875,35.977115631103516,-23.55954933166504,-52.86985778808594,40.339805603027344,-13.202972412109375,-10.462691307067871,-22.79758071899414,-7.333709716796875,-0.33169320225715637,44.707000732421875,-33.67484664916992,-13.921250343322754,-16.975875854492188,-18.556577682495117,6.974425792694092,-11.863541603088379,10.186625480651855,-13.14133071899414,-21.817031860351562,33.43471145629883,18.176523208618164,46.04865264892578,11.75838565826416,20.81183433532715,43.00554275512695,-13.864851951599121,-2.3114798069000244,-17.932025909423828,-40.286720275878906,7.759581089019775,-31.239351272583008,-16.73019790649414,40.939666748046875,41.72071838378906,0.7243154644966125,34.101139068603516,7.190290927886963,-26.532093048095703,18.749025344848633,-44.69883728027344,-45.262874603271484,34.61957550048828,-21.906517028808594,9.774150848388672,-3.6267027854919434,-30.97980308532715,13.544779777526855,12.150433540344238,3.004162549972534,7.728400707244873,-35.9220085144043,18.620250701904297,8.306971549987793,-34.42148971557617,-21.16680908203125,-27.160306930541992,-12.648000717163086,-38.555301666259766,-22.82854461669922,-15.120678901672363,-34.340816497802734,-42.0889892578125,37.34423065185547,-41.76192092895508,-13.78701400756836,40.946922302246094,-9.296598434448242,-19.808616638183594,3.631378650665283,30.258520126342773,43.808563232421875,-21.831026077270508,43.12486267089844,-11.234978675842285,19.662012100219727,42.38075637817383,-24.75420570373535,-21.770288467407227,-41.65397262573242,-20.2320499420166,-51.25967025756836,20.921171188354492,-10.707724571228027,13.805569648742676,-5.210616588592529,-46.67072296142578,41.851646423339844,40.66984939575195,1.8370881080627441,-18.941633224487305,-14.462145805358887,0.8266475200653076,-29.79314613342285,5.117791175842285,1.5556163787841797,35.120948791503906,38.73830032348633,2.0523030757904053,-22.298139572143555,-9.076497077941895,36.88007736206055,44.7899169921875,3.720991373062134,-0.8282402157783508,9.301262855529785,-41.71586608886719,46.19343566894531,16.63703727722168,-11.891633987426758,41.401512145996094,-50.663780212402344,-53.286041259765625,7.515505790710449,-53.01831817626953,23.264644622802734,-19.87354850769043,26.07526397705078,4.330615520477295,-52.536338806152344,-39.874393463134766,-12.536593437194824,16.45354652404785,40.74095153808594,-43.56103515625,18.35028648376465,-41.382747650146484,-41.824729919433594,-13.508136749267578,8.474037170410156,-6.415879726409912,-23.03817367553711,38.26668167114258,-11.376062393188477,26.817276000976562,17.890092849731445,-15.663955688476562,8.480664253234863,-4.5648980140686035,-18.791744232177734,-22.552770614624023,43.73710250854492,-2.615023374557495,-18.22951889038086,-27.520477294921875,-28.54920196533203,-22.153579711914062,42.82636260986328,1.3143985271453857,40.889408111572266,27.683218002319336,5.559252738952637,-9.5816068649292,-10.072941780090332,-51.803619384765625,-15.034783363342285,-42.114994049072266,-14.81531047821045,-3.136957883834839,-4.9205756187438965,7.397330284118652,28.943470001220703,44.17152786254883,-3.22688889503479,40.68255615234375,-33.68967819213867,-15.375631332397461,19.090913772583008,-2.4893882274627686,28.540740966796875,-9.512084007263184,9.165949821472168,15.034157752990723,15.789861679077148,-9.542030334472656,-15.596784591674805,12.064468383789062,-22.890317916870117,-45.121402740478516,38.85495376586914,-19.285873413085938,26.434675216674805,28.7874755859375,-22.706249237060547,23.9996337890625,-5.03338623046875,-16.85283088684082,-44.21821975708008,-11.923571586608887,-53.56584167480469,-19.807836532592773,44.65245819091797,-24.745569229125977,12.924541473388672,-35.754207611083984,-16.8177547454834,-5.990258693695068,-31.980817794799805,-23.474552154541016,8.626808166503906,-41.04471969604492,-42.761932373046875,-11.182680130004883,-21.15706443786621,15.127582550048828,-42.84783935546875,42.044464111328125,-20.96414566040039,-38.85066223144531,-5.333427429199219,3.092475652694702,-17.86271095275879,10.676260948181152,-23.564563751220703,6.297999858856201,8.254243850708008,-23.212017059326172,15.626018524169922,-39.55050277709961,42.001739501953125,13.713327407836914,-21.149473190307617,-15.717787742614746,-42.07245635986328,10.51443862915039,-20.513229370117188,-48.64000701904297,-53.58422088623047,-35.18521499633789,-15.526985168457031,-11.05000114440918,-10.988661766052246,12.916216850280762,40.61992263793945,-23.10954475402832,41.102638244628906,1.3000969886779785,-17.699819564819336,-22.67523193359375,-16.37068748474121,-38.38966751098633,42.88087844848633,28.783462524414062,-10.572339057922363,-25.055953979492188,-8.286174774169922,-25.244604110717773,-23.664579391479492,-3.633881092071533,-20.101089477539062,-38.31087112426758,-40.651824951171875,-0.052755896002054214,36.69607925415039,-7.9302520751953125,0.9606539011001587,-44.145606994628906,41.84393310546875,-22.90888023376465,-9.826780319213867,8.385069847106934,27.042213439941406,-31.43158531188965,6.660646915435791,43.804996490478516,-13.973258018493652,-16.231536865234375,26.673099517822266,-16.448678970336914,0.8793573379516602,-24.39638900756836,36.874122619628906,-22.301420211791992,-2.0175223350524902,27.815608978271484,-18.98652458190918,-7.808202743530273,-19.749345779418945,25.315486907958984,39.039215087890625,10.277847290039062,-16.1285457611084,-26.105655670166016,-15.612433433532715,-21.234766006469727,13.111881256103516,-32.96322250366211,33.88871383666992,0.4585748016834259,-16.43279266357422,42.054542541503906,41.33863067626953,37.57969284057617,-30.148508071899414,36.52766799926758,-26.81781005859375,-22.445602416992188,46.31097412109375,43.27939987182617,29.81271743774414,6.541651725769043,12.090853691101074,35.88355255126953,-14.753608703613281,-13.634211540222168,43.480369567871094,44.970298767089844,4.573716640472412,3.0318491458892822,34.137386322021484,17.6871395111084,-35.23934555053711,-25.47022819519043,22.22048568725586,-52.689697265625,-21.527084350585938,37.691322326660156,-46.305564880371094,-18.21280288696289,-16.800275802612305,14.205434799194336,-16.095090866088867,-18.48890495300293,42.915645599365234,0.8660702705383301,-22.947080612182617,-36.09759521484375,41.76964569091797,-22.543323516845703,43.09454345703125,34.01787185668945,-22.67336082458496,22.410120010375977,2.3387067317962646,-14.645526885986328,27.21910285949707,-49.6400032043457,-48.499488830566406,11.282987594604492,-24.48627471923828,35.300933837890625,-36.52919006347656,-10.638500213623047,20.924701690673828,-23.497764587402344,-38.90848159790039,-18.66651725769043,0.3882535696029663,-12.021076202392578,-22.82941436767578,19.405380249023438,-35.946590423583984,12.916078567504883,8.590728759765625,-9.241085052490234,-11.09312915802002,10.470237731933594,-24.669658660888672,34.53024673461914,-16.17024040222168,-12.433014869689941,-22.59163475036621,41.902156829833984,38.99790954589844,29.602977752685547,20.90389633178711,22.74320411682129,-28.23980712890625,-24.25727653503418,-22.409774780273438,41.1362419128418,28.347673416137695,-24.110389709472656,32.72101974487305,21.996469497680664,-47.18107223510742,39.8606071472168,44.289024353027344,-10.608952522277832,-20.943239212036133,29.986886978149414,3.265578031539917,-23.815217971801758,11.404057502746582,-11.80842113494873,42.10633850097656,-12.538007736206055,-43.5729866027832,-30.680938720703125,25.062868118286133,11.262374877929688,41.25288391113281,16.86884117126465,-42.5372428894043,9.633479118347168,-12.70175552368164,-13.491952896118164,-18.380577087402344,-15.517057418823242,-48.996246337890625,-30.317119598388672,-22.86861228942871,26.156156539916992,33.95183563232422,10.192659378051758,1.1531952619552612,-45.24625778198242,-45.51596450805664,-28.565799713134766,-20.109167098999023,28.55571937561035,42.234230041503906,40.19746780395508,-18.271841049194336,-51.42960739135742,2.0135884284973145,3.1179118156433105,39.60702896118164,41.609439849853516,17.899578094482422,-5.384807586669922,41.048702239990234,34.652278900146484,7.346595764160156,9.224123001098633,37.697959899902344,37.40214157104492,35.8557014465332,30.051774978637695,-6.186425685882568,-40.654380798339844,29.727766036987305,-10.346445083618164,-1.1106605529785156,32.09486389160156,32.81163787841797,-8.087177276611328,-38.252784729003906,-10.196856498718262,-23.097774505615234,29.964994430541992,-4.7061848640441895,20.47920036315918,-5.298142910003662,41.93735122680664,36.23823165893555,40.041343688964844,-15.915976524353027,37.8458366394043,23.7719669342041,-17.024198532104492,-42.38748550415039,38.64630889892578,-22.279321670532227,39.94654083251953,43.90576171875,42.78768539428711,-6.425584316253662,-17.827011108398438,13.178784370422363,9.576478958129883,5.054567813873291,14.011873245239258,-43.46001052856445,14.236613273620605,45.539634704589844,18.392440795898438,39.73295593261719,-11.91423511505127,-23.681596755981445,-12.459200859069824,11.38325023651123,-4.856259822845459,-21.544837951660156,31.781951904296875,41.921241760253906,-42.85207748413086,1.5027046203613281,-37.902645111083984,39.335792541503906,-4.431079864501953,-14.065201759338379,-14.868660926818848,-47.35496520996094,-47.6901969909668,-21.76321792602539,-18.97688102722168,-6.90283727645874,37.90119171142578,-15.80478286743164,6.307655334472656,14.83327579498291,-41.41258239746094,-49.643089294433594,-9.895606994628906,-49.22880554199219,-15.000975608825684,9.207599639892578,-11.162299156188965,43.85197830200195,27.743568420410156,40.576786041259766,-5.38253927230835,30.82577896118164,-38.82870101928711,12.677632331848145,-17.867963790893555,7.432179927825928,-8.259160995483398,4.513636112213135,33.759002685546875,22.452503204345703,-12.254242897033691,-48.379547119140625,-25.622970581054688,45.94807815551758,35.662635803222656,-52.418785095214844,-33.945308685302734,-1.9209299087524414,-9.339537620544434,1.865938663482666,42.393672943115234,0.6066634058952332,-24.521211624145508,-2.0410449504852295,-12.712425231933594,1.2885589599609375,41.79698181152344,-19.441518783569336,31.224390029907227,8.913235664367676,28.867656707763672,0.4458507001399994,-25.79996109008789,19.224679946899414,-51.69224166870117,-44.90203857421875,-20.252519607543945,-7.514718532562256,45.3885383605957,6.903674602508545,-21.827333450317383,-20.701974868774414,-18.07374382019043,22.044506072998047,-14.70834732055664,8.468123435974121,1.2807930707931519,29.193347930908203,-21.793277740478516,1.293431043624878,43.875423431396484,-43.94999313354492,-5.18874979019165,6.780219078063965,-24.87042999267578,-0.4863142669200897,-15.58123779296875,1.6454333066940308,-5.349966049194336,-12.851408004760742,-16.141189575195312,-14.231353759765625,-26.18460464477539,30.398353576660156,-37.705955505371094,-52.72627258300781,28.40591812133789,-19.355775833129883,-27.93065643310547,-8.95273208618164,37.25786209106445,22.739818572998047,-6.561609745025635,-10.927238464355469,40.42082214355469,27.653898239135742,28.530323028564453,11.090264320373535,21.401857376098633,-24.738229751586914,2.1411690711975098,-36.41201400756836,-47.12769317626953,15.42629623413086,3.5621895790100098,-6.55355167388916,-40.76750946044922,6.86445951461792,25.487455368041992,-41.693294525146484,35.6255989074707,32.07194900512695,34.035858154296875,-22.278274536132812,40.637264251708984,40.75417709350586,27.58503532409668,-19.057889938354492,-16.557701110839844,5.4046406745910645,1.6080856323242188,18.317628860473633,-14.760412216186523,30.507761001586914,28.205013275146484,26.65037727355957,43.06494140625,32.73428726196289,35.89324188232422,42.06626510620117,-44.437400817871094,-7.18949556350708,-2.5754003524780273,24.313308715820312,25.30744171142578,32.654537200927734,17.201021194458008,1.3183012008666992,40.170166015625,-9.046034812927246,-0.2461346536874771,13.151491165161133,-21.097200393676758,-20.485092163085938,42.09783935546875,17.599044799804688,11.0165376663208,-25.931978225708008,-44.069549560546875,12.459814071655273,-3.350292921066284,22.713951110839844,45.624229431152344,41.38318634033203,43.22780227661133,-38.20894241333008,-22.038467407226562,-12.41123104095459,-21.792552947998047,41.41572189331055,-13.657073974609375,-15.130148887634277,16.497230529785156,22.501039505004883,-27.51487922668457,5.197257041931152,37.73692321777344,29.727731704711914,-51.711246490478516,-2.1655447483062744,-13.1108980178833,41.152809143066406,-11.113250732421875,-2.7215209007263184,-21.1198673248291,-30.89161491394043,-17.778043746948242,-12.5595703125,-17.882869720458984,20.828533172607422,16.21936798095703,2.6036288738250732,8.35256290435791,15.449557304382324,22.049406051635742,30.692764282226562,-15.84809398651123,-1.3650583028793335,-21.797086715698242,41.369991302490234,7.705467700958252,6.936768054962158,34.672969818115234,41.072078704833984,-5.309288501739502,-20.069717407226562,42.79107666015625,-49.503719329833984,-12.656936645507812,2.8627450466156006,-31.934783935546875,-7.566897392272949,-41.22294616699219,-20.605670928955078,43.197303771972656,-11.871047019958496,-27.07964515686035,15.030029296875,4.691058158874512,-26.737154006958008,-5.198831081390381,-15.838727951049805,-45.118412017822266,18.237712860107422,44.77886199951172,-24.725610733032227,-24.60491943359375,-8.44212532043457,24.317609786987305,3.5614349842071533,-42.6967887878418,21.77155876159668,-50.37606430053711,-0.5714486837387085,7.512401580810547,-20.385948181152344,30.15732192993164,9.334916114807129,-19.75959014892578,35.74498748779297,9.889456748962402,-9.346571922302246,9.81940746307373,34.78139877319336,-17.82627296447754,-21.31804656982422,-23.859376907348633,8.024699211120605,29.516857147216797,-17.93062400817871,-35.7292366027832,2.47157621383667,31.015161514282227,31.550249099731445,10.73625659942627,0.28688445687294006,-47.05181121826172,34.75725173950195,20.029327392578125,4.901752948760986,3.8400373458862305,45.10664749145508,41.49984359741211,-4.501509666442871,6.992748260498047,-13.914658546447754,-9.593039512634277,-2.8874363899230957,19.463403701782227,-7.788826942443848,5.061556339263916,-18.51058578491211,16.790258407592773,-5.490007400512695,40.53080749511719,39.98135757446289,40.419219970703125,-4.107807159423828,-11.356461524963379,23.01167106628418,40.70451736450195,7.894112586975098,-22.017812728881836,-15.673736572265625,-33.52330780029297,-35.64094543457031,-15.222969055175781,42.25176239013672,21.3261775970459,-49.18571090698242,-5.200917720794678,-22.806947708129883,27.870407104492188,26.96265983581543,41.80078125,-22.473222732543945,32.00423812866211,-47.54262161254883,11.5770845413208,6.286407947540283,41.76923370361328,11.52407455444336,36.57590103149414,41.6739616394043,-8.072373390197754,-15.828348159790039,24.89346694946289,4.931878566741943,-8.964958190917969,26.377662658691406,-34.5462646484375,27.515512466430664,38.437843322753906,-19.649229049682617,-14.318436622619629,-38.75861740112305,21.616840362548828,20.961814880371094,17.90399742126465,6.4608612060546875,21.215288162231445,16.532459259033203,4.472436428070068,27.43153190612793,-27.941530227661133,-20.423534393310547,21.388057708740234,40.730247497558594,-13.54525089263916,-9.063875198364258,42.4412956237793,21.601051330566406,40.14321517944336,-29.33745574951172,20.879987716674805,41.979347229003906,9.757583618164062,-0.8679797053337097,-50.52141189575195,-13.896574974060059,8.120697975158691,-33.08713912963867,-36.95673370361328,-24.14158821105957,42.7535285949707,40.4278564453125,-21.78342628479004,7.104220867156982,-11.792889595031738,-11.838118553161621,-19.171222686767578,-10.110785484313965,-27.100927352905273,-22.3514404296875,9.262484550476074,38.34395980834961,-2.9428532123565674,17.131515502929688,6.292143821716309,10.863302230834961,-48.316795349121094,11.790580749511719,-26.269672393798828,-11.209988594055176,38.27521896362305,-10.078332901000977,6.2981181144714355,-39.0482292175293,21.459814071655273,21.728620529174805,33.26442337036133,-23.775611877441406,13.225678443908691,3.12514066696167,-27.407550811767578,-0.2858528196811676,13.38918685913086,-49.52735137939453,-8.479615211486816,-2.7184886932373047,-12.01412296295166,9.244649887084961,14.763805389404297,38.12162780761719,44.426231384277344,13.747506141662598,3.8325705528259277,-23.73590660095215,-36.88432312011719,-16.990604400634766,-46.997901916503906,-23.332469940185547,-15.576406478881836,16.03257179260254,-12.446832656860352,44.41757583618164,17.40829086303711,-41.8873291015625,11.37472152709961,-47.28792190551758,27.672821044921875,7.156908988952637,-22.688766479492188,41.84490203857422,-39.420719146728516,-18.99365234375,21.87946319580078,-37.9597282409668,-52.63513946533203,29.95305633544922,40.07036209106445,-2.645841121673584,14.112576484680176,21.726625442504883,-17.681472778320312,42.80357360839844,10.324212074279785,40.53432846069336,-10.732623100280762,25.791728973388672,23.879695892333984,9.275784492492676,9.579111099243164,14.229533195495605,27.38840103149414,-16.50002098083496,29.352853775024414,10.224020957946777,18.323097229003906,41.28491973876953,-19.198280334472656,13.489551544189453,33.77674102783203,-32.45570373535156,41.560523986816406,40.03337860107422,39.42558670043945,-18.179874420166016,-15.335916519165039,-11.953752517700195,-19.331073760986328,-43.96274948120117,42.57886505126953,-27.80208396911621,-40.744075775146484,-22.384078979492188,-36.07098388671875,-12.59382438659668,30.340829849243164,40.52745056152344,12.003211975097656,11.448064804077148,-35.60143280029297,-2.351875066757202,-39.304283142089844,22.240327835083008,26.715272903442383,3.965958595275879,45.14324188232422,39.69342803955078,26.445926666259766,3.027672052383423,-15.867243766784668,-21.77161407470703,-21.652362823486328,40.475677490234375,-18.87729263305664,-22.665254592895508,-16.237571716308594,24.680477142333984,-19.600419998168945,-14.335936546325684,12.104636192321777,-15.594779968261719,10.897500991821289,-23.209095001220703,-44.310523986816406,14.087146759033203,-3.2699525356292725,-16.568866729736328,-23.26776123046875,-50.868797302246094,-1.7272818088531494,-43.98242950439453,-23.27898597717285,2.97814679145813,37.67502212524414,12.562835693359375,-22.55022430419922,-4.185335159301758,-10.768719673156738,8.118123054504395,-21.992223739624023,-14.581412315368652,40.71603012084961,11.475213050842285,-19.926429748535156,41.73114776611328,8.073609352111816,-27.05541229248047,42.20880889892578,18.558940887451172,-46.64802169799805,43.017032623291016,27.831113815307617,-22.989397048950195,45.433067321777344,-24.463882446289062,-17.961647033691406,-3.684265375137329,-35.49952697753906,-12.506503105163574,-39.36296463012695,0.6696864366531372,4.600283622741699,-6.31771993637085,2.241532564163208,41.954933166503906,-45.36211395263672,-42.52364730834961,13.255545616149902,35.55186462402344,-7.245022296905518,-10.935924530029297,-19.77580451965332,34.725242614746094,16.323841094970703,-6.342041015625,-17.61880874633789,-16.807096481323242,-21.74689292907715,0.9168287515640259,-38.01996612548828,-28.369848251342773,-15.276853561401367,40.063621520996094,20.7829532623291,9.52833080291748,33.531856536865234,-22.730880737304688,-6.274721145629883,-45.7387809753418,-37.54633712768555,-10.534394264221191,35.37724304199219,-39.81851577758789,-52.34086227416992,-45.11310958862305,35.935787200927734,31.714628219604492,0.6666033267974854,26.84931755065918,-12.372681617736816,-0.06280990689992905,44.30488586425781,-51.45892333984375,-17.63269805908203,25.68467903137207,11.272101402282715,-13.421140670776367,4.327391147613525,26.027969360351562,-6.859642505645752,-29.40909194946289,39.682010650634766,40.8133430480957,35.229393005371094,45.93510437011719,-14.888588905334473,28.04076385498047,20.108327865600586,-32.255794525146484,-46.4045524597168,-18.225296020507812,-25.89460563659668,-47.43809509277344,34.40981674194336,0.40272703766822815,3.6974985599517822,-25.793100357055664,-19.337871551513672,43.0849609375,-26.488082885742188,11.171576499938965,0.8061524033546448,5.79646635055542,-38.30190658569336,-41.2059211730957,-18.82171630859375,40.61754608154297,5.956682205200195,45.16341018676758,36.730316162109375,-30.218812942504883,-20.798995971679688,-51.05663299560547,35.77665710449219,-7.163855075836182,6.729863166809082,-19.948366165161133,20.79949378967285,-38.954078674316406,-21.395782470703125,24.226449966430664,-21.438392639160156,-11.608797073364258,-7.45925235748291,30.863155364990234,-20.809677124023438,-31.51312255859375,41.361961364746094,5.526328086853027,-7.575351238250732,-4.935842514038086,-7.313782215118408,5.353157997131348,-22.29676628112793,43.17133331298828,-16.755311965942383,28.462709426879883,-17.414392471313477,-17.358579635620117,-19.067270278930664,21.37142562866211,38.478309631347656,-17.340511322021484,-10.604307174682617,-39.289669036865234,28.280847549438477,10.697501182556152,-15.339985847473145,-16.541545867919922,29.076770782470703,20.078266143798828,31.884077072143555,-9.202377319335938,-2.7814176082611084,21.30043601989746,-17.270587921142578,36.38332748413086,41.117008209228516,12.979229927062988,-44.04080581665039,31.0301570892334,34.48304748535156,8.641777038574219,-4.459290981292725,-11.980062484741211,6.258506774902344,34.09235763549805,35.865333557128906,-52.63114929199219,30.779020309448242,35.919677734375,-12.0173978805542,42.235267639160156,28.933639526367188,-41.722869873046875,-25.587940216064453,-48.07072830200195,-43.66362380981445,-41.487918853759766,-22.04668426513672,-44.1005744934082,-38.1517333984375,-43.23540115356445,-11.50320053100586,45.75874328613281,12.539759635925293,-22.81687355041504,7.607533931732178,3.4557440280914307,-6.47558069229126,28.91440200805664,-8.298229217529297,44.022945404052734,36.721702575683594,23.512243270874023,40.5924072265625,30.99500846862793,28.215206146240234,33.158531188964844,1.8661160469055176,-5.780243396759033,27.854820251464844,21.629592895507812,-15.58651351928711,41.06498336791992,32.839637756347656,-11.616460800170898,4.147965908050537,3.314542293548584,40.951454162597656,43.49959182739258,-38.58924102783203,21.071483612060547,21.75455093383789,45.69147872924805,2.0717315673828125,4.8353471755981445,7.732885360717773,38.724220275878906,20.435678482055664,-10.015480995178223,15.903874397277832,36.951576232910156,-23.90154266357422,-48.71534729003906,33.433990478515625,-50.5523681640625,0.3159676492214203,-0.7903938293457031,41.85249710083008,37.60819625854492,-18.550086975097656,38.55052947998047,41.45866394042969,-21.069067001342773,39.73725891113281,42.8231086730957,-25.425296783447266,34.97698211669922,-22.8502140045166,-17.830419540405273,-15.280191421508789,-25.184810638427734,-4.793715476989746,44.068939208984375,20.6998291015625,-16.309091567993164,13.946197509765625,-38.55402374267578,40.492576599121094,40.78296661376953,-28.510066986083984,6.184480667114258,-23.300193786621094,-16.809919357299805,43.500431060791016,-12.362903594970703,-23.509740829467773,14.498099327087402,-49.3481559753418,-17.622758865356445,-19.046478271484375,43.115966796875,-23.854347229003906,27.672273635864258,3.8248369693756104,-25.640186309814453,-13.105900764465332,-20.299713134765625,-23.233678817749023,20.84889793395996,-52.34834671020508,-17.663387298583984,4.223871231079102,0.7766862511634827,-23.518325805664062,-43.3913459777832,17.154640197753906,-21.2326602935791,43.4774055480957,21.834251403808594,38.45423889160156,23.471471786499023,19.67096710205078,-37.53857421875,-19.94194793701172,-34.435203552246094,13.517613410949707,40.973777770996094,44.32395935058594,36.95329284667969,-44.75785827636719,-4.44038200378418,-1.328167200088501,-21.674325942993164,39.20787811279297,11.36335563659668,-36.648651123046875,-23.04412269592285,39.57163619995117,41.47107696533203,42.07261657714844,20.979061126708984,-42.4802360534668,17.741607666015625,-6.47072696685791,43.27768325805664,-26.30786895751953,14.063763618469238,41.77488327026367,31.820831298828125,3.2451939582824707,-16.021678924560547,3.3435215950012207,19.899295806884766,21.16975212097168,28.70669937133789,44.609642028808594,-8.53059196472168,-17.311161041259766,45.698341369628906,41.260498046875,43.198516845703125,-36.24818801879883,41.88870620727539,1.738774299621582,41.719451904296875,8.661688804626465,20.932968139648438,28.654638290405273,-21.500093460083008,41.03139877319336,10.301654815673828,29.223003387451172,-23.30337905883789,-13.2409029006958,-49.94963073730469,2.9554007053375244,14.168509483337402,-25.40970802307129,2.6952741146087646,12.236249923706055,37.517879486083984,41.420589447021484,-17.90968894958496,39.4510383605957,39.33134460449219,-18.769758224487305,29.589078903198242,-46.7590217590332,-5.7698235511779785,15.291969299316406,17.907838821411133,-19.126943588256836,2.002429723739624,-19.030208587646484,-17.84125328063965,27.478872299194336,25.04893684387207,-12.953195571899414,-7.68263053894043,-35.68273162841797,-0.9338344931602478,0.376032292842865,-25.31525421142578,-42.236732482910156,10.551036834716797,38.9597053527832,22.719438552856445,32.80030059814453,40.70832443237305,-29.23822593688965,44.80260467529297,35.96693801879883,30.58553695678711,-20.477243423461914,-46.40404510498047,-3.7098891735076904,-53.122833251953125,-41.01017379760742,-30.540678024291992,-3.1979362964630127,7.536962985992432,-18.64082908630371,-39.814510345458984,25.830474853515625,38.613407135009766,40.78448486328125,41.26822280883789,-25.400358200073242,42.6075439453125,40.55266189575195,-22.05141258239746,-12.927468299865723,-18.806385040283203,-44.3602294921875,40.752132415771484,10.6628999710083,-9.512715339660645,13.946561813354492,-9.255453109741211,17.29442596435547,-0.7781955599784851,40.7042121887207,-5.468613624572754,44.2086296081543,-3.3350234031677246,-28.35353660583496,-5.204360008239746,3.568890333175659,-36.21022033691406,11.567030906677246,-16.51847267150879,9.320003509521484,-19.5056209564209,7.656338691711426,-48.393131256103516,-39.911277770996094,-22.338525772094727,-41.45721435546875,-53.12728500366211,43.487545013427734,-20.42961311340332,42.04082489013672,43.80122756958008,-18.58353042602539,-2.4855093955993652,21.707468032836914,-33.23737335205078,30.951946258544922,-25.035465240478516,-49.330833435058594,9.718130111694336,-9.164552688598633,-13.07624340057373,-15.77857780456543,40.164459228515625,10.102675437927246,42.970497131347656,-12.09228801727295,-47.3881950378418,-19.01798439025879,-23.422489166259766,-17.05392837524414,-35.14137268066406,38.34969711303711,-16.293071746826172,27.253313064575195,12.543368339538574,-23.83340835571289,-7.158261299133301,-42.29576873779297,-5.865931034088135,31.746652603149414,-11.285789489746094,-2.1859967708587646,-0.23629698157310486,-17.923524856567383,25.11181640625,45.061832427978516,12.94121265411377,-8.807236671447754,29.36960792541504,-38.78179931640625,8.968012809753418,0.3160010576248169,-13.728346824645996,-24.73244857788086,-23.639476776123047,-25.325273513793945,3.3855226039886475,-14.015844345092773,11.486421585083008,45.644615173339844,-39.236915588378906,-13.023237228393555,-35.177085876464844,-14.445111274719238,13.097362518310547,-20.4416561126709,-47.037445068359375,-16.54022789001465,-13.048567771911621,-49.122928619384766,-6.509871006011963,-20.72915267944336,-46.52702713012695,8.613048553466797,-23.268129348754883,13.052193641662598,-21.74120330810547,-25.51877212524414,-25.94312858581543,-18.97527503967285,-20.8347110748291,20.02869987487793,39.3157844543457,-34.07197189331055,20.34217071533203,-52.4682731628418,-15.834041595458984,-14.226346015930176,5.229938983917236,14.471673011779785,1.673398494720459,-1.8542592525482178,43.48064422607422,21.965051651000977,-28.147113800048828,-41.100345611572266,-5.97822904586792,34.112403869628906,-51.0752067565918,8.187882423400879,27.504070281982422,-26.32343101501465,7.092452049255371,-39.15066909790039,-41.672462463378906,-15.928881645202637,38.4761848449707,42.31324005126953,32.22372055053711,28.407421112060547,18.125001907348633,44.9398193359375,40.774444580078125,-14.96187686920166,-23.904300689697266,41.7151985168457,-6.617215156555176,26.570878982543945,-51.412750244140625,5.284748077392578,-13.980838775634766,-14.636567115783691,-51.34442138671875,30.757204055786133,40.72325897216797,-14.255212783813477,8.898432731628418,-18.580896377563477,6.646855354309082,45.787994384765625,17.46054458618164,-6.811767101287842,42.07163619995117,-52.374786376953125,36.271785736083984,1.0690850019454956,-2.3486955165863037,8.978867530822754,-15.227450370788574,33.41997146606445,-45.68513488769531,23.28217887878418,37.32207489013672,10.102144241333008,3.9332237243652344,-40.60415267944336,40.317501068115234,44.266021728515625,-22.757646560668945,-25.312694549560547,36.716495513916016,44.05847930908203,30.623504638671875,-12.287409782409668,-23.113920211791992,-27.398040771484375,-45.913883209228516,-50.2367057800293,41.130226135253906,-43.343231201171875,45.425254821777344,41.19120407104492,-28.49458885192871,-10.27026653289795,41.50541305541992,42.93100357055664,-23.81144905090332,43.67344284057617,37.663848876953125,-19.631610870361328,24.44310760498047,14.861614227294922,14.133308410644531,7.262670040130615,-26.840042114257812,-16.371843338012695,43.88711929321289,-24.43515968322754,7.1654462814331055,-4.723188877105713,19.030208587646484,-17.52627944946289,-21.555700302124023,16.494224548339844,-19.844480514526367,-12.638346672058105,3.1352813243865967,-4.7133026123046875,-11.578024864196777,27.862462997436523,19.75438690185547,-12.880704879760742,28.80567741394043,19.199556350708008,-22.331378936767578,-11.00001335144043,40.14716339111328,34.99790954589844,39.778839111328125,-48.4981575012207,20.337852478027344,21.159727096557617,13.345434188842773,-13.29416275024414,-23.383493423461914,-27.530784606933594,-17.206851959228516,8.885881423950195,-49.18995666503906,-12.148458480834961,-47.287349700927734,42.79947280883789,46.461727142333984,-48.337730407714844,5.0702409744262695,-32.49237823486328,37.742977142333984,19.096485137939453,-9.489091873168945,-14.235272407531738,-35.52986526489258,14.648752212524414,-48.15547180175781,-23.61083984375,38.37071990966797,-9.543170928955078,20.7871036529541,-18.211238861083984,37.05565643310547,18.195255279541016,13.911948204040527,32.07102584838867,-14.213956832885742,35.41218566894531,-43.547821044921875,29.720582962036133,-23.70730972290039,-23.269649505615234,3.165182113647461,-14.21316909790039,40.76728820800781,9.795650482177734,-51.367252349853516,-51.937191009521484,13.444412231445312,-48.795127868652344,-19.379491806030273,42.64192199707031,-21.10780143737793,2.66283917427063,-53.23883819580078,30.40713119506836,-10.89326000213623,40.95586013793945,11.526176452636719,34.22622299194336,8.226635932922363,-13.692340850830078,-8.277095794677734,36.41081619262695,11.402875900268555,31.552490234375,-0.7826701402664185,-36.452880859375,0.9102060198783875,41.13729476928711,-11.504286766052246,-16.245595932006836,-16.534854888916016,38.76042175292969,-17.726438522338867,7.573973655700684,-24.806589126586914,43.99470520019531,26.48021697998047,-36.92866516113281,-17.96963882446289,-5.046307563781738,1.995729684829712,-12.208370208740234,43.33793640136719,-36.3538932800293,11.457743644714355,-50.57391357421875,-8.542981147766113,-8.423537254333496,-1.673625111579895,9.601117134094238,3.5632903575897217,43.731632232666016,10.240276336669922,-49.63261032104492,32.76011657714844,44.48832702636719,-22.77242660522461,-46.23902130126953,41.62377166748047,-15.21886157989502,-20.282285690307617,14.809460639953613,-18.026918411254883,-13.212507247924805,-16.91105842590332,-17.77471351623535,-10.5501127243042,11.447848320007324,-12.057098388671875,17.624935150146484,20.131793975830078,-17.001562118530273,-11.602164268493652,-17.137969970703125,32.36436080932617,-23.36266326904297,37.02511215209961,-34.51310729980469,-16.101957321166992,11.812344551086426,-45.996009826660156,17.409561157226562,-17.011863708496094,-20.858083724975586,9.774768829345703,-35.94187927246094,11.83515739440918,-25.61892318725586,-19.53470230102539,9.817590713500977,3.7579851150512695,-10.27629280090332,-23.38327407836914,-2.9882633686065674,17.790422439575195,14.625752449035645,-34.44440841674805,31.687519073486328,-1.2181957960128784,-12.903205871582031,-53.052547454833984,43.392662048339844,13.835417747497559,-12.90617561340332,-21.19029998779297,21.39657211303711,12.739630699157715,-8.475818634033203,42.56795883178711,43.15754699707031,-16.593915939331055,-42.32505798339844,-24.234601974487305,14.314188003540039,43.51808547973633,-19.327030181884766,-22.20623016357422,10.557891845703125,19.58388900756836,42.74877166748047,37.107749938964844,30.626785278320312,-50.917999267578125,0.049375493079423904,-10.570669174194336,-7.167454719543457,6.2863850593566895,35.050628662109375,16.26779556274414,46.21581268310547,1.1053487062454224,-24.531766891479492,-17.073699951171875,-50.362606048583984,15.356012344360352,-13.063956260681152,4.32645845413208,-14.746935844421387,-41.8176155090332,-25.538681030273438,16.860517501831055,-20.2996768951416,42.761634826660156,34.717376708984375,-0.7941120862960815,40.545265197753906,2.599783182144165,-0.9645221829414368,-34.75767517089844,41.5078125,-19.403688430786133,10.05642318725586,-33.72710418701172,-20.187318801879883,-29.866304397583008,-26.816179275512695,43.6151123046875,-18.34397315979004,10.833173751831055,21.99347686767578,6.260241508483887,7.52257776260376,-5.937448978424072,-51.940704345703125,-21.5732421875,-1.6959247589111328,33.767921447753906,35.88581085205078,-21.78577423095703,-10.528206825256348,32.369659423828125,-21.194866180419922,-15.283531188964844,7.875527381896973,-37.090877532958984,17.470144271850586,12.87122631072998,6.838144302368164,-19.206737518310547,40.30534362792969,41.42478561401367,29.244977951049805,-42.47484588623047,-17.65279769897461,-8.121397018432617,-19.23533058166504,-34.23035430908203,-13.750075340270996,29.22012710571289,39.688316345214844,45.65092468261719,44.41719436645508,-31.064416885375977,1.574906587600708,21.081235885620117,40.279930114746094,-47.67485046386719,-5.55197811126709,15.558320045471191,-30.550172805786133,-21.996644973754883,8.16540241241455,28.155969619750977,11.790821075439453,18.66405487060547,-44.793357849121094,32.89118576049805,30.016477584838867,3.2383275032043457,17.77195167541504,42.556705474853516,42.18964385986328,-8.156818389892578,-7.0167341232299805,-22.034442901611328,2.4138474464416504,-18.569469451904297,-8.353934288024902,-8.535033226013184,-22.562503814697266,-0.5909937024116516,41.09208679199219,22.188156127929688,37.08806610107422,-9.13613224029541,23.069482803344727,-1.839646577835083,35.957149505615234,8.480354309082031,19.274017333984375,10.199254989624023,-44.823974609375,3.048266887664795,6.451027870178223,32.90128707885742,42.500732421875,26.760461807250977,33.2786865234375,36.070533752441406,-53.49654006958008,-16.949249267578125,11.277692794799805,-49.74821090698242,-21.018930435180664,22.372299194335938,11.065350532531738,44.15016174316406,-23.807748794555664,8.263166427612305,-12.408954620361328,-9.428146362304688,3.197822093963623,17.51079750061035,-23.666465759277344,-21.934144973754883,13.989339828491211,-27.63970184326172,-13.00007152557373,36.61442565917969,40.326942443847656,8.966795921325684,20.203020095825195,-23.51848793029785,40.588905334472656,-10.047460556030273,-18.45636558532715,-10.872343063354492,39.66314697265625,-4.849920272827148,-13.75075912475586,37.807167053222656,20.086044311523438,-28.317462921142578,30.320222854614258,7.678396224975586,-31.327701568603516,-19.844797134399414,23.610631942749023,42.518821716308594,12.03669261932373,-16.542739868164062,-22.3878231048584,-21.596933364868164,39.14096450805664,-0.6032648682594299,-16.86391258239746,33.4605712890625,27.160879135131836,-8.476151466369629,-10.644092559814453,-6.686047554016113,-50.76152801513672,43.64443588256836,46.59794998168945,-3.7598423957824707,-49.59443664550781,32.02335739135742,-44.35531234741211,-6.636553764343262,34.161617279052734,40.55320358276367,-17.115976333618164,-23.694381713867188,42.1735954284668,12.278410911560059,-38.53538131713867,12.949069023132324,-51.5953254699707,-20.327037811279297,33.13525390625,-29.41470718383789,-22.79100799560547,-5.989841461181641,-6.400272369384766,35.92983627319336,-11.044474601745605,-14.203398704528809,-27.399612426757812,5.840466022491455,18.586992263793945,40.48020935058594,-17.645170211791992,20.744491577148438,16.9592342376709,20.73111343383789,-15.111828804016113,7.589261054992676,41.785831451416016,8.445372581481934,-5.173627853393555,-8.815546035766602,35.03721237182617,-17.0801944732666,-15.880417823791504,40.252811431884766,26.741138458251953,-18.12873077392578,-48.96244812011719,-34.52125549316406,-12.445865631103516,-42.54890441894531,-22.073226928710938,-20.297836303710938,-45.6710205078125,-23.856409072875977,-18.219614028930664,15.577317237854004,29.65764808654785,-0.32467660307884216,11.582104682922363,12.391112327575684,12.634919166564941,27.373090744018555,44.449493408203125,8.635547637939453,-25.996301651000977,37.994140625,13.370638847351074,40.3704719543457,-38.63854217529297,-35.66061782836914,-14.94211196899414,27.669343948364258,8.891913414001465,22.64650535583496,-18.426029205322266,2.6102755069732666,-23.261795043945312,-24.015195846557617,-43.29555892944336,42.43679428100586,22.679689407348633,30.673858642578125,-25.48381233215332,-22.23111915588379,-9.464068412780762,-15.717488288879395,13.16350269317627,27.536367416381836,6.328492641448975,-8.592559814453125,-15.984945297241211,-14.529365539550781,-14.162405967712402,-51.37405776977539,-11.15450382232666,-52.973876953125,-25.264768600463867,-51.20475387573242,46.269752502441406,34.30482482910156,-22.098228454589844,-14.699179649353027,31.69890022277832,5.846470832824707,-40.89476776123047,-8.98477554321289,-1.1880136728286743,-28.298934936523438,22.738012313842773,-1.772478461265564,38.785987854003906,-36.49769592285156,-23.965909957885742,-11.893125534057617,19.065828323364258,11.367729187011719,-12.659920692443848,-20.691606521606445,-51.34651565551758,4.675137996673584,-52.072181701660156,-25.358734130859375,-53.18883514404297,-23.673633575439453,17.1942138671875,-20.310516357421875,40.44956970214844,-14.354954719543457,-18.570280075073242,-39.49846267700195,23.414331436157227,12.232046127319336,-37.19508361816406,36.439231872558594,6.995370864868164,-12.97716236114502,-21.934680938720703,42.11334228515625,40.70270538330078,9.776650428771973,5.9063639640808105,-17.798032760620117,37.286930084228516,-48.85438537597656,12.120288848876953,19.818485260009766,0.6791872978210449,-20.071786880493164,-47.82234573364258,40.972068786621094,42.444854736328125,-51.31968688964844,18.30312156677246,28.930620193481445,-14.55677318572998,-42.573814392089844,28.9437313079834,13.419625282287598,1.8090349435806274,42.469642639160156,-4.399908065795898,-14.942557334899902,-2.6119203567504883,7.140524387359619,30.296228408813477,34.524940490722656,-24.53122329711914,-27.248390197753906,-5.2326860427856445,-11.281272888183594,31.116092681884766,6.249194145202637,-1.6021263599395752,-19.8813419342041,-48.959590911865234,-24.952329635620117,-21.51752281188965,6.074190139770508,32.53942108154297,11.159674644470215,-20.74555015563965,0.15489228069782257,9.752718925476074,-37.36811828613281,40.134979248046875,-4.60390043258667,44.30514907836914,34.407875061035156,-37.072357177734375,-26.424345016479492,41.09785461425781,-17.66689109802246,-20.07029914855957,8.502355575561523,12.471850395202637,11.079569816589355,-25.935016632080078,39.23282241821289,27.763713836669922,-15.710344314575195,-15.729046821594238,23.11105728149414,-0.29201698303222656,-17.763839721679688,-49.86027908325195,26.56667137145996,16.41769027709961,35.440425872802734,-27.02235221862793,-10.13036823272705,30.41620635986328,37.51355743408203,15.99087905883789,-20.938383102416992,11.887545585632324,40.43603515625,-16.095592498779297,34.04668426513672,3.8649206161499023,-14.496294975280762,0.9223616123199463,-4.552557468414307,40.1679801940918,-20.829689025878906,-4.039013862609863,28.428281784057617,-9.23794174194336,39.36648178100586,-47.583492279052734,23.712942123413086,39.27029037475586,-21.3605899810791,29.22892189025879,31.481346130371094,-48.6571044921875,41.381160736083984,-9.080963134765625,-29.454906463623047,-22.02694320678711,-22.600353240966797,4.373189449310303,-11.416048049926758,45.18923568725586,-17.966915130615234,-7.994870185852051,-35.57561111450195,39.953025817871094,21.365524291992188,6.0496296882629395,24.042015075683594,-0.048413366079330444,34.76527786254883,-14.137042999267578,1.1930899620056152,-21.84393882751465,20.579870223999023,-3.7985692024230957,40.127506256103516,36.086212158203125,0.7815176248550415,-19.85991859436035,31.460250854492188,25.045732498168945,-52.5194091796875,-12.40558910369873,10.890497207641602,7.5695481300354,-3.95831561088562,16.0562801361084,14.668949127197266,39.32676315307617,-20.82013702392578,-41.08260726928711,-49.56755447387695,-9.43497371673584,-48.99741744995117,-22.429855346679688,-22.67437744140625,-17.749614715576172,17.907197952270508,-7.830085754394531,34.60808563232422,-48.865352630615234,43.29140090942383,40.031715393066406,32.899078369140625,7.176587104797363,9.128472328186035,-13.00484561920166,41.324920654296875,10.531070709228516,34.68766403198242,42.39722442626953,21.62523078918457,-36.96732711791992,40.45907974243164,-28.963563919067383,-44.57196807861328,-14.872303009033203,39.86830520629883,-33.15707778930664,42.59850311279297,15.727753639221191,-15.425122261047363,-5.6069440841674805,31.012344360351562,21.370498657226562,-15.9476900100708,-17.52214813232422,40.36947250366211,26.39153289794922,-20.95148468017578,4.41922664642334,36.58684539794922,-21.121980667114258,9.601349830627441,-20.855976104736328,-37.95390701293945,34.86124038696289,38.787174224853516,43.756404876708984,-29.55483627319336,-8.25744342803955,-46.63794708251953,15.333138465881348,-12.71828842163086,41.30442810058594,-3.776902914047241,-51.75595474243164,-52.45758056640625,-41.58086395263672,-2.1104896068573,44.15687561035156,-19.23027992248535,-21.46961784362793,-0.06677838414907455,5.852080821990967,-19.5835018157959,42.91212463378906,-38.60993957519531,5.388509273529053,31.189035415649414,40.96956253051758,-29.601167678833008,21.821971893310547,-12.44163990020752,43.621559143066406,-21.28565216064453,30.320816040039062,27.69023895263672,-26.318798065185547,-11.73395824432373,-20.53883934020996,-45.58031463623047,-13.5517578125,-15.73019790649414,-17.104761123657227,-48.26433563232422,41.19062423706055,16.270273208618164,7.4883928298950195,16.266876220703125,40.49794006347656,-22.356658935546875,-42.28092956542969,-52.174041748046875,-44.76704025268555,27.925607681274414,-0.35353049635887146,-37.661502838134766,-47.848209381103516,-52.44887924194336,18.218942642211914,27.4000301361084,-27.485641479492188,38.6362190246582,32.4052848815918,-37.75526428222656,2.237030506134033,-37.830726623535156,30.22344970703125,-3.3912925720214844,14.722733497619629,-24.86330223083496,24.272558212280273,42.71034240722656,43.42500305175781,-9.101631164550781,9.318431854248047,-8.781424522399902,39.985931396484375,41.51509475708008,-20.920360565185547,37.94765090942383,16.58452606201172,-8.087188720703125,-3.1388025283813477,-50.98188781738281,46.37548065185547,32.023433685302734,2.4025912284851074,-20.949678421020508,18.732389450073242,39.17364501953125,6.2159504890441895,39.83350372314453,2.3415908813476562,37.48323440551758,36.985008239746094,-11.61157512664795,40.406776428222656,-13.409807205200195,-34.57868957519531,-4.294156551361084,19.632259368896484,-19.897850036621094,-38.008934020996094,40.02354431152344,28.470792770385742,14.301730155944824,45.01072311401367,13.135211944580078,36.87919616699219,-17.5975399017334,38.266292572021484,-20.070898056030273,-51.31394577026367,-41.8956298828125,35.81256103515625,5.6852593421936035,-9.70822811126709,4.175765037536621,-24.94040870666504,-22.36212158203125,44.10673522949219,-17.26807975769043,43.04004669189453,-52.155521392822266,40.2983512878418,-23.201887130737305,32.34383010864258,-18.936128616333008,-18.72519302368164,43.625938415527344,41.37897872924805,44.84121322631836,18.869359970092773,-18.118816375732422,-22.643569946289062,40.47003936767578,17.628074645996094,-19.891469955444336,-22.437847137451172,35.58171463012695,41.19459915161133,-23.498180389404297,10.491933822631836,10.21149730682373,-14.8748140335083,-18.599620819091797,-0.335706889629364,26.33315658569336,-42.905086517333984,19.055803298950195,-24.68634033203125,-52.592994689941406,-11.735556602478027,14.10740852355957,16.008346557617188,30.161203384399414,-48.998451232910156,-50.3970947265625,0.23699253797531128,-20.121156692504883,32.1173095703125,31.360883712768555,11.110761642456055,-36.8465461730957,6.374630451202393,-24.84311294555664,-4.091182231903076,-9.033243179321289,29.930707931518555,-51.97894287109375,-11.154244422912598,-8.961905479431152,0.06263630092144012,-17.25463104248047,-1.079076886177063,24.98317527770996,-11.136422157287598,-12.376160621643066,11.487329483032227,-24.4921932220459,41.47371292114258,28.513866424560547,-6.464226245880127,-22.36023712158203,-21.51958465576172,17.068201065063477,14.782102584838867,-17.764177322387695,-49.01067352294922,-34.82884216308594,-11.773118019104004,-5.405148506164551,24.8359432220459,10.950462341308594,-5.70894718170166,-19.395183563232422,-8.09357738494873,-20.59662437438965,-2.90016770362854,10.467041015625,40.76283645629883,19.824331283569336,-51.66471862792969,39.56850814819336,15.810934066772461,40.27530288696289,-22.897754669189453,42.941375732421875,-51.95124435424805,27.860740661621094,-18.145442962646484,43.11355972290039,-45.840152740478516,6.528049945831299,-11.349651336669922,6.9046101570129395,34.17771530151367,-1.3072149753570557,6.888357162475586,-8.11960220336914,-12.146554946899414,-21.582292556762695,-52.553466796875,28.078336715698242,7.917572975158691,-35.60481262207031,13.599071502685547,44.7664680480957,-3.4071204662323,-20.98188591003418,-52.11781311035156,0.8275693655014038,40.46382522583008,7.865550518035889,33.371646881103516,-21.292842864990234,28.02901840209961,6.316551685333252,3.946819305419922,-49.30935287475586,-23.292919158935547,-24.792835235595703,-48.798789978027344,27.39006233215332,18.791706085205078,42.44314193725586,-16.461904525756836,-12.76815128326416,-4.115957260131836,34.7824821472168,-43.25432586669922,-25.600502014160156,-51.780250549316406,-25.527132034301758,44.65902328491211,-22.078603744506836,40.96387481689453,31.446134567260742,-11.378235816955566,43.70253372192383,-13.710082054138184,-9.525636672973633,41.114776611328125,-24.758153915405273,41.799949645996094,30.071491241455078,-44.763587951660156,12.715806007385254,23.57525634765625,16.8620662689209,38.0095329284668,-17.79763412475586,-2.9098379611968994,32.58980178833008,38.13036346435547,4.197482109069824,-51.93470764160156,-11.297927856445312,45.750972747802734,0.16241316497325897,-15.883203506469727,43.900299072265625,-5.386789798736572,-23.104198455810547,-34.8968391418457,-8.325051307678223,44.796844482421875,25.586759567260742,-22.607030868530273,17.2117862701416,-29.10723876953125,-26.81077766418457,2.037822723388672,8.551889419555664,5.603812217712402,-48.16557693481445,32.67318344116211,-21.535755157470703,-51.28044128417969,-13.475869178771973,13.06714153289795,-19.260231018066406,32.01054763793945,-22.023332595825195,41.13920593261719,41.509803771972656,6.91646146774292,31.138031005859375,24.869943618774414,-20.007240295410156,-25.680208206176758,41.25776290893555,-20.609254837036133,24.941829681396484,-10.204602241516113,15.284872055053711,42.5860710144043,8.665897369384766,21.865201950073242,-15.692264556884766,9.781404495239258,-50.810001373291016,12.851571083068848,3.965514659881592,-7.792943477630615,-51.317752838134766,-11.213249206542969,-20.04415512084961,3.5028607845306396,-19.140974044799805,39.10758972167969,41.49580764770508,41.643707275390625,13.768853187561035,27.228389739990234,-24.899524688720703,30.370080947875977,-43.91073226928711,13.274328231811523,23.77348518371582,-23.54075813293457,-37.47693634033203,40.356712341308594,-8.32818603515625,-19.665103912353516,2.1166062355041504,-4.893674850463867,7.908620357513428,0.761430561542511,15.885581970214844,-39.417327880859375,44.552574157714844,-17.604339599609375,22.098520278930664,-15.474735260009766,-47.05839920043945,18.4832820892334,41.66276168823242,-17.319515228271484,29.023502349853516,-3.70127534866333,-11.447663307189941,11.486067771911621,-20.909807205200195,42.92274856567383,-43.37630844116211,-10.459649085998535,-51.642127990722656,41.63629913330078,5.801301002502441,9.579985618591309,36.9160041809082,-24.292949676513672,13.832606315612793,27.109413146972656,-18.820205688476562,-17.752775192260742,-20.935026168823242,42.91851043701172,31.433025360107422,-44.907958984375,-25.960044860839844,41.59957504272461,12.610282897949219,-42.14867401123047,-16.510435104370117,-42.81794357299805,-9.760892868041992,15.621023178100586,-47.07630920410156,-20.45926856994629,-41.04560852050781,-10.575550079345703,2.8925046920776367,12.794477462768555,30.110464096069336,-16.619386672973633,8.943471908569336,34.10548400878906,-17.277395248413086,44.62712478637695,-34.77785110473633,-10.535812377929688,32.939857482910156,8.936185836791992,5.5078558921813965,41.70222473144531,-34.1217155456543,-7.393331050872803,8.65104866027832,25.80757713317871,-47.55937576293945,-21.73650550842285,-23.053516387939453,-12.962027549743652,20.95853042602539,-19.781795501708984,28.790969848632812,33.782569885253906,11.094705581665039,8.044097900390625,36.78150939941406,-53.235111236572266,40.3356819152832,0.6344678401947021,-14.39033317565918,7.2355756759643555,-10.954336166381836,-20.118377685546875,37.53428649902344,21.55401611328125,23.10988426208496,6.050512790679932,-46.017452239990234,-17.3958740234375,-13.753790855407715,4.101255893707275,9.821382522583008,9.134443283081055,-29.75112533569336,-24.180103302001953,40.41043472290039,23.456951141357422,-35.25366973876953,16.597143173217773,1.5753954648971558,15.780746459960938,-51.846012115478516,13.315703392028809,-25.737762451171875,-24.955455780029297,-26.38226890563965,-20.373838424682617,-19.48615074157715,11.244928359985352,18.646465301513672,-2.810044288635254,1.105928897857666,-22.26616668701172,-26.045536041259766,-36.3992805480957,-39.945213317871094,-20.729026794433594,-14.78095531463623,-22.882654190063477,-49.63180160522461,11.032082557678223,-15.72932243347168,2.5523173809051514,27.38481903076172,17.498947143554688,39.87009811401367,13.879036903381348,30.571582794189453,36.82088088989258,20.160490036010742,-8.005293846130371,30.44765853881836,-16.195091247558594,39.991546630859375,-47.082271575927734,-41.57085418701172,44.81053924560547,45.00059509277344,-24.05904769897461,-16.58492660522461,35.86817169189453,-15.427047729492188,39.9959716796875,45.78348159790039,-24.578336715698242,-27.42728042602539,13.327500343322754,-12.68565845489502,-2.8788349628448486,12.27593994140625,-24.50908088684082,4.36385440826416,-43.50849914550781,8.33226490020752,27.900150299072266,34.04118728637695,-19.699100494384766,-23.052255630493164,43.564579010009766,-49.4344596862793,43.70785903930664,-17.327133178710938,23.593765258789062,37.63673782348633,-29.960025787353516,43.864322662353516,8.308571815490723,43.50969696044922,-16.902612686157227,-16.670249938964844,3.7843215465545654,-16.384660720825195,-27.148630142211914,20.30190658569336,29.529029846191406,-37.257205963134766,-16.83761978149414,43.81660842895508,34.42924118041992,-20.953411102294922,-21.30435562133789,-17.683507919311523,35.3341178894043,-20.507862091064453,-19.17538833618164,23.380861282348633,16.16378402709961,26.24704933166504,-35.77180862426758,-23.76431655883789,4.6208271980285645,-19.96715545654297,27.363821029663086,34.10496139526367,-6.323929309844971,38.067325592041016,36.82215881347656,-25.03373908996582,-33.48429870605469,5.987766742706299,13.419447898864746,0.7380331158638,27.418046951293945,-49.415287017822266,2.9812755584716797,-42.469215393066406,41.63241958618164,41.482887268066406,-42.94423294067383,-13.75993824005127,2.7139720916748047,6.75446891784668,42.357967376708984,8.700082778930664,-18.27292251586914,-11.587529182434082,23.22716522216797,-7.436097145080566,-37.84024429321289,-19.68157958984375,-16.582921981811523,-24.928640365600586,-3.158104658126831,-51.424861907958984,-24.87323570251465,5.135412216186523,-52.752784729003906,-16.21306610107422,42.45817947387695,-8.796401977539062,-53.748077392578125,20.49469566345215,-15.418538093566895,35.179656982421875,0.735421895980835,-19.60198402404785,43.609859466552734,39.47681427001953,-19.60728645324707],\"yaxis\":\"y\",\"type\":\"scattergl\"}],                        {\"template\":{\"data\":{\"histogram2dcontour\":[{\"type\":\"histogram2dcontour\",\"colorbar\":{\"outlinewidth\":0,\"ticks\":\"\"},\"colorscale\":[[0.0,\"#0d0887\"],[0.1111111111111111,\"#46039f\"],[0.2222222222222222,\"#7201a8\"],[0.3333333333333333,\"#9c179e\"],[0.4444444444444444,\"#bd3786\"],[0.5555555555555556,\"#d8576b\"],[0.6666666666666666,\"#ed7953\"],[0.7777777777777778,\"#fb9f3a\"],[0.8888888888888888,\"#fdca26\"],[1.0,\"#f0f921\"]]}],\"choropleth\":[{\"type\":\"choropleth\",\"colorbar\":{\"outlinewidth\":0,\"ticks\":\"\"}}],\"histogram2d\":[{\"type\":\"histogram2d\",\"colorbar\":{\"outlinewidth\":0,\"ticks\":\"\"},\"colorscale\":[[0.0,\"#0d0887\"],[0.1111111111111111,\"#46039f\"],[0.2222222222222222,\"#7201a8\"],[0.3333333333333333,\"#9c179e\"],[0.4444444444444444,\"#bd3786\"],[0.5555555555555556,\"#d8576b\"],[0.6666666666666666,\"#ed7953\"],[0.7777777777777778,\"#fb9f3a\"],[0.8888888888888888,\"#fdca26\"],[1.0,\"#f0f921\"]]}],\"heatmap\":[{\"type\":\"heatmap\",\"colorbar\":{\"outlinewidth\":0,\"ticks\":\"\"},\"colorscale\":[[0.0,\"#0d0887\"],[0.1111111111111111,\"#46039f\"],[0.2222222222222222,\"#7201a8\"],[0.3333333333333333,\"#9c179e\"],[0.4444444444444444,\"#bd3786\"],[0.5555555555555556,\"#d8576b\"],[0.6666666666666666,\"#ed7953\"],[0.7777777777777778,\"#fb9f3a\"],[0.8888888888888888,\"#fdca26\"],[1.0,\"#f0f921\"]]}],\"heatmapgl\":[{\"type\":\"heatmapgl\",\"colorbar\":{\"outlinewidth\":0,\"ticks\":\"\"},\"colorscale\":[[0.0,\"#0d0887\"],[0.1111111111111111,\"#46039f\"],[0.2222222222222222,\"#7201a8\"],[0.3333333333333333,\"#9c179e\"],[0.4444444444444444,\"#bd3786\"],[0.5555555555555556,\"#d8576b\"],[0.6666666666666666,\"#ed7953\"],[0.7777777777777778,\"#fb9f3a\"],[0.8888888888888888,\"#fdca26\"],[1.0,\"#f0f921\"]]}],\"contourcarpet\":[{\"type\":\"contourcarpet\",\"colorbar\":{\"outlinewidth\":0,\"ticks\":\"\"}}],\"contour\":[{\"type\":\"contour\",\"colorbar\":{\"outlinewidth\":0,\"ticks\":\"\"},\"colorscale\":[[0.0,\"#0d0887\"],[0.1111111111111111,\"#46039f\"],[0.2222222222222222,\"#7201a8\"],[0.3333333333333333,\"#9c179e\"],[0.4444444444444444,\"#bd3786\"],[0.5555555555555556,\"#d8576b\"],[0.6666666666666666,\"#ed7953\"],[0.7777777777777778,\"#fb9f3a\"],[0.8888888888888888,\"#fdca26\"],[1.0,\"#f0f921\"]]}],\"surface\":[{\"type\":\"surface\",\"colorbar\":{\"outlinewidth\":0,\"ticks\":\"\"},\"colorscale\":[[0.0,\"#0d0887\"],[0.1111111111111111,\"#46039f\"],[0.2222222222222222,\"#7201a8\"],[0.3333333333333333,\"#9c179e\"],[0.4444444444444444,\"#bd3786\"],[0.5555555555555556,\"#d8576b\"],[0.6666666666666666,\"#ed7953\"],[0.7777777777777778,\"#fb9f3a\"],[0.8888888888888888,\"#fdca26\"],[1.0,\"#f0f921\"]]}],\"mesh3d\":[{\"type\":\"mesh3d\",\"colorbar\":{\"outlinewidth\":0,\"ticks\":\"\"}}],\"scatter\":[{\"fillpattern\":{\"fillmode\":\"overlay\",\"size\":10,\"solidity\":0.2},\"type\":\"scatter\"}],\"parcoords\":[{\"type\":\"parcoords\",\"line\":{\"colorbar\":{\"outlinewidth\":0,\"ticks\":\"\"}}}],\"scatterpolargl\":[{\"type\":\"scatterpolargl\",\"marker\":{\"colorbar\":{\"outlinewidth\":0,\"ticks\":\"\"}}}],\"bar\":[{\"error_x\":{\"color\":\"#2a3f5f\"},\"error_y\":{\"color\":\"#2a3f5f\"},\"marker\":{\"line\":{\"color\":\"#E5ECF6\",\"width\":0.5},\"pattern\":{\"fillmode\":\"overlay\",\"size\":10,\"solidity\":0.2}},\"type\":\"bar\"}],\"scattergeo\":[{\"type\":\"scattergeo\",\"marker\":{\"colorbar\":{\"outlinewidth\":0,\"ticks\":\"\"}}}],\"scatterpolar\":[{\"type\":\"scatterpolar\",\"marker\":{\"colorbar\":{\"outlinewidth\":0,\"ticks\":\"\"}}}],\"histogram\":[{\"marker\":{\"pattern\":{\"fillmode\":\"overlay\",\"size\":10,\"solidity\":0.2}},\"type\":\"histogram\"}],\"scattergl\":[{\"type\":\"scattergl\",\"marker\":{\"colorbar\":{\"outlinewidth\":0,\"ticks\":\"\"}}}],\"scatter3d\":[{\"type\":\"scatter3d\",\"line\":{\"colorbar\":{\"outlinewidth\":0,\"ticks\":\"\"}},\"marker\":{\"colorbar\":{\"outlinewidth\":0,\"ticks\":\"\"}}}],\"scattermapbox\":[{\"type\":\"scattermapbox\",\"marker\":{\"colorbar\":{\"outlinewidth\":0,\"ticks\":\"\"}}}],\"scatterternary\":[{\"type\":\"scatterternary\",\"marker\":{\"colorbar\":{\"outlinewidth\":0,\"ticks\":\"\"}}}],\"scattercarpet\":[{\"type\":\"scattercarpet\",\"marker\":{\"colorbar\":{\"outlinewidth\":0,\"ticks\":\"\"}}}],\"carpet\":[{\"aaxis\":{\"endlinecolor\":\"#2a3f5f\",\"gridcolor\":\"white\",\"linecolor\":\"white\",\"minorgridcolor\":\"white\",\"startlinecolor\":\"#2a3f5f\"},\"baxis\":{\"endlinecolor\":\"#2a3f5f\",\"gridcolor\":\"white\",\"linecolor\":\"white\",\"minorgridcolor\":\"white\",\"startlinecolor\":\"#2a3f5f\"},\"type\":\"carpet\"}],\"table\":[{\"cells\":{\"fill\":{\"color\":\"#EBF0F8\"},\"line\":{\"color\":\"white\"}},\"header\":{\"fill\":{\"color\":\"#C8D4E3\"},\"line\":{\"color\":\"white\"}},\"type\":\"table\"}],\"barpolar\":[{\"marker\":{\"line\":{\"color\":\"#E5ECF6\",\"width\":0.5},\"pattern\":{\"fillmode\":\"overlay\",\"size\":10,\"solidity\":0.2}},\"type\":\"barpolar\"}],\"pie\":[{\"automargin\":true,\"type\":\"pie\"}]},\"layout\":{\"autotypenumbers\":\"strict\",\"colorway\":[\"#636efa\",\"#EF553B\",\"#00cc96\",\"#ab63fa\",\"#FFA15A\",\"#19d3f3\",\"#FF6692\",\"#B6E880\",\"#FF97FF\",\"#FECB52\"],\"font\":{\"color\":\"#2a3f5f\"},\"hovermode\":\"closest\",\"hoverlabel\":{\"align\":\"left\"},\"paper_bgcolor\":\"white\",\"plot_bgcolor\":\"#E5ECF6\",\"polar\":{\"bgcolor\":\"#E5ECF6\",\"angularaxis\":{\"gridcolor\":\"white\",\"linecolor\":\"white\",\"ticks\":\"\"},\"radialaxis\":{\"gridcolor\":\"white\",\"linecolor\":\"white\",\"ticks\":\"\"}},\"ternary\":{\"bgcolor\":\"#E5ECF6\",\"aaxis\":{\"gridcolor\":\"white\",\"linecolor\":\"white\",\"ticks\":\"\"},\"baxis\":{\"gridcolor\":\"white\",\"linecolor\":\"white\",\"ticks\":\"\"},\"caxis\":{\"gridcolor\":\"white\",\"linecolor\":\"white\",\"ticks\":\"\"}},\"coloraxis\":{\"colorbar\":{\"outlinewidth\":0,\"ticks\":\"\"}},\"colorscale\":{\"sequential\":[[0.0,\"#0d0887\"],[0.1111111111111111,\"#46039f\"],[0.2222222222222222,\"#7201a8\"],[0.3333333333333333,\"#9c179e\"],[0.4444444444444444,\"#bd3786\"],[0.5555555555555556,\"#d8576b\"],[0.6666666666666666,\"#ed7953\"],[0.7777777777777778,\"#fb9f3a\"],[0.8888888888888888,\"#fdca26\"],[1.0,\"#f0f921\"]],\"sequentialminus\":[[0.0,\"#0d0887\"],[0.1111111111111111,\"#46039f\"],[0.2222222222222222,\"#7201a8\"],[0.3333333333333333,\"#9c179e\"],[0.4444444444444444,\"#bd3786\"],[0.5555555555555556,\"#d8576b\"],[0.6666666666666666,\"#ed7953\"],[0.7777777777777778,\"#fb9f3a\"],[0.8888888888888888,\"#fdca26\"],[1.0,\"#f0f921\"]],\"diverging\":[[0,\"#8e0152\"],[0.1,\"#c51b7d\"],[0.2,\"#de77ae\"],[0.3,\"#f1b6da\"],[0.4,\"#fde0ef\"],[0.5,\"#f7f7f7\"],[0.6,\"#e6f5d0\"],[0.7,\"#b8e186\"],[0.8,\"#7fbc41\"],[0.9,\"#4d9221\"],[1,\"#276419\"]]},\"xaxis\":{\"gridcolor\":\"white\",\"linecolor\":\"white\",\"ticks\":\"\",\"title\":{\"standoff\":15},\"zerolinecolor\":\"white\",\"automargin\":true,\"zerolinewidth\":2},\"yaxis\":{\"gridcolor\":\"white\",\"linecolor\":\"white\",\"ticks\":\"\",\"title\":{\"standoff\":15},\"zerolinecolor\":\"white\",\"automargin\":true,\"zerolinewidth\":2},\"scene\":{\"xaxis\":{\"backgroundcolor\":\"#E5ECF6\",\"gridcolor\":\"white\",\"linecolor\":\"white\",\"showbackground\":true,\"ticks\":\"\",\"zerolinecolor\":\"white\",\"gridwidth\":2},\"yaxis\":{\"backgroundcolor\":\"#E5ECF6\",\"gridcolor\":\"white\",\"linecolor\":\"white\",\"showbackground\":true,\"ticks\":\"\",\"zerolinecolor\":\"white\",\"gridwidth\":2},\"zaxis\":{\"backgroundcolor\":\"#E5ECF6\",\"gridcolor\":\"white\",\"linecolor\":\"white\",\"showbackground\":true,\"ticks\":\"\",\"zerolinecolor\":\"white\",\"gridwidth\":2}},\"shapedefaults\":{\"line\":{\"color\":\"#2a3f5f\"}},\"annotationdefaults\":{\"arrowcolor\":\"#2a3f5f\",\"arrowhead\":0,\"arrowwidth\":1},\"geo\":{\"bgcolor\":\"white\",\"landcolor\":\"#E5ECF6\",\"subunitcolor\":\"white\",\"showland\":true,\"showlakes\":true,\"lakecolor\":\"white\"},\"title\":{\"x\":0.05},\"mapbox\":{\"style\":\"light\"}}},\"xaxis\":{\"anchor\":\"y\",\"domain\":[0.0,1.0],\"title\":{\"text\":\"First t-SNE\"}},\"yaxis\":{\"anchor\":\"x\",\"domain\":[0.0,1.0],\"title\":{\"text\":\"Second t-SNE\"}},\"coloraxis\":{\"colorbar\":{\"title\":{\"text\":\"color\"}},\"colorscale\":[[0.0,\"#0d0887\"],[0.1111111111111111,\"#46039f\"],[0.2222222222222222,\"#7201a8\"],[0.3333333333333333,\"#9c179e\"],[0.4444444444444444,\"#bd3786\"],[0.5555555555555556,\"#d8576b\"],[0.6666666666666666,\"#ed7953\"],[0.7777777777777778,\"#fb9f3a\"],[0.8888888888888888,\"#fdca26\"],[1.0,\"#f0f921\"]]},\"legend\":{\"tracegroupgap\":0},\"margin\":{\"t\":60},\"title\":{\"text\":\"t-SNE visualization of dataset\"}},                        {\"responsive\": true}                    ).then(function(){\n",
              "                            \n",
              "var gd = document.getElementById('b93be657-b4d4-498e-a5a5-1834dc7cfa02');\n",
              "var x = new MutationObserver(function (mutations, observer) {{\n",
              "        var display = window.getComputedStyle(gd).display;\n",
              "        if (!display || display === 'none') {{\n",
              "            console.log([gd, 'removed!']);\n",
              "            Plotly.purge(gd);\n",
              "            observer.disconnect();\n",
              "        }}\n",
              "}});\n",
              "\n",
              "// Listen for the removal of the full notebook cells\n",
              "var notebookContainer = gd.closest('#notebook-container');\n",
              "if (notebookContainer) {{\n",
              "    x.observe(notebookContainer, {childList: true});\n",
              "}}\n",
              "\n",
              "// Listen for the clearing of the current output cell\n",
              "var outputEl = gd.closest('.output');\n",
              "if (outputEl) {{\n",
              "    x.observe(outputEl, {childList: true});\n",
              "}}\n",
              "\n",
              "                        })                };                            </script>        </div>\n",
              "</body>\n",
              "</html>"
            ]
          },
          "metadata": {}
        }
      ]
    }
  ]
}